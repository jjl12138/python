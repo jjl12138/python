{
 "cells": [
  {
   "cell_type": "code",
   "execution_count": 1,
   "metadata": {},
   "outputs": [],
   "source": [
    "#pandas基本知识"
   ]
  },
  {
   "cell_type": "code",
   "execution_count": 2,
   "metadata": {},
   "outputs": [],
   "source": [
    "#单列数据Series"
   ]
  },
  {
   "cell_type": "code",
   "execution_count": 3,
   "metadata": {},
   "outputs": [],
   "source": [
    "#图18.1"
   ]
  },
  {
   "cell_type": "code",
   "execution_count": 4,
   "metadata": {},
   "outputs": [
    {
     "output_type": "execute_result",
     "data": {
      "text/plain": [
       "0     1\n",
       "1    11\n",
       "2    21\n",
       "3    31\n",
       "4    41\n",
       "dtype: int32"
      ]
     },
     "metadata": {},
     "execution_count": 4
    }
   ],
   "source": [
    "import numpy as np\n",
    "#导入pandas并依惯例将其重命名为pd \n",
    "import pandas as pd \n",
    "#np.arange(5)*10+1对数组中每一个元素均乘以10再加1\n",
    "s=pd.Series(np.arange(5)*10+1)\n",
    "s"
   ]
  },
  {
   "cell_type": "code",
   "execution_count": 5,
   "metadata": {},
   "outputs": [],
   "source": [
    "#图18.2"
   ]
  },
  {
   "cell_type": "code",
   "execution_count": 6,
   "metadata": {},
   "outputs": [
    {
     "output_type": "execute_result",
     "data": {
      "text/plain": [
       "a     1\n",
       "b    11\n",
       "c    21\n",
       "d    31\n",
       "e    41\n",
       "dtype: int32"
      ]
     },
     "metadata": {},
     "execution_count": 6
    }
   ],
   "source": [
    " #指定index，创建索引序列\n",
    "s=pd.Series(np.arange(5)*10+1,index=['a','b','c','d','e'])\n",
    "s"
   ]
  },
  {
   "cell_type": "code",
   "execution_count": 7,
   "metadata": {},
   "outputs": [],
   "source": [
    "#图18.3"
   ]
  },
  {
   "cell_type": "code",
   "execution_count": 8,
   "metadata": {},
   "outputs": [
    {
     "output_type": "execute_result",
     "data": {
      "text/plain": [
       "1"
      ]
     },
     "metadata": {},
     "execution_count": 8
    }
   ],
   "source": [
    "s['a']"
   ]
  },
  {
   "cell_type": "code",
   "execution_count": 9,
   "metadata": {},
   "outputs": [],
   "source": [
    "#图18.4"
   ]
  },
  {
   "cell_type": "code",
   "execution_count": 10,
   "metadata": {},
   "outputs": [
    {
     "output_type": "execute_result",
     "data": {
      "text/plain": [
       "d    31\n",
       "c    21\n",
       "b    11\n",
       "dtype: int32"
      ]
     },
     "metadata": {},
     "execution_count": 10
    }
   ],
   "source": [
    "s[['d','c','b']]"
   ]
  },
  {
   "cell_type": "code",
   "execution_count": 11,
   "metadata": {},
   "outputs": [],
   "source": [
    "#图18.5"
   ]
  },
  {
   "cell_type": "code",
   "execution_count": 12,
   "metadata": {},
   "outputs": [
    {
     "output_type": "execute_result",
     "data": {
      "text/plain": [
       "    0    1   2   3\n",
       "0  94   97  50  53\n",
       "1  53   89  59  69\n",
       "2  71  100  86  73\n",
       "3  56   74  74  62\n",
       "4  51   88  89  73\n",
       "5  96   74  67  87\n",
       "6  75   63  58  59\n",
       "7  70   66  55  65\n",
       "8  97   50  68  85\n",
       "9  74   99  79  69"
      ],
      "text/html": "<div>\n<style scoped>\n    .dataframe tbody tr th:only-of-type {\n        vertical-align: middle;\n    }\n\n    .dataframe tbody tr th {\n        vertical-align: top;\n    }\n\n    .dataframe thead th {\n        text-align: right;\n    }\n</style>\n<table border=\"1\" class=\"dataframe\">\n  <thead>\n    <tr style=\"text-align: right;\">\n      <th></th>\n      <th>0</th>\n      <th>1</th>\n      <th>2</th>\n      <th>3</th>\n    </tr>\n  </thead>\n  <tbody>\n    <tr>\n      <th>0</th>\n      <td>94</td>\n      <td>97</td>\n      <td>50</td>\n      <td>53</td>\n    </tr>\n    <tr>\n      <th>1</th>\n      <td>53</td>\n      <td>89</td>\n      <td>59</td>\n      <td>69</td>\n    </tr>\n    <tr>\n      <th>2</th>\n      <td>71</td>\n      <td>100</td>\n      <td>86</td>\n      <td>73</td>\n    </tr>\n    <tr>\n      <th>3</th>\n      <td>56</td>\n      <td>74</td>\n      <td>74</td>\n      <td>62</td>\n    </tr>\n    <tr>\n      <th>4</th>\n      <td>51</td>\n      <td>88</td>\n      <td>89</td>\n      <td>73</td>\n    </tr>\n    <tr>\n      <th>5</th>\n      <td>96</td>\n      <td>74</td>\n      <td>67</td>\n      <td>87</td>\n    </tr>\n    <tr>\n      <th>6</th>\n      <td>75</td>\n      <td>63</td>\n      <td>58</td>\n      <td>59</td>\n    </tr>\n    <tr>\n      <th>7</th>\n      <td>70</td>\n      <td>66</td>\n      <td>55</td>\n      <td>65</td>\n    </tr>\n    <tr>\n      <th>8</th>\n      <td>97</td>\n      <td>50</td>\n      <td>68</td>\n      <td>85</td>\n    </tr>\n    <tr>\n      <th>9</th>\n      <td>74</td>\n      <td>99</td>\n      <td>79</td>\n      <td>69</td>\n    </tr>\n  </tbody>\n</table>\n</div>"
     },
     "metadata": {},
     "execution_count": 12
    }
   ],
   "source": [
    "np.random.seed(0)\n",
    "#size=(10,4)表示生成数组的形状，10行4列\n",
    "df=pd.DataFrame(np.random.randint(50,101,size=(10,4)))\n",
    "df"
   ]
  },
  {
   "cell_type": "code",
   "execution_count": 13,
   "metadata": {},
   "outputs": [],
   "source": [
    "#图18.6"
   ]
  },
  {
   "cell_type": "code",
   "execution_count": 14,
   "metadata": {},
   "outputs": [
    {
     "output_type": "execute_result",
     "data": {
      "text/plain": [
       "   高数   线代  统计  英语\n",
       "0  94   97  50  53\n",
       "1  53   89  59  69\n",
       "2  71  100  86  73\n",
       "3  56   74  74  62\n",
       "4  51   88  89  73\n",
       "5  96   74  67  87\n",
       "6  75   63  58  59\n",
       "7  70   66  55  65\n",
       "8  97   50  68  85\n",
       "9  74   99  79  69"
      ],
      "text/html": "<div>\n<style scoped>\n    .dataframe tbody tr th:only-of-type {\n        vertical-align: middle;\n    }\n\n    .dataframe tbody tr th {\n        vertical-align: top;\n    }\n\n    .dataframe thead th {\n        text-align: right;\n    }\n</style>\n<table border=\"1\" class=\"dataframe\">\n  <thead>\n    <tr style=\"text-align: right;\">\n      <th></th>\n      <th>高数</th>\n      <th>线代</th>\n      <th>统计</th>\n      <th>英语</th>\n    </tr>\n  </thead>\n  <tbody>\n    <tr>\n      <th>0</th>\n      <td>94</td>\n      <td>97</td>\n      <td>50</td>\n      <td>53</td>\n    </tr>\n    <tr>\n      <th>1</th>\n      <td>53</td>\n      <td>89</td>\n      <td>59</td>\n      <td>69</td>\n    </tr>\n    <tr>\n      <th>2</th>\n      <td>71</td>\n      <td>100</td>\n      <td>86</td>\n      <td>73</td>\n    </tr>\n    <tr>\n      <th>3</th>\n      <td>56</td>\n      <td>74</td>\n      <td>74</td>\n      <td>62</td>\n    </tr>\n    <tr>\n      <th>4</th>\n      <td>51</td>\n      <td>88</td>\n      <td>89</td>\n      <td>73</td>\n    </tr>\n    <tr>\n      <th>5</th>\n      <td>96</td>\n      <td>74</td>\n      <td>67</td>\n      <td>87</td>\n    </tr>\n    <tr>\n      <th>6</th>\n      <td>75</td>\n      <td>63</td>\n      <td>58</td>\n      <td>59</td>\n    </tr>\n    <tr>\n      <th>7</th>\n      <td>70</td>\n      <td>66</td>\n      <td>55</td>\n      <td>65</td>\n    </tr>\n    <tr>\n      <th>8</th>\n      <td>97</td>\n      <td>50</td>\n      <td>68</td>\n      <td>85</td>\n    </tr>\n    <tr>\n      <th>9</th>\n      <td>74</td>\n      <td>99</td>\n      <td>79</td>\n      <td>69</td>\n    </tr>\n  </tbody>\n</table>\n</div>"
     },
     "metadata": {},
     "execution_count": 14
    }
   ],
   "source": [
    "#columns指定列索引\n",
    "df.columns=['高数','线代','统计','英语']\n",
    "df"
   ]
  },
  {
   "cell_type": "code",
   "execution_count": 15,
   "metadata": {},
   "outputs": [],
   "source": [
    "#图18.7"
   ]
  },
  {
   "cell_type": "code",
   "execution_count": 16,
   "metadata": {},
   "outputs": [
    {
     "output_type": "execute_result",
     "data": {
      "text/plain": [
       "           高数   线代  统计  英语\n",
       "202001001  94   97  50  53\n",
       "202001002  53   89  59  69\n",
       "202001003  71  100  86  73\n",
       "202001004  56   74  74  62\n",
       "202001005  51   88  89  73\n",
       "202001006  96   74  67  87\n",
       "202001007  75   63  58  59\n",
       "202001008  70   66  55  65\n",
       "202001009  97   50  68  85\n",
       "202001010  74   99  79  69"
      ],
      "text/html": "<div>\n<style scoped>\n    .dataframe tbody tr th:only-of-type {\n        vertical-align: middle;\n    }\n\n    .dataframe tbody tr th {\n        vertical-align: top;\n    }\n\n    .dataframe thead th {\n        text-align: right;\n    }\n</style>\n<table border=\"1\" class=\"dataframe\">\n  <thead>\n    <tr style=\"text-align: right;\">\n      <th></th>\n      <th>高数</th>\n      <th>线代</th>\n      <th>统计</th>\n      <th>英语</th>\n    </tr>\n  </thead>\n  <tbody>\n    <tr>\n      <th>202001001</th>\n      <td>94</td>\n      <td>97</td>\n      <td>50</td>\n      <td>53</td>\n    </tr>\n    <tr>\n      <th>202001002</th>\n      <td>53</td>\n      <td>89</td>\n      <td>59</td>\n      <td>69</td>\n    </tr>\n    <tr>\n      <th>202001003</th>\n      <td>71</td>\n      <td>100</td>\n      <td>86</td>\n      <td>73</td>\n    </tr>\n    <tr>\n      <th>202001004</th>\n      <td>56</td>\n      <td>74</td>\n      <td>74</td>\n      <td>62</td>\n    </tr>\n    <tr>\n      <th>202001005</th>\n      <td>51</td>\n      <td>88</td>\n      <td>89</td>\n      <td>73</td>\n    </tr>\n    <tr>\n      <th>202001006</th>\n      <td>96</td>\n      <td>74</td>\n      <td>67</td>\n      <td>87</td>\n    </tr>\n    <tr>\n      <th>202001007</th>\n      <td>75</td>\n      <td>63</td>\n      <td>58</td>\n      <td>59</td>\n    </tr>\n    <tr>\n      <th>202001008</th>\n      <td>70</td>\n      <td>66</td>\n      <td>55</td>\n      <td>65</td>\n    </tr>\n    <tr>\n      <th>202001009</th>\n      <td>97</td>\n      <td>50</td>\n      <td>68</td>\n      <td>85</td>\n    </tr>\n    <tr>\n      <th>202001010</th>\n      <td>74</td>\n      <td>99</td>\n      <td>79</td>\n      <td>69</td>\n    </tr>\n  </tbody>\n</table>\n</div>"
     },
     "metadata": {},
     "execution_count": 16
    }
   ],
   "source": [
    "#index指定行索引\n",
    "df.index=map(str,range(202001001,202001011))\n",
    "df"
   ]
  },
  {
   "cell_type": "code",
   "execution_count": 17,
   "metadata": {},
   "outputs": [],
   "source": [
    "#图18.8"
   ]
  },
  {
   "cell_type": "code",
   "execution_count": 18,
   "metadata": {},
   "outputs": [
    {
     "output_type": "execute_result",
     "data": {
      "text/plain": [
       "    202001001  202001002  202001003  202001004  202001005  202001006  \\\n",
       "高数         94         53         71         56         51         96   \n",
       "线代         97         89        100         74         88         74   \n",
       "统计         50         59         86         74         89         67   \n",
       "英语         53         69         73         62         73         87   \n",
       "\n",
       "    202001007  202001008  202001009  202001010  \n",
       "高数         75         70         97         74  \n",
       "线代         63         66         50         99  \n",
       "统计         58         55         68         79  \n",
       "英语         59         65         85         69  "
      ],
      "text/html": "<div>\n<style scoped>\n    .dataframe tbody tr th:only-of-type {\n        vertical-align: middle;\n    }\n\n    .dataframe tbody tr th {\n        vertical-align: top;\n    }\n\n    .dataframe thead th {\n        text-align: right;\n    }\n</style>\n<table border=\"1\" class=\"dataframe\">\n  <thead>\n    <tr style=\"text-align: right;\">\n      <th></th>\n      <th>202001001</th>\n      <th>202001002</th>\n      <th>202001003</th>\n      <th>202001004</th>\n      <th>202001005</th>\n      <th>202001006</th>\n      <th>202001007</th>\n      <th>202001008</th>\n      <th>202001009</th>\n      <th>202001010</th>\n    </tr>\n  </thead>\n  <tbody>\n    <tr>\n      <th>高数</th>\n      <td>94</td>\n      <td>53</td>\n      <td>71</td>\n      <td>56</td>\n      <td>51</td>\n      <td>96</td>\n      <td>75</td>\n      <td>70</td>\n      <td>97</td>\n      <td>74</td>\n    </tr>\n    <tr>\n      <th>线代</th>\n      <td>97</td>\n      <td>89</td>\n      <td>100</td>\n      <td>74</td>\n      <td>88</td>\n      <td>74</td>\n      <td>63</td>\n      <td>66</td>\n      <td>50</td>\n      <td>99</td>\n    </tr>\n    <tr>\n      <th>统计</th>\n      <td>50</td>\n      <td>59</td>\n      <td>86</td>\n      <td>74</td>\n      <td>89</td>\n      <td>67</td>\n      <td>58</td>\n      <td>55</td>\n      <td>68</td>\n      <td>79</td>\n    </tr>\n    <tr>\n      <th>英语</th>\n      <td>53</td>\n      <td>69</td>\n      <td>73</td>\n      <td>62</td>\n      <td>73</td>\n      <td>87</td>\n      <td>59</td>\n      <td>65</td>\n      <td>85</td>\n      <td>69</td>\n    </tr>\n  </tbody>\n</table>\n</div>"
     },
     "metadata": {},
     "execution_count": 18
    }
   ],
   "source": [
    "df.T"
   ]
  },
  {
   "cell_type": "code",
   "execution_count": 19,
   "metadata": {},
   "outputs": [],
   "source": [
    "#图18.9"
   ]
  },
  {
   "cell_type": "code",
   "execution_count": 20,
   "metadata": {},
   "outputs": [
    {
     "output_type": "execute_result",
     "data": {
      "text/plain": [
       "           高数   线代  统计  英语\n",
       "202001001  94   97  50  53\n",
       "202001002  53   89  59  69\n",
       "202001003  71  100  86  73\n",
       "202001004  56   74  74  62\n",
       "202001005  51   88  89  73"
      ],
      "text/html": "<div>\n<style scoped>\n    .dataframe tbody tr th:only-of-type {\n        vertical-align: middle;\n    }\n\n    .dataframe tbody tr th {\n        vertical-align: top;\n    }\n\n    .dataframe thead th {\n        text-align: right;\n    }\n</style>\n<table border=\"1\" class=\"dataframe\">\n  <thead>\n    <tr style=\"text-align: right;\">\n      <th></th>\n      <th>高数</th>\n      <th>线代</th>\n      <th>统计</th>\n      <th>英语</th>\n    </tr>\n  </thead>\n  <tbody>\n    <tr>\n      <th>202001001</th>\n      <td>94</td>\n      <td>97</td>\n      <td>50</td>\n      <td>53</td>\n    </tr>\n    <tr>\n      <th>202001002</th>\n      <td>53</td>\n      <td>89</td>\n      <td>59</td>\n      <td>69</td>\n    </tr>\n    <tr>\n      <th>202001003</th>\n      <td>71</td>\n      <td>100</td>\n      <td>86</td>\n      <td>73</td>\n    </tr>\n    <tr>\n      <th>202001004</th>\n      <td>56</td>\n      <td>74</td>\n      <td>74</td>\n      <td>62</td>\n    </tr>\n    <tr>\n      <th>202001005</th>\n      <td>51</td>\n      <td>88</td>\n      <td>89</td>\n      <td>73</td>\n    </tr>\n  </tbody>\n</table>\n</div>"
     },
     "metadata": {},
     "execution_count": 20
    }
   ],
   "source": [
    "#返回头部的行，默认5行\n",
    "df.head()  "
   ]
  },
  {
   "cell_type": "code",
   "execution_count": 21,
   "metadata": {},
   "outputs": [],
   "source": [
    "#图18.10"
   ]
  },
  {
   "cell_type": "code",
   "execution_count": 22,
   "metadata": {},
   "outputs": [
    {
     "output_type": "execute_result",
     "data": {
      "text/plain": [
       "           高数  线代  统计  英语\n",
       "202001009  97  50  68  85\n",
       "202001010  74  99  79  69"
      ],
      "text/html": "<div>\n<style scoped>\n    .dataframe tbody tr th:only-of-type {\n        vertical-align: middle;\n    }\n\n    .dataframe tbody tr th {\n        vertical-align: top;\n    }\n\n    .dataframe thead th {\n        text-align: right;\n    }\n</style>\n<table border=\"1\" class=\"dataframe\">\n  <thead>\n    <tr style=\"text-align: right;\">\n      <th></th>\n      <th>高数</th>\n      <th>线代</th>\n      <th>统计</th>\n      <th>英语</th>\n    </tr>\n  </thead>\n  <tbody>\n    <tr>\n      <th>202001009</th>\n      <td>97</td>\n      <td>50</td>\n      <td>68</td>\n      <td>85</td>\n    </tr>\n    <tr>\n      <th>202001010</th>\n      <td>74</td>\n      <td>99</td>\n      <td>79</td>\n      <td>69</td>\n    </tr>\n  </tbody>\n</table>\n</div>"
     },
     "metadata": {},
     "execution_count": 22
    }
   ],
   "source": [
    "#返回尾部2行\n",
    "df.tail(2)  "
   ]
  },
  {
   "cell_type": "code",
   "execution_count": 23,
   "metadata": {},
   "outputs": [],
   "source": [
    "#选择数据"
   ]
  },
  {
   "cell_type": "code",
   "execution_count": 24,
   "metadata": {},
   "outputs": [],
   "source": [
    "#图18.11"
   ]
  },
  {
   "cell_type": "code",
   "execution_count": 25,
   "metadata": {},
   "outputs": [
    {
     "output_type": "execute_result",
     "data": {
      "text/plain": [
       "202001001    94\n",
       "202001002    53\n",
       "202001003    71\n",
       "202001004    56\n",
       "202001005    51\n",
       "202001006    96\n",
       "202001007    75\n",
       "202001008    70\n",
       "202001009    97\n",
       "202001010    74\n",
       "Name: 高数, dtype: int32"
      ]
     },
     "metadata": {},
     "execution_count": 25
    }
   ],
   "source": [
    "#按列名取一列\n",
    "df['高数']"
   ]
  },
  {
   "cell_type": "code",
   "execution_count": 26,
   "metadata": {},
   "outputs": [],
   "source": [
    "#图18.12"
   ]
  },
  {
   "cell_type": "code",
   "execution_count": 27,
   "metadata": {},
   "outputs": [
    {
     "output_type": "execute_result",
     "data": {
      "text/plain": [
       "           统计  高数\n",
       "202001001  50  94\n",
       "202001002  59  53\n",
       "202001003  86  71\n",
       "202001004  74  56\n",
       "202001005  89  51\n",
       "202001006  67  96\n",
       "202001007  58  75\n",
       "202001008  55  70\n",
       "202001009  68  97\n",
       "202001010  79  74"
      ],
      "text/html": "<div>\n<style scoped>\n    .dataframe tbody tr th:only-of-type {\n        vertical-align: middle;\n    }\n\n    .dataframe tbody tr th {\n        vertical-align: top;\n    }\n\n    .dataframe thead th {\n        text-align: right;\n    }\n</style>\n<table border=\"1\" class=\"dataframe\">\n  <thead>\n    <tr style=\"text-align: right;\">\n      <th></th>\n      <th>统计</th>\n      <th>高数</th>\n    </tr>\n  </thead>\n  <tbody>\n    <tr>\n      <th>202001001</th>\n      <td>50</td>\n      <td>94</td>\n    </tr>\n    <tr>\n      <th>202001002</th>\n      <td>59</td>\n      <td>53</td>\n    </tr>\n    <tr>\n      <th>202001003</th>\n      <td>86</td>\n      <td>71</td>\n    </tr>\n    <tr>\n      <th>202001004</th>\n      <td>74</td>\n      <td>56</td>\n    </tr>\n    <tr>\n      <th>202001005</th>\n      <td>89</td>\n      <td>51</td>\n    </tr>\n    <tr>\n      <th>202001006</th>\n      <td>67</td>\n      <td>96</td>\n    </tr>\n    <tr>\n      <th>202001007</th>\n      <td>58</td>\n      <td>75</td>\n    </tr>\n    <tr>\n      <th>202001008</th>\n      <td>55</td>\n      <td>70</td>\n    </tr>\n    <tr>\n      <th>202001009</th>\n      <td>68</td>\n      <td>97</td>\n    </tr>\n    <tr>\n      <th>202001010</th>\n      <td>79</td>\n      <td>74</td>\n    </tr>\n  </tbody>\n</table>\n</div>"
     },
     "metadata": {},
     "execution_count": 27
    }
   ],
   "source": [
    "#按列名取多列\n",
    "df[['统计','高数']]"
   ]
  },
  {
   "cell_type": "code",
   "execution_count": 28,
   "metadata": {},
   "outputs": [],
   "source": [
    "#图18.13"
   ]
  },
  {
   "cell_type": "code",
   "execution_count": 29,
   "metadata": {},
   "outputs": [
    {
     "output_type": "execute_result",
     "data": {
      "text/plain": [
       "高数    51\n",
       "线代    88\n",
       "统计    89\n",
       "英语    73\n",
       "Name: 202001005, dtype: int32"
      ]
     },
     "metadata": {},
     "execution_count": 29
    }
   ],
   "source": [
    "#按行名取一行\n",
    "df.loc['202001005']"
   ]
  },
  {
   "cell_type": "code",
   "execution_count": 30,
   "metadata": {},
   "outputs": [],
   "source": [
    "#图18.14"
   ]
  },
  {
   "cell_type": "code",
   "execution_count": 31,
   "metadata": {},
   "outputs": [
    {
     "output_type": "execute_result",
     "data": {
      "text/plain": [
       "           高数  线代  统计  英语\n",
       "202001005  51  88  89  73\n",
       "202001008  70  66  55  65"
      ],
      "text/html": "<div>\n<style scoped>\n    .dataframe tbody tr th:only-of-type {\n        vertical-align: middle;\n    }\n\n    .dataframe tbody tr th {\n        vertical-align: top;\n    }\n\n    .dataframe thead th {\n        text-align: right;\n    }\n</style>\n<table border=\"1\" class=\"dataframe\">\n  <thead>\n    <tr style=\"text-align: right;\">\n      <th></th>\n      <th>高数</th>\n      <th>线代</th>\n      <th>统计</th>\n      <th>英语</th>\n    </tr>\n  </thead>\n  <tbody>\n    <tr>\n      <th>202001005</th>\n      <td>51</td>\n      <td>88</td>\n      <td>89</td>\n      <td>73</td>\n    </tr>\n    <tr>\n      <th>202001008</th>\n      <td>70</td>\n      <td>66</td>\n      <td>55</td>\n      <td>65</td>\n    </tr>\n  </tbody>\n</table>\n</div>"
     },
     "metadata": {},
     "execution_count": 31
    }
   ],
   "source": [
    "#按行名取多行\n",
    "df.loc[['202001005','202001008']]"
   ]
  },
  {
   "cell_type": "code",
   "execution_count": 32,
   "metadata": {},
   "outputs": [],
   "source": [
    "#图18.15"
   ]
  },
  {
   "cell_type": "code",
   "execution_count": 33,
   "metadata": {},
   "outputs": [
    {
     "output_type": "execute_result",
     "data": {
      "text/plain": [
       "           线代  统计\n",
       "202001004  74  74\n",
       "202001007  63  58"
      ],
      "text/html": "<div>\n<style scoped>\n    .dataframe tbody tr th:only-of-type {\n        vertical-align: middle;\n    }\n\n    .dataframe tbody tr th {\n        vertical-align: top;\n    }\n\n    .dataframe thead th {\n        text-align: right;\n    }\n</style>\n<table border=\"1\" class=\"dataframe\">\n  <thead>\n    <tr style=\"text-align: right;\">\n      <th></th>\n      <th>线代</th>\n      <th>统计</th>\n    </tr>\n  </thead>\n  <tbody>\n    <tr>\n      <th>202001004</th>\n      <td>74</td>\n      <td>74</td>\n    </tr>\n    <tr>\n      <th>202001007</th>\n      <td>63</td>\n      <td>58</td>\n    </tr>\n  </tbody>\n</table>\n</div>"
     },
     "metadata": {},
     "execution_count": 33
    }
   ],
   "source": [
    "#按行名和列名取行列交叉位置元素\n",
    "df.loc[['202001004','202001007'], ['线代', '统计']]"
   ]
  },
  {
   "cell_type": "code",
   "execution_count": 34,
   "metadata": {},
   "outputs": [],
   "source": [
    "#图18.16"
   ]
  },
  {
   "cell_type": "code",
   "execution_count": 35,
   "metadata": {},
   "outputs": [
    {
     "output_type": "execute_result",
     "data": {
      "text/plain": [
       "94"
      ]
     },
     "metadata": {},
     "execution_count": 35
    }
   ],
   "source": [
    "#按行列号索引\n",
    "df.iloc[0,0] #0行0列位置"
   ]
  },
  {
   "cell_type": "code",
   "execution_count": 36,
   "metadata": {},
   "outputs": [
    {
     "output_type": "execute_result",
     "data": {
      "text/plain": [
       "            线代  统计\n",
       "202001001   97  50\n",
       "202001003  100  86"
      ],
      "text/html": "<div>\n<style scoped>\n    .dataframe tbody tr th:only-of-type {\n        vertical-align: middle;\n    }\n\n    .dataframe tbody tr th {\n        vertical-align: top;\n    }\n\n    .dataframe thead th {\n        text-align: right;\n    }\n</style>\n<table border=\"1\" class=\"dataframe\">\n  <thead>\n    <tr style=\"text-align: right;\">\n      <th></th>\n      <th>线代</th>\n      <th>统计</th>\n    </tr>\n  </thead>\n  <tbody>\n    <tr>\n      <th>202001001</th>\n      <td>97</td>\n      <td>50</td>\n    </tr>\n    <tr>\n      <th>202001003</th>\n      <td>100</td>\n      <td>86</td>\n    </tr>\n  </tbody>\n</table>\n</div>"
     },
     "metadata": {},
     "execution_count": 36
    }
   ],
   "source": [
    "df.iloc[[0,2],[1,2]]"
   ]
  },
  {
   "cell_type": "code",
   "execution_count": 37,
   "metadata": {},
   "outputs": [],
   "source": [
    "#图18.17"
   ]
  },
  {
   "cell_type": "code",
   "execution_count": 38,
   "metadata": {},
   "outputs": [
    {
     "output_type": "execute_result",
     "data": {
      "text/plain": [
       "           高数   线代\n",
       "202001001  94   97\n",
       "202001002  53   89\n",
       "202001003  71  100"
      ],
      "text/html": "<div>\n<style scoped>\n    .dataframe tbody tr th:only-of-type {\n        vertical-align: middle;\n    }\n\n    .dataframe tbody tr th {\n        vertical-align: top;\n    }\n\n    .dataframe thead th {\n        text-align: right;\n    }\n</style>\n<table border=\"1\" class=\"dataframe\">\n  <thead>\n    <tr style=\"text-align: right;\">\n      <th></th>\n      <th>高数</th>\n      <th>线代</th>\n    </tr>\n  </thead>\n  <tbody>\n    <tr>\n      <th>202001001</th>\n      <td>94</td>\n      <td>97</td>\n    </tr>\n    <tr>\n      <th>202001002</th>\n      <td>53</td>\n      <td>89</td>\n    </tr>\n    <tr>\n      <th>202001003</th>\n      <td>71</td>\n      <td>100</td>\n    </tr>\n  </tbody>\n</table>\n</div>"
     },
     "metadata": {},
     "execution_count": 38
    }
   ],
   "source": [
    "#前3行与前2列\n",
    "df.iloc[:3,0:2] #注意不包含结束点"
   ]
  },
  {
   "cell_type": "code",
   "execution_count": 39,
   "metadata": {},
   "outputs": [],
   "source": [
    "#图18.18"
   ]
  },
  {
   "cell_type": "code",
   "execution_count": 40,
   "metadata": {},
   "outputs": [
    {
     "output_type": "execute_result",
     "data": {
      "text/plain": [
       "           高数  线代  统计  英语\n",
       "202001001  94  97  50  53\n",
       "202001002  53  89  59  69"
      ],
      "text/html": "<div>\n<style scoped>\n    .dataframe tbody tr th:only-of-type {\n        vertical-align: middle;\n    }\n\n    .dataframe tbody tr th {\n        vertical-align: top;\n    }\n\n    .dataframe thead th {\n        text-align: right;\n    }\n</style>\n<table border=\"1\" class=\"dataframe\">\n  <thead>\n    <tr style=\"text-align: right;\">\n      <th></th>\n      <th>高数</th>\n      <th>线代</th>\n      <th>统计</th>\n      <th>英语</th>\n    </tr>\n  </thead>\n  <tbody>\n    <tr>\n      <th>202001001</th>\n      <td>94</td>\n      <td>97</td>\n      <td>50</td>\n      <td>53</td>\n    </tr>\n    <tr>\n      <th>202001002</th>\n      <td>53</td>\n      <td>89</td>\n      <td>59</td>\n      <td>69</td>\n    </tr>\n  </tbody>\n</table>\n</div>"
     },
     "metadata": {},
     "execution_count": 40
    }
   ],
   "source": [
    "#连续的多行\n",
    "df[0:2]  #前2行，不包含结束点"
   ]
  },
  {
   "cell_type": "code",
   "execution_count": 41,
   "metadata": {},
   "outputs": [],
   "source": [
    "#图18.19"
   ]
  },
  {
   "cell_type": "code",
   "execution_count": 42,
   "metadata": {},
   "outputs": [
    {
     "output_type": "execute_result",
     "data": {
      "text/plain": [
       "           高数   线代  统计  英语\n",
       "202001001  94   97  60  60\n",
       "202001002  60   89  60  69\n",
       "202001003  71  100  86  73\n",
       "202001004  60   74  74  62\n",
       "202001005  60   88  89  73\n",
       "202001006  96   74  67  87\n",
       "202001007  75   63  60  60\n",
       "202001008  70   66  60  65\n",
       "202001009  97   60  68  85\n",
       "202001010  74   99  79  69"
      ],
      "text/html": "<div>\n<style scoped>\n    .dataframe tbody tr th:only-of-type {\n        vertical-align: middle;\n    }\n\n    .dataframe tbody tr th {\n        vertical-align: top;\n    }\n\n    .dataframe thead th {\n        text-align: right;\n    }\n</style>\n<table border=\"1\" class=\"dataframe\">\n  <thead>\n    <tr style=\"text-align: right;\">\n      <th></th>\n      <th>高数</th>\n      <th>线代</th>\n      <th>统计</th>\n      <th>英语</th>\n    </tr>\n  </thead>\n  <tbody>\n    <tr>\n      <th>202001001</th>\n      <td>94</td>\n      <td>97</td>\n      <td>60</td>\n      <td>60</td>\n    </tr>\n    <tr>\n      <th>202001002</th>\n      <td>60</td>\n      <td>89</td>\n      <td>60</td>\n      <td>69</td>\n    </tr>\n    <tr>\n      <th>202001003</th>\n      <td>71</td>\n      <td>100</td>\n      <td>86</td>\n      <td>73</td>\n    </tr>\n    <tr>\n      <th>202001004</th>\n      <td>60</td>\n      <td>74</td>\n      <td>74</td>\n      <td>62</td>\n    </tr>\n    <tr>\n      <th>202001005</th>\n      <td>60</td>\n      <td>88</td>\n      <td>89</td>\n      <td>73</td>\n    </tr>\n    <tr>\n      <th>202001006</th>\n      <td>96</td>\n      <td>74</td>\n      <td>67</td>\n      <td>87</td>\n    </tr>\n    <tr>\n      <th>202001007</th>\n      <td>75</td>\n      <td>63</td>\n      <td>60</td>\n      <td>60</td>\n    </tr>\n    <tr>\n      <th>202001008</th>\n      <td>70</td>\n      <td>66</td>\n      <td>60</td>\n      <td>65</td>\n    </tr>\n    <tr>\n      <th>202001009</th>\n      <td>97</td>\n      <td>60</td>\n      <td>68</td>\n      <td>85</td>\n    </tr>\n    <tr>\n      <th>202001010</th>\n      <td>74</td>\n      <td>99</td>\n      <td>79</td>\n      <td>69</td>\n    </tr>\n  </tbody>\n</table>\n</div>"
     },
     "metadata": {},
     "execution_count": 42
    }
   ],
   "source": [
    "#把所有小于60的数据修改为60\n",
    "df_copy=df.copy()  #复制数据\n",
    "df_copy[df_copy<60]=60\n",
    "df_copy"
   ]
  },
  {
   "cell_type": "code",
   "execution_count": 43,
   "metadata": {},
   "outputs": [],
   "source": [
    "#图18.20"
   ]
  },
  {
   "cell_type": "code",
   "execution_count": 44,
   "metadata": {},
   "outputs": [
    {
     "output_type": "execute_result",
     "data": {
      "text/plain": [
       "           高数   线代  统计  英语  政治\n",
       "202001001  94   97  60  60  70\n",
       "202001002  60   89  60  69  71\n",
       "202001003  71  100  86  73  72\n",
       "202001004  60   74  74  62  73\n",
       "202001005  60   88  89  73  74\n",
       "202001006  96   74  67  87  75\n",
       "202001007  75   63  60  60  76\n",
       "202001008  70   66  60  65  77\n",
       "202001009  97   60  68  85  78\n",
       "202001010  74   99  79  69  79"
      ],
      "text/html": "<div>\n<style scoped>\n    .dataframe tbody tr th:only-of-type {\n        vertical-align: middle;\n    }\n\n    .dataframe tbody tr th {\n        vertical-align: top;\n    }\n\n    .dataframe thead th {\n        text-align: right;\n    }\n</style>\n<table border=\"1\" class=\"dataframe\">\n  <thead>\n    <tr style=\"text-align: right;\">\n      <th></th>\n      <th>高数</th>\n      <th>线代</th>\n      <th>统计</th>\n      <th>英语</th>\n      <th>政治</th>\n    </tr>\n  </thead>\n  <tbody>\n    <tr>\n      <th>202001001</th>\n      <td>94</td>\n      <td>97</td>\n      <td>60</td>\n      <td>60</td>\n      <td>70</td>\n    </tr>\n    <tr>\n      <th>202001002</th>\n      <td>60</td>\n      <td>89</td>\n      <td>60</td>\n      <td>69</td>\n      <td>71</td>\n    </tr>\n    <tr>\n      <th>202001003</th>\n      <td>71</td>\n      <td>100</td>\n      <td>86</td>\n      <td>73</td>\n      <td>72</td>\n    </tr>\n    <tr>\n      <th>202001004</th>\n      <td>60</td>\n      <td>74</td>\n      <td>74</td>\n      <td>62</td>\n      <td>73</td>\n    </tr>\n    <tr>\n      <th>202001005</th>\n      <td>60</td>\n      <td>88</td>\n      <td>89</td>\n      <td>73</td>\n      <td>74</td>\n    </tr>\n    <tr>\n      <th>202001006</th>\n      <td>96</td>\n      <td>74</td>\n      <td>67</td>\n      <td>87</td>\n      <td>75</td>\n    </tr>\n    <tr>\n      <th>202001007</th>\n      <td>75</td>\n      <td>63</td>\n      <td>60</td>\n      <td>60</td>\n      <td>76</td>\n    </tr>\n    <tr>\n      <th>202001008</th>\n      <td>70</td>\n      <td>66</td>\n      <td>60</td>\n      <td>65</td>\n      <td>77</td>\n    </tr>\n    <tr>\n      <th>202001009</th>\n      <td>97</td>\n      <td>60</td>\n      <td>68</td>\n      <td>85</td>\n      <td>78</td>\n    </tr>\n    <tr>\n      <th>202001010</th>\n      <td>74</td>\n      <td>99</td>\n      <td>79</td>\n      <td>69</td>\n      <td>79</td>\n    </tr>\n  </tbody>\n</table>\n</div>"
     },
     "metadata": {},
     "execution_count": 44
    }
   ],
   "source": [
    "#添加列\n",
    "df_copy['政治']=range(70,80)\n",
    "df_copy"
   ]
  },
  {
   "cell_type": "code",
   "execution_count": 45,
   "metadata": {},
   "outputs": [],
   "source": [
    "#图18.21"
   ]
  },
  {
   "cell_type": "code",
   "execution_count": 46,
   "metadata": {},
   "outputs": [
    {
     "output_type": "execute_result",
     "data": {
      "text/plain": [
       "           高数   线代  统计  英语  政治\n",
       "202001001  94   97  60  60  70\n",
       "202001002  60   89  60  69  71\n",
       "202001003  71  100  86  73  72\n",
       "202001004  60   74  74  62  73\n",
       "202001005  60   88  89  73  74\n",
       "202001006  96   74  67  87  75\n",
       "202001007  75   63  60  60  76\n",
       "202001008  70   66  60  65  77\n",
       "202001009  97   60  68  85  78\n",
       "202001010  74   99  79  69  79\n",
       "202001011  70   72  74  76  78"
      ],
      "text/html": "<div>\n<style scoped>\n    .dataframe tbody tr th:only-of-type {\n        vertical-align: middle;\n    }\n\n    .dataframe tbody tr th {\n        vertical-align: top;\n    }\n\n    .dataframe thead th {\n        text-align: right;\n    }\n</style>\n<table border=\"1\" class=\"dataframe\">\n  <thead>\n    <tr style=\"text-align: right;\">\n      <th></th>\n      <th>高数</th>\n      <th>线代</th>\n      <th>统计</th>\n      <th>英语</th>\n      <th>政治</th>\n    </tr>\n  </thead>\n  <tbody>\n    <tr>\n      <th>202001001</th>\n      <td>94</td>\n      <td>97</td>\n      <td>60</td>\n      <td>60</td>\n      <td>70</td>\n    </tr>\n    <tr>\n      <th>202001002</th>\n      <td>60</td>\n      <td>89</td>\n      <td>60</td>\n      <td>69</td>\n      <td>71</td>\n    </tr>\n    <tr>\n      <th>202001003</th>\n      <td>71</td>\n      <td>100</td>\n      <td>86</td>\n      <td>73</td>\n      <td>72</td>\n    </tr>\n    <tr>\n      <th>202001004</th>\n      <td>60</td>\n      <td>74</td>\n      <td>74</td>\n      <td>62</td>\n      <td>73</td>\n    </tr>\n    <tr>\n      <th>202001005</th>\n      <td>60</td>\n      <td>88</td>\n      <td>89</td>\n      <td>73</td>\n      <td>74</td>\n    </tr>\n    <tr>\n      <th>202001006</th>\n      <td>96</td>\n      <td>74</td>\n      <td>67</td>\n      <td>87</td>\n      <td>75</td>\n    </tr>\n    <tr>\n      <th>202001007</th>\n      <td>75</td>\n      <td>63</td>\n      <td>60</td>\n      <td>60</td>\n      <td>76</td>\n    </tr>\n    <tr>\n      <th>202001008</th>\n      <td>70</td>\n      <td>66</td>\n      <td>60</td>\n      <td>65</td>\n      <td>77</td>\n    </tr>\n    <tr>\n      <th>202001009</th>\n      <td>97</td>\n      <td>60</td>\n      <td>68</td>\n      <td>85</td>\n      <td>78</td>\n    </tr>\n    <tr>\n      <th>202001010</th>\n      <td>74</td>\n      <td>99</td>\n      <td>79</td>\n      <td>69</td>\n      <td>79</td>\n    </tr>\n    <tr>\n      <th>202001011</th>\n      <td>70</td>\n      <td>72</td>\n      <td>74</td>\n      <td>76</td>\n      <td>78</td>\n    </tr>\n  </tbody>\n</table>\n</div>"
     },
     "metadata": {},
     "execution_count": 46
    }
   ],
   "source": [
    "#添加行\n",
    "df_copy.loc['202001011']=range(70,80,2)\n",
    "df_copy"
   ]
  },
  {
   "cell_type": "code",
   "execution_count": 47,
   "metadata": {},
   "outputs": [],
   "source": [
    "#数据统计"
   ]
  },
  {
   "cell_type": "code",
   "execution_count": 48,
   "metadata": {},
   "outputs": [],
   "source": [
    "#图18.22"
   ]
  },
  {
   "cell_type": "code",
   "execution_count": 49,
   "metadata": {},
   "outputs": [
    {
     "output_type": "execute_result",
     "data": {
      "text/plain": [
       "高数    73.7\n",
       "线代    80.0\n",
       "统计    68.5\n",
       "英语    69.5\n",
       "dtype: float64"
      ]
     },
     "metadata": {},
     "execution_count": 49
    }
   ],
   "source": [
    "#求每一列的均值\n",
    "df.mean()"
   ]
  },
  {
   "cell_type": "code",
   "execution_count": 50,
   "metadata": {},
   "outputs": [],
   "source": [
    "#图18.23"
   ]
  },
  {
   "cell_type": "code",
   "execution_count": 51,
   "metadata": {},
   "outputs": [
    {
     "output_type": "execute_result",
     "data": {
      "text/plain": [
       "202001001    73.50\n",
       "202001002    67.50\n",
       "202001003    82.50\n",
       "202001004    66.50\n",
       "202001005    75.25\n",
       "202001006    81.00\n",
       "202001007    63.75\n",
       "202001008    64.00\n",
       "202001009    75.00\n",
       "202001010    80.25\n",
       "dtype: float64"
      ]
     },
     "metadata": {},
     "execution_count": 51
    }
   ],
   "source": [
    "#求每一行的均值\n",
    "df.mean(axis=1)"
   ]
  },
  {
   "cell_type": "code",
   "execution_count": 52,
   "metadata": {},
   "outputs": [],
   "source": [
    "#图18.24"
   ]
  },
  {
   "cell_type": "code",
   "execution_count": 53,
   "metadata": {},
   "outputs": [
    {
     "output_type": "execute_result",
     "data": {
      "text/plain": [
       "高数    17.423165\n",
       "线代    17.165858\n",
       "统计    13.310397\n",
       "英语    10.700467\n",
       "dtype: float64"
      ]
     },
     "metadata": {},
     "execution_count": 53
    }
   ],
   "source": [
    "#求每一列的标准差\n",
    "df.std()"
   ]
  },
  {
   "cell_type": "code",
   "execution_count": 54,
   "metadata": {},
   "outputs": [],
   "source": [
    "#图18.25"
   ]
  },
  {
   "cell_type": "code",
   "execution_count": 55,
   "metadata": {},
   "outputs": [
    {
     "output_type": "execute_result",
     "data": {
      "text/plain": [
       "              高数          线代         统计         英语\n",
       "count  10.000000   10.000000  10.000000  10.000000\n",
       "mean   73.700000   80.000000  68.500000  69.500000\n",
       "std    17.423165   17.165858  13.310397  10.700467\n",
       "min    51.000000   50.000000  50.000000  53.000000\n",
       "25%    59.500000   68.000000  58.250000  62.750000\n",
       "50%    72.500000   81.000000  67.500000  69.000000\n",
       "75%    89.250000   95.000000  77.750000  73.000000\n",
       "max    97.000000  100.000000  89.000000  87.000000"
      ],
      "text/html": "<div>\n<style scoped>\n    .dataframe tbody tr th:only-of-type {\n        vertical-align: middle;\n    }\n\n    .dataframe tbody tr th {\n        vertical-align: top;\n    }\n\n    .dataframe thead th {\n        text-align: right;\n    }\n</style>\n<table border=\"1\" class=\"dataframe\">\n  <thead>\n    <tr style=\"text-align: right;\">\n      <th></th>\n      <th>高数</th>\n      <th>线代</th>\n      <th>统计</th>\n      <th>英语</th>\n    </tr>\n  </thead>\n  <tbody>\n    <tr>\n      <th>count</th>\n      <td>10.000000</td>\n      <td>10.000000</td>\n      <td>10.000000</td>\n      <td>10.000000</td>\n    </tr>\n    <tr>\n      <th>mean</th>\n      <td>73.700000</td>\n      <td>80.000000</td>\n      <td>68.500000</td>\n      <td>69.500000</td>\n    </tr>\n    <tr>\n      <th>std</th>\n      <td>17.423165</td>\n      <td>17.165858</td>\n      <td>13.310397</td>\n      <td>10.700467</td>\n    </tr>\n    <tr>\n      <th>min</th>\n      <td>51.000000</td>\n      <td>50.000000</td>\n      <td>50.000000</td>\n      <td>53.000000</td>\n    </tr>\n    <tr>\n      <th>25%</th>\n      <td>59.500000</td>\n      <td>68.000000</td>\n      <td>58.250000</td>\n      <td>62.750000</td>\n    </tr>\n    <tr>\n      <th>50%</th>\n      <td>72.500000</td>\n      <td>81.000000</td>\n      <td>67.500000</td>\n      <td>69.000000</td>\n    </tr>\n    <tr>\n      <th>75%</th>\n      <td>89.250000</td>\n      <td>95.000000</td>\n      <td>77.750000</td>\n      <td>73.000000</td>\n    </tr>\n    <tr>\n      <th>max</th>\n      <td>97.000000</td>\n      <td>100.000000</td>\n      <td>89.000000</td>\n      <td>87.000000</td>\n    </tr>\n  </tbody>\n</table>\n</div>"
     },
     "metadata": {},
     "execution_count": 55
    }
   ],
   "source": [
    "df.describe()"
   ]
  },
  {
   "cell_type": "code",
   "execution_count": 56,
   "metadata": {},
   "outputs": [],
   "source": [
    "#图18.26"
   ]
  },
  {
   "cell_type": "code",
   "execution_count": 57,
   "metadata": {},
   "outputs": [
    {
     "output_type": "execute_result",
     "data": {
      "text/plain": [
       "高数    46\n",
       "线代    50\n",
       "统计    39\n",
       "英语    34\n",
       "dtype: int64"
      ]
     },
     "metadata": {},
     "execution_count": 57
    }
   ],
   "source": [
    "#求极差\n",
    "df.apply(lambda x:max(x)-min(x))"
   ]
  },
  {
   "cell_type": "code",
   "execution_count": 58,
   "metadata": {},
   "outputs": [],
   "source": [
    "#图18.27"
   ]
  },
  {
   "cell_type": "code",
   "execution_count": 59,
   "metadata": {},
   "outputs": [
    {
     "output_type": "execute_result",
     "data": {
      "text/plain": [
       "94    1\n",
       "75    1\n",
       "74    1\n",
       "56    1\n",
       "71    1\n",
       "70    1\n",
       "53    1\n",
       "51    1\n",
       "97    1\n",
       "96    1\n",
       "Name: 高数, dtype: int64"
      ]
     },
     "metadata": {},
     "execution_count": 59
    }
   ],
   "source": [
    "#高数不同分数出现的次数\n",
    "df['高数'].value_counts()"
   ]
  },
  {
   "cell_type": "code",
   "execution_count": null,
   "metadata": {},
   "outputs": [],
   "source": []
  }
 ],
 "metadata": {
  "language_info": {
   "codemirror_mode": {
    "name": "ipython",
    "version": 3
   },
   "file_extension": ".py",
   "mimetype": "text/x-python",
   "name": "python",
   "nbconvert_exporter": "python",
   "pygments_lexer": "ipython3",
   "version": "3.6.1-final"
  },
  "orig_nbformat": 2,
  "kernelspec": {
   "name": "python3",
   "display_name": "Python 3.6.1 64-bit",
   "metadata": {
    "interpreter": {
     "hash": "4ce0e62306dd6a5716965d4519ada776f947e6dfc145b604b11307c10277ef29"
    }
   }
  }
 },
 "nbformat": 4,
 "nbformat_minor": 2
}