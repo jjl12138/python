{
 "cells": [
  {
   "cell_type": "code",
   "execution_count": 12,
   "metadata": {},
   "outputs": [],
   "source": [
    "#图13.1"
   ]
  },
  {
   "cell_type": "code",
   "execution_count": 13,
   "metadata": {},
   "outputs": [
    {
     "output_type": "execute_result",
     "data": {
      "text/plain": [
       "[0, 0, 0, 1, 0, 0, 1, 0, 0, 1]"
      ]
     },
     "metadata": {},
     "execution_count": 13
    }
   ],
   "source": [
    "#导入numpy库，并依惯例将其重命名为np\n",
    "import numpy as np\n",
    "\n",
    "#多次调用np.random时的一种简化方法\n",
    "r1=np.random\n",
    "\n",
    "#新建一个列表保存试验结果 \n",
    "a=[]\n",
    "\n",
    "# 一般情况是 for i in range(10):由于循环体中没有用到变量i，所以以符号’_’代替i .\n",
    "for _ in range(10):\n",
    "    #np.random.randint(m)随机产生一个0至m-1的整数\n",
    "    #a.append(x)将x附加至列表a的末尾\n",
    "    a.append(r1.randint(2))\n",
    "a"
   ]
  },
  {
   "cell_type": "code",
   "execution_count": 14,
   "metadata": {},
   "outputs": [],
   "source": [
    "#图13.2"
   ]
  },
  {
   "cell_type": "code",
   "execution_count": 15,
   "metadata": {
    "tags": []
   },
   "outputs": [
    {
     "output_type": "stream",
     "name": "stdout",
     "text": [
      "b is [1 1 0 0 1 1 1 1 1 0]\nc is [1 1 0 0 1 1 1 1 1 0]\n"
     ]
    }
   ],
   "source": [
    "#当指定种子时，每次都生成一样的结果\n",
    "r2=np.random\n",
    "#为r1指定随机种子1\n",
    "r1.seed(1)\n",
    "#生成长度为10的随机数\n",
    "b=r1.randint(2,size=10)\n",
    "print('b is {}'.format(b))\n",
    "r2.seed(1)\n",
    "c=r2.randint(2,size=10)\n",
    "print('c is {}'.format(c))"
   ]
  },
  {
   "cell_type": "code",
   "execution_count": 16,
   "metadata": {},
   "outputs": [],
   "source": [
    "#图13.3"
   ]
  },
  {
   "cell_type": "code",
   "execution_count": 17,
   "metadata": {},
   "outputs": [
    {
     "output_type": "execute_result",
     "data": {
      "text/plain": [
       "(5007, 4993)"
      ]
     },
     "metadata": {},
     "execution_count": 17
    }
   ],
   "source": [
    "#defaultdict在科学计算中比python内置的字典dict更为常用\n",
    "from collections import defaultdict\n",
    "r=np.random\n",
    "myDict=defaultdict(int)\n",
    "info='TH'\n",
    "for _ in range(10000):\n",
    "    myDict[info[r.randint(2)]]+=1\n",
    "myDict['T'],myDict['H']"
   ]
  },
  {
   "cell_type": "code",
   "execution_count": 18,
   "metadata": {},
   "outputs": [],
   "source": [
    "#图13.4"
   ]
  },
  {
   "cell_type": "code",
   "execution_count": 19,
   "metadata": {},
   "outputs": [
    {
     "output_type": "execute_result",
     "data": {
      "text/plain": [
       "defaultdict(int, {'abc': 0})"
      ]
     },
     "metadata": {},
     "execution_count": 19
    }
   ],
   "source": [
    "dict1=defaultdict(int)\n",
    "dict1['abc']  #为'abc'提供默认值0\n",
    "dict1"
   ]
  },
  {
   "cell_type": "code",
   "execution_count": 20,
   "metadata": {},
   "outputs": [],
   "source": [
    "#图13.5"
   ]
  },
  {
   "cell_type": "code",
   "execution_count": 21,
   "metadata": {},
   "outputs": [
    {
     "output_type": "execute_result",
     "data": {
      "text/plain": [
       "(4959, 5041)"
      ]
     },
     "metadata": {},
     "execution_count": 21
    }
   ],
   "source": [
    "myDict_another=defaultdict(int)\n",
    "info='TH'\n",
    "for _ in range(10000):\n",
    "    #np.random.choice([m,n],p=[p1,p2])表示以概率p1选取数m,以概率p2选取n，其中p1+p2=1\n",
    "    myDict_another[info[np.random.choice([0,1],p=[0.5,0.5])]]+=1\n",
    "myDict_another['T'],myDict_another['H']"
   ]
  }
 ],
 "metadata": {
  "language_info": {
   "codemirror_mode": {
    "name": "ipython",
    "version": 3
   },
   "file_extension": ".py",
   "mimetype": "text/x-python",
   "name": "python",
   "nbconvert_exporter": "python",
   "pygments_lexer": "ipython3",
   "version": "3.6.1-final"
  },
  "orig_nbformat": 2,
  "kernelspec": {
   "name": "python3",
   "display_name": "Python 3.6.1 64-bit",
   "metadata": {
    "interpreter": {
     "hash": "4ce0e62306dd6a5716965d4519ada776f947e6dfc145b604b11307c10277ef29"
    }
   }
  }
 },
 "nbformat": 4,
 "nbformat_minor": 2
}