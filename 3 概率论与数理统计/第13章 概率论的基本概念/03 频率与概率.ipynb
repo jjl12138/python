{
 "cells": [
  {
   "cell_type": "code",
   "execution_count": null,
   "metadata": {},
   "outputs": [],
   "source": [
    "#例13.1"
   ]
  },
  {
   "cell_type": "code",
   "execution_count": 1,
   "metadata": {
    "tags": []
   },
   "outputs": [
    {
     "output_type": "stream",
     "name": "stdout",
     "text": [
      "总试验次数为10,H发生的频数为8,频率为0.8\n",
      "总试验次数为100,H发生的频数为52,频率为0.52\n",
      "总试验次数为1000,H发生的频数为494,频率为0.494\n",
      "总试验次数为10000,H发生的频数为5091,频率为0.5091\n",
      "总试验次数为100000,H发生的频数为49908,频率为0.49908\n",
      "总试验次数为1000000,H发生的频数为499489,频率为0.49949\n"
     ]
    }
   ],
   "source": [
    "import numpy as np \n",
    "from collections import defaultdict\n",
    "test_times=[10,100,1000,10000,100000,1000000]\n",
    "r=np.random\n",
    "r.seed(0)\n",
    "for i in range(len(test_times)):\n",
    "    occur_H_times=0\n",
    "    for _ in range(test_times[i]):\n",
    "        is_H=r.randint(0,2)\n",
    "        if is_H:  #is_H为1时表示正面向上\n",
    "            occur_H_times+=1  #正面向上的次数加1\n",
    "    print('总试验次数为{},H发生的频数为{},频率为{}'\\\n",
    "    .format(test_times[i],occur_H_times,\\\n",
    "    np.round(occur_H_times/test_times[i],5)))"
   ]
  },
  {
   "cell_type": "code",
   "execution_count": null,
   "metadata": {},
   "outputs": [],
   "source": [
    "#例13.2"
   ]
  },
  {
   "cell_type": "code",
   "execution_count": 2,
   "metadata": {},
   "outputs": [],
   "source": [
    "#读取英文原著《Les Miserables》[注：《悲惨世界》]，统计每个字符(A~Z)出现的频率"
   ]
  },
  {
   "cell_type": "code",
   "execution_count": 2,
   "metadata": {
    "tags": []
   },
   "outputs": [
    {
     "output_type": "stream",
     "name": "stdout",
     "text": [
      "The total chars_num is 2668506.0\ndefaultdict(<class 'int'>, {'P': 45025, 'R': 155953, 'E': 350204, 'F': 59287, 'A': 218220, 'C': 70324, 'S': 171145, 'O': 194394, 'L': 104824, 'N': 178921, 'G': 51034, 'T': 247905, 'H': 186855, 'X': 4144, 'I': 184082, 'B': 39687, 'Y': 41146, 'V': 27421, 'U': 71744, 'W': 59832, 'D': 114858, 'M': 65472, 'Z': 2018, 'K': 15324, 'J': 6031, 'Q': 2656})\n"
     ]
    }
   ],
   "source": [
    "from collections import defaultdict\n",
    "chars_num=0.\n",
    "myDict=defaultdict(int)\n",
    "with open(\"Les Miserables.txt\") as f:  #打开文件并将其命名为f\n",
    "    ftext = f.read()  #读取文件全部内容，以str类型存入ftext中\n",
    "for i in range(len(ftext)):\n",
    "    char=ftext[i].upper()  #将字符改写为大写形式,便于统计\n",
    "    if char>='A' and char<='Z':  #判断是否为大写英文字母\n",
    "        myDict[char]+=1  #统计每个字母出现的次数\n",
    "        chars_num+=1.0  #统计字母的总个数\n",
    "print(\"The total chars_num is {}\".format(chars_num))\n",
    "print(myDict)"
   ]
  },
  {
   "cell_type": "code",
   "execution_count": 3,
   "metadata": {
    "tags": []
   },
   "outputs": [
    {
     "output_type": "stream",
     "name": "stdout",
     "text": [
      "字母 'E' 发生的频数为: 350204, 频率为：0.13124\n字母 'T' 发生的频数为: 247905, 频率为：0.0929\n字母 'A' 发生的频数为: 218220, 频率为：0.08178\n字母 'O' 发生的频数为: 194394, 频率为：0.07285\n字母 'H' 发生的频数为: 186855, 频率为：0.07002\n字母 'I' 发生的频数为: 184082, 频率为：0.06898\n字母 'N' 发生的频数为: 178921, 频率为：0.06705\n字母 'S' 发生的频数为: 171145, 频率为：0.06414\n字母 'R' 发生的频数为: 155953, 频率为：0.05844\n字母 'D' 发生的频数为: 114858, 频率为：0.04304\n字母 'L' 发生的频数为: 104824, 频率为：0.03928\n字母 'U' 发生的频数为: 71744, 频率为：0.02689\n字母 'C' 发生的频数为: 70324, 频率为：0.02635\n字母 'M' 发生的频数为: 65472, 频率为：0.02454\n字母 'W' 发生的频数为: 59832, 频率为：0.02242\n字母 'F' 发生的频数为: 59287, 频率为：0.02222\n字母 'G' 发生的频数为: 51034, 频率为：0.01912\n字母 'P' 发生的频数为: 45025, 频率为：0.01687\n字母 'Y' 发生的频数为: 41146, 频率为：0.01542\n字母 'B' 发生的频数为: 39687, 频率为：0.01487\n字母 'V' 发生的频数为: 27421, 频率为：0.01028\n字母 'K' 发生的频数为: 15324, 频率为：0.00574\n字母 'J' 发生的频数为: 6031, 频率为：0.00226\n字母 'X' 发生的频数为: 4144, 频率为：0.00155\n字母 'Q' 发生的频数为: 2656, 频率为：0.001\n字母 'Z' 发生的频数为: 2018, 频率为：0.00076\n"
     ]
    }
   ],
   "source": [
    "#对字典排序\n",
    "from operator import itemgetter\n",
    "#参数key=itemgetter(1)，1表示按值排序；0为按键排序\n",
    "sorted_dict=sorted(myDict.items(),key=itemgetter(1),reverse=True)\n",
    "for i in range(len(sorted_dict)):\n",
    "    print('字母 \\'{}\\' 发生的频数为: {}, 频率为：{}'\\\n",
    "        .format(sorted_dict[i][0],sorted_dict[i][1],\\\n",
    "            np.round(sorted_dict[i][1]/chars_num,5)))"
   ]
  },
  {
   "cell_type": "code",
   "execution_count": 5,
   "metadata": {},
   "outputs": [
    {
     "output_type": "execute_result",
     "data": {
      "text/plain": [
       "3"
      ]
     },
     "metadata": {},
     "execution_count": 5
    }
   ],
   "source": [
    "r=[2,3,4]\n",
    "f=itemgetter(1)  #定义用于获取第1项的可调用对象f\n",
    "f(r)  #取出列表r中第1项的值r[1]"
   ]
  },
  {
   "cell_type": "code",
   "execution_count": null,
   "metadata": {},
   "outputs": [],
   "source": []
  }
 ],
 "metadata": {
  "language_info": {
   "codemirror_mode": {
    "name": "ipython",
    "version": 3
   },
   "file_extension": ".py",
   "mimetype": "text/x-python",
   "name": "python",
   "nbconvert_exporter": "python",
   "pygments_lexer": "ipython3",
   "version": "3.6.1-final"
  },
  "orig_nbformat": 2,
  "kernelspec": {
   "name": "python3",
   "display_name": "Python 3.6.1 64-bit",
   "metadata": {
    "interpreter": {
     "hash": "4ce0e62306dd6a5716965d4519ada776f947e6dfc145b604b11307c10277ef29"
    }
   }
  }
 },
 "nbformat": 4,
 "nbformat_minor": 2
}