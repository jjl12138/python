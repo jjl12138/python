{
 "cells": [
  {
   "cell_type": "code",
   "execution_count": 1,
   "metadata": {},
   "outputs": [],
   "source": [
    "#图13.6"
   ]
  },
  {
   "cell_type": "code",
   "execution_count": 2,
   "metadata": {
    "tags": []
   },
   "outputs": [
    {
     "output_type": "stream",
     "name": "stdout",
     "text": [
      "{'M', 'H', 'I', 'V', 'B', 'Y', 'N', 'F', 'L', 'O', 'Q', 'R', 'D', 'E', 'J', 'T', 'X', 'Z', 'W', 'A', 'P', 'S', 'K', 'U', 'G', 'C'}\n"
     ]
    }
   ],
   "source": [
    "#新建一个空集\n",
    "S_ALL=set() \n",
    "#将整数65~90转换成Unicode字符，添加到集合S_ALL中\n",
    "for i in range(65,91):\n",
    "    #为集合添加元素时使用add()函数\n",
    "    S_ALL.add(chr(i))\n",
    "print(S_ALL)"
   ]
  },
  {
   "cell_type": "code",
   "execution_count": 3,
   "metadata": {},
   "outputs": [],
   "source": [
    "#图13.7"
   ]
  },
  {
   "cell_type": "code",
   "execution_count": 4,
   "metadata": {
    "tags": []
   },
   "outputs": [
    {
     "output_type": "stream",
     "name": "stdout",
     "text": [
      "{'N', 'P', 'M', 'S', 'H', 'F', 'T', 'X', 'J', 'G', 'D', 'V', 'Y'}\n{'P', 'E', 'H', 'F', 'J', 'Z', 'I', 'U', 'G', 'O', 'Q', 'R', 'D', 'A', 'V', 'B', 'Y'}\n"
     ]
    }
   ],
   "source": [
    "import numpy as np\n",
    "r=np.random\n",
    "r.seed(0)\n",
    "#取S_ALL的两个子集\n",
    "S_1=set()\n",
    "S_2=set()\n",
    "for i in range(18):\n",
    "    S_1.add(chr(r.randint(65,91)))\n",
    "    S_2.add(chr(r.randint(65,91)))\n",
    "print(S_1)\n",
    "print(S_2)"
   ]
  },
  {
   "cell_type": "code",
   "execution_count": 5,
   "metadata": {},
   "outputs": [],
   "source": [
    "#图13.8"
   ]
  },
  {
   "cell_type": "code",
   "execution_count": 6,
   "metadata": {
    "tags": []
   },
   "outputs": [
    {
     "output_type": "stream",
     "name": "stdout",
     "text": [
      "{'P', 'H', 'F', 'J', 'G', 'D', 'V', 'Y'}\n",
      "{'P', 'H', 'F', 'J', 'G', 'D', 'V', 'Y'}\n"
     ]
    }
   ],
   "source": [
    "#交集\n",
    "print(S_1.intersection(S_2))\n",
    "print(S_1&S_2)"
   ]
  },
  {
   "cell_type": "code",
   "execution_count": 7,
   "metadata": {},
   "outputs": [],
   "source": [
    "#图13.9"
   ]
  },
  {
   "cell_type": "code",
   "execution_count": 8,
   "metadata": {
    "tags": []
   },
   "outputs": [
    {
     "output_type": "stream",
     "name": "stdout",
     "text": [
      "{'E', 'M', 'H', 'T', 'X', 'J', 'Z', 'I', 'A', 'V', 'B', 'Y', 'N', 'P', 'S', 'F', 'U', 'G', 'O', 'Q', 'R', 'D'}\n{'E', 'M', 'H', 'T', 'X', 'J', 'Z', 'I', 'A', 'V', 'B', 'Y', 'N', 'P', 'S', 'F', 'U', 'G', 'O', 'Q', 'R', 'D'}\n"
     ]
    }
   ],
   "source": [
    "#并集\n",
    "print(S_1.union(S_2))\n",
    "print(S_1|S_2)"
   ]
  },
  {
   "cell_type": "code",
   "execution_count": 9,
   "metadata": {},
   "outputs": [],
   "source": [
    "#图13.10"
   ]
  },
  {
   "cell_type": "code",
   "execution_count": 10,
   "metadata": {
    "tags": []
   },
   "outputs": [
    {
     "output_type": "stream",
     "name": "stdout",
     "text": [
      "{'N', 'M', 'S', 'T', 'X'}\n{'N', 'M', 'S', 'T', 'X'}\n"
     ]
    }
   ],
   "source": [
    "#差集\n",
    "print(S_1.difference(S_2))\n",
    "print(S_1-S_2)"
   ]
  },
  {
   "cell_type": "code",
   "execution_count": 11,
   "metadata": {},
   "outputs": [],
   "source": [
    "#图13.11"
   ]
  },
  {
   "cell_type": "code",
   "execution_count": 12,
   "metadata": {
    "tags": []
   },
   "outputs": [
    {
     "output_type": "stream",
     "name": "stdout",
     "text": [
      "{'E', 'N', 'M', 'S', 'T', 'X', 'Z', 'I', 'U', 'O', 'Q', 'R', 'A', 'B'}\n{'M', 'I', 'B', 'N', 'O', 'Q', 'R', 'E', 'T', 'X', 'Z', 'A', 'S', 'U'}\n"
     ]
    }
   ],
   "source": [
    "#对称差（两个集合的并减去这两个集合的交）\n",
    "print((S_1|S_2)-(S_1&S_2))\n",
    "print(S_1.symmetric_difference(S_2))"
   ]
  },
  {
   "cell_type": "code",
   "execution_count": 13,
   "metadata": {},
   "outputs": [],
   "source": [
    "#图13.12"
   ]
  },
  {
   "cell_type": "code",
   "execution_count": 14,
   "metadata": {},
   "outputs": [
    {
     "output_type": "execute_result",
     "data": {
      "text/plain": [
       "(True, True)"
      ]
     },
     "metadata": {},
     "execution_count": 14
    }
   ],
   "source": [
    "#德摩根定律的验证\n",
    "S_ALL-(S_1|S_2)==(S_ALL-S_1)&(S_ALL-S_2),\\\n",
    "S_ALL-(S_1&S_2)==(S_ALL-S_1)|(S_ALL-S_2)"
   ]
  },
  {
   "cell_type": "code",
   "execution_count": null,
   "metadata": {},
   "outputs": [],
   "source": []
  }
 ],
 "metadata": {
  "language_info": {
   "codemirror_mode": {
    "name": "ipython",
    "version": 3
   },
   "file_extension": ".py",
   "mimetype": "text/x-python",
   "name": "python",
   "nbconvert_exporter": "python",
   "pygments_lexer": "ipython3",
   "version": "3.6.1-final"
  },
  "orig_nbformat": 2,
  "kernelspec": {
   "name": "python3",
   "display_name": "Python 3.6.1 64-bit",
   "metadata": {
    "interpreter": {
     "hash": "4ce0e62306dd6a5716965d4519ada776f947e6dfc145b604b11307c10277ef29"
    }
   }
  }
 },
 "nbformat": 4,
 "nbformat_minor": 2
}