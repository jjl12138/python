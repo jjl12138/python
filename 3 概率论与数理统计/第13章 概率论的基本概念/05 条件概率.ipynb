{
 "cells": [
  {
   "cell_type": "code",
   "execution_count": 1,
   "metadata": {},
   "outputs": [],
   "source": [
    "#例13.7"
   ]
  },
  {
   "cell_type": "code",
   "execution_count": 2,
   "metadata": {},
   "outputs": [],
   "source": [
    "#学习defaultdict的值是list的情形"
   ]
  },
  {
   "cell_type": "code",
   "execution_count": 3,
   "metadata": {},
   "outputs": [
    {
     "output_type": "execute_result",
     "data": {
      "text/plain": [
       "([7491, 2458], [5029, 1273])"
      ]
     },
     "metadata": {},
     "execution_count": 3
    }
   ],
   "source": [
    "from collections import defaultdict\n",
    "import numpy as np\n",
    "test_times=10000\n",
    "ex_1_dict=defaultdict(lambda:[0]*2)#见注释\n",
    "r=np.random\n",
    "r.seed(0)\n",
    "for _ in range(test_times):\n",
    "    two_0_1=r.randint(2,size=2)\n",
    "    three_0_1=r.randint(2,size=3)\n",
    "    if sum(two_0_1)>0:\n",
    "        ex_1_dict['1x'][0]+=1\n",
    "        if two_0_1[0]==two_0_1[1]:\n",
    "            ex_1_dict['1x'][1]+=1\n",
    "    if sum(three_0_1)>1:\n",
    "        ex_1_dict['11x'][0]+=1\n",
    "    if sum(three_0_1)==3:\n",
    "        ex_1_dict['11x'][1]+=1\n",
    "ex_1_dict['1x'],ex_1_dict['11x']"
   ]
  },
  {
   "cell_type": "code",
   "execution_count": 4,
   "metadata": {},
   "outputs": [
    {
     "output_type": "execute_result",
     "data": {
      "text/plain": [
       "(0.32812708583633693, 0.2531318353549413)"
      ]
     },
     "metadata": {},
     "execution_count": 4
    }
   ],
   "source": [
    "ex_1_dict['1x'][1]/ex_1_dict['1x'][0],\\\n",
    "ex_1_dict['11x'][1]/ex_1_dict['11x'][0]"
   ]
  },
  {
   "cell_type": "code",
   "execution_count": 5,
   "metadata": {},
   "outputs": [],
   "source": [
    "#例13.8"
   ]
  },
  {
   "cell_type": "code",
   "execution_count": 6,
   "metadata": {},
   "outputs": [
    {
     "output_type": "execute_result",
     "data": {
      "text/plain": [
       "(12, 9, 6)"
      ]
     },
     "metadata": {},
     "execution_count": 6
    }
   ],
   "source": [
    "import numpy as np\n",
    "samples=set()\n",
    "r=np.random\n",
    "r.seed(0)\n",
    "test_times=200\n",
    "for _ in range(test_times):\n",
    "    #1,2,3为正品，0为次品\n",
    "    describes=list('1230') #注释（1）\n",
    "    first=describes[r.randint(4)]\n",
    "    #不放回抽样\n",
    "    describes.remove(first)\n",
    "    second=describes[r.randint(3)]\n",
    "    samples.add(first+second)\n",
    "#S,A,AB中包含的事件个数\n",
    "len(samples),sum([1 if s[0]!='0' else 0 for s in samples]),\\\n",
    "sum([1 if int(s[0])*int(s[1]) else 0 for s in samples])"
   ]
  },
  {
   "cell_type": "code",
   "execution_count": 7,
   "metadata": {},
   "outputs": [
    {
     "output_type": "execute_result",
     "data": {
      "text/plain": [
       "(9, 6)"
      ]
     },
     "metadata": {},
     "execution_count": 7
    }
   ],
   "source": [
    "sum([1 for s in samples if s[0]!='0']),\\\n",
    "sum([1 for s in samples if int(s[0])*int(s[1])])"
   ]
  },
  {
   "cell_type": "code",
   "execution_count": 8,
   "metadata": {},
   "outputs": [],
   "source": [
    "#例13.9"
   ]
  },
  {
   "cell_type": "code",
   "execution_count": 9,
   "metadata": {},
   "outputs": [
    {
     "output_type": "execute_result",
     "data": {
      "text/plain": [
       "defaultdict(<function __main__.<lambda>()>,\n",
       "            {'2': [799945, 791986, 7959],\n",
       "             '3': [49923, 48346, 1577],\n",
       "             '1': [150132, 147068, 3064]})"
      ]
     },
     "metadata": {},
     "execution_count": 9
    }
   ],
   "source": [
    "from collections import defaultdict\n",
    "import numpy as np\n",
    "numbers_sampling=1000000\n",
    "r=np.random\n",
    "r.seed(0)\n",
    "ex_3_dict=defaultdict(lambda:[0]*3)  #默认值为[0,0,0]\n",
    "#每家工厂的合格率，次品率\n",
    "qualityrate_dict={'1':[0.98,0.02],'2':[0.99,0.01],'3':[0.97,0.03]}\n",
    "for _ in range(numbers_sampling):\n",
    "    factory=r.choice(['1','2','3'],p=[.15,.8,.05]) #按元件提供份额抽取\n",
    "    ex_3_dict[factory][0]+=1  #统计来自每厂元件个数\n",
    "    zero_one=r.choice([1,0],p=qualityrate_dict[factory]) #1为合格品，0为次品\n",
    "    ex_3_dict[factory][2-zero_one]+=1 #统计每厂合格品个数，次品个数\n",
    "ex_3_dict"
   ]
  },
  {
   "cell_type": "code",
   "execution_count": 10,
   "metadata": {},
   "outputs": [
    {
     "output_type": "execute_result",
     "data": {
      "text/plain": [
       "array([0.0126 , 0.24317, 0.63167, 0.12516])"
      ]
     },
     "metadata": {},
     "execution_count": 10
    }
   ],
   "source": [
    "total=ex_3_dict['1'][2]+ex_3_dict['2'][2]+ex_3_dict['3'][2]  #总次品数\n",
    "np.round(np.array([total/numbers_sampling,ex_3_dict['1'][2]/total,\\\n",
    "         ex_3_dict['2'][2]/total,ex_3_dict['3'][2]/total]),5)"
   ]
  },
  {
   "cell_type": "code",
   "execution_count": null,
   "metadata": {},
   "outputs": [],
   "source": []
  }
 ],
 "metadata": {
  "language_info": {
   "codemirror_mode": {
    "name": "ipython",
    "version": 3
   },
   "file_extension": ".py",
   "mimetype": "text/x-python",
   "name": "python",
   "nbconvert_exporter": "python",
   "pygments_lexer": "ipython3",
   "version": "3.6.1-final"
  },
  "orig_nbformat": 2,
  "kernelspec": {
   "name": "python3",
   "display_name": "Python 3.6.1 64-bit",
   "metadata": {
    "interpreter": {
     "hash": "4ce0e62306dd6a5716965d4519ada776f947e6dfc145b604b11307c10277ef29"
    }
   }
  }
 },
 "nbformat": 4,
 "nbformat_minor": 2
}