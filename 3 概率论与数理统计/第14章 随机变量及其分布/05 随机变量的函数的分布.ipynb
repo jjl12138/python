{
 "cells": [
  {
   "cell_type": "code",
   "execution_count": 1,
   "metadata": {},
   "outputs": [],
   "source": [
    "#导入sympy，'*'表示引入所有内容\n",
    "from sympy import *\n",
    "\n",
    "#定义函数，求y=g(x)严格单调时的概率密度函数\n",
    "def pdf_y(f_x,x,x_section,eq_xy,y,g_increase=True):\n",
    "\n",
    "    #求y=g(x)的表达式\n",
    "    g_x=solve(eq_xy,y)[0]  \n",
    "\n",
    "    #计算y的概率密度函数的非0区间\n",
    "    alpha=g_x.subs(x,x_section[0]) if g_increase else g_x.subs(x,x_section[1])\n",
    "    beta=g_x.subs(x,x_section[1]) if g_increase else g_x.subs(x,x_section[0])\n",
    "\n",
    "    #求g(x)的反函数h(y)\n",
    "    h=solve(eq_xy,x)[0]  \n",
    "\n",
    "    #y的概率密度函数\n",
    "    f_y=f_x.subs(x,h)*Abs(h.diff(y)) \n",
    "     \n",
    "    return f_y,[alpha,beta]"
   ]
  },
  {
   "cell_type": "code",
   "execution_count": 2,
   "metadata": {},
   "outputs": [],
   "source": [
    "#例14.7"
   ]
  },
  {
   "cell_type": "code",
   "execution_count": 3,
   "metadata": {
    "tags": []
   },
   "outputs": [
    {
     "output_type": "execute_result",
     "data": {
      "text/plain": [
       "⎛y    1         ⎞\n",
       "⎜── - ─, [8, 16]⎟\n",
       "⎝32   4         ⎠"
      ],
      "image/png": "[encoded data removed]",
      "text/latex": "$\\displaystyle \\left( \\frac{y}{32} - \\frac{1}{4}, \\  \\left[ 8, \\  16\\right]\\right)$"
     },
     "metadata": {},
     "execution_count": 3
    }
   ],
   "source": [
    "from sympy import *\n",
    "#启用环境中的最佳打印资源\n",
    "init_printing()\n",
    "x,y=symbols('x y',real=True)\n",
    "#X的概率密度函数\n",
    "f_x=x/8\n",
    "#Y的概率密度函数\n",
    "pdf_y(f_x,x,[0,4],y-2*x-8,y)"
   ]
  },
  {
   "cell_type": "code",
   "execution_count": 4,
   "metadata": {},
   "outputs": [],
   "source": [
    "#例14.8"
   ]
  },
  {
   "cell_type": "code",
   "execution_count": 5,
   "metadata": {
    "tags": []
   },
   "outputs": [
    {
     "output_type": "execute_result",
     "data": {
      "text/plain": [
       "⎛                  2          ⎞\n",
       "⎜     ⎛     -b + y⎞           ⎟\n",
       "⎜    -⎜-μ + ──────⎟           ⎟\n",
       "⎜     ⎝       a   ⎠           ⎟\n",
       "⎜    ────────────────         ⎟\n",
       "⎜             2               ⎟\n",
       "⎜          2⋅σ                ⎟\n",
       "⎜√2⋅ℯ                         ⎟\n",
       "⎜────────────────────, [-∞, ∞]⎟\n",
       "⎝      2⋅√π⋅a⋅σ               ⎠"
      ],
      "image/png": "[encoded data removed]",
      "text/latex": "$\\displaystyle \\left( \\frac{\\sqrt{2} e^{- \\frac{\\left(- \\mu + \\frac{- b + y}{a}\\right)^{2}}{2 \\sigma^{2}}}}{2 \\sqrt{\\pi} a \\sigma}, \\  \\left[ -\\infty, \\  \\infty\\right]\\right)$"
     },
     "metadata": {},
     "execution_count": 5
    }
   ],
   "source": [
    "from sympy import *\n",
    "init_printing()\n",
    "x,y=symbols('x y',real=True)\n",
    "mu,b=symbols('mu b',real=True)\n",
    "sigma,a=symbols('sigma a',real=True,positive=True)\n",
    "#X的概率密度函数\n",
    "f_x=E**(-(x-mu)**2/(2*sigma**2))/(sqrt(2*pi)*sigma)\n",
    "#Y的概率密度函数\n",
    "pdf_y(f_x,x,[-oo,oo],y-a*x-b,y)"
   ]
  },
  {
   "cell_type": "code",
   "execution_count": 6,
   "metadata": {},
   "outputs": [],
   "source": [
    "#例14.9"
   ]
  },
  {
   "cell_type": "code",
   "execution_count": 7,
   "metadata": {
    "tags": []
   },
   "outputs": [
    {
     "output_type": "execute_result",
     "data": {
      "text/plain": [
       "⎛│      1       │         ⎞\n",
       "⎜│──────────────│         ⎟\n",
       "⎜│      ________│         ⎟\n",
       "⎜│     ╱      2 │         ⎟\n",
       "⎜│    ╱      v  │         ⎟\n",
       "⎜│   ╱   1 - ── │         ⎟\n",
       "⎜│  ╱         2 │         ⎟\n",
       "⎜│╲╱         A  │         ⎟\n",
       "⎜────────────────, [-A, A]⎟\n",
       "⎝      π⋅A                ⎠"
      ],
      "image/png": "[encoded data removed]",
      "text/latex": "$\\displaystyle \\left( \\frac{\\left|{\\frac{1}{\\sqrt{1 - \\frac{v^{2}}{A^{2}}}}}\\right|}{\\pi A}, \\  \\left[ - A, \\  A\\right]\\right)$"
     },
     "metadata": {},
     "execution_count": 7
    }
   ],
   "source": [
    "from sympy import *\n",
    "init_printing()\n",
    "theta,v=symbols('theta v',real=True)\n",
    "A=Symbol('A',real=True,positive=True)\n",
    "#相角的概率密度函数\n",
    "f_theta=1/pi\n",
    "#电压的概率密度函数\n",
    "pdf_y(f_theta,theta,[-pi/2,pi/2],v-A*sin(theta),v)"
   ]
  }
 ],
 "metadata": {
  "language_info": {
   "codemirror_mode": {
    "name": "ipython",
    "version": 3
   },
   "file_extension": ".py",
   "mimetype": "text/x-python",
   "name": "python",
   "nbconvert_exporter": "python",
   "pygments_lexer": "ipython3",
   "version": "3.6.1-final"
  },
  "orig_nbformat": 2,
  "kernelspec": {
   "name": "python3",
   "display_name": "Python 3",
   "language": "python"
  }
 },
 "nbformat": 4,
 "nbformat_minor": 2
}