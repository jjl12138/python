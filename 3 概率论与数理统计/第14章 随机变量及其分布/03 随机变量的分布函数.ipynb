{
 "cells": [
  {
   "cell_type": "code",
   "execution_count": 1,
   "metadata": {},
   "outputs": [],
   "source": [
    "#熟练使用概率累积函数cdf及百分位点函数ppf"
   ]
  },
  {
   "cell_type": "code",
   "execution_count": 2,
   "metadata": {},
   "outputs": [],
   "source": [
    "#（0—1）分布的分布函数"
   ]
  },
  {
   "cell_type": "code",
   "execution_count": 3,
   "metadata": {
    "tags": []
   },
   "outputs": [
    {
     "output_type": "execute_result",
     "data": {
      "text/plain": [
       "(array([0.7, 0.3]), array([0.7, 1. ]))"
      ]
     },
     "metadata": {},
     "execution_count": 3
    }
   ],
   "source": [
    "from scipy.stats import bernoulli\n",
    "p=0.3\n",
    "rv=bernoulli(p)\n",
    "x=[0,1]\n",
    "#概率质量函数pmf，概率累积函数cdf\n",
    "rv.pmf(x),rv.cdf(x)"
   ]
  },
  {
   "cell_type": "code",
   "execution_count": 4,
   "metadata": {},
   "outputs": [],
   "source": [
    "#二项分布"
   ]
  },
  {
   "cell_type": "code",
   "execution_count": 5,
   "metadata": {
    "tags": []
   },
   "outputs": [
    {
     "output_type": "stream",
     "name": "stdout",
     "text": [
      "[0.16807 0.36015 0.3087  0.1323  0.02835 0.00243]\n[0.16807 0.52822 0.83692 0.96922 0.99757 1.     ]\n"
     ]
    }
   ],
   "source": [
    "from scipy.stats import binom\n",
    "n,p=5,0.3\n",
    "x=range(6)\n",
    "rv=binom(n,p)\n",
    "print(rv.pmf(x))\n",
    "print(rv.cdf(x))"
   ]
  },
  {
   "cell_type": "code",
   "execution_count": 6,
   "metadata": {},
   "outputs": [],
   "source": [
    "#泊松分布"
   ]
  },
  {
   "cell_type": "code",
   "execution_count": 7,
   "metadata": {
    "tags": []
   },
   "outputs": [
    {
     "output_type": "stream",
     "name": "stdout",
     "text": [
      "[0.04978707 0.14936121 0.22404181 0.22404181 0.16803136 0.10081881]\n[0.04978707 0.19914827 0.42319008 0.64723189 0.81526324 0.91608206]\n"
     ]
    }
   ],
   "source": [
    "from scipy.stats import poisson\n",
    "lamda=3.0\n",
    "rv=poisson(lamda)\n",
    "x=range(6)\n",
    "print(rv.pmf(x))\n",
    "print(rv.cdf(x))"
   ]
  },
  {
   "cell_type": "code",
   "execution_count": 8,
   "metadata": {},
   "outputs": [
    {
     "output_type": "execute_result",
     "data": {
      "text/plain": [
       "array([0., 1., 2., 3., 4., 5.])"
      ]
     },
     "metadata": {},
     "execution_count": 8
    }
   ],
   "source": [
    "#百分位点函数ppf是cdf的反函数\n",
    "rv.ppf(rv.cdf(x))"
   ]
  },
  {
   "cell_type": "code",
   "execution_count": null,
   "metadata": {},
   "outputs": [],
   "source": []
  }
 ],
 "metadata": {
  "language_info": {
   "codemirror_mode": {
    "name": "ipython",
    "version": 3
   },
   "file_extension": ".py",
   "mimetype": "text/x-python",
   "name": "python",
   "nbconvert_exporter": "python",
   "pygments_lexer": "ipython3",
   "version": "3.6.1-final"
  },
  "orig_nbformat": 2,
  "kernelspec": {
   "name": "python3",
   "display_name": "Python 3.6.1 64-bit",
   "metadata": {
    "interpreter": {
     "hash": "4ce0e62306dd6a5716965d4519ada776f947e6dfc145b604b11307c10277ef29"
    }
   }
  }
 },
 "nbformat": 4,
 "nbformat_minor": 2
}