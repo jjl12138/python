{
 "metadata": {
  "language_info": {
   "codemirror_mode": {
    "name": "ipython",
    "version": 3
   },
   "file_extension": ".py",
   "mimetype": "text/x-python",
   "name": "python",
   "nbconvert_exporter": "python",
   "pygments_lexer": "ipython3",
   "version": "3.6.1-final"
  },
  "orig_nbformat": 2,
  "kernelspec": {
   "name": "python3",
   "display_name": "Python 3.6.1 64-bit",
   "metadata": {
    "interpreter": {
     "hash": "4ce0e62306dd6a5716965d4519ada776f947e6dfc145b604b11307c10277ef29"
    }
   }
  }
 },
 "nbformat": 4,
 "nbformat_minor": 2,
 "cells": [
  {
   "cell_type": "code",
   "execution_count": 1,
   "metadata": {},
   "outputs": [],
   "source": [
    "#例14.1"
   ]
  },
  {
   "cell_type": "code",
   "execution_count": 1,
   "metadata": {
    "tags": []
   },
   "outputs": [
    {
     "output_type": "stream",
     "name": "stdout",
     "text": [
      "Samples space is {'THT', 'TTH', 'HTH', 'THH', 'TTT', 'HTT', 'HHT', 'HHH'}.\nX(0)={'TTT'}\nX(1)={'HTT', 'THT', 'TTH'}\nX(2)={'HTH', 'THH', 'HHT'}\nX(3)={'HHH'}\n"
     ]
    }
   ],
   "source": [
    "from collections import defaultdict\n",
    "import numpy as np \n",
    "\n",
    "result='TH'\n",
    "\n",
    "#新建一个空集合，用于存放观察结果\n",
    "observations=set()\n",
    "\n",
    "#numpy. random. RandomState()是一个伪随机数生成器，和设置seed的效果是一样的\n",
    "np.random.RandomState(1)\n",
    "\n",
    "#新建一个空字典，字典中不存在的“键”默认“值”为空集\n",
    "X=defaultdict(set) \n",
    "\n",
    "for _ in range(100):\n",
    "    #生成长度为3的随机数\n",
    "    three_0_1=np.random.randint(2,size=3)\n",
    "\n",
    "    #result[0]表示T，result[1]表示H，生成观察结果\n",
    "    observation=result[three_0_1[0]]+result[three_0_1[1]]+result[three_0_1[2]]\n",
    "    \n",
    "    #将观察结果加入集合\n",
    "    observations.add(observation)\n",
    "    \n",
    "    #以H出现个数作为“键”，将相应的观察结果加入“值”集合中\n",
    "    X[sum(three_0_1)].add(observation)\n",
    "\n",
    "print('Samples space is {}.'.format(observations))\n",
    "\n",
    "for i in (0,1,2,3):\n",
    "    print('X({})={}'.format(i,X[i]))"
   ]
  },
  {
   "cell_type": "code",
   "execution_count": null,
   "metadata": {},
   "outputs": [],
   "source": []
  }
 ]
}