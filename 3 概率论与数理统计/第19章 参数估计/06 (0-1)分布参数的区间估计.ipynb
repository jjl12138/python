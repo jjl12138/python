{
 "cells": [
  {
   "cell_type": "code",
   "execution_count": 1,
   "metadata": {},
   "outputs": [],
   "source": [
    "#例19.15"
   ]
  },
  {
   "cell_type": "code",
   "execution_count": 2,
   "metadata": {},
   "outputs": [
    {
     "output_type": "execute_result",
     "data": {
      "text/plain": [
       "(0.502002586791062, 0.690598713567541)"
      ],
      "image/png": "[encoded data removed]",
      "text/latex": "$\\displaystyle \\left( 0.502002586791062, \\  0.690598713567541\\right)$"
     },
     "metadata": {},
     "execution_count": 2
    }
   ],
   "source": [
    "from scipy.stats import norm\n",
    "from sympy import init_printing,symbols,solve\n",
    "init_printing()\n",
    "p=symbols('p',positive=True)\n",
    "#样本容量，样本均值，显著性水平\n",
    "n,meanX,alpha=100,0.6,0.05\n",
    "#正态分布的分位数\n",
    "z_score=norm().isf(alpha/2)\n",
    "#置信上下限\n",
    "p1,p2=solve((n*meanX-n*p)**2/(n*p*(1-p))-z_score**2,p)\n",
    "p1,p2"
   ]
  },
  {
   "cell_type": "code",
   "execution_count": null,
   "metadata": {},
   "outputs": [],
   "source": []
  }
 ],
 "metadata": {
  "language_info": {
   "codemirror_mode": {
    "name": "ipython",
    "version": 3
   },
   "file_extension": ".py",
   "mimetype": "text/x-python",
   "name": "python",
   "nbconvert_exporter": "python",
   "pygments_lexer": "ipython3",
   "version": "3.6.1-final"
  },
  "orig_nbformat": 2,
  "kernelspec": {
   "name": "python3",
   "display_name": "Python 3",
   "language": "python"
  }
 },
 "nbformat": 4,
 "nbformat_minor": 2
}