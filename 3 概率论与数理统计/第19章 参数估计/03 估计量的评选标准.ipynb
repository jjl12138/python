{
 "cells": [
  {
   "cell_type": "code",
   "execution_count": 1,
   "metadata": {
    "tags": []
   },
   "outputs": [
    {
     "output_type": "execute_result",
     "data": {
      "text/plain": [
       "(4.969598146966803, 99.72832110152297, 89.75548899137067)"
      ]
     },
     "metadata": {},
     "execution_count": 1
    }
   ],
   "source": [
    "from scipy.stats import norm\n",
    "import numpy as np\n",
    "MeanX,S2,Sigma2_hat=[],[],[]\n",
    "for i in range(5000):\n",
    "    np.random.seed(i)\n",
    "    #正态分布下生成容量为n的样本\n",
    "    loc,scale,n=5,10,10\n",
    "    rand_X=norm(loc,scale).rvs(size=n)\n",
    "    #计算样本均值与样本方差\n",
    "    mean_X=np.mean(rand_X)\n",
    "    s2=np.var(rand_X,ddof=1)\n",
    "    #ddof默认为0，此时分母为n\n",
    "    sigma2_hat=np.var(rand_X)\n",
    "    #将不同样本下算得的值添加入相应列表\n",
    "    MeanX.append(mean_X)\n",
    "    S2.append(s2)\n",
    "    Sigma2_hat.append(sigma2_hat)\n",
    "#不同列表的均值\n",
    "np.mean(MeanX),np.mean(S2),np.mean(Sigma2_hat)"
   ]
  },
  {
   "cell_type": "code",
   "execution_count": 2,
   "metadata": {},
   "outputs": [],
   "source": [
    "#例19.8"
   ]
  },
  {
   "cell_type": "code",
   "execution_count": 3,
   "metadata": {},
   "outputs": [
    {
     "output_type": "execute_result",
     "data": {
      "text/plain": [
       "(0.9651493421025489,\n",
       " 1.0325612840534983,\n",
       " 0.10541716945510324,\n",
       " 0.898114607747147)"
      ]
     },
     "metadata": {},
     "execution_count": 3
    }
   ],
   "source": [
    "from scipy.stats import expon\n",
    "theta=1.0\n",
    "MeanX,nZ=[],[]\n",
    "#反复100次生成容量为10的样本，计算样本均值及nZ值放入相应列表\n",
    "for i in range(100):\n",
    "    np.random.seed(i)\n",
    "    size=10\n",
    "    rand_X=expon(scale=theta).rvs(size=size)\n",
    "    MeanX.append(np.mean(rand_X))\n",
    "    nZ.append(min(rand_X)*size)\n",
    "np.mean(MeanX),np.mean(nZ),np.var(MeanX),np.var(nZ)"
   ]
  },
  {
   "cell_type": "code",
   "execution_count": null,
   "metadata": {},
   "outputs": [],
   "source": []
  }
 ],
 "metadata": {
  "language_info": {
   "codemirror_mode": {
    "name": "ipython",
    "version": 3
   },
   "file_extension": ".py",
   "mimetype": "text/x-python",
   "name": "python",
   "nbconvert_exporter": "python",
   "pygments_lexer": "ipython3",
   "version": "3.6.1-final"
  },
  "orig_nbformat": 2,
  "kernelspec": {
   "name": "python3",
   "display_name": "Python 3",
   "language": "python"
  }
 },
 "nbformat": 4,
 "nbformat_minor": 2
}