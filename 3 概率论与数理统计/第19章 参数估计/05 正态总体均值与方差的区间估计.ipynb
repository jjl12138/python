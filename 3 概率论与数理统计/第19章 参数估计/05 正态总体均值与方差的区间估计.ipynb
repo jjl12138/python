{
 "cells": [
  {
   "cell_type": "code",
   "execution_count": 1,
   "metadata": {},
   "outputs": [],
   "source": [
    "#例19.10"
   ]
  },
  {
   "cell_type": "code",
   "execution_count": 2,
   "metadata": {
    "tags": []
   },
   "outputs": [
    {
     "output_type": "stream",
     "name": "stdout",
     "text": [
      "(500.45,507.05)\n"
     ]
    }
   ],
   "source": [
    "from scipy.stats import t\n",
    "import numpy as np\n",
    "X=np.array([506,508,499,503,504,510,497,512,\\\n",
    "            514,505,493,496,506,502,509,496])\n",
    "\n",
    "#定义函数求置信上下限\n",
    "def t_conf(data,confidence=0.95):\n",
    "    #样本均值\n",
    "    sample_mean = np.mean(data)  \n",
    "    #样本标准差\n",
    "    sample_std=np.std(data,ddof=1) \n",
    "    #样本容量\n",
    "    sample_size = len(data)\n",
    "    #显著性水平\n",
    "    alpha = 1 - confidence \n",
    "    #t分布的分位数 \n",
    "    t_score = t.isf(alpha/2,df=sample_size-1)  \n",
    "    ME = sample_std / np.sqrt(sample_size) * t_score\n",
    "    #置信下限\n",
    "    lower_limit = sample_mean - ME\n",
    "    #置信上限\n",
    "    upper_limit = sample_mean + ME\n",
    "    return lower_limit, upper_limit\n",
    "\n",
    "lower_limit,upper_limit=t_conf(X)\n",
    "print('({0:.2f},{1:.2f})'.format(lower_limit, upper_limit))"
   ]
  },
  {
   "cell_type": "code",
   "execution_count": 3,
   "metadata": {},
   "outputs": [],
   "source": [
    "#例19.11"
   ]
  },
  {
   "cell_type": "code",
   "execution_count": 4,
   "metadata": {
    "tags": []
   },
   "outputs": [
    {
     "output_type": "stream",
     "name": "stdout",
     "text": [
      "(4.58,9.60)\n"
     ]
    }
   ],
   "source": [
    "from scipy.stats import chi2\n",
    "X=np.array([506,508,499,503,504,510,497,512,\\\n",
    "            514,505,493,496,506,502,509,496])\n",
    "\n",
    "#定义函数求置信上下限\n",
    "def chi2_conf(data,confidence=0.95):\n",
    "    #样本方差\n",
    "    sample_var=np.var(data,ddof=1) \n",
    "    #样本容量\n",
    "    sample_size=len(data)\n",
    "    #显著性水平\n",
    "    alpha=1-confidence  \n",
    "    #chi2分布的分位数(两侧)\n",
    "    chi2_lscore=chi2.isf(1-alpha/2,sample_size-1)  \n",
    "    chi2_rscore=chi2.isf(alpha/2,sample_size-1)\n",
    "    #总体方差的置信上下限\n",
    "    lower_limit=((sample_size-1)*sample_var)/chi2_rscore\n",
    "    upper_limit=((sample_size-1)*sample_var)/chi2_lscore\n",
    "    return lower_limit,upper_limit\n",
    "\n",
    "lower_limit,upper_limit=chi2_conf(X)\n",
    "print('({0:.2f},{1:.2f})'.format(np.sqrt(lower_limit),\\\n",
    "                                 np.sqrt(upper_limit)))"
   ]
  },
  {
   "cell_type": "code",
   "execution_count": 5,
   "metadata": {},
   "outputs": [],
   "source": [
    "#例19.12"
   ]
  },
  {
   "cell_type": "code",
   "execution_count": 6,
   "metadata": {},
   "outputs": [
    {
     "output_type": "execute_result",
     "data": {
      "text/plain": [
       "array([3.073, 4.927])"
      ]
     },
     "metadata": {},
     "execution_count": 6
    }
   ],
   "source": [
    "#两样本均值\n",
    "meanX1,meanX2=500,496\n",
    "#两样本标准差\n",
    "S1,S2=1.1,1.2\n",
    "#两样本容量\n",
    "n1,n2=10,20\n",
    "#显著性水平\n",
    "alpha=0.05\n",
    "#t分布的分位数 \n",
    "t_score = t.isf(alpha/2,df=n1+n2-2)  \n",
    "Sw=np.sqrt(((n1-1)*S1**2+(n2-1)*S2**2)/(n1+n2-2))\n",
    "ME = Sw*np.sqrt(1/n1+1/n2)*t_score\n",
    "#置信上下限\n",
    "lower_limit = meanX1-meanX2 - ME\n",
    "upper_limit = meanX1-meanX2 + ME\n",
    "np.round([lower_limit, upper_limit],3)"
   ]
  },
  {
   "cell_type": "code",
   "execution_count": 7,
   "metadata": {},
   "outputs": [],
   "source": [
    "#例19.13"
   ]
  },
  {
   "cell_type": "code",
   "execution_count": 8,
   "metadata": {},
   "outputs": [
    {
     "output_type": "execute_result",
     "data": {
      "text/plain": [
       "array([-4.153,  0.113])"
      ]
     },
     "metadata": {},
     "execution_count": 8
    }
   ],
   "source": [
    "meanX1,meanX2=91.73,93.75\n",
    "S1_2,S2_2=3.89,4.02\n",
    "n1,n2=8,8\n",
    "alpha=0.05\n",
    "t_score = t.isf(alpha/2,df=n1+n2-2)  \n",
    "Sw=np.sqrt(((n1-1)*S1_2+(n2-1)*S2_2)/(n1+n2-2))\n",
    "ME = Sw*np.sqrt(1/n1+1/n2)* t_score\n",
    "lower_limit = meanX1-meanX2 - ME\n",
    "upper_limit = meanX1-meanX2 + ME\n",
    "np.round([lower_limit, upper_limit],3)"
   ]
  },
  {
   "cell_type": "code",
   "execution_count": 9,
   "metadata": {},
   "outputs": [],
   "source": [
    "#例19.14"
   ]
  },
  {
   "cell_type": "code",
   "execution_count": 10,
   "metadata": {},
   "outputs": [
    {
     "output_type": "execute_result",
     "data": {
      "text/plain": [
       "array([0.454, 2.791])"
      ]
     },
     "metadata": {},
     "execution_count": 10
    }
   ],
   "source": [
    "from scipy.stats import f\n",
    "#两样本容量\n",
    "n1,n2=18,13\n",
    "#两样本方差\n",
    "S1_2,S2_2=0.34,0.29\n",
    "#显著性水平\n",
    "alpha=0.1\n",
    "#f分布的分位数(两侧)\n",
    "f_lscore=f.isf(1-alpha/2,n1-1,n2-1)  \n",
    "f_rscore=f.isf(alpha/2,n1-1,n2-1)\n",
    "#置信上下限\n",
    "lower_limit=S1_2/S2_2/f_rscore\n",
    "upper_limit=S1_2/S2_2/f_lscore\n",
    "np.round([lower_limit, upper_limit],3)"
   ]
  },
  {
   "cell_type": "code",
   "execution_count": null,
   "metadata": {},
   "outputs": [],
   "source": []
  }
 ],
 "metadata": {
  "language_info": {
   "codemirror_mode": {
    "name": "ipython",
    "version": 3
   },
   "file_extension": ".py",
   "mimetype": "text/x-python",
   "name": "python",
   "nbconvert_exporter": "python",
   "pygments_lexer": "ipython3",
   "version": "3.6.1-final"
  },
  "orig_nbformat": 2,
  "kernelspec": {
   "name": "python3",
   "display_name": "Python 3",
   "language": "python"
  }
 },
 "nbformat": 4,
 "nbformat_minor": 2
}