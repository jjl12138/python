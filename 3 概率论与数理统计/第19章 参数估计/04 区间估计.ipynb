{
 "cells": [
  {
   "cell_type": "code",
   "execution_count": 1,
   "metadata": {},
   "outputs": [],
   "source": [
    "#例19.9"
   ]
  },
  {
   "cell_type": "code",
   "execution_count": 2,
   "metadata": {},
   "outputs": [
    {
     "output_type": "execute_result",
     "data": {
      "text/plain": [
       "0.952"
      ]
     },
     "metadata": {},
     "execution_count": 2
    }
   ],
   "source": [
    "from scipy.stats import norm\n",
    "import numpy as np\n",
    "#假设总体均值为5\n",
    "mu,sigma,n,alpha=5,1,16,0.05\n",
    "test_times=1000\n",
    "meanX=[]\n",
    "\n",
    "#从总体中反复抽取容量为16的样本，计算样本均值，放入列表meanX中\n",
    "for i in range(test_times):\n",
    "    np.random.seed(i)\n",
    "    rv=norm(mu,sigma)\n",
    "    X=rv.rvs(size=n)\n",
    "    meanX.append(np.mean(X))\n",
    "\n",
    "ME =sigma/np.sqrt(n)*norm.isf(alpha/2)\n",
    "#置信下限\n",
    "left=meanX-ME  \n",
    "#置信上限\n",
    "right=meanX+ME  \n",
    "\n",
    "#所有置信区间中包含总体均值的置信区间的比重\n",
    "#sum([1 for i in range(len(meanX)) if left[i]<mu and right[i]>mu])表示包含总体均值的置信区间的个数\n",
    "sum([1 for i in range(len(meanX)) if \\\n",
    "    left[i]<mu and right[i]>mu])/test_times"
   ]
  },
  {
   "cell_type": "code",
   "execution_count": null,
   "metadata": {},
   "outputs": [],
   "source": []
  }
 ],
 "metadata": {
  "language_info": {
   "codemirror_mode": {
    "name": "ipython",
    "version": 3
   },
   "file_extension": ".py",
   "mimetype": "text/x-python",
   "name": "python",
   "nbconvert_exporter": "python",
   "pygments_lexer": "ipython3",
   "version": "3.6.1-final"
  },
  "orig_nbformat": 2,
  "kernelspec": {
   "name": "python3",
   "display_name": "Python 3.6.1 64-bit",
   "metadata": {
    "interpreter": {
     "hash": "4ce0e62306dd6a5716965d4519ada776f947e6dfc145b604b11307c10277ef29"
    }
   }
  }
 },
 "nbformat": 4,
 "nbformat_minor": 2
}