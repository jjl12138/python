{
 "cells": [
  {
   "cell_type": "code",
   "execution_count": 1,
   "metadata": {},
   "outputs": [],
   "source": [
    "#例19.16"
   ]
  },
  {
   "cell_type": "code",
   "execution_count": 2,
   "metadata": {},
   "outputs": [
    {
     "output_type": "execute_result",
     "data": {
      "text/plain": [
       "[1064.89955998421]"
      ],
      "image/png": "[encoded data removed]",
      "text/latex": "$\\displaystyle \\left[ 1064.89955998421\\right]$"
     },
     "metadata": {},
     "execution_count": 2
    }
   ],
   "source": [
    "from scipy.stats import t\n",
    "import numpy as np\n",
    "from sympy import init_printing,symbols,solve\n",
    "init_printing()\n",
    "mu=symbols('mu',real=True)\n",
    "X=[1050,1100,1120,1250,1280]\n",
    "#显著性水平\n",
    "alpha=0.05\n",
    "#样本均值\n",
    "meanX=np.mean(X)\n",
    "#样本标准差\n",
    "S=np.std(X,ddof=1)\n",
    "#样本容量\n",
    "n=len(X)\n",
    "#单侧置信下限\n",
    "solve((meanX-mu)/(S/np.sqrt(n))-t(n-1).isf(alpha),mu)"
   ]
  },
  {
   "cell_type": "code",
   "execution_count": null,
   "metadata": {},
   "outputs": [],
   "source": []
  }
 ],
 "metadata": {
  "language_info": {
   "codemirror_mode": {
    "name": "ipython",
    "version": 3
   },
   "file_extension": ".py",
   "mimetype": "text/x-python",
   "name": "python",
   "nbconvert_exporter": "python",
   "pygments_lexer": "ipython3",
   "version": "3.6.1-final"
  },
  "orig_nbformat": 2,
  "kernelspec": {
   "name": "python3",
   "display_name": "Python 3",
   "language": "python"
  }
 },
 "nbformat": 4,
 "nbformat_minor": 2
}