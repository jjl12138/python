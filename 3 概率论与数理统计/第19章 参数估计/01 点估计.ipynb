{
 "cells": [
  {
   "cell_type": "code",
   "execution_count": 1,
   "metadata": {},
   "outputs": [],
   "source": [
    "#例19.1"
   ]
  },
  {
   "cell_type": "code",
   "execution_count": 2,
   "metadata": {},
   "outputs": [
    {
     "output_type": "execute_result",
     "data": {
      "text/plain": [
       "1.216"
      ]
     },
     "metadata": {},
     "execution_count": 2
    }
   ],
   "source": [
    "import numpy as np\n",
    "#着火次数k\n",
    "k=[0,1,2,3,4,5,6,7]\n",
    "#发生k次着火的天数\n",
    "n_k=[75,90,54,22,6,2,1,0]\n",
    "#np.dot(k,n_k)总着火次数，sum(n_k)是总天数，两者的商为平均着火次数，即样本均值\n",
    "#用样本均值估计总体均值lamda\n",
    "lamda=np.dot(k,n_k)/sum(n_k)\n",
    "lamda"
   ]
  },
  {
   "cell_type": "code",
   "execution_count": 3,
   "metadata": {},
   "outputs": [],
   "source": [
    "#例19.2"
   ]
  },
  {
   "cell_type": "code",
   "execution_count": 4,
   "metadata": {},
   "outputs": [
    {
     "output_type": "execute_result",
     "data": {
      "text/plain": [
       "⎧              ____________                ____________⎫\n",
       "⎨             ╱     2                     ╱     2      ⎬\n",
       "⎩a: μ₁ - √3⋅╲╱  - μ₁  + μ₂ , b: μ₁ + √3⋅╲╱  - μ₁  + μ₂ ⎭"
      ],
      "image/png": "[encoded data removed]",
      "text/latex": "$\\displaystyle \\left\\{ a : \\mu_{1} - \\sqrt{3} \\sqrt{- \\mu_{1}^{2} + \\mu_{2}}, \\  b : \\mu_{1} + \\sqrt{3} \\sqrt{- \\mu_{1}^{2} + \\mu_{2}}\\right\\}$"
     },
     "metadata": {},
     "execution_count": 4
    }
   ],
   "source": [
    "from sympy import symbols,init_printing,solve\n",
    "#启动环境中最佳打印资源\n",
    "init_printing() \n",
    "mu1,mu2,a,b=symbols('mu1 mu2 a b',real=True)\n",
    "#求解a，b\n",
    "#dict=True，使结果以字典形式返回\n",
    "solve([mu1-a/2-b/2,mu2-(b-a)**2/12-(a+b)**2/4],a,b,dict=True)[0]"
   ]
  },
  {
   "cell_type": "code",
   "execution_count": 5,
   "metadata": {},
   "outputs": [
    {
     "output_type": "execute_result",
     "data": {
      "text/plain": [
       "(4.962947880840739, 9.99626746287709)"
      ],
      "image/png": "[encoded data removed]",
      "text/latex": "$\\displaystyle \\left( 4.962947880840739, \\  9.99626746287709\\right)$"
     },
     "metadata": {},
     "execution_count": 5
    }
   ],
   "source": [
    "from scipy.stats import uniform,moment\n",
    "np.random.seed(0)\n",
    "a,b,n=5,10,1000\n",
    "#从[5,10]区间上的均匀分布中，生成容量为1000的样本\n",
    "datas=uniform(a,b-a).rvs(size=n)\n",
    "mean_datas=np.mean(datas)\n",
    "#moment(datas,moment=2)求数据的二阶中心矩\n",
    "estimate_a=mean_datas-np.sqrt(3*moment(datas,moment=2))\n",
    "estimate_b=mean_datas+np.sqrt(3*moment(datas,moment=2))\n",
    "estimate_a,estimate_b"
   ]
  },
  {
   "cell_type": "code",
   "execution_count": 6,
   "metadata": {},
   "outputs": [],
   "source": [
    "#例19.3"
   ]
  },
  {
   "cell_type": "code",
   "execution_count": 7,
   "metadata": {},
   "outputs": [
    {
     "output_type": "execute_result",
     "data": {
      "text/plain": [
       "(0.029044182857118864, 0.9334822098945599)"
      ],
      "image/png": "[encoded data removed]",
      "text/latex": "$\\displaystyle \\left( 0.029044182857118864, \\  0.9334822098945599\\right)$"
     },
     "metadata": {},
     "execution_count": 7
    }
   ],
   "source": [
    "from scipy.stats import norm \n",
    "#从标准正太分布中生成容量为1000的样本\n",
    "X=norm.rvs(size=1000)\n",
    "#计算样本一阶矩与二阶矩\n",
    "A_1=np.mean(X)\n",
    "A_2=np.mean(X**2)\n",
    "#估计总体均值及方差\n",
    "mu,sigma2=A_1,A_2-A_1**2\n",
    "mu,sigma2"
   ]
  },
  {
   "cell_type": "code",
   "execution_count": 8,
   "metadata": {},
   "outputs": [],
   "source": [
    "#例19.4"
   ]
  },
  {
   "cell_type": "code",
   "execution_count": 9,
   "metadata": {},
   "outputs": [
    {
     "output_type": "execute_result",
     "data": {
      "text/plain": [
       "array([0, 1, 0, 0, 0, 0, 0, 1, 1, 0])"
      ]
     },
     "metadata": {},
     "execution_count": 9
    }
   ],
   "source": [
    "from scipy.stats import binom\n",
    "np.random.seed(0)\n",
    "X=binom.rvs(1,0.3,size=10)\n",
    "X"
   ]
  },
  {
   "cell_type": "code",
   "execution_count": 10,
   "metadata": {},
   "outputs": [
    {
     "output_type": "execute_result",
     "data": {
      "text/plain": [
       "[3/10]"
      ],
      "image/png": "[encoded data removed]",
      "text/latex": "$\\displaystyle \\left[ \\frac{3}{10}\\right]$"
     },
     "metadata": {},
     "execution_count": 10
    }
   ],
   "source": [
    "from sympy import diag,det,log,diff\n",
    "p=symbols('p',positive=True)\n",
    "#以每个样本值出现的概率为主对角线，生成对角阵，目的在于借助对角阵行列式的计算公式构造连乘\n",
    "A=diag([p**X[i]*(1-p)**(1-X[i]) for i in range(len(X))],unpack=True)\n",
    "#似然函数\n",
    "L=det(A) \n",
    "#求似然函数的最大值点与求对数似然函数的最大值点等价\n",
    "ln_L=log(L)\n",
    "#返回对数似然函数关于p的一阶导数为0的点，即最大值点\n",
    "solve(ln_L.diff(p))"
   ]
  },
  {
   "cell_type": "code",
   "execution_count": 11,
   "metadata": {},
   "outputs": [],
   "source": [
    "#例19.5"
   ]
  },
  {
   "cell_type": "code",
   "execution_count": 12,
   "metadata": {
    "tags": []
   },
   "outputs": [
    {
     "output_type": "execute_result",
     "data": {
      "text/plain": [
       "[{μ: 0.733270727078538, σ: 2.19961091962075}]"
      ],
      "image/png": "[encoded data removed]",
      "text/latex": "$\\displaystyle \\left[ \\left\\{ \\mu : 0.733270727078538, \\  \\sigma : 2.19961091962075\\right\\}\\right]$"
     },
     "metadata": {},
     "execution_count": 12
    }
   ],
   "source": [
    "from sympy import E,sqrt,pi\n",
    "np.random.seed(1)\n",
    "#在均值为1，标准差为2的正态分布下，生成容量为20的一组样本\n",
    "X=norm(1,2).rvs(size=20)\n",
    "mu=symbols('mu',real=True)\n",
    "sigma=symbols('sigma',positive=True)\n",
    "#主对角线为不同样本值所相应的正态分布下的概率密度函数值\n",
    "A=diag([E**(-(X[i]-mu)**2/2/sigma**2)/sqrt(2*pi)/sigma \\\n",
    "       for i in range(len(X))],unpack=True)\n",
    "L=det(A)\n",
    "ln_L=log(L)\n",
    "#返回总体均值以及标准差的最大似然估计值\n",
    "solve([ln_L.diff(mu),ln_L.diff(sigma)])"
   ]
  },
  {
   "cell_type": "code",
   "execution_count": 13,
   "metadata": {},
   "outputs": [
    {
     "output_type": "execute_result",
     "data": {
      "text/plain": [
       "(0.7332707270785411, 2.199610919620748)"
      ],
      "image/png": "[encoded data removed]",
      "text/latex": "$\\displaystyle \\left( 0.7332707270785411, \\  2.199610919620748\\right)$"
     },
     "metadata": {},
     "execution_count": 13
    }
   ],
   "source": [
    "np.random.seed(1)\n",
    "X=norm(1,2).rvs(size=20)\n",
    "#fit方法默认返回最大似然估计值\n",
    "norm.fit(X)"
   ]
  },
  {
   "cell_type": "code",
   "execution_count": 14,
   "metadata": {},
   "outputs": [],
   "source": [
    "#例19.6"
   ]
  },
  {
   "cell_type": "code",
   "execution_count": 15,
   "metadata": {},
   "outputs": [
    {
     "output_type": "execute_result",
     "data": {
      "text/plain": [
       "(1.0258329432804307, 9.975905654063325)"
      ],
      "image/png": "[encoded data removed]",
      "text/latex": "$\\displaystyle \\left( 1.0258329432804307, \\  9.975905654063325\\right)$"
     },
     "metadata": {},
     "execution_count": 15
    }
   ],
   "source": [
    "X=uniform.rvs(1,9,size=100)\n",
    "#uniform(loc,scale)服从区间[loc,loc+scale]上的均匀分布\n",
    "loc,scale=uniform.fit(X)\n",
    "#a，b的最大似然估计\n",
    "a,b=loc,loc+scale\n",
    "a,b"
   ]
  },
  {
   "cell_type": "code",
   "execution_count": null,
   "metadata": {},
   "outputs": [],
   "source": []
  }
 ],
 "metadata": {
  "language_info": {
   "codemirror_mode": {
    "name": "ipython",
    "version": 3
   },
   "file_extension": ".py",
   "mimetype": "text/x-python",
   "name": "python",
   "nbconvert_exporter": "python",
   "pygments_lexer": "ipython3",
   "version": "3.6.1-final"
  },
  "orig_nbformat": 2,
  "kernelspec": {
   "name": "python3",
   "display_name": "Python 3",
   "language": "python"
  }
 },
 "nbformat": 4,
 "nbformat_minor": 2
}