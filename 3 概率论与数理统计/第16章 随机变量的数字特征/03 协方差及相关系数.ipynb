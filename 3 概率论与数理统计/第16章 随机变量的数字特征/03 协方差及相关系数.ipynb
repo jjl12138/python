{
 "cells": [
  {
   "cell_type": "code",
   "execution_count": 1,
   "metadata": {},
   "outputs": [],
   "source": [
    "import numpy as np\n",
    "def covariance(x,y):\n",
    "    return np.mean((x-np.mean(x))*(y-np.mean(y)))"
   ]
  },
  {
   "cell_type": "code",
   "execution_count": 2,
   "metadata": {},
   "outputs": [
    {
     "output_type": "execute_result",
     "data": {
      "text/plain": [
       "6.666666666666667"
      ]
     },
     "metadata": {},
     "execution_count": 2
    }
   ],
   "source": [
    "x=np.arange(1,10)\n",
    "covariance(x,x) #[(-4)^2+...4^2]/9=20/3"
   ]
  },
  {
   "cell_type": "code",
   "execution_count": 3,
   "metadata": {},
   "outputs": [
    {
     "output_type": "execute_result",
     "data": {
      "text/plain": [
       "13.333333333333334"
      ]
     },
     "metadata": {},
     "execution_count": 3
    }
   ],
   "source": [
    "y=2*x\n",
    "covariance(x,y)"
   ]
  },
  {
   "cell_type": "code",
   "execution_count": 4,
   "metadata": {},
   "outputs": [
    {
     "output_type": "execute_result",
     "data": {
      "text/plain": [
       "240.0"
      ]
     },
     "metadata": {},
     "execution_count": 4
    }
   ],
   "source": [
    "#Cov(aX,bY)=abCov(X,Y)\n",
    "u=6*x\n",
    "v=3*y\n",
    "covariance(u,v) #6*3*covariance(x,y)"
   ]
  },
  {
   "cell_type": "code",
   "execution_count": 5,
   "metadata": {},
   "outputs": [
    {
     "output_type": "execute_result",
     "data": {
      "text/plain": [
       "20.0"
      ]
     },
     "metadata": {},
     "execution_count": 5
    }
   ],
   "source": [
    "#Cov(X1+X2,Y)=Cov(X1,Y)+Cov(X2,Y)\n",
    "covariance(x+y,x)"
   ]
  },
  {
   "cell_type": "code",
   "execution_count": 6,
   "metadata": {},
   "outputs": [],
   "source": [
    "import numpy as np\n",
    "def corr_coef(x,y):\n",
    "    return np.round(covariance(x,y)/np.var(x)**.5/np.var(y)**.5,3)"
   ]
  },
  {
   "cell_type": "code",
   "execution_count": 7,
   "metadata": {},
   "outputs": [
    {
     "output_type": "execute_result",
     "data": {
      "text/plain": [
       "1.0"
      ]
     },
     "metadata": {},
     "execution_count": 7
    }
   ],
   "source": [
    "#完全正相关\n",
    "x=np.arange(1,10)\n",
    "corr_coef(x,x)"
   ]
  },
  {
   "cell_type": "code",
   "execution_count": 8,
   "metadata": {},
   "outputs": [
    {
     "output_type": "execute_result",
     "data": {
      "text/plain": [
       "-1.0"
      ]
     },
     "metadata": {},
     "execution_count": 8
    }
   ],
   "source": [
    "#完全负相关\n",
    "z=-2*x+1\n",
    "corr_coef(x,z)"
   ]
  },
  {
   "cell_type": "code",
   "execution_count": 9,
   "metadata": {},
   "outputs": [
    {
     "output_type": "execute_result",
     "data": {
      "text/plain": [
       "0.151"
      ]
     },
     "metadata": {},
     "execution_count": 9
    }
   ],
   "source": [
    "#正相关\n",
    "r=np.random\n",
    "r.seed(0)\n",
    "w=r.randint(10,size=9)\n",
    "corr_coef(x,w)"
   ]
  },
  {
   "cell_type": "code",
   "execution_count": 10,
   "metadata": {},
   "outputs": [
    {
     "output_type": "execute_result",
     "data": {
      "text/plain": [
       "-0.008"
      ]
     },
     "metadata": {},
     "execution_count": 10
    }
   ],
   "source": [
    "#两正态随机变量间的负相关\n",
    "from scipy.stats import norm\n",
    "loc_1,scale_1=1,2\n",
    "loc_2,scale_2=0,3\n",
    "np.random.seed(0)\n",
    "X=norm(loc_1,scale_1).rvs(size=10000)\n",
    "Y=norm(loc_2,scale_2).rvs(size=10000)\n",
    "corr_coef(X,Y)"
   ]
  },
  {
   "cell_type": "code",
   "execution_count": 11,
   "metadata": {},
   "outputs": [
    {
     "output_type": "execute_result",
     "data": {
      "text/plain": [
       "nan"
      ]
     },
     "metadata": {},
     "execution_count": 11
    }
   ],
   "source": [
    "#q的方差为0\n",
    "q=np.array([5]*9)\n",
    "corr_coef(x,q)"
   ]
  }
 ],
 "metadata": {
  "language_info": {
   "codemirror_mode": {
    "name": "ipython",
    "version": 3
   },
   "file_extension": ".py",
   "mimetype": "text/x-python",
   "name": "python",
   "nbconvert_exporter": "python",
   "pygments_lexer": "ipython3",
   "version": "3.6.1-final"
  },
  "orig_nbformat": 2,
  "kernelspec": {
   "name": "python3",
   "display_name": "Python 3.6.1 64-bit",
   "metadata": {
    "interpreter": {
     "hash": "4ce0e62306dd6a5716965d4519ada776f947e6dfc145b604b11307c10277ef29"
    }
   }
  }
 },
 "nbformat": 4,
 "nbformat_minor": 2
}