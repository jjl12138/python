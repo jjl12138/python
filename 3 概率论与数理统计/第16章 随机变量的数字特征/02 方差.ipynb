{
 "cells": [
  {
   "cell_type": "code",
   "execution_count": null,
   "metadata": {},
   "outputs": [],
   "source": [
    "#例16.6"
   ]
  },
  {
   "cell_type": "code",
   "execution_count": 1,
   "metadata": {},
   "outputs": [
    {
     "output_type": "execute_result",
     "data": {
      "text/plain": [
       "(0.3, 0.21, 0.458257569495584)"
      ]
     },
     "metadata": {},
     "execution_count": 1
    }
   ],
   "source": [
    "from scipy.stats import bernoulli\n",
    "p=.3\n",
    "rv_bernoulli=bernoulli(p)\n",
    "#期望，方差，标准差\n",
    "rv_bernoulli.mean(),rv_bernoulli.var(),rv_bernoulli.std()"
   ]
  },
  {
   "cell_type": "code",
   "execution_count": null,
   "metadata": {},
   "outputs": [],
   "source": [
    "#例16.7"
   ]
  },
  {
   "cell_type": "code",
   "execution_count": 2,
   "metadata": {},
   "outputs": [
    {
     "output_type": "execute_result",
     "data": {
      "text/plain": [
       "(4.0, 2.4, 1.5491933384829668)"
      ]
     },
     "metadata": {},
     "execution_count": 2
    }
   ],
   "source": [
    "from scipy.stats import binom\n",
    "n,p=10,0.4\n",
    "rv_binom=binom(n,p)\n",
    "rv_binom.mean(),rv_binom.var(),rv_binom.std()"
   ]
  },
  {
   "cell_type": "code",
   "execution_count": null,
   "metadata": {},
   "outputs": [],
   "source": [
    "#例16.8"
   ]
  },
  {
   "cell_type": "code",
   "execution_count": 7,
   "metadata": {},
   "outputs": [
    {
     "output_type": "execute_result",
     "data": {
      "text/plain": [
       "(3.0, 3.0, 1.7320508075688772)"
      ],
      "image/png": "[encoded data removed]",
      "text/latex": "$\\displaystyle \\left( 3.0, \\  3.0, \\  1.7320508075688772\\right)$"
     },
     "metadata": {},
     "execution_count": 7
    }
   ],
   "source": [
    "from scipy.stats import poisson\n",
    "lamda=3.0\n",
    "rv_poisson=poisson(lamda)\n",
    "rv_poisson.mean(),rv_poisson.var(),rv_poisson.std()"
   ]
  },
  {
   "cell_type": "code",
   "execution_count": null,
   "metadata": {},
   "outputs": [],
   "source": [
    "#例16.9"
   ]
  },
  {
   "cell_type": "code",
   "execution_count": 8,
   "metadata": {},
   "outputs": [
    {
     "output_type": "execute_result",
     "data": {
      "text/plain": [
       "⎛              2⎞\n",
       "⎜a   b  (a - b) ⎟\n",
       "⎜─ + ─, ────────⎟\n",
       "⎝2   2     12   ⎠"
      ],
      "image/png": "[encoded data removed]",
      "text/latex": "$\\displaystyle \\left( \\frac{a}{2} + \\frac{b}{2}, \\  \\frac{\\left(a - b\\right)^{2}}{12}\\right)$"
     },
     "metadata": {},
     "execution_count": 8
    }
   ],
   "source": [
    "from sympy import integrate,symbols,simplify,factor,init_printing\n",
    "init_printing()\n",
    "a,b,x=symbols('a b x')\n",
    "#期望\n",
    "EX=simplify(integrate(x/(b-a),(x,a,b)))\n",
    "#方差\n",
    "DX=factor((integrate(x**2/(b-a),(x,a,b)))-EX**2)\n",
    "EX,DX"
   ]
  },
  {
   "cell_type": "code",
   "execution_count": null,
   "metadata": {},
   "outputs": [],
   "source": [
    "#例16.10"
   ]
  },
  {
   "cell_type": "code",
   "execution_count": 5,
   "metadata": {},
   "outputs": [
    {
     "output_type": "execute_result",
     "data": {
      "text/plain": [
       "(2.0, 4.0, 2.0)"
      ],
      "image/png": "[encoded data removed]",
      "text/latex": "$\\displaystyle \\left( 2.0, \\  4.0, \\  2.0\\right)$"
     },
     "metadata": {},
     "execution_count": 5
    }
   ],
   "source": [
    "from scipy.stats import expon\n",
    "theta=2.0\n",
    "#scale接收指数分布的参数\n",
    "rv_expon=expon(scale=theta)\n",
    "rv_expon.mean(),rv_expon.var(),rv_expon.std()"
   ]
  },
  {
   "cell_type": "code",
   "execution_count": null,
   "metadata": {},
   "outputs": [],
   "source": [
    "#例16.11"
   ]
  },
  {
   "cell_type": "code",
   "execution_count": 6,
   "metadata": {},
   "outputs": [
    {
     "output_type": "execute_result",
     "data": {
      "text/plain": [
       "(1.0, 4.0, 2.0)"
      ],
      "image/png": "[encoded data removed]",
      "text/latex": "$\\displaystyle \\left( 1.0, \\  4.0, \\  2.0\\right)$"
     },
     "metadata": {},
     "execution_count": 6
    }
   ],
   "source": [
    "from scipy.stats import norm\n",
    "loc,scale=1,2\n",
    "rv_norm=norm(loc,scale)\n",
    "rv_norm.mean(),rv_norm.var(),rv_norm.std()"
   ]
  },
  {
   "cell_type": "code",
   "execution_count": null,
   "metadata": {},
   "outputs": [],
   "source": []
  }
 ],
 "metadata": {
  "language_info": {
   "codemirror_mode": {
    "name": "ipython",
    "version": 3
   },
   "file_extension": ".py",
   "mimetype": "text/x-python",
   "name": "python",
   "nbconvert_exporter": "python",
   "pygments_lexer": "ipython3",
   "version": "3.6.1-final"
  },
  "orig_nbformat": 2,
  "kernelspec": {
   "name": "python3",
   "display_name": "Python 3.6.1 64-bit",
   "metadata": {
    "interpreter": {
     "hash": "4ce0e62306dd6a5716965d4519ada776f947e6dfc145b604b11307c10277ef29"
    }
   }
  }
 },
 "nbformat": 4,
 "nbformat_minor": 2
}