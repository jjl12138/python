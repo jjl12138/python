{
 "cells": [
  {
   "cell_type": "code",
   "execution_count": 1,
   "metadata": {},
   "outputs": [
    {
     "output_type": "execute_result",
     "data": {
      "text/plain": [
       "(array(1.), array(0.66666667), 0.6666666666666666)"
      ]
     },
     "metadata": {},
     "execution_count": 1
    }
   ],
   "source": [
    "import numpy as np\n",
    "a=[-1,0,1]\n",
    "np.cov(a),np.cov(a,bias=True),np.var(a)"
   ]
  },
  {
   "cell_type": "code",
   "execution_count": 2,
   "metadata": {},
   "outputs": [
    {
     "output_type": "execute_result",
     "data": {
      "text/plain": [
       "array(0.66666667)"
      ]
     },
     "metadata": {},
     "execution_count": 2
    }
   ],
   "source": [
    "np.cov(a,ddof=0)"
   ]
  },
  {
   "cell_type": "code",
   "execution_count": 3,
   "metadata": {},
   "outputs": [
    {
     "output_type": "execute_result",
     "data": {
      "text/plain": [
       "array([[  8.25, -16.5 ],\n",
       "       [-16.5 ,  33.  ]])"
      ]
     },
     "metadata": {},
     "execution_count": 3
    }
   ],
   "source": [
    "import numpy as np\n",
    "x=np.arange(1,11)\n",
    "y=-2*x+1\n",
    "np.cov(x,y,bias=True)"
   ]
  },
  {
   "cell_type": "code",
   "execution_count": 4,
   "metadata": {},
   "outputs": [
    {
     "output_type": "execute_result",
     "data": {
      "text/plain": [
       "array([[  8.25, -16.5 ],\n",
       "       [-16.5 ,  33.  ]])"
      ]
     },
     "metadata": {},
     "execution_count": 4
    }
   ],
   "source": [
    "import numpy as np\n",
    "x=np.arange(1,11)\n",
    "y=-2*x+1\n",
    "#x与y的垂直拼接\n",
    "a=np.vstack((x,y)) \n",
    "np.cov(a,bias=True)"
   ]
  },
  {
   "cell_type": "code",
   "execution_count": 5,
   "metadata": {},
   "outputs": [
    {
     "output_type": "execute_result",
     "data": {
      "text/plain": [
       "(8.25, -16.5, 33.0)"
      ]
     },
     "metadata": {},
     "execution_count": 5
    }
   ],
   "source": [
    "var_X=np.var(x)\n",
    "var_Y=np.var(y)\n",
    "cov_XY=np.mean((x-np.mean(x))*(y-np.mean(y)))\n",
    "var_X,cov_XY,var_Y"
   ]
  },
  {
   "cell_type": "code",
   "execution_count": 6,
   "metadata": {},
   "outputs": [
    {
     "output_type": "execute_result",
     "data": {
      "text/plain": [
       "array([[ 1., -1.],\n",
       "       [-1.,  1.]])"
      ]
     },
     "metadata": {},
     "execution_count": 6
    }
   ],
   "source": [
    "import numpy as np\n",
    "x=np.arange(1,11)\n",
    "y=-2*x+1\n",
    "np.corrcoef(x,y)"
   ]
  },
  {
   "cell_type": "code",
   "execution_count": 7,
   "metadata": {},
   "outputs": [
    {
     "output_type": "execute_result",
     "data": {
      "text/plain": [
       "array([[ 1., -1.],\n",
       "       [-1.,  1.]])"
      ]
     },
     "metadata": {},
     "execution_count": 7
    }
   ],
   "source": [
    "import numpy as np\n",
    "x=np.arange(1,11)\n",
    "y=-2*x+1\n",
    "#x与y的垂直拼接\n",
    "np.corrcoef(np.vstack((x,y)))"
   ]
  },
  {
   "cell_type": "code",
   "execution_count": 8,
   "metadata": {},
   "outputs": [
    {
     "output_type": "execute_result",
     "data": {
      "text/plain": [
       "array([[ 8.44476867e-02, -5.39555598e-04, -6.35486006e-03],\n",
       "       [-5.39555598e-04,  1.13730658e+00, -5.10737061e-02],\n",
       "       [-6.35486006e-03, -5.10737061e-02,  9.47279857e-01]])"
      ]
     },
     "metadata": {},
     "execution_count": 8
    }
   ],
   "source": [
    "import numpy as np\n",
    "from scipy.stats import uniform,expon,norm\n",
    "rand_numers=1000\n",
    "np.random.seed(0)\n",
    "u=uniform().rvs(size=rand_numers)  #服从[0,1]均匀分布\n",
    "v=expon().rvs(size=rand_numers)  #服从参数为1的指数分布\n",
    "w=norm().rvs(size=rand_numers)  #服从标准正态分布\n",
    "np.cov(np.vstack((u,v,w)),bias=True)"
   ]
  },
  {
   "cell_type": "code",
   "execution_count": 9,
   "metadata": {},
   "outputs": [
    {
     "output_type": "execute_result",
     "data": {
      "text/plain": [
       "array([[ 1.        , -0.00174102, -0.02246844],\n",
       "       [-0.00174102,  1.        , -0.04920616],\n",
       "       [-0.02246844, -0.04920616,  1.        ]])"
      ]
     },
     "metadata": {},
     "execution_count": 9
    }
   ],
   "source": [
    "np.corrcoef(np.vstack((u,v,w)))"
   ]
  },
  {
   "cell_type": "code",
   "execution_count": 10,
   "metadata": {},
   "outputs": [],
   "source": [
    "#将上一节的两个自定义函数复制过来,为了帮助读者理解相关系数矩阵的含义(协方差矩阵类似)，\n",
    "#并将第二个函数的返回值保留小数点后8位:"
   ]
  },
  {
   "cell_type": "code",
   "execution_count": 11,
   "metadata": {},
   "outputs": [],
   "source": [
    "def covariance(x,y):\n",
    "    return np.mean((x-np.mean(x))*(y-np.mean(y)))\n",
    "def corr_coef(x,y):\n",
    "    return np.round(covariance(x,y)/np.var(x)**.5/np.var(y)**.5,8)"
   ]
  },
  {
   "cell_type": "code",
   "execution_count": 12,
   "metadata": {},
   "outputs": [
    {
     "output_type": "execute_result",
     "data": {
      "text/plain": [
       "(-0.00174102, -0.04920616, -0.02246844, 1.0)"
      ]
     },
     "metadata": {},
     "execution_count": 12
    }
   ],
   "source": [
    "corr_coef(u,v),corr_coef(v,w),corr_coef(u,w),corr_coef(v,v)"
   ]
  },
  {
   "cell_type": "code",
   "execution_count": null,
   "metadata": {},
   "outputs": [],
   "source": []
  }
 ],
 "metadata": {
  "language_info": {
   "codemirror_mode": {
    "name": "ipython",
    "version": 3
   },
   "file_extension": ".py",
   "mimetype": "text/x-python",
   "name": "python",
   "nbconvert_exporter": "python",
   "pygments_lexer": "ipython3",
   "version": "3.6.1-final"
  },
  "orig_nbformat": 2,
  "kernelspec": {
   "name": "python3",
   "display_name": "Python 3.6.1 64-bit",
   "metadata": {
    "interpreter": {
     "hash": "4ce0e62306dd6a5716965d4519ada776f947e6dfc145b604b11307c10277ef29"
    }
   }
  }
 },
 "nbformat": 4,
 "nbformat_minor": 2
}