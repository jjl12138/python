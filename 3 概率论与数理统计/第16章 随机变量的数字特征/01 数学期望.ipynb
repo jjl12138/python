{
 "cells": [
  {
   "cell_type": "code",
   "execution_count": null,
   "metadata": {},
   "outputs": [],
   "source": [
    "#例16.1"
   ]
  },
  {
   "cell_type": "code",
   "execution_count": 1,
   "metadata": {},
   "outputs": [],
   "source": [
    "#离散随机变量的数学期望"
   ]
  },
  {
   "cell_type": "code",
   "execution_count": 2,
   "metadata": {},
   "outputs": [],
   "source": [
    "import numpy as np \n",
    "def EX_D(X,prbs):\n",
    "    return np.dot(X,prbs)"
   ]
  },
  {
   "cell_type": "code",
   "execution_count": 3,
   "metadata": {},
   "outputs": [
    {
     "output_type": "execute_result",
     "data": {
      "text/plain": [
       "7.1499999999999995"
      ]
     },
     "metadata": {},
     "execution_count": 3
    }
   ],
   "source": [
    "#随机变量的取值\n",
    "X=range(11)\n",
    "#随机变量取值所相应的概率值\n",
    "prbs=[0.002,.001,.002,.005,.02,.04,.18,.37,.25,.12,.01]\n",
    "#调用函数EX_D，求期望\n",
    "EX_D(X,prbs)"
   ]
  },
  {
   "cell_type": "code",
   "execution_count": 4,
   "metadata": {},
   "outputs": [],
   "source": [
    "#连续随机变量的数学期望"
   ]
  },
  {
   "cell_type": "code",
   "execution_count": 10,
   "metadata": {},
   "outputs": [],
   "source": [
    "from sympy import *\n",
    "init_printing()\n",
    "def EX_C(funs,x,x_sections):\n",
    "    result=sum([integrate(x*funs[i],(x,x_sections[i],x_sections[i+1])) \\\n",
    "               for i in range(len(funs))])\n",
    "    return simplify(result)"
   ]
  },
  {
   "cell_type": "code",
   "execution_count": null,
   "metadata": {},
   "outputs": [],
   "source": [
    "#例16.2"
   ]
  },
  {
   "cell_type": "code",
   "execution_count": 6,
   "metadata": {
    "tags": []
   },
   "outputs": [
    {
     "output_type": "execute_result",
     "data": {
      "text/plain": [
       "θ\n",
       "─\n",
       "2"
      ],
      "image/png": "[encoded data removed]",
      "text/latex": "$\\displaystyle \\frac{\\theta}{2}$"
     },
     "metadata": {},
     "execution_count": 6
    }
   ],
   "source": [
    "x,theta=symbols('x theta',positive=True)\n",
    "#概率密度函数以列表形式传入\n",
    "funs=[2/theta*E**(-2*x/theta)]\n",
    "#概率密度函数非零区间的区间端点\n",
    "x_sections=[0,oo]\n",
    "#调用函数EX_C，求期望\n",
    "EX_C(funs,x,x_sections)"
   ]
  },
  {
   "cell_type": "code",
   "execution_count": null,
   "metadata": {},
   "outputs": [],
   "source": [
    "#例16.3"
   ]
  },
  {
   "cell_type": "code",
   "execution_count": 7,
   "metadata": {},
   "outputs": [
    {
     "output_type": "execute_result",
     "data": {
      "text/plain": [
       "2732.19319589783"
      ],
      "image/png": "[encoded data removed]",
      "text/latex": "$\\displaystyle 2732.19319589783$"
     },
     "metadata": {},
     "execution_count": 7
    }
   ],
   "source": [
    "Y=[1500,2000,2500,3000]\n",
    "sections=[[0,1],[1,2],[2,3],[3,oo]]\n",
    "x=symbols('x',positive=True)\n",
    "#为了借用EX_C函数，将寿命的概率密度函数除以x\n",
    "fun=.1*E**(-x/10)/x \n",
    "#求寿命落在各个时间区间的概率\n",
    "prbs=[float(EX_C([fun],x,sections[i])) for i in range(len(sections))]\n",
    "#收费的数学期望\n",
    "EX_D(Y,prbs)"
   ]
  },
  {
   "cell_type": "code",
   "execution_count": null,
   "metadata": {},
   "outputs": [],
   "source": [
    "#例16.4"
   ]
  },
  {
   "cell_type": "code",
   "execution_count": 8,
   "metadata": {},
   "outputs": [
    {
     "output_type": "execute_result",
     "data": {
      "text/plain": [
       "3.0"
      ],
      "image/png": "[encoded data removed]",
      "text/latex": "$\\displaystyle 3.0$"
     },
     "metadata": {},
     "execution_count": 8
    }
   ],
   "source": [
    "from scipy.stats import poisson\n",
    "#参数为3的泊松分布\n",
    "rv_poisson=poisson(3.0)\n",
    "rv_poisson.mean()"
   ]
  },
  {
   "cell_type": "code",
   "execution_count": null,
   "metadata": {},
   "outputs": [],
   "source": [
    "#例16.5"
   ]
  },
  {
   "cell_type": "code",
   "execution_count": 9,
   "metadata": {},
   "outputs": [
    {
     "output_type": "execute_result",
     "data": {
      "text/plain": [
       "3.0"
      ],
      "image/png": "[encoded data removed]",
      "text/latex": "$\\displaystyle 3.0$"
     },
     "metadata": {},
     "execution_count": 9
    }
   ],
   "source": [
    "from scipy.stats import uniform\n",
    "a,b=1,5\n",
    "uniform(loc=a,scale=b-a).mean()"
   ]
  },
  {
   "cell_type": "code",
   "execution_count": null,
   "metadata": {},
   "outputs": [],
   "source": []
  }
 ],
 "metadata": {
  "language_info": {
   "codemirror_mode": {
    "name": "ipython",
    "version": 3
   },
   "file_extension": ".py",
   "mimetype": "text/x-python",
   "name": "python",
   "nbconvert_exporter": "python",
   "pygments_lexer": "ipython3",
   "version": "3.6.1-final"
  },
  "orig_nbformat": 2,
  "kernelspec": {
   "name": "python3",
   "display_name": "Python 3",
   "language": "python"
  }
 },
 "nbformat": 4,
 "nbformat_minor": 2
}