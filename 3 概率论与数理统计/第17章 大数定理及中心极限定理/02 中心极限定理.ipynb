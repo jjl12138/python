{
 "cells": [
  {
   "cell_type": "code",
   "execution_count": 1,
   "metadata": {},
   "outputs": [],
   "source": [
    "#独立同分布的中心极限定理的验证"
   ]
  },
  {
   "cell_type": "code",
   "execution_count": 2,
   "metadata": {},
   "outputs": [
    {
     "output_type": "execute_result",
     "data": {
      "text/plain": [
       "(-4.8232819872616875e-05, 0.9940198392944051)"
      ]
     },
     "metadata": {},
     "execution_count": 2
    }
   ],
   "source": [
    "from scipy.stats import uniform,norm\n",
    "import numpy as np\n",
    "np.random.seed(0)\n",
    "#用于存放随机变量和的标准化变量值\n",
    "Y=[] \n",
    "test_times=10000\n",
    "loc,scale=5,10\n",
    "n=1000\n",
    "#均匀分布的期望和方差\n",
    "EX=(loc+(loc+scale))/2\n",
    "DX=scale**2/12\n",
    "#进行test_times抽样，每次抽样样本容量为n，计算相应的标准化变量值添加入列表Y\n",
    "for _ in range(test_times):\n",
    "    X=uniform(loc,scale).rvs(size=n) \n",
    "    Y.append((sum(X)-n*EX)/(np.sqrt(n*DX)))\n",
    "#拟合正态分布，返回均值及标准差\n",
    "mu,sigma=norm.fit(Y) \n",
    "mu,sigma"
   ]
  },
  {
   "cell_type": "code",
   "execution_count": 3,
   "metadata": {},
   "outputs": [],
   "source": [
    "#De Movivre-Laplace定理的验证"
   ]
  },
  {
   "cell_type": "code",
   "execution_count": 4,
   "metadata": {},
   "outputs": [
    {
     "output_type": "execute_result",
     "data": {
      "text/plain": [
       "(0.006601091179638766, 1.0044234531383094)"
      ]
     },
     "metadata": {},
     "execution_count": 4
    }
   ],
   "source": [
    "from scipy.stats import binom,norm\n",
    "import numpy as np\n",
    "np.random.seed(0)\n",
    "n,p=10000,0.3\n",
    "X=binom(n,p).rvs(size=10000)\n",
    "#二项分布的期望与方差\n",
    "EX=n*p\n",
    "DX=n*p*(1-p)\n",
    "#X的标准化变量\n",
    "Y=(X-EX)/np.sqrt(DX)\n",
    "#拟合正态分布，返回均值及标准差\n",
    "norm.fit(Y)"
   ]
  },
  {
   "cell_type": "code",
   "execution_count": null,
   "metadata": {},
   "outputs": [],
   "source": []
  }
 ],
 "metadata": {
  "language_info": {
   "codemirror_mode": {
    "name": "ipython",
    "version": 3
   },
   "file_extension": ".py",
   "mimetype": "text/x-python",
   "name": "python",
   "nbconvert_exporter": "python",
   "pygments_lexer": "ipython3",
   "version": "3.6.1-final"
  },
  "orig_nbformat": 2,
  "kernelspec": {
   "name": "python3",
   "display_name": "Python 3.6.1 64-bit",
   "metadata": {
    "interpreter": {
     "hash": "4ce0e62306dd6a5716965d4519ada776f947e6dfc145b604b11307c10277ef29"
    }
   }
  }
 },
 "nbformat": 4,
 "nbformat_minor": 2
}