{
 "cells": [
  {
   "cell_type": "code",
   "execution_count": 1,
   "metadata": {},
   "outputs": [],
   "source": [
    "import pandas as pd \n",
    "import numpy as np\n",
    "from scipy.stats import f"
   ]
  },
  {
   "cell_type": "code",
   "execution_count": 2,
   "metadata": {},
   "outputs": [],
   "source": [
    "#定义双因素方差分析函数\n",
    "def anova_2_factor(datas,factor_names=['A','B'],repeat_type=1):\n",
    "    \"\"\"\n",
    "    parameters:\n",
    "        datas:list--dimention is r*s*t or r*s\n",
    "        factor_names:default=['A','B']\n",
    "        repeat_type:0--no repeat(Dimention of datas is r*s),\n",
    "                    1--repeat(Dimention of datas is r*s*t),     \n",
    "                    defualt:1\n",
    "    return:  \n",
    "        A DataFrame contains basic information like ST,SE,SA,SB,F,P_value \n",
    "        and so on.\n",
    "    \"\"\"\n",
    "    #无重复试验时数据为二维数组，为便于统一运算，将数据转换为三维数组形式\n",
    "    if repeat_type==0:\n",
    "        datas=np.expand_dims(datas,axis=2)     \n",
    "    r,s,t=len(datas),len(datas[0]),len(datas[0][0])\n",
    "    #总均值\n",
    "    meanX=np.mean(datas) \n",
    "    #各水平搭配的均值\n",
    "    meanX_ij=np.mean(datas,axis=2) \n",
    "    #'A'因素各水平的均值\n",
    "    meanX_i=np.mean(meanX_ij,axis=1) \n",
    "    #'B'因素各水平的均值\n",
    "    meanX_j=np.mean(meanX_ij,axis=0) \n",
    "    #总变差\n",
    "    ST=np.sum((datas-meanX)**2) \n",
    "    #等重复试验的误差平方和\n",
    "    SE=np.sum((datas-np.expand_dims(meanX_ij,axis=2))**2)\n",
    "    #因素A效应平方和\n",
    "    SA=s*t*np.sum((meanX_i-meanX)**2)\n",
    "    #因素B效应平方和 \n",
    "    SB=r*t*np.sum((meanX_j-meanX)**2) \n",
    "    #等重复试验的交互效应平方和\n",
    "    SAB=ST-SE-SA-SB \n",
    "    #无重复实验的误差平方和\n",
    "    if repeat_type==0:\n",
    "        SE=ST-SA-SB \n",
    "    #创建数据框\n",
    "    df=pd.DataFrame(columns=['平方和','自由度','均方','F比','P值'])\n",
    "    if repeat_type==1:  #设定等重复试验时的行数据\n",
    "        #因素A的“平方和,自由度,均方,F比,P值”\n",
    "        df.loc[factor_names[0]]=SA,r-1,SA/(r-1),SA*r*s*(t-1)/SE/(r-1),\\\n",
    "              f(r-1,r*s*(t-1)).sf(SA*r*s*(t-1)/SE/(r-1))\n",
    "        #因素B的“平方和,自由度,均方,F比,P值”\n",
    "        df.loc[factor_names[1]]=SB,s-1,SB/(s-1),SB*r*s*(t-1)/SE/(s-1),\\\n",
    "              f(s-1,r*s*(t-1)).sf(SB*r*s*(t-1)/SE/(s-1))\n",
    "        #因素A与B交互效应的“平方和,自由度,均方,F比,P值”\n",
    "        df.loc[factor_names[0]+'X'+factor_names[1]]=SAB,(r-1)*(s-1),\\\n",
    "              SAB/(r-1)/(s-1),SAB*r*s*(t-1)/SE/(r-1)/(s-1),\\\n",
    "              f((r-1)*(s-1),r*s*(t-1)).sf(SAB*r*s*(t-1)/SE/(r-1)/(s-1))\n",
    "        #误差的“平方和,自由度,均方”\n",
    "        df.loc['E']=SE,r*s*(t-1),SE/r/s/(t-1),None,None\n",
    "        #总平方和与自由度\n",
    "        df.loc['T']=ST,r*s*t-1,None,None,None\n",
    "    else:  #设定无重复试验时的行数据\n",
    "        #因素A的“平方和,自由度,均方,F比,P值”\n",
    "        df.loc[factor_names[0]]=SA,r-1,SA/(r-1),SA*(s-1)/SE,\\\n",
    "              f(r-1,(r-1)*(s-1)).sf(SA*(s-1)/SE)\n",
    "        #因素B的“平方和,自由度,均方,F比,P值”\n",
    "        df.loc[factor_names[1]]=SB,s-1,SB/(s-1),SB*(r-1)/SE,\\\n",
    "              f(s-1,(r-1)*(s-1)).sf(SB*(r-1)/SE)\n",
    "        #误差的“平方和,自由度,均方”\n",
    "        df.loc['E']=SE,(r-1)*(s-1),SE/(r-1)/(s-1),None,None\n",
    "        #总平方和与自由度\n",
    "        df.loc['T']=ST,r*s-1,None,None,None\n",
    "    return df"
   ]
  },
  {
   "cell_type": "code",
   "execution_count": 3,
   "metadata": {},
   "outputs": [],
   "source": [
    "#例21.4"
   ]
  },
  {
   "cell_type": "code",
   "execution_count": 4,
   "metadata": {},
   "outputs": [
    {
     "output_type": "execute_result",
     "data": {
      "text/plain": [
       "             平方和   自由度          均方         F比        P值\n",
       "A     261.675000   3.0   87.225000   4.417388  0.025969\n",
       "B     370.980833   2.0  185.490417   9.393902  0.003506\n",
       "AXB  1768.692500   6.0  294.782083  14.928825  0.000062\n",
       "E     236.950000  12.0   19.745833        NaN       NaN\n",
       "T    2638.298333  23.0         NaN        NaN       NaN"
      ],
      "text/html": "<div>\n<style scoped>\n    .dataframe tbody tr th:only-of-type {\n        vertical-align: middle;\n    }\n\n    .dataframe tbody tr th {\n        vertical-align: top;\n    }\n\n    .dataframe thead th {\n        text-align: right;\n    }\n</style>\n<table border=\"1\" class=\"dataframe\">\n  <thead>\n    <tr style=\"text-align: right;\">\n      <th></th>\n      <th>平方和</th>\n      <th>自由度</th>\n      <th>均方</th>\n      <th>F比</th>\n      <th>P值</th>\n    </tr>\n  </thead>\n  <tbody>\n    <tr>\n      <th>A</th>\n      <td>261.675000</td>\n      <td>3.0</td>\n      <td>87.225000</td>\n      <td>4.417388</td>\n      <td>0.025969</td>\n    </tr>\n    <tr>\n      <th>B</th>\n      <td>370.980833</td>\n      <td>2.0</td>\n      <td>185.490417</td>\n      <td>9.393902</td>\n      <td>0.003506</td>\n    </tr>\n    <tr>\n      <th>AXB</th>\n      <td>1768.692500</td>\n      <td>6.0</td>\n      <td>294.782083</td>\n      <td>14.928825</td>\n      <td>0.000062</td>\n    </tr>\n    <tr>\n      <th>E</th>\n      <td>236.950000</td>\n      <td>12.0</td>\n      <td>19.745833</td>\n      <td>NaN</td>\n      <td>NaN</td>\n    </tr>\n    <tr>\n      <th>T</th>\n      <td>2638.298333</td>\n      <td>23.0</td>\n      <td>NaN</td>\n      <td>NaN</td>\n      <td>NaN</td>\n    </tr>\n  </tbody>\n</table>\n</div>"
     },
     "metadata": {},
     "execution_count": 4
    }
   ],
   "source": [
    "#等重复试验时，数据用三维数组表示\n",
    "data=[\n",
    "        [[58.2,52.6],[56.2,41.2],[65.3,60.8]],\n",
    "        [[49.1,42.8],[54.1,50.5],[51.6,48.4]],\n",
    "        [[60.1,58.3],[70.9,73.2],[39.2,40.7]],\n",
    "        [[75.8,71.5],[58.2,51.0],[48.7,41.4]]\n",
    "    ]\n",
    "#调用方差分析函数，返回方差分析表\n",
    "anova_2_factor(data)"
   ]
  },
  {
   "cell_type": "code",
   "execution_count": 5,
   "metadata": {},
   "outputs": [],
   "source": [
    "#例21.5"
   ]
  },
  {
   "cell_type": "code",
   "execution_count": 6,
   "metadata": {},
   "outputs": [
    {
     "output_type": "execute_result",
     "data": {
      "text/plain": [
       "       平方和  自由度     均方         F比        P值\n",
       "A     1.62  1.0   1.62   1.408696  0.300945\n",
       "B    11.52  1.0  11.52  10.017391  0.034020\n",
       "AXB  54.08  1.0  54.08  47.026087  0.002367\n",
       "E     4.60  4.0   1.15        NaN       NaN\n",
       "T    71.82  7.0    NaN        NaN       NaN"
      ],
      "text/html": "<div>\n<style scoped>\n    .dataframe tbody tr th:only-of-type {\n        vertical-align: middle;\n    }\n\n    .dataframe tbody tr th {\n        vertical-align: top;\n    }\n\n    .dataframe thead th {\n        text-align: right;\n    }\n</style>\n<table border=\"1\" class=\"dataframe\">\n  <thead>\n    <tr style=\"text-align: right;\">\n      <th></th>\n      <th>平方和</th>\n      <th>自由度</th>\n      <th>均方</th>\n      <th>F比</th>\n      <th>P值</th>\n    </tr>\n  </thead>\n  <tbody>\n    <tr>\n      <th>A</th>\n      <td>1.62</td>\n      <td>1.0</td>\n      <td>1.62</td>\n      <td>1.408696</td>\n      <td>0.300945</td>\n    </tr>\n    <tr>\n      <th>B</th>\n      <td>11.52</td>\n      <td>1.0</td>\n      <td>11.52</td>\n      <td>10.017391</td>\n      <td>0.034020</td>\n    </tr>\n    <tr>\n      <th>AXB</th>\n      <td>54.08</td>\n      <td>1.0</td>\n      <td>54.08</td>\n      <td>47.026087</td>\n      <td>0.002367</td>\n    </tr>\n    <tr>\n      <th>E</th>\n      <td>4.60</td>\n      <td>4.0</td>\n      <td>1.15</td>\n      <td>NaN</td>\n      <td>NaN</td>\n    </tr>\n    <tr>\n      <th>T</th>\n      <td>71.82</td>\n      <td>7.0</td>\n      <td>NaN</td>\n      <td>NaN</td>\n      <td>NaN</td>\n    </tr>\n  </tbody>\n</table>\n</div>"
     },
     "metadata": {},
     "execution_count": 6
    }
   ],
   "source": [
    "x=[\n",
    "    [[38,38.6],[47,44.8]],\n",
    "    [[45,43.8],[42.4,40.8]]\n",
    "]\n",
    "anova_2_factor(x)"
   ]
  },
  {
   "cell_type": "code",
   "execution_count": 7,
   "metadata": {},
   "outputs": [],
   "source": [
    "#例21.6"
   ]
  },
  {
   "cell_type": "code",
   "execution_count": 8,
   "metadata": {
    "tags": []
   },
   "outputs": [
    {
     "output_type": "execute_result",
     "data": {
      "text/plain": [
       "        平方和   自由度          均方         F比        P值\n",
       "时间  1182.95   3.0  394.316667  10.722411  0.001033\n",
       "地点  1947.50   4.0  486.875000  13.239293  0.000234\n",
       "E    441.30  12.0   36.775000        NaN       NaN\n",
       "T   3571.75  19.0         NaN        NaN       NaN"
      ],
      "text/html": "<div>\n<style scoped>\n    .dataframe tbody tr th:only-of-type {\n        vertical-align: middle;\n    }\n\n    .dataframe tbody tr th {\n        vertical-align: top;\n    }\n\n    .dataframe thead th {\n        text-align: right;\n    }\n</style>\n<table border=\"1\" class=\"dataframe\">\n  <thead>\n    <tr style=\"text-align: right;\">\n      <th></th>\n      <th>平方和</th>\n      <th>自由度</th>\n      <th>均方</th>\n      <th>F比</th>\n      <th>P值</th>\n    </tr>\n  </thead>\n  <tbody>\n    <tr>\n      <th>时间</th>\n      <td>1182.95</td>\n      <td>3.0</td>\n      <td>394.316667</td>\n      <td>10.722411</td>\n      <td>0.001033</td>\n    </tr>\n    <tr>\n      <th>地点</th>\n      <td>1947.50</td>\n      <td>4.0</td>\n      <td>486.875000</td>\n      <td>13.239293</td>\n      <td>0.000234</td>\n    </tr>\n    <tr>\n      <th>E</th>\n      <td>441.30</td>\n      <td>12.0</td>\n      <td>36.775000</td>\n      <td>NaN</td>\n      <td>NaN</td>\n    </tr>\n    <tr>\n      <th>T</th>\n      <td>3571.75</td>\n      <td>19.0</td>\n      <td>NaN</td>\n      <td>NaN</td>\n      <td>NaN</td>\n    </tr>\n  </tbody>\n</table>\n</div>"
     },
     "metadata": {},
     "execution_count": 8
    }
   ],
   "source": [
    "#无重复试验时，数据用二维数组表示\n",
    "data=[\n",
    "    [76,67,81,56,51],\n",
    "    [82,69,96,59,70],\n",
    "    [68,59,67,54,42],\n",
    "    [63,56,64,58,37]\n",
    "]\n",
    "#repeat_type默认为1，无重复试验时需设为0\n",
    "anova_2_factor(data,factor_names=['时间','地点'],repeat_type=0)"
   ]
  },
  {
   "cell_type": "code",
   "execution_count": null,
   "metadata": {},
   "outputs": [],
   "source": []
  }
 ],
 "metadata": {
  "language_info": {
   "codemirror_mode": {
    "name": "ipython",
    "version": 3
   },
   "file_extension": ".py",
   "mimetype": "text/x-python",
   "name": "python",
   "nbconvert_exporter": "python",
   "pygments_lexer": "ipython3",
   "version": "3.6.1-final"
  },
  "orig_nbformat": 2,
  "kernelspec": {
   "name": "python3",
   "display_name": "Python 3",
   "language": "python"
  }
 },
 "nbformat": 4,
 "nbformat_minor": 2
}