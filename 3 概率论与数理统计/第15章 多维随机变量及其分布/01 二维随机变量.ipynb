{
 "cells": [
  {
   "cell_type": "code",
   "execution_count": 5,
   "metadata": {},
   "outputs": [],
   "source": [
    "from sympy import * \n",
    "init_printing()\n",
    "#定义函数，求二维随机变量的分布函数\n",
    "def f2F(f,x,y,x_section,y_section,x_integrate_first=True):\n",
    "    if x_integrate_first:  #判断是否先关于x积分，默认为是\n",
    "        return integrate(f,(x,x_section[0],x_section[1]),(y,y_section[0],y_section[1]))\n",
    "    else:  #当x_integrate_first设为False时，先关于y积分\n",
    "        return integrate(f,(y,y_section[0],y_section[1]),(x,x_section[0],x_section[1]))"
   ]
  },
  {
   "cell_type": "code",
   "execution_count": null,
   "metadata": {},
   "outputs": [],
   "source": [
    "#例15.1"
   ]
  },
  {
   "cell_type": "code",
   "execution_count": 6,
   "metadata": {},
   "outputs": [
    {
     "output_type": "execute_result",
     "data": {
      "text/plain": [
       " -2⋅x - y        -y    -2⋅x\n",
       "ℯ         + 1 - ℯ   - ℯ    "
      ],
      "image/png": "[encoded data removed]",
      "text/latex": "$\\displaystyle e^{- 2 x - y} + 1 - e^{- y} - e^{- 2 x}$"
     },
     "metadata": {},
     "execution_count": 6
    }
   ],
   "source": [
    "init_printing()\n",
    "x,y=symbols('x y',real=True)\n",
    "#概率密度函数\n",
    "f=2*E**(-2*x-y) \n",
    "#调用自定义函数f2F求分布函数，先关于x积分，积分区间为0到x，再关于y积分，积分区间为0到y\n",
    "result=f2F(f,x,y,[0,x],[0,y])\n",
    "#化简积分结果\n",
    "simplify(result)"
   ]
  },
  {
   "cell_type": "code",
   "execution_count": 7,
   "metadata": {},
   "outputs": [
    {
     "output_type": "execute_result",
     "data": {
      "text/plain": [
       "1/3"
      ],
      "image/png": "[encoded data removed]",
      "text/latex": "$\\displaystyle \\frac{1}{3}$"
     },
     "metadata": {},
     "execution_count": 7
    }
   ],
   "source": [
    "f2F(f,x,y,[y,oo],[0,oo])"
   ]
  },
  {
   "cell_type": "code",
   "execution_count": 8,
   "metadata": {},
   "outputs": [
    {
     "output_type": "execute_result",
     "data": {
      "text/plain": [
       "1/3"
      ],
      "image/png": "[encoded data removed]",
      "text/latex": "$\\displaystyle \\frac{1}{3}$"
     },
     "metadata": {},
     "execution_count": 8
    }
   ],
   "source": [
    "#先关于y积分，参数x_integrate_first设为False\n",
    "f2F(f,x,y,[0,oo],[0,x],x_integrate_first=False)"
   ]
  },
  {
   "cell_type": "code",
   "execution_count": null,
   "metadata": {},
   "outputs": [],
   "source": []
  }
 ],
 "metadata": {
  "language_info": {
   "codemirror_mode": {
    "name": "ipython",
    "version": 3
   },
   "file_extension": ".py",
   "mimetype": "text/x-python",
   "name": "python",
   "nbconvert_exporter": "python",
   "pygments_lexer": "ipython3",
   "version": "3.6.1-final"
  },
  "orig_nbformat": 2,
  "kernelspec": {
   "name": "python3",
   "display_name": "Python 3.6.1 64-bit",
   "metadata": {
    "interpreter": {
     "hash": "4ce0e62306dd6a5716965d4519ada776f947e6dfc145b604b11307c10277ef29"
    }
   }
  }
 },
 "nbformat": 4,
 "nbformat_minor": 2
}