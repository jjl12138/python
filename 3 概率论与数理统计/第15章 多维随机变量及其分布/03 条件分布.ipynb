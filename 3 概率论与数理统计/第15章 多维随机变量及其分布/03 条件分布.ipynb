{
 "cells": [
  {
   "cell_type": "code",
   "execution_count": null,
   "metadata": {},
   "outputs": [],
   "source": [
    "#例15.4"
   ]
  },
  {
   "cell_type": "code",
   "execution_count": 1,
   "metadata": {},
   "outputs": [
    {
     "output_type": "execute_result",
     "data": {
      "text/plain": [
       "0.6666666666666666"
      ]
     },
     "metadata": {},
     "execution_count": 1
    }
   ],
   "source": [
    "import numpy as np\n",
    "#X与Y的联合分布\n",
    "prbs_XY=np.array([[0.84,0.03,0.02,0.01],\n",
    "                  [0.06,0.01,0.008,0.002],\n",
    "                  [0.01,0.005,0.004,0.001]])\n",
    "#X=1的条件下，Y=0的概率\n",
    "p_y0_x1=prbs_XY[0,1]/np.sum(prbs_XY[:,1])\n",
    "p_y0_x1"
   ]
  },
  {
   "cell_type": "code",
   "execution_count": 2,
   "metadata": {},
   "outputs": [
    {
     "output_type": "execute_result",
     "data": {
      "text/plain": [
       "(0.22222222222222224, 0.11111111111111112)"
      ]
     },
     "metadata": {},
     "execution_count": 2
    }
   ],
   "source": [
    "prbs_XY[1,1]/np.sum(prbs_XY[:,1]),prbs_XY[2,1]/np.sum(prbs_XY[:,1])"
   ]
  },
  {
   "cell_type": "code",
   "execution_count": 3,
   "metadata": {},
   "outputs": [
    {
     "output_type": "execute_result",
     "data": {
      "text/plain": [
       "[0.9333333333333332,\n",
       " 0.03333333333333333,\n",
       " 0.022222222222222223,\n",
       " 0.011111111111111112]"
      ]
     },
     "metadata": {},
     "execution_count": 3
    }
   ],
   "source": [
    "#prbs_XY[0]表示数组中第0行元素\n",
    "[prbs_XY[0,k]/sum(prbs_XY[0]) for k in range(len(prbs_XY[0]))]"
   ]
  },
  {
   "cell_type": "code",
   "execution_count": null,
   "metadata": {},
   "outputs": [],
   "source": []
  }
 ],
 "metadata": {
  "language_info": {
   "codemirror_mode": {
    "name": "ipython",
    "version": 3
   },
   "file_extension": ".py",
   "mimetype": "text/x-python",
   "name": "python",
   "nbconvert_exporter": "python",
   "pygments_lexer": "ipython3",
   "version": "3.6.1-final"
  },
  "orig_nbformat": 2,
  "kernelspec": {
   "name": "python3",
   "display_name": "Python 3.6.1 64-bit",
   "metadata": {
    "interpreter": {
     "hash": "4ce0e62306dd6a5716965d4519ada776f947e6dfc145b604b11307c10277ef29"
    }
   }
  }
 },
 "nbformat": 4,
 "nbformat_minor": 2
}