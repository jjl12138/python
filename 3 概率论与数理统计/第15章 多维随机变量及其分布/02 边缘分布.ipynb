{
 "cells": [
  {
   "cell_type": "code",
   "execution_count": null,
   "metadata": {},
   "outputs": [],
   "source": [
    "#例15.2"
   ]
  },
  {
   "cell_type": "code",
   "execution_count": 1,
   "metadata": {},
   "outputs": [],
   "source": [
    "from math import sqrt,floor\n",
    "#定义函数，判断一个整数是否为素数\n",
    "def is_prime(n):\n",
    "    #assert：简易的try...except...机制，确保n是大于或等于2的整数\n",
    "    assert n>=2 and isinstance(n,int),'n is an integer and n>=2'\n",
    "    #初始因子个数为0\n",
    "    num_factors=0\n",
    "    for i in range(1,floor(sqrt(n))+1):\n",
    "        if n%i==0:  #如果n可以整除i，因子个数加1\n",
    "            num_factors+=1  \n",
    "            #如果因子个数大于1，循环中止，返回False，n不是素数\n",
    "            if num_factors>1:return False \n",
    "    #若循环没被中止，自然结束，最终因子个数为1(n总可以整除1)，此时返回True，n是素数\n",
    "    return num_factors==1"
   ]
  },
  {
   "cell_type": "code",
   "execution_count": null,
   "metadata": {},
   "outputs": [],
   "source": [
    "#图15.4"
   ]
  },
  {
   "cell_type": "code",
   "execution_count": 2,
   "metadata": {},
   "outputs": [
    {
     "output_type": "execute_result",
     "data": {
      "text/plain": [
       "[1, 2, 2, 3, 2, 4, 2, 4, 3, 4]"
      ]
     },
     "metadata": {},
     "execution_count": 2
    }
   ],
   "source": [
    "#sum([1 for i in range(1,n+1) if n%i==0])表示1到n中可整除n的正整数个数\n",
    "D=[sum([1 for i in range(1,n+1) if n%i==0]) for n in range(1,11)]\n",
    "D"
   ]
  },
  {
   "cell_type": "code",
   "execution_count": 3,
   "metadata": {},
   "outputs": [
    {
     "output_type": "execute_result",
     "data": {
      "text/plain": [
       "[2, 3, 5, 7]"
      ]
     },
     "metadata": {},
     "execution_count": 3
    }
   ],
   "source": [
    "#筛选出2到10中的素数\n",
    "primes=[n for n in range(2,11) if is_prime(n)]\n",
    "primes"
   ]
  },
  {
   "cell_type": "code",
   "execution_count": 4,
   "metadata": {},
   "outputs": [
    {
     "output_type": "execute_result",
     "data": {
      "text/plain": [
       "[0, 1, 1, 1, 1, 2, 1, 1, 1, 2]"
      ]
     },
     "metadata": {},
     "execution_count": 4
    }
   ],
   "source": [
    "#sum([1 for prime in primes if n%prime==0])表示可整除n的素数个数\n",
    "F=[sum([1 for prime in primes if n%prime==0]) for n in range(1,11)]\n",
    "F"
   ]
  },
  {
   "cell_type": "code",
   "execution_count": 5,
   "metadata": {},
   "outputs": [
    {
     "output_type": "execute_result",
     "data": {
      "text/plain": [
       "defaultdict(int, {(1, 0): 1, (2, 1): 4, (3, 1): 2, (4, 2): 2, (4, 1): 1})"
      ]
     },
     "metadata": {},
     "execution_count": 5
    }
   ],
   "source": [
    "from collections import defaultdict\n",
    "myDict=defaultdict(int)\n",
    "#以(D,F)的取值作为字典的“键”，统计每种取值出现的次数\n",
    "for i in range(10):\n",
    "    key=tuple((D[i],F[i]))  \n",
    "    myDict[key]+=1\n",
    "myDict"
   ]
  },
  {
   "cell_type": "code",
   "execution_count": null,
   "metadata": {},
   "outputs": [],
   "source": [
    "#例15.3"
   ]
  },
  {
   "cell_type": "code",
   "execution_count": 6,
   "metadata": {},
   "outputs": [],
   "source": [
    "from sympy import *\n",
    "#X的边缘密度\n",
    "def f_xy2f_X(f,y,y_section):\n",
    "    return integrate(f,(y,y_section[0],y_section[1]))\n",
    "#Y的边缘密度\n",
    "def f_xy2f_Y(f,x,x_section):\n",
    "    return integrate(f,(x,x_section[0],x_section[1]))"
   ]
  },
  {
   "cell_type": "code",
   "execution_count": 7,
   "metadata": {},
   "outputs": [
    {
     "output_type": "execute_result",
     "data": {
      "text/plain": [
       "⎛     2                  ⎞\n",
       "⎝- 6⋅x  + 6⋅x, 6⋅√y - 6⋅y⎠"
      ],
      "image/png": "[encoded data removed]",
      "text/latex": "$\\displaystyle \\left( - 6 x^{2} + 6 x, \\  6 \\sqrt{y} - 6 y\\right)$"
     },
     "metadata": {},
     "execution_count": 7
    }
   ],
   "source": [
    "init_printing()\n",
    "x,y=symbols('x,y',real=True)\n",
    "f=6\n",
    "f_xy2f_X(f,y,[x**2,x]),f_xy2f_Y(f,x,[y,sqrt(y)])"
   ]
  },
  {
   "cell_type": "code",
   "execution_count": null,
   "metadata": {},
   "outputs": [],
   "source": []
  }
 ],
 "metadata": {
  "language_info": {
   "codemirror_mode": {
    "name": "ipython",
    "version": 3
   },
   "file_extension": ".py",
   "mimetype": "text/x-python",
   "name": "python",
   "nbconvert_exporter": "python",
   "pygments_lexer": "ipython3",
   "version": "3.6.1-final"
  },
  "orig_nbformat": 2,
  "kernelspec": {
   "name": "python3",
   "display_name": "Python 3.6.1 64-bit",
   "metadata": {
    "interpreter": {
     "hash": "4ce0e62306dd6a5716965d4519ada776f947e6dfc145b604b11307c10277ef29"
    }
   }
  }
 },
 "nbformat": 4,
 "nbformat_minor": 2
}