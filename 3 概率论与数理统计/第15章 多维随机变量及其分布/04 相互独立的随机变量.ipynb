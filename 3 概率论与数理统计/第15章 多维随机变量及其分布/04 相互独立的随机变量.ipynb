{
 "cells": [
  {
   "cell_type": "code",
   "execution_count": 1,
   "metadata": {},
   "outputs": [],
   "source": [
    "#例15.5"
   ]
  },
  {
   "cell_type": "code",
   "execution_count": 2,
   "metadata": {},
   "outputs": [
    {
     "output_type": "execute_result",
     "data": {
      "text/plain": [
       "0.020693"
      ]
     },
     "metadata": {},
     "execution_count": 2
    }
   ],
   "source": [
    "from scipy.stats import uniform\n",
    "#A到达办公室的时间服从[8,12]均匀分布\n",
    "rv_leader=uniform(loc=8,scale=4)\n",
    "#B到达办公室的时间服从[7,9]均匀分布\n",
    "rv_secretary=uniform(loc=7,scale=2)\n",
    "#随机生成1000000个符合相应分布的样本点\n",
    "nums_sampling=1000000\n",
    "leader_samples=rv_leader.rvs(size=nums_sampling)\n",
    "secretary_samples=rv_secretary.rvs(size=nums_sampling)\n",
    "#时间差\n",
    "interval=1/12\n",
    "#相差不超过5分钟的样本个数/总样本个数\n",
    "sum([1 for idx in range(nums_sampling) if \\\n",
    "abs(leader_samples[idx]-secretary_samples[idx])<=interval])/nums_sampling"
   ]
  },
  {
   "cell_type": "code",
   "execution_count": null,
   "metadata": {},
   "outputs": [],
   "source": []
  }
 ],
 "metadata": {
  "language_info": {
   "codemirror_mode": {
    "name": "ipython",
    "version": 3
   },
   "file_extension": ".py",
   "mimetype": "text/x-python",
   "name": "python",
   "nbconvert_exporter": "python",
   "pygments_lexer": "ipython3",
   "version": "3.6.1-final"
  },
  "orig_nbformat": 2,
  "kernelspec": {
   "name": "python3",
   "display_name": "Python 3",
   "language": "python"
  }
 },
 "nbformat": 4,
 "nbformat_minor": 2
}