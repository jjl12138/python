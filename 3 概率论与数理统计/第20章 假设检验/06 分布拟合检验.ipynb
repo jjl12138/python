{
 "cells": [
  {
   "cell_type": "code",
   "execution_count": 1,
   "metadata": {},
   "outputs": [],
   "source": [
    "#例20.12"
   ]
  },
  {
   "cell_type": "code",
   "execution_count": 2,
   "metadata": {
    "tags": []
   },
   "outputs": [
    {
     "output_type": "stream",
     "name": "stdout",
     "text": [
      "n*p=[36.78794412 36.78794412 18.39397206  6.13132402  1.532831    0.3065662\n  0.05941848]\n"
     ]
    }
   ],
   "source": [
    "import numpy as np\n",
    "from scipy.stats import poisson,chi2\n",
    "freq=[22,37,20,13,6,2,0]\n",
    "n=sum(freq)\n",
    "#参数为1的泊松分布取值为0到5所相应的概率\n",
    "p=[poisson(1).pmf(i) for i in range(len(freq)-1)]\n",
    "#1-sum(p)为泊松分布取值大于等于6的概率，将其添加入列表中\n",
    "p.append(1-sum(p))\n",
    "#将列表p转换为array数组形式，以使用array数组的广播机制\n",
    "p=np.array(p)\n",
    "#n*p对数组p中的每一个元素均乘以n\n",
    "print('n*p={}'.format(n*p))"
   ]
  },
  {
   "cell_type": "code",
   "execution_count": 3,
   "metadata": {},
   "outputs": [],
   "source": [
    "#合并后4项"
   ]
  },
  {
   "cell_type": "code",
   "execution_count": 4,
   "metadata": {},
   "outputs": [
    {
     "output_type": "execute_result",
     "data": {
      "text/plain": [
       "(array([22, 37, 20, 21]),\n",
       " array([0.36787944, 0.36787944, 0.18393972, 0.0803014 ]))"
      ]
     },
     "metadata": {},
     "execution_count": 4
    }
   ],
   "source": [
    "#hstack用于水平方向拼接数组，freq[:3]表示列表freq中的前三项，sum(freq[3:])是后四项的和\n",
    "freq=np.hstack((freq[:3],np.array(sum(freq[3:]))))\n",
    "p=np.hstack((p[:3],np.array(sum(p[3:]))))\n",
    "freq,p"
   ]
  },
  {
   "cell_type": "code",
   "execution_count": 5,
   "metadata": {},
   "outputs": [
    {
     "output_type": "execute_result",
     "data": {
      "text/plain": [
       "(27.034114984935727, 7.814727903251178)"
      ]
     },
     "metadata": {},
     "execution_count": 5
    }
   ],
   "source": [
    "#卡方检验统计量的观察值\n",
    "Chi_2=sum(freq**2/(n*p))-n\n",
    "#chi2(len(freq)-1).isf(0.05)表示拒绝域的临界点\n",
    "Chi_2,chi2(len(freq)-1).isf(0.05)"
   ]
  },
  {
   "cell_type": "code",
   "execution_count": 6,
   "metadata": {},
   "outputs": [],
   "source": [
    "#例20.13"
   ]
  },
  {
   "cell_type": "code",
   "execution_count": 7,
   "metadata": {},
   "outputs": [
    {
     "output_type": "execute_result",
     "data": {
      "text/plain": [
       "(3.377777777777794, 6.2513886311703235)"
      ]
     },
     "metadata": {},
     "execution_count": 7
    }
   ],
   "source": [
    "#实际频数\n",
    "freq=np.array([192,78,72,18])\n",
    "#理论频率\n",
    "p=np.array([9/16,3/16,3/16,1/16])  \n",
    "#p*sum(freq)最小为22.5>5,无需合并\n",
    "Chi_2=sum(freq**2/(sum(freq)*p))-sum(freq)\n",
    "Chi_2,chi2(len(freq)-1).isf(0.1)"
   ]
  },
  {
   "cell_type": "code",
   "execution_count": 8,
   "metadata": {},
   "outputs": [],
   "source": [
    "#例20.14"
   ]
  },
  {
   "cell_type": "code",
   "execution_count": 9,
   "metadata": {},
   "outputs": [],
   "source": [
    "#分布族的chi2检验\n",
    "#以下一个例题占用一个单元格,如果需要观察中间数据可以在下一个单元格中运行\n",
    "#当我们用的变量名和前面的例子一样时(比如：freq)，一个例题或一段完整功能的代码占用一个单元格就非常必要\n",
    "#此时我们想合并n*p小于5的试验,可以在下一个单元格中输入代码:\n",
    "#np.array([poisson(lambda_hat).pmf(i) for i in range(13)])*100,以观察数据"
   ]
  },
  {
   "cell_type": "code",
   "execution_count": 10,
   "metadata": {},
   "outputs": [
    {
     "output_type": "execute_result",
     "data": {
      "text/plain": [
       "True"
      ]
     },
     "metadata": {},
     "execution_count": 10
    }
   ],
   "source": [
    "#实际频数\n",
    "freq=np.array([1,5,16,17,26,11,9,9,2,1,2,1,0])\n",
    "n=sum(freq)\n",
    "#100次观察所得总的粒子数\n",
    "#为便于计算，这里将粒子数‘>=12’改写为‘=12’\n",
    "particle_number=np.dot(freq,np.arange(len(freq)))\n",
    "#泊松分布参数lambda的最大似然估计，420/100\n",
    "lambda_hat=particle_number/n \n",
    "#合并n*p小于5的组(前两组，后五组)\n",
    "merge_p=[sum([poisson(lambda_hat).pmf(i) for i in range(2)])]\n",
    "merge_f=[sum(freq[:2])]\n",
    "merge_p+=[poisson(lambda_hat).pmf(i) for i in range(2,8)]\n",
    "merge_f+=list(freq[2:8])\n",
    "merge_p+=[sum([poisson(lambda_hat).pmf(i) for i in range(8,13)])]\n",
    "merge_f+=[sum(freq[8:])]\n",
    "#将列表转化为np.array形式\n",
    "fi=np.array(merge_f)\n",
    "npi=np.array(merge_p)*n\n",
    "#检验统计量观察值\n",
    "Chi_2=sum(fi**2/npi)-n\n",
    "#理论分布中待估参数的个数\n",
    "r=1\n",
    "#合并后的组数\n",
    "k=len(fi)\n",
    "alpha=0.05\n",
    "#判断检验统计量观察值是否落在接受域中\n",
    "Chi_2<chi2(k-r-1).isf(alpha)"
   ]
  },
  {
   "cell_type": "code",
   "execution_count": 11,
   "metadata": {},
   "outputs": [],
   "source": [
    "#例20.15"
   ]
  },
  {
   "cell_type": "code",
   "execution_count": 12,
   "metadata": {},
   "outputs": [
    {
     "output_type": "execute_result",
     "data": {
      "text/plain": [
       "(1.5635664523391881, 12.59158724374398)"
      ]
     },
     "metadata": {},
     "execution_count": 12
    }
   ],
   "source": [
    "from datetime import datetime as dt\n",
    "from scipy.stats import expon\n",
    "#dt获取日期和时间信息\n",
    "dt1=dt(1965,1,1)\n",
    "dt2=dt(1971,2,10)\n",
    "#计算天数差值，共2231天\n",
    "total_days=(dt2-dt1).days\n",
    "#实际频数 \n",
    "f=np.array([50,31,26,17,10,8,6,6,8])\n",
    "#指数分布中参数theta的最大似然估计值\n",
    "theta_estimate=total_days/sum(f) \n",
    "\n",
    "#计算每组的概率，组限取0，4.5，9.5，…，44.5\n",
    "p=[expon(scale=theta_estimate).cdf(i) for i in \\\n",
    "      [0]+list(np.arange(4.5,44.6,5))]\n",
    "pi=[p[i+1]-p[i] for i in range(len(p)-1)]\n",
    "#最后一组的概率修正为X大于等于39.5的概率\n",
    "pi[len(pi)-1]=1-sum(np.array(pi)[0:-1])  \n",
    "\n",
    "#合并组(后两组)，索引[-1]，[-2]分别表示列表最后一位及倒数第二位元素\n",
    "#合并后每组理论概率\n",
    "merge_pi=pi[:-2]+[pi[-2]+pi[-1]]  \n",
    "#合并后每组实际频数\n",
    "merge_f=np.array(list(f)[:-2]+[f[-1]+f[-2]])  \n",
    "#合并后每组理论频数\n",
    "npi=np.array(merge_pi)*sum(f)  \n",
    "#检验统计量观察值\n",
    "Chi_2=sum(merge_f**2/npi)-sum(f)\n",
    "alpha=0.05\n",
    "#组数，理论分布中待估参数个数\n",
    "k,r=len(merge_f),1\n",
    "Chi_2,chi2(k-r-1).isf(alpha)"
   ]
  },
  {
   "cell_type": "code",
   "execution_count": 13,
   "metadata": {},
   "outputs": [],
   "source": [
    "#例20.16"
   ]
  },
  {
   "cell_type": "code",
   "execution_count": 14,
   "metadata": {},
   "outputs": [
    {
     "output_type": "execute_result",
     "data": {
      "text/plain": [
       "(3.592347654891853, 4.605170185988092)"
      ]
     },
     "metadata": {},
     "execution_count": 14
    }
   ],
   "source": [
    "from scipy.stats import norm\n",
    "X=[141,148,132,138,154,142,150,146,155,158,150,140,147, 148,144,150,149,145,149,158,143,141,144,144,126,140,144,142,141,140,145,135,147,146,141,136,140,146,142,137,148,154,137,139,143,140,131,143,141,149,148,135,148,152,143,144,141,143,147,146,150,132,142,142,143,153,149,146,149,138,142,149,142,137,134,144,146,147,140,142,140,137,152,145]\n",
    "#正态分布均值及标准差的最大似然估计值\n",
    "mu,sigma=norm.fit(X)\n",
    "#将X可能取值分为“<134.5,134.5~139.5,139.5~144.5,144.5~149.5,>149.5\"几个组\n",
    "#每组对应的实际频数\n",
    "fi=np.array([5,10,33,24,12])\n",
    "\n",
    "#计算每组的理论频数\n",
    "p=[norm(loc=mu,scale=sigma).cdf(i) for i in \\\n",
    "      np.arange(134.5,149.6,5)]\n",
    "pi=[p[0]]+[p[i+1]-p[i] for i in range(len(p)-1)]\n",
    "pi=pi+[1-sum(np.array(pi))]\n",
    "n=84\n",
    "npi=n*np.array(pi)  #每组理论频数\n",
    "\n",
    "#检验统计量观察值\n",
    "Chi_2=sum(fi**2/npi)-n\n",
    "#组数，理论分布中待估参数的个数\n",
    "k,r=len(fi),2\n",
    "alpha=0.1\n",
    "Chi_2,chi2(k-r-1).isf(alpha)"
   ]
  },
  {
   "cell_type": "code",
   "execution_count": 15,
   "metadata": {},
   "outputs": [],
   "source": [
    "#这里仅介绍样本的偏度和峰度的计算方法"
   ]
  },
  {
   "cell_type": "code",
   "execution_count": 16,
   "metadata": {
    "tags": []
   },
   "outputs": [
    {
     "output_type": "execute_result",
     "data": {
      "text/plain": [
       "(-0.13612781023846643, 3.3705078876140915)"
      ]
     },
     "metadata": {},
     "execution_count": 16
    }
   ],
   "source": [
    "from scipy.stats import skew,kurtosis\n",
    "X=[141,148,132,138,154,142,150,146,155,158,\n",
    "   150,140,147,148,144,150,149,145,149,158,\n",
    "    143,141,144,144,126,140,144,142,141,140,\n",
    "    145,135,147,146,141,136,140,146,142,137,\n",
    "    148,154,137,139,143,140,131,143,141,149,\n",
    "    148,135,148,152,143,144,141,143,147,146,\n",
    "    150,132,142,142,143,153,149,146,149,138,\n",
    "    142,149,142,137,134,144,146,147,140,142,\n",
    "    140,137,152,145]\n",
    "#skew与kurtosis分别用来计算样本偏度和样本峰度\n",
    "s,k=skew(X),kurtosis(X,fisher=False)\n",
    "s,k"
   ]
  },
  {
   "cell_type": "code",
   "execution_count": null,
   "metadata": {},
   "outputs": [],
   "source": []
  }
 ],
 "metadata": {
  "language_info": {
   "codemirror_mode": {
    "name": "ipython",
    "version": 3
   },
   "file_extension": ".py",
   "mimetype": "text/x-python",
   "name": "python",
   "nbconvert_exporter": "python",
   "pygments_lexer": "ipython3",
   "version": "3.6.1-final"
  },
  "orig_nbformat": 2,
  "kernelspec": {
   "name": "python3",
   "display_name": "Python 3",
   "language": "python"
  }
 },
 "nbformat": 4,
 "nbformat_minor": 2
}