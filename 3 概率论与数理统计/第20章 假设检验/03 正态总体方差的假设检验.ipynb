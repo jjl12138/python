{
 "cells": [
  {
   "cell_type": "code",
   "execution_count": 1,
   "metadata": {},
   "outputs": [],
   "source": [
    "#例20.7"
   ]
  },
  {
   "cell_type": "code",
   "execution_count": 2,
   "metadata": {},
   "outputs": [
    {
     "output_type": "execute_result",
     "data": {
      "text/plain": [
       "True"
      ]
     },
     "metadata": {},
     "execution_count": 2
    }
   ],
   "source": [
    "from scipy.stats import chi2\n",
    "#总体方差，样本方差\n",
    "sigma2,S2=5000,9200\n",
    "#样本容量\n",
    "n=26\n",
    "#显著性水平\n",
    "alpha=0.02\n",
    "#卡方检验统计量观察值\n",
    "Ch2=(n-1)*S2/sigma2\n",
    "#判断检验统计量观察值是否落在拒绝域\n",
    "Ch2>=chi2(n-1).isf(alpha/2) or Ch2<=chi2(n-1).isf(1-alpha/2) "
   ]
  },
  {
   "cell_type": "code",
   "execution_count": 3,
   "metadata": {},
   "outputs": [],
   "source": [
    "#例20.8"
   ]
  },
  {
   "cell_type": "code",
   "execution_count": 4,
   "metadata": {},
   "outputs": [
    {
     "output_type": "execute_result",
     "data": {
      "text/plain": [
       "False"
      ]
     },
     "metadata": {},
     "execution_count": 4
    }
   ],
   "source": [
    "import numpy as np\n",
    "from scipy.stats import f\n",
    "A=[79.98,80.04,80.02,80.04,80.03,80.03,\n",
    "   80.04,79.97,80.05,80.03,80.02,80.00,80.02]\n",
    "B=[80.02,79.94,79.98,79.97,79.97,80.03,79.95,79.97]\n",
    "#两样本方差\n",
    "S2_A,S2_B=np.var(A,ddof=1),np.var(B,ddof=1)\n",
    "#两样本容量\n",
    "n1,n2=len(A),len(B)\n",
    "#显著性水平\n",
    "alpha=0.01\n",
    "#判断检验统计量观察值是否落在拒绝域\n",
    "S2_A/S2_B>=f(n1-1,n2-1).isf(alpha/2) \\\n",
    "or S2_A/S2_B<=f(n1-1,n2-1).isf(1-alpha/2)"
   ]
  },
  {
   "cell_type": "code",
   "execution_count": null,
   "metadata": {},
   "outputs": [],
   "source": []
  }
 ],
 "metadata": {
  "language_info": {
   "codemirror_mode": {
    "name": "ipython",
    "version": 3
   },
   "file_extension": ".py",
   "mimetype": "text/x-python",
   "name": "python",
   "nbconvert_exporter": "python",
   "pygments_lexer": "ipython3",
   "version": "3.6.1-final"
  },
  "orig_nbformat": 2,
  "kernelspec": {
   "name": "python3",
   "display_name": "Python 3",
   "language": "python"
  }
 },
 "nbformat": 4,
 "nbformat_minor": 2
}