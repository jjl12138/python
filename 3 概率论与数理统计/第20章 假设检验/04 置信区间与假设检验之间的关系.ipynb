{
 "cells": [
  {
   "cell_type": "code",
   "execution_count": 1,
   "metadata": {},
   "outputs": [],
   "source": [
    "#例20.9"
   ]
  },
  {
   "cell_type": "code",
   "execution_count": 2,
   "metadata": {},
   "outputs": [
    {
     "output_type": "execute_result",
     "data": {
      "text/plain": [
       "(4.710009003864987, 5.6899909961350135)"
      ]
     },
     "metadata": {},
     "execution_count": 2
    }
   ],
   "source": [
    "import numpy as np\n",
    "from scipy.stats import norm\n",
    "#总体标准差\n",
    "sigma=1\n",
    "#样本均值，容量，显著性水平\n",
    "meanX,n,alpha=5.2,16,0.05\n",
    "ME=sigma/np.sqrt(n)*norm.isf(alpha/2)\n",
    "#置信上下限\n",
    "lower_limit=meanX-ME\n",
    "upper_limit=meanX+ME\n",
    "lower_limit,upper_limit"
   ]
  },
  {
   "cell_type": "code",
   "execution_count": 3,
   "metadata": {},
   "outputs": [],
   "source": [
    "#例20.10"
   ]
  },
  {
   "cell_type": "code",
   "execution_count": 4,
   "metadata": {},
   "outputs": [
    {
     "output_type": "execute_result",
     "data": {
      "text/plain": [
       "[4.78878659326212]"
      ],
      "image/png": "[encoded data removed]",
      "text/latex": "$\\displaystyle \\left[ 4.78878659326212\\right]$"
     },
     "metadata": {},
     "execution_count": 4
    }
   ],
   "source": [
    "from sympy import symbols,init_printing,solve\n",
    "init_printing()\n",
    "sigma=1\n",
    "meanX,n,alpha=5.2,16,0.05\n",
    "#设总体均值为mu_0\n",
    "mu_0=symbols('mu_0',real=True)\n",
    "z=(meanX-mu_0)*np.sqrt(n)/sigma\n",
    "#z<norm().isf(alpha)为接受域，故solve解出的mu_0为可接受原假设的最小总体均值\n",
    "solve(z-norm().isf(alpha),mu_0) "
   ]
  },
  {
   "cell_type": "code",
   "execution_count": null,
   "metadata": {},
   "outputs": [],
   "source": []
  }
 ],
 "metadata": {
  "language_info": {
   "codemirror_mode": {
    "name": "ipython",
    "version": 3
   },
   "file_extension": ".py",
   "mimetype": "text/x-python",
   "name": "python",
   "nbconvert_exporter": "python",
   "pygments_lexer": "ipython3",
   "version": "3.6.1-final"
  },
  "orig_nbformat": 2,
  "kernelspec": {
   "name": "python3",
   "display_name": "Python 3",
   "language": "python"
  }
 },
 "nbformat": 4,
 "nbformat_minor": 2
}