{
 "cells": [
  {
   "cell_type": "code",
   "execution_count": 1,
   "metadata": {},
   "outputs": [],
   "source": [
    "#例20.17"
   ]
  },
  {
   "cell_type": "code",
   "execution_count": 2,
   "metadata": {},
   "outputs": [
    {
     "output_type": "execute_result",
     "data": {
      "text/plain": [
       "False"
      ]
     },
     "metadata": {},
     "execution_count": 2
    }
   ],
   "source": [
    "from scipy.stats import ranksums,norm\n",
    "alpha=0.05\n",
    "A=[7.0,3.5,9.6,8.1,6.2,5.1,10.4,4,2,10.5]\n",
    "B=[5.7,3.2,4.2,11,9.7,6.9,3.6,4.8,5.6,8.4,10.1,5.5,12.3]\n",
    "#ranksums接收两组样本值，返回Wilcoxon秩和检验的检验统计量观察值z以及p值（双侧）\n",
    "z,p=ranksums(A,B)\n",
    "#判断检验统计量观察值是否落在拒绝域中\n",
    "abs(z)>=norm().isf(alpha/2)"
   ]
  },
  {
   "cell_type": "code",
   "execution_count": 3,
   "metadata": {},
   "outputs": [],
   "source": [
    "#例20.18"
   ]
  },
  {
   "cell_type": "code",
   "execution_count": 4,
   "metadata": {},
   "outputs": [
    {
     "output_type": "execute_result",
     "data": {
      "text/plain": [
       "False"
      ]
     },
     "metadata": {},
     "execution_count": 4
    }
   ],
   "source": [
    "alpha=0.05\n",
    "a=[82,73,91,84,77,98,81,79,87,85]\n",
    "b=[80,76,92,86,74,96,83,79,80,75,79]\n",
    "z,p=ranksums(a,b)\n",
    "#右边检验的拒绝域为右侧\n",
    "z>norm().isf(alpha)"
   ]
  },
  {
   "cell_type": "code",
   "execution_count": null,
   "metadata": {},
   "outputs": [],
   "source": []
  }
 ],
 "metadata": {
  "language_info": {
   "codemirror_mode": {
    "name": "ipython",
    "version": 3
   },
   "file_extension": ".py",
   "mimetype": "text/x-python",
   "name": "python",
   "nbconvert_exporter": "python",
   "pygments_lexer": "ipython3",
   "version": "3.6.1-final"
  },
  "orig_nbformat": 2,
  "kernelspec": {
   "name": "python3",
   "display_name": "Python 3",
   "language": "python"
  }
 },
 "nbformat": 4,
 "nbformat_minor": 2
}