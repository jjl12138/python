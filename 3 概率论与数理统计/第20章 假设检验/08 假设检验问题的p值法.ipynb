{
 "cells": [
  {
   "cell_type": "code",
   "execution_count": 1,
   "metadata": {},
   "outputs": [],
   "source": [
    "#例20.19"
   ]
  },
  {
   "cell_type": "code",
   "execution_count": 2,
   "metadata": {},
   "outputs": [
    {
     "output_type": "execute_result",
     "data": {
      "text/plain": [
       "(1.983053201505194, 0.023680743614172484)"
      ]
     },
     "metadata": {},
     "execution_count": 2
    }
   ],
   "source": [
    "import numpy as np\n",
    "from scipy.stats import norm\n",
    "#检验统计量观察值\n",
    "z0=(62.75-60)*np.sqrt(52)/10\n",
    "#z>z0的概率，即右边检验的p值\n",
    "p=norm().sf(z0)\n",
    "z0,p"
   ]
  },
  {
   "cell_type": "code",
   "execution_count": 3,
   "metadata": {},
   "outputs": [],
   "source": [
    "#例20.20"
   ]
  },
  {
   "cell_type": "code",
   "execution_count": 4,
   "metadata": {},
   "outputs": [
    {
     "output_type": "execute_result",
     "data": {
      "text/plain": [
       "(2.7950849718747395, 0.002594303776157767)"
      ]
     },
     "metadata": {},
     "execution_count": 4
    }
   ],
   "source": [
    "#检验统计量观察值\n",
    "z0=(-0.535-(-.545))*5**.5/.008\n",
    "#p值\n",
    "p=norm().sf(z0)\n",
    "z0,p"
   ]
  },
  {
   "cell_type": "code",
   "execution_count": 5,
   "metadata": {},
   "outputs": [],
   "source": [
    "#例20.21"
   ]
  },
  {
   "cell_type": "code",
   "execution_count": 6,
   "metadata": {},
   "outputs": [
    {
     "output_type": "execute_result",
     "data": {
      "text/plain": [
       "(0.2569800715875837, 0.05)"
      ]
     },
     "metadata": {},
     "execution_count": 6
    }
   ],
   "source": [
    "from scipy.stats import ttest_1samp\n",
    "alpha=0.05\n",
    "X=[159,280,101,212,224,379,179,264,\n",
    "   222,362,168,250,149,260,485,170]\n",
    "#t检验统计量的样本观察值以及双边t检验的p值\n",
    "t_value,two_sides_p=ttest_1samp(X,225)\n",
    "#该题要求的p值\n",
    "p=two_sides_p/2\n",
    "p,alpha"
   ]
  },
  {
   "cell_type": "code",
   "execution_count": null,
   "metadata": {},
   "outputs": [],
   "source": []
  }
 ],
 "metadata": {
  "language_info": {
   "codemirror_mode": {
    "name": "ipython",
    "version": 3
   },
   "file_extension": ".py",
   "mimetype": "text/x-python",
   "name": "python",
   "nbconvert_exporter": "python",
   "pygments_lexer": "ipython3",
   "version": "3.6.1-final"
  },
  "orig_nbformat": 2,
  "kernelspec": {
   "name": "python3",
   "display_name": "Python 3",
   "language": "python"
  }
 },
 "nbformat": 4,
 "nbformat_minor": 2
}