{
 "metadata": {
  "language_info": {
   "codemirror_mode": {
    "name": "ipython",
    "version": 3
   },
   "file_extension": ".py",
   "mimetype": "text/x-python",
   "name": "python",
   "nbconvert_exporter": "python",
   "pygments_lexer": "ipython3",
   "version": "3.6.1-final"
  },
  "orig_nbformat": 2,
  "kernelspec": {
   "name": "Python 3.6.1 64-bit",
   "display_name": "Python 3.6.1 64-bit",
   "metadata": {
    "interpreter": {
     "hash": "4ce0e62306dd6a5716965d4519ada776f947e6dfc145b604b11307c10277ef29"
    }
   }
  }
 },
 "nbformat": 4,
 "nbformat_minor": 2,
 "cells": [
  {
   "cell_type": "code",
   "execution_count": 35,
   "metadata": {},
   "outputs": [
    {
     "output_type": "execute_result",
     "data": {
      "text/plain": [
       "int"
      ]
     },
     "metadata": {},
     "execution_count": 35
    }
   ],
   "source": [
    "#图1.52\n",
    "x=1\n",
    "type(x)"
   ]
  },
  {
   "cell_type": "code",
   "execution_count": 36,
   "metadata": {},
   "outputs": [
    {
     "output_type": "execute_result",
     "data": {
      "text/plain": [
       "float"
      ]
     },
     "metadata": {},
     "execution_count": 36
    }
   ],
   "source": [
    "y=1.0\n",
    "type(y)"
   ]
  },
  {
   "cell_type": "code",
   "execution_count": 37,
   "metadata": {},
   "outputs": [
    {
     "output_type": "execute_result",
     "data": {
      "text/plain": [
       "str"
      ]
     },
     "metadata": {},
     "execution_count": 37
    }
   ],
   "source": [
    "z='abc'\n",
    "type(z)"
   ]
  },
  {
   "cell_type": "code",
   "execution_count": 38,
   "metadata": {},
   "outputs": [
    {
     "output_type": "execute_result",
     "data": {
      "text/plain": [
       "bool"
      ]
     },
     "metadata": {},
     "execution_count": 38
    }
   ],
   "source": [
    "u=True\n",
    "type(u)"
   ]
  },
  {
   "cell_type": "code",
   "execution_count": 39,
   "metadata": {},
   "outputs": [
    {
     "output_type": "execute_result",
     "data": {
      "text/plain": [
       "(int, float, str, bool)"
      ]
     },
     "metadata": {},
     "execution_count": 39
    }
   ],
   "source": [
    "#Python允许以如下的方式为变量赋值\n",
    "x,y,z,u=1,1.0,'abc',False\n",
    "type(x),type(y),type(z),type(u)"
   ]
  },
  {
   "cell_type": "code",
   "execution_count": 40,
   "metadata": {},
   "outputs": [
    {
     "output_type": "execute_result",
     "data": {
      "text/plain": [
       "(5, 6, [1, 2, 3], 2)"
      ]
     },
     "metadata": {},
     "execution_count": 40
    }
   ],
   "source": [
    "#图1.53\n",
    "#列表--list\n",
    "list_1=[5,4,3,5,6] #一维列表\n",
    "list_2=[[1,2,3],[4,5,6]] #二维列表\n",
    "list_1[0],list_1[-1],list_2[0],list_2[0][1]"
   ]
  },
  {
   "cell_type": "code",
   "execution_count": 41,
   "metadata": {},
   "outputs": [
    {
     "output_type": "execute_result",
     "data": {
      "text/plain": [
       "([3, 5], [5, 4, 3], [3, 5, 6])"
      ]
     },
     "metadata": {},
     "execution_count": 41
    }
   ],
   "source": [
    "list_1[2:4],list_1[:-2],list_1[2:]"
   ]
  },
  {
   "cell_type": "code",
   "execution_count": 42,
   "metadata": {},
   "outputs": [
    {
     "output_type": "stream",
     "name": "stdout",
     "text": [
      "[5, 4, 3, 5, 6, [1, 4, 7]]\n[5, 4, 3, 5, 6, 1, 4, 7]\n"
     ]
    }
   ],
   "source": [
    "list_3=[1,4,7] #定义一个列表，并为其赋值\n",
    "list_4=list_1.copy()\n",
    "list_1.append(list_3)\n",
    "list_4.extend(list_3)\n",
    "print(list_1)\n",
    "print(list_4)"
   ]
  },
  {
   "cell_type": "code",
   "execution_count": 43,
   "metadata": {},
   "outputs": [
    {
     "output_type": "execute_result",
     "data": {
      "text/plain": [
       "tuple"
      ]
     },
     "metadata": {},
     "execution_count": 43
    }
   ],
   "source": [
    "#元组--tuple\n",
    "tuple_1=(1,2,3,4,5)\n",
    "type(tuple_1)"
   ]
  },
  {
   "cell_type": "code",
   "execution_count": 44,
   "metadata": {},
   "outputs": [
    {
     "output_type": "execute_result",
     "data": {
      "text/plain": [
       "(1, 5, (3, 4), (1, 2, 3), (3, 4, 5))"
      ]
     },
     "metadata": {},
     "execution_count": 44
    }
   ],
   "source": [
    "tuple_1[0],tuple_1[-1],tuple_1[2:4],tuple_1[:3],tuple_1[2:]"
   ]
  },
  {
   "cell_type": "code",
   "execution_count": 46,
   "metadata": {},
   "outputs": [
    {
     "output_type": "stream",
     "name": "stdout",
     "text": [
      "'tuple' object does not support item assignment\n"
     ]
    }
   ],
   "source": [
    "#元组不支持修改元素\n",
    "try:\n",
    "    tuple_1[0]=5\n",
    "except Exception as e:\n",
    "    print(str(e))"
   ]
  },
  {
   "cell_type": "code",
   "execution_count": 48,
   "metadata": {},
   "outputs": [
    {
     "output_type": "execute_result",
     "data": {
      "text/plain": [
       "'Ada'"
      ]
     },
     "metadata": {},
     "execution_count": 48
    }
   ],
   "source": [
    "#字典--dictionary\n",
    "dict_1={'name':'Ada','age':23} #字典变量\n",
    "dict_1['name']"
   ]
  },
  {
   "cell_type": "code",
   "execution_count": 51,
   "metadata": {},
   "outputs": [
    {
     "output_type": "execute_result",
     "data": {
      "text/plain": [
       "{'name': 'Ada', 'age': 23, 'sex': 'male'}"
      ]
     },
     "metadata": {},
     "execution_count": 51
    }
   ],
   "source": [
    "#为字典添加‘键-值’对\n",
    "dict_1['sex']='male'\n",
    "dict_1"
   ]
  },
  {
   "cell_type": "code",
   "execution_count": 52,
   "metadata": {},
   "outputs": [
    {
     "output_type": "execute_result",
     "data": {
      "text/plain": [
       "{'name': 'Ada', 'age': 23}"
      ]
     },
     "metadata": {},
     "execution_count": 52
    }
   ],
   "source": [
    "#删除字典条目\n",
    "del dict_1['sex']\n",
    "dict_1"
   ]
  },
  {
   "cell_type": "code",
   "execution_count": 53,
   "metadata": {},
   "outputs": [
    {
     "output_type": "execute_result",
     "data": {
      "text/plain": [
       "({1, 2, 3, 6}, {3, 4, 5, 6})"
      ]
     },
     "metadata": {},
     "execution_count": 53
    }
   ],
   "source": [
    "#集合--set\n",
    "list_1=[5,4,3,5,6]\n",
    "set_1={1,2,3,2,6}\n",
    "set_2=set(list_1)\n",
    "set_1,set_2"
   ]
  },
  {
   "cell_type": "code",
   "execution_count": 54,
   "metadata": {},
   "outputs": [
    {
     "output_type": "execute_result",
     "data": {
      "text/plain": [
       "({1, 2, 3, 6, 7}, {3, 4, 6})"
      ]
     },
     "metadata": {},
     "execution_count": 54
    }
   ],
   "source": [
    "set_1.add(7)\n",
    "set_2.remove(5)\n",
    "set_1,set_2"
   ]
  },
  {
   "cell_type": "code",
   "execution_count": 55,
   "metadata": {},
   "outputs": [
    {
     "output_type": "execute_result",
     "data": {
      "text/plain": [
       "{3, 6}"
      ]
     },
     "metadata": {},
     "execution_count": 55
    }
   ],
   "source": [
    "set_1&set_2"
   ]
  },
  {
   "cell_type": "code",
   "execution_count": 56,
   "metadata": {},
   "outputs": [
    {
     "output_type": "execute_result",
     "data": {
      "text/plain": [
       "{1, 2, 3, 4, 6, 7}"
      ]
     },
     "metadata": {},
     "execution_count": 56
    }
   ],
   "source": [
    "set_1|set_2"
   ]
  },
  {
   "cell_type": "code",
   "execution_count": 57,
   "metadata": {},
   "outputs": [
    {
     "output_type": "execute_result",
     "data": {
      "text/plain": [
       "{1, 2, 7}"
      ]
     },
     "metadata": {},
     "execution_count": 57
    }
   ],
   "source": [
    "set_1-set_2"
   ]
  },
  {
   "cell_type": "code",
   "execution_count": 59,
   "metadata": {},
   "outputs": [
    {
     "output_type": "execute_result",
     "data": {
      "text/plain": [
       "({1, 2, 4, 7}, {1, 2, 4, 7})"
      ]
     },
     "metadata": {},
     "execution_count": 59
    }
   ],
   "source": [
    "set_1^set_2,(set_1|set_2)-(set_1&set_2)"
   ]
  },
  {
   "cell_type": "code",
   "execution_count": 60,
   "metadata": {},
   "outputs": [
    {
     "output_type": "execute_result",
     "data": {
      "text/plain": [
       "33"
      ]
     },
     "metadata": {},
     "execution_count": 60
    }
   ],
   "source": [
    "#函数\n",
    "def f(x):return x**3+2*x\n",
    "f(3)"
   ]
  },
  {
   "cell_type": "code",
   "execution_count": 61,
   "metadata": {},
   "outputs": [
    {
     "output_type": "execute_result",
     "data": {
      "text/plain": [
       "33"
      ]
     },
     "metadata": {},
     "execution_count": 61
    }
   ],
   "source": [
    "f=lambda x:x**3+2*x\n",
    "f(3)"
   ]
  },
  {
   "cell_type": "code",
   "execution_count": 62,
   "metadata": {},
   "outputs": [
    {
     "output_type": "execute_result",
     "data": {
      "text/plain": [
       "(10, 24)"
      ]
     },
     "metadata": {},
     "execution_count": 62
    }
   ],
   "source": [
    "#图1.54\n",
    "def f(x,y,z):\n",
    "    u=x+3*y+z\n",
    "    v=x**2-2*y+3*z**2\n",
    "    return u,v\n",
    "f(1,2,3)"
   ]
  },
  {
   "cell_type": "code",
   "execution_count": 66,
   "metadata": {},
   "outputs": [
    {
     "output_type": "execute_result",
     "data": {
      "text/plain": [
       "([0, 1, 2, 3, 4], [1, 2, 3, 4, 5])"
      ]
     },
     "metadata": {},
     "execution_count": 66
    }
   ],
   "source": [
    "#range:\n",
    "list(range(5)),list(range(1,6))"
   ]
  },
  {
   "cell_type": "code",
   "execution_count": 68,
   "metadata": {},
   "outputs": [
    {
     "output_type": "stream",
     "name": "stdout",
     "text": [
      "m is 10,and n is abc,p is 0.25\n"
     ]
    }
   ],
   "source": [
    "#format的初步用法\n",
    "m,n=10,'abc'\n",
    "print('m is {},and n is {},p is {}'.format(m,n,0.25))"
   ]
  },
  {
   "cell_type": "code",
   "execution_count": 69,
   "metadata": {},
   "outputs": [
    {
     "output_type": "stream",
     "name": "stdout",
     "text": [
      "Now,i=1;and s=1\nNow,i=2;and s=3\nNow,i=3;and s=6\nNow,i=4;and s=10\nNow,i=5;and s=15\nAt last s is 15\n"
     ]
    }
   ],
   "source": [
    "#图1.55\n",
    "#循环语句--for\n",
    "s=0\n",
    "for i in range(1,6):\n",
    "    print('Now,i={}'.format(i),end=';')\n",
    "    s=s+i\n",
    "    print('and s={}'.format(s))\n",
    "print('At last s is {}'.format(s))"
   ]
  },
  {
   "cell_type": "code",
   "execution_count": 70,
   "metadata": {},
   "outputs": [
    {
     "output_type": "stream",
     "name": "stdout",
     "text": [
      "1;2;3;4;5;6;"
     ]
    }
   ],
   "source": [
    "#图1.56\n",
    "#循环语句--while\n",
    "num=1\n",
    "while num<=6:\n",
    "    print(num,end=';')\n",
    "    num+=1"
   ]
  },
  {
   "cell_type": "code",
   "execution_count": 71,
   "metadata": {},
   "outputs": [
    {
     "output_type": "stream",
     "name": "stdout",
     "text": [
      "t=0.688172179310195\n\n"
     ]
    }
   ],
   "source": [
    "#图1.57\n",
    "#分支语句\n",
    "t=0\n",
    "for i in range(1,101):\n",
    "    if i%2==1:     #判断i除以2的玉树是不是等于1\n",
    "        t=t+1/i\n",
    "    else:\n",
    "        t=t-1/i\n",
    "print('t={}\\n'.format(t))"
   ]
  },
  {
   "cell_type": "code",
   "execution_count": null,
   "metadata": {},
   "outputs": [],
   "source": []
  }
 ]
}