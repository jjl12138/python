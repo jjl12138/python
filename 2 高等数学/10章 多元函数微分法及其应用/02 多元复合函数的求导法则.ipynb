{
 "cells": [
  {
   "cell_type": "code",
   "execution_count": 1,
   "metadata": {},
   "outputs": [],
   "source": [
    "#例10.4"
   ]
  },
  {
   "cell_type": "code",
   "execution_count": 2,
   "metadata": {},
   "outputs": [
    {
     "data": {
      "image/png": "[encoded data removed]",
      "text/latex": [
       "$$\\left ( y e^{x y} \\sin{\\left (x + y \\right )} + e^{x y} \\cos{\\left (x + y \\right )}, \\quad x e^{x y} \\sin{\\left (x + y \\right )} + e^{x y} \\cos{\\left (x + y \\right )}\\right )$$"
      ],
      "text/plain": [
       "⎛   x⋅y               x⋅y                x⋅y               x⋅y           ⎞\n",
       "⎝y⋅ℯ   ⋅sin(x + y) + ℯ   ⋅cos(x + y), x⋅ℯ   ⋅sin(x + y) + ℯ   ⋅cos(x + y)⎠"
      ]
     },
     "execution_count": 2,
     "metadata": {},
     "output_type": "execute_result"
    }
   ],
   "source": [
    "from sympy import *\n",
    "init_printing()\n",
    "x,y=symbols('x y')\n",
    "#先定义u,v，再定义z\n",
    "u=x*y\n",
    "v=x+y\n",
    "z=E**u*sin(v)\n",
    "z.diff(x),z.diff(y)"
   ]
  },
  {
   "cell_type": "code",
   "execution_count": 3,
   "metadata": {},
   "outputs": [],
   "source": [
    "#例10.5"
   ]
  },
  {
   "cell_type": "code",
   "execution_count": 4,
   "metadata": {},
   "outputs": [
    {
     "data": {
      "image/png": "[encoded data removed]",
      "text/latex": [
       "$$\\left ( \\left(4 x^{3} \\sin^{2}{\\left (y \\right )} + 2 x\\right) e^{x^{4} \\sin^{2}{\\left (y \\right )} + x^{2} + y^{2}}, \\quad \\left(2 x^{4} \\sin{\\left (y \\right )} \\cos{\\left (y \\right )} + 2 y\\right) e^{x^{4} \\sin^{2}{\\left (y \\right )} + x^{2} + y^{2}}\\right )$$"
      ],
      "text/plain": [
       "⎛                       4    2       2    2                               4   \n",
       "⎜⎛   3    2         ⎞  x ⋅sin (y) + x  + y   ⎛   4                    ⎞  x ⋅si\n",
       "⎝⎝4⋅x ⋅sin (y) + 2⋅x⎠⋅ℯ                    , ⎝2⋅x ⋅sin(y)⋅cos(y) + 2⋅y⎠⋅ℯ     \n",
       "\n",
       " 2       2    2⎞\n",
       "n (y) + x  + y ⎟\n",
       "               ⎠"
      ]
     },
     "execution_count": 4,
     "metadata": {},
     "output_type": "execute_result"
    }
   ],
   "source": [
    "init_printing()\n",
    "x,y=symbols('x y')\n",
    "z=x**2*sin(y)\n",
    "u=E**(x**2+y**2+z**2)\n",
    "u.diff(x),u.diff(y)"
   ]
  },
  {
   "cell_type": "code",
   "execution_count": 5,
   "metadata": {},
   "outputs": [],
   "source": [
    "#例10.6"
   ]
  },
  {
   "cell_type": "code",
   "execution_count": 7,
   "metadata": {},
   "outputs": [
    {
     "data": {
      "image/png": "[encoded data removed]",
      "text/latex": [
       "$$- e^{t} \\sin{\\left (t \\right )} + e^{t} \\cos{\\left (t \\right )} + \\cos{\\left (t \\right )}$$"
      ],
      "text/plain": [
       "   t           t                \n",
       "- ℯ ⋅sin(t) + ℯ ⋅cos(t) + cos(t)"
      ]
     },
     "execution_count": 7,
     "metadata": {},
     "output_type": "execute_result"
    }
   ],
   "source": [
    "init_printing()\n",
    "t=Symbol('t')\n",
    "u=E**t\n",
    "v=cos(t)\n",
    "z=u*v+sin(t)\n",
    "z.diff(t)"
   ]
  },
  {
   "cell_type": "code",
   "execution_count": null,
   "metadata": {},
   "outputs": [],
   "source": []
  }
 ],
 "metadata": {
  "kernelspec": {
   "display_name": "Python 3.7.1 ('base')",
   "language": "python",
   "name": "python3"
  },
  "language_info": {
   "codemirror_mode": {
    "name": "ipython",
    "version": 3
   },
   "file_extension": ".py",
   "mimetype": "text/x-python",
   "name": "python",
   "nbconvert_exporter": "python",
   "pygments_lexer": "ipython3",
   "version": "3.7.1"
  },
  "orig_nbformat": 2,
  "vscode": {
   "interpreter": {
    "hash": "e42634819b8c191a5d07eaf23810ff32516dd8d3875f28ec3e488928fbd3c187"
   }
  }
 },
 "nbformat": 4,
 "nbformat_minor": 2
}
