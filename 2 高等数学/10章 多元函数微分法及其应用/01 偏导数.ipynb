{
 "cells": [
  {
   "cell_type": "code",
   "execution_count": 1,
   "metadata": {},
   "outputs": [],
   "source": [
    "#例10.1"
   ]
  },
  {
   "cell_type": "code",
   "execution_count": 2,
   "metadata": {},
   "outputs": [
    {
     "output_type": "execute_result",
     "data": {
      "text/plain": [
       "(8, 7)"
      ],
      "image/png": "[encoded data removed]",
      "text/latex": "$\\displaystyle \\left( 8, \\  7\\right)$"
     },
     "metadata": {},
     "execution_count": 2
    }
   ],
   "source": [
    "from sympy import *\n",
    "init_printing()\n",
    "x,y=symbols('x y')\n",
    "z=x**2+3*x*y+y**2\n",
    "#sympy不区分导数和偏导数，调用的函数均为diff()\n",
    "z.diff(x).subs([(x,1),(y,2)]),diff(z,y).subs({x:1,y:2})"
   ]
  },
  {
   "cell_type": "code",
   "execution_count": 3,
   "metadata": {},
   "outputs": [],
   "source": [
    "#例10.2"
   ]
  },
  {
   "cell_type": "code",
   "execution_count": 4,
   "metadata": {},
   "outputs": [
    {
     "output_type": "execute_result",
     "data": {
      "text/plain": [
       "(2*x**y, 2*x**y, True)"
      ]
     },
     "metadata": {},
     "execution_count": 4
    }
   ],
   "source": [
    "from sympy import *\n",
    "init_printing()\n",
    "x,y=symbols('x y')\n",
    "z=x**y\n",
    "zx,zy=z.diff(x),z.diff(y)\n",
    "left,right=x*zx/y+zy/log(x),2*z\n",
    "left,right,left==right"
   ]
  },
  {
   "cell_type": "code",
   "execution_count": 5,
   "metadata": {},
   "outputs": [],
   "source": [
    "#例10.3"
   ]
  },
  {
   "cell_type": "code",
   "execution_count": 6,
   "metadata": {},
   "outputs": [
    {
     "output_type": "execute_result",
     "data": {
      "text/plain": [
       "⎛     2     2        2         2        2          ⎛ 2      ⎞     2⎞\n",
       "⎝6⋅x⋅y , 6⋅x ⋅y - 9⋅y  - 1, 6⋅x ⋅y - 9⋅y  - 1, 2⋅x⋅⎝x  - 9⋅y⎠, 6⋅y ⎠"
      ],
      "image/png": "[encoded data removed]",
      "text/latex": "$\\displaystyle \\left( 6 x y^{2}, \\  6 x^{2} y - 9 y^{2} - 1, \\  6 x^{2} y - 9 y^{2} - 1, \\  2 x \\left(x^{2} - 9 y\\right), \\  6 y^{2}\\right)$"
     },
     "metadata": {},
     "execution_count": 6
    }
   ],
   "source": [
    "from sympy import *\n",
    "init_printing()\n",
    "x,y=symbols('x y')\n",
    "z=x**3*y**2-3*x*y**3-x*y+1\n",
    "z.diff(x,x),z.diff(x,y),z.diff(y,x),z.diff(y,2),z.diff(x,3)"
   ]
  },
  {
   "cell_type": "code",
   "execution_count": null,
   "metadata": {},
   "outputs": [],
   "source": []
  }
 ],
 "metadata": {
  "language_info": {
   "codemirror_mode": {
    "name": "ipython",
    "version": 3
   },
   "file_extension": ".py",
   "mimetype": "text/x-python",
   "name": "python",
   "nbconvert_exporter": "python",
   "pygments_lexer": "ipython3",
   "version": "3.6.1-final"
  },
  "orig_nbformat": 2,
  "kernelspec": {
   "name": "python36164bit1d6dd37536b64fb6a5530f9598c6f3c0",
   "display_name": "Python 3.6.1 64-bit",
   "language": "python"
  }
 },
 "nbformat": 4,
 "nbformat_minor": 2
}