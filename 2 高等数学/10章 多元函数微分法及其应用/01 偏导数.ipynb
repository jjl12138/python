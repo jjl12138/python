{
 "cells": [
  {
   "cell_type": "code",
   "execution_count": 1,
   "metadata": {},
   "outputs": [],
   "source": [
    "#例10.1"
   ]
  },
  {
   "cell_type": "code",
   "execution_count": 7,
   "metadata": {},
   "outputs": [
    {
     "data": {
      "image/png": "[encoded data removed]",
      "text/latex": [
       "$$\\left ( 8, \\quad 7\\right )$$"
      ],
      "text/plain": [
       "(8, 7)"
      ]
     },
     "execution_count": 7,
     "metadata": {},
     "output_type": "execute_result"
    }
   ],
   "source": [
    "from sympy import *\n",
    "init_printing()\n",
    "x,y=symbols('x y')\n",
    "z=x**2+3*x*y+y**2\n",
    "#sympy不区分导数和偏导数，调用的函数均为diff()\n",
    "z.diff(x).subs([(x,1),(y,2)]),diff(z,y).subs({x:1,y:2})"
   ]
  },
  {
   "cell_type": "code",
   "execution_count": 3,
   "metadata": {},
   "outputs": [],
   "source": [
    "#例10.2"
   ]
  },
  {
   "cell_type": "code",
   "execution_count": 8,
   "metadata": {},
   "outputs": [
    {
     "data": {
      "text/plain": [
       "(2*x**y, 2*x**y, True)"
      ]
     },
     "execution_count": 8,
     "metadata": {},
     "output_type": "execute_result"
    }
   ],
   "source": [
    "from sympy import *\n",
    "init_printing()\n",
    "x,y=symbols('x y')\n",
    "z=x**y\n",
    "zx,zy=z.diff(x),z.diff(y)\n",
    "left,right=x*zx/y+zy/log(x),2*z\n",
    "left,right,left==right"
   ]
  },
  {
   "cell_type": "code",
   "execution_count": 5,
   "metadata": {},
   "outputs": [],
   "source": [
    "#例10.3"
   ]
  },
  {
   "cell_type": "code",
   "execution_count": 14,
   "metadata": {},
   "outputs": [
    {
     "data": {
      "image/png": "[encoded data removed]",
      "text/latex": [
       "$$\\left ( 6 x y^{2}, \\quad 6 x^{2} y - 9 y^{2} - 1, \\quad 6 x^{2} y - 9 y^{2} - 1, \\quad 2 x \\left(x^{2} - 9 y\\right), \\quad 6 y^{2}\\right )$$"
      ],
      "text/plain": [
       "⎛     2     2        2         2        2          ⎛ 2      ⎞     2⎞\n",
       "⎝6⋅x⋅y , 6⋅x ⋅y - 9⋅y  - 1, 6⋅x ⋅y - 9⋅y  - 1, 2⋅x⋅⎝x  - 9⋅y⎠, 6⋅y ⎠"
      ]
     },
     "execution_count": 14,
     "metadata": {},
     "output_type": "execute_result"
    }
   ],
   "source": [
    "from sympy import *\n",
    "init_printing()\n",
    "x,y=symbols('x y')\n",
    "z=x**3*y**2-3*x*y**3-x*y+1\n",
    "z.diff(x,x),z.diff(y,x),z.diff(x,y),z.diff(y,2),z.diff(x,3)"
   ]
  },
  {
   "cell_type": "code",
   "execution_count": null,
   "metadata": {},
   "outputs": [],
   "source": []
  }
 ],
 "metadata": {
  "kernelspec": {
   "display_name": "Python 3.7.1 ('base')",
   "language": "python",
   "name": "python3"
  },
  "language_info": {
   "codemirror_mode": {
    "name": "ipython",
    "version": 3
   },
   "file_extension": ".py",
   "mimetype": "text/x-python",
   "name": "python",
   "nbconvert_exporter": "python",
   "pygments_lexer": "ipython3",
   "version": "3.7.1"
  },
  "orig_nbformat": 2,
  "vscode": {
   "interpreter": {
    "hash": "e42634819b8c191a5d07eaf23810ff32516dd8d3875f28ec3e488928fbd3c187"
   }
  }
 },
 "nbformat": 4,
 "nbformat_minor": 2
}
