{
 "cells": [
  {
   "cell_type": "code",
   "execution_count": 1,
   "metadata": {},
   "outputs": [],
   "source": [
    "from sympy import *\n",
    "#求偏导数连续的二元函数的极值，其中condition为约束条件，默认为None\n",
    "def min_max_xy(f,x,y,condition=None):\n",
    "    #无约束的情况\n",
    "    if condition is None:\n",
    "        fx=f.diff(x)\n",
    "        fy=f.diff(y)\n",
    "        fxx=fx.diff(x)\n",
    "        fxy=fx.diff(y)\n",
    "        fyy=fy.diff(y)\n",
    "        #求出一阶偏导数为0的点集\n",
    "        points=solve([fx,fy],[x,y],dict=False)\n",
    "        try:\n",
    "            #尽管已经将solve的dict参数设置为False,但有时它还会返回一个字典结构的解\n",
    "            #这行代码触发异常，在except代码段，将字典强制转化为list\n",
    "            points[0][0]\n",
    "        except:\n",
    "            x_=points[x]\n",
    "            y_=points[y]\n",
    "            #强制转换为list\n",
    "            points=[[x_,y_]]\n",
    "        #分别存放极小值点、极大值点和不确定点\n",
    "        minPoints=[]\n",
    "        maxPoints=[]\n",
    "        notSurePoints=[]\n",
    "        \n",
    "        for i in range(len(points)):\n",
    "            #二元函数存在极值的充分条件\n",
    "            x0=points[i][0]\n",
    "            y0=points[i][1]\n",
    "            A=fxx.subs([(x,x0),(y,y0)])\n",
    "            B=fxy.subs([(x,x0),(y,y0)])\n",
    "            C=fyy.subs([(x,x0),(y,y0)])\n",
    "            D=A*C-B*B\n",
    "            if D>0:\n",
    "                if A<0:maxPoints.append(((x0,y0),f.subs([(x,x0),(y,y0)])))\n",
    "                if A>0:minPoints.append(((x0,y0),f.subs([(x,x0),(y,y0)])))\n",
    "            if D==0:\n",
    "                notSurePoints.append(((x0,y0),f.subs([(x,x0),(y,y0)])))\n",
    "        print('MaxPoints:\\t{}'.format(maxPoints))\n",
    "        print('MinPoints:\\t{}'.format(minPoints))\n",
    "        print('NotSurePoints:\\t{}'.format(notSurePoints))\n",
    "    #有约束的情况\n",
    "    else:\n",
    "        lamda=Symbol('lamda')\n",
    "        #构造拉格朗日函数\n",
    "        L=f+lamda*condition \n",
    "        Lx=L.diff(x)\n",
    "        Ly=L.diff(y)\n",
    "        #潜在的极值点\n",
    "        maybe_points=solve([Lx,Ly,condition],[x,y,lamda],dict=False)\n",
    "        try:\n",
    "            maybe_points[0][0]\n",
    "        except:\n",
    "            x_=maybe_points[x]\n",
    "            y_=maybe_points[y]\n",
    "            maybe_points=[[x_,y_]]\n",
    "        #让函数使用者从潜在极值点中比较\n",
    "        print('Select from ((x,y),f(x,y)):\\t{}'.format([((maybe_point[0],maybe_point[1]),\\\n",
    "            f.subs([(x,maybe_point[0]),(y,maybe_point[1])])) for maybe_point in maybe_points]))"
   ]
  },
  {
   "cell_type": "code",
   "execution_count": 2,
   "metadata": {},
   "outputs": [],
   "source": [
    "#例10.18"
   ]
  },
  {
   "cell_type": "code",
   "execution_count": 3,
   "metadata": {
    "tags": []
   },
   "outputs": [
    {
     "output_type": "stream",
     "name": "stdout",
     "text": [
      "MaxPoints:\t[((-3, 2), 31)]\nMinPoints:\t[((1, 0), -5)]\nNotSurePoints:\t[]\n"
     ]
    }
   ],
   "source": [
    "#将x,y限制为实数(real=True)非常必要\n",
    "x,y=symbols('x y',real=True)\n",
    "f=x**3-y**3+3*x**2+3*y**2-9*x\n",
    "min_max_xy(f,x,y)"
   ]
  },
  {
   "cell_type": "code",
   "execution_count": 4,
   "metadata": {},
   "outputs": [],
   "source": [
    "#例10.19"
   ]
  },
  {
   "cell_type": "code",
   "execution_count": 5,
   "metadata": {
    "tags": []
   },
   "outputs": [
    {
     "output_type": "stream",
     "name": "stdout",
     "text": [
      "MaxPoints:\t[]\nMinPoints:\t[]\nNotSurePoints:\t[]\n"
     ]
    }
   ],
   "source": [
    "x,y=symbols('x y',real=True)\n",
    "f=x*y\n",
    "min_max_xy(f,x,y)"
   ]
  },
  {
   "cell_type": "code",
   "execution_count": 6,
   "metadata": {},
   "outputs": [],
   "source": [
    "#例10.20"
   ]
  },
  {
   "cell_type": "code",
   "execution_count": 7,
   "metadata": {
    "tags": []
   },
   "outputs": [
    {
     "output_type": "stream",
     "name": "stdout",
     "text": [
      "MaxPoints:\t[((8, pi/3), 48*sqrt(3))]\nMinPoints:\t[]\nNotSurePoints:\t[]\n"
     ]
    }
   ],
   "source": [
    "x,a=symbols('x a',positive=True)#限定为正数\n",
    "A=24*x*sin(a)-2*x**2*sin(a)+x**2*sin(a)*cos(a)\n",
    "min_max_xy(A,x,a)"
   ]
  },
  {
   "cell_type": "code",
   "execution_count": 8,
   "metadata": {},
   "outputs": [],
   "source": [
    "#例10.21"
   ]
  },
  {
   "cell_type": "code",
   "execution_count": 9,
   "metadata": {
    "tags": []
   },
   "outputs": [
    {
     "output_type": "stream",
     "name": "stdout",
     "text": [
      "Select from ((x,y),f(x,y)):\t[((1/2, 1/2), 1/4)]\n"
     ]
    }
   ],
   "source": [
    "x,y=symbols('x y',real=True)\n",
    "f=x*y\n",
    "condition=x+y-1\n",
    "min_max_xy(f,x,y,condition=condition)"
   ]
  },
  {
   "cell_type": "code",
   "execution_count": 10,
   "metadata": {},
   "outputs": [],
   "source": [
    "#例10.22"
   ]
  },
  {
   "cell_type": "code",
   "execution_count": 11,
   "metadata": {
    "tags": []
   },
   "outputs": [
    {
     "output_type": "stream",
     "name": "stdout",
     "text": [
      "Select from ((x,y),f(x,y)):\t[((-5, 5), 450), ((5, -5), 450), ((-5*sqrt(3), -5*sqrt(3)), 150), ((5*sqrt(3), 5*sqrt(3)), 150)]\n"
     ]
    }
   ],
   "source": [
    "x,y=symbols('x y',real=True)\n",
    "g=5*x**2+5*y**2-8*x*y\n",
    "condition=x**2+y**2-x*y-75\n",
    "min_max_xy(g,x,y,condition=condition)"
   ]
  },
  {
   "cell_type": "code",
   "execution_count": 12,
   "metadata": {},
   "outputs": [],
   "source": [
    "#例10.23"
   ]
  },
  {
   "cell_type": "code",
   "execution_count": 13,
   "metadata": {},
   "outputs": [
    {
     "output_type": "execute_result",
     "data": {
      "text/plain": [
       "     fun: 26.999999995431228\n",
       "     jac: array([8.99995399, 9.0000937 , 8.99995112])\n",
       " message: 'Optimization terminated successfully.'\n",
       "    nfev: 80\n",
       "     nit: 15\n",
       "    njev: 15\n",
       "  status: 0\n",
       " success: True\n",
       "       x: array([2.99999953, 3.00000048, 2.99999999])"
      ]
     },
     "metadata": {},
     "execution_count": 13
    }
   ],
   "source": [
    "#使用scipy优化模块中的minimize函数求目标函数的数值解\n",
    "from scipy.optimize import minimize\n",
    "u=lambda x:x[0]*x[1]*x[2]\n",
    "a=1\n",
    "bnds=((0,None),(0,None),(0,None))\n",
    "cons=({'type':'eq','fun':lambda x:1/x[0]+1/x[1]+1/x[2]-1/a})\n",
    "#给函数提供合适的搜索起始点很重要，这里选择(0.1,0.2,0.3)\n",
    "result=minimize(u,(0.1,0.2,0.3),bounds=bnds,constraints=cons)\n",
    "result"
   ]
  },
  {
   "cell_type": "code",
   "execution_count": 14,
   "metadata": {},
   "outputs": [],
   "source": [
    "#例10.24"
   ]
  },
  {
   "cell_type": "code",
   "execution_count": 15,
   "metadata": {},
   "outputs": [
    {
     "output_type": "execute_result",
     "data": {
      "text/plain": [
       "     fun: -642.6666669275957\n",
       "     jac: array([-21.33332825,   5.33333588,  21.33333588])\n",
       " message: 'Optimization terminated successfully.'\n",
       "    nfev: 48\n",
       "     nit: 9\n",
       "    njev: 9\n",
       "  status: 0\n",
       " success: True\n",
       "       x: array([ 1.33333296, -1.33333385, -1.33333359])"
      ]
     },
     "metadata": {},
     "execution_count": 15
    }
   ],
   "source": [
    "T=lambda x:-8*x[0]**2-4*x[1]*x[2]+16*x[2]-600\n",
    "cons=({'type':'eq','fun':lambda x:4*x[0]**2+x[1]**2+4*x[2]**2-16})\n",
    "result=minimize(T,(0.1,0,0),constraints=cons)\n",
    "result"
   ]
  },
  {
   "cell_type": "code",
   "execution_count": null,
   "metadata": {},
   "outputs": [],
   "source": []
  }
 ],
 "metadata": {
  "language_info": {
   "codemirror_mode": {
    "name": "ipython",
    "version": 3
   },
   "file_extension": ".py",
   "mimetype": "text/x-python",
   "name": "python",
   "nbconvert_exporter": "python",
   "pygments_lexer": "ipython3",
   "version": "3.6.1-final"
  },
  "orig_nbformat": 2,
  "kernelspec": {
   "name": "python3",
   "display_name": "Python 3.6.1 64-bit",
   "metadata": {
    "interpreter": {
     "hash": "4ce0e62306dd6a5716965d4519ada776f947e6dfc145b604b11307c10277ef29"
    }
   }
  }
 },
 "nbformat": 4,
 "nbformat_minor": 2
}