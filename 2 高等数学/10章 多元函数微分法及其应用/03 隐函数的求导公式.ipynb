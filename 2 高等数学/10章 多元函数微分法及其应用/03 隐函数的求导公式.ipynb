{
 "cells": [
  {
   "cell_type": "code",
   "execution_count": 1,
   "metadata": {},
   "outputs": [],
   "source": [
    "#例10.7"
   ]
  },
  {
   "cell_type": "code",
   "execution_count": 2,
   "metadata": {},
   "outputs": [
    {
     "data": {
      "image/png": "[encoded data removed]",
      "text/latex": [
       "$$\\left ( - \\frac{x}{y}, \\quad - \\frac{x^{2} + y^{2}}{y^{3}}\\right )$$"
      ],
      "text/plain": [
       "⎛      ⎛ 2    2⎞ ⎞\n",
       "⎜-x   -⎝x  + y ⎠ ⎟\n",
       "⎜───, ───────────⎟\n",
       "⎜ y         3    ⎟\n",
       "⎝          y     ⎠"
      ]
     },
     "execution_count": 2,
     "metadata": {},
     "output_type": "execute_result"
    }
   ],
   "source": [
    "from sympy import *\n",
    "init_printing()\n",
    "x,y=symbols('x y')\n",
    "F=x**2+y**2-1\n",
    "#隐函数求导及求偏导均调用函数idiff(eq,y,x),其中eq为默认等于0的等式\n",
    "idiff(F,y,x),simplify(idiff(F,y,x,2))"
   ]
  },
  {
   "cell_type": "code",
   "execution_count": 3,
   "metadata": {},
   "outputs": [],
   "source": [
    "#例10.8"
   ]
  },
  {
   "cell_type": "code",
   "execution_count": 4,
   "metadata": {},
   "outputs": [
    {
     "data": {
      "image/png": "[encoded data removed]",
      "text/latex": [
       "$$- \\frac{x^{2} + \\left(z - 2\\right)^{2}}{\\left(z - 2\\right)^{3}}$$"
      ],
      "text/plain": [
       " ⎛ 2          2⎞ \n",
       "-⎝x  + (z - 2) ⎠ \n",
       "─────────────────\n",
       "            3    \n",
       "     (z - 2)     "
      ]
     },
     "execution_count": 4,
     "metadata": {},
     "output_type": "execute_result"
    }
   ],
   "source": [
    "init_printing()\n",
    "x,y,z=symbols('x y z')\n",
    "F=x**2+y**2+z**2-4*z\n",
    "simplify(idiff(F,z,x,2))"
   ]
  },
  {
   "cell_type": "code",
   "execution_count": 5,
   "metadata": {},
   "outputs": [],
   "source": [
    "#例10.9"
   ]
  },
  {
   "cell_type": "code",
   "execution_count": 6,
   "metadata": {},
   "outputs": [
    {
     "data": {
      "image/png": "[encoded data removed]",
      "text/latex": [
       "$$\\left \\{ u : \\frac{y}{x^{2} + y^{2}}, \\quad v : \\frac{x}{x^{2} + y^{2}}\\right \\}$$"
      ],
      "text/plain": [
       "⎧      y           x   ⎫\n",
       "⎪u: ───────, v: ───────⎪\n",
       "⎨    2    2      2    2⎬\n",
       "⎪   x  + y      x  + y ⎪\n",
       "⎩                      ⎭"
      ]
     },
     "execution_count": 6,
     "metadata": {},
     "output_type": "execute_result"
    }
   ],
   "source": [
    "init_printing()\n",
    "x,y,u,v=symbols('x y u v')\n",
    "solve([x*u-y*v,y*u+x*v-1],[u,v])"
   ]
  },
  {
   "cell_type": "code",
   "execution_count": 7,
   "metadata": {},
   "outputs": [
    {
     "data": {
      "image/png": "[encoded data removed]",
      "text/latex": [
       "$$\\left ( - \\frac{2 x y}{\\left(x^{2} + y^{2}\\right)^{2}}, \\quad - \\frac{2 x^{2}}{\\left(x^{2} + y^{2}\\right)^{2}} + \\frac{1}{x^{2} + y^{2}}, \\quad - \\frac{2 y^{2}}{\\left(x^{2} + y^{2}\\right)^{2}} + \\frac{1}{x^{2} + y^{2}}, \\quad - \\frac{2 x y}{\\left(x^{2} + y^{2}\\right)^{2}}\\right )$$"
      ],
      "text/plain": [
       "⎛                    2                       2                         ⎞\n",
       "⎜ -2⋅x⋅y          2⋅x          1          2⋅y          1      -2⋅x⋅y   ⎟\n",
       "⎜──────────, - ────────── + ───────, - ────────── + ───────, ──────────⎟\n",
       "⎜         2             2    2    2             2    2    2           2⎟\n",
       "⎜⎛ 2    2⎞     ⎛ 2    2⎞    x  + y     ⎛ 2    2⎞    x  + y   ⎛ 2    2⎞ ⎟\n",
       "⎝⎝x  + y ⎠     ⎝x  + y ⎠               ⎝x  + y ⎠             ⎝x  + y ⎠ ⎠"
      ]
     },
     "execution_count": 7,
     "metadata": {},
     "output_type": "execute_result"
    }
   ],
   "source": [
    "u=y/(x**2+y**2)\n",
    "v=x/(x**2+y**2)\n",
    "u.diff(x),v.diff(x),u.diff(y),v.diff(y)"
   ]
  },
  {
   "cell_type": "code",
   "execution_count": null,
   "metadata": {},
   "outputs": [],
   "source": []
  }
 ],
 "metadata": {
  "kernelspec": {
   "display_name": "Python 3.7.1 ('base')",
   "language": "python",
   "name": "python3"
  },
  "language_info": {
   "codemirror_mode": {
    "name": "ipython",
    "version": 3
   },
   "file_extension": ".py",
   "mimetype": "text/x-python",
   "name": "python",
   "nbconvert_exporter": "python",
   "pygments_lexer": "ipython3",
   "version": "3.7.1"
  },
  "orig_nbformat": 2,
  "vscode": {
   "interpreter": {
    "hash": "e42634819b8c191a5d07eaf23810ff32516dd8d3875f28ec3e488928fbd3c187"
   }
  }
 },
 "nbformat": 4,
 "nbformat_minor": 2
}
