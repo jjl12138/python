{
 "cells": [
  {
   "cell_type": "code",
   "execution_count": 1,
   "metadata": {},
   "outputs": [],
   "source": [
    "#例10.7"
   ]
  },
  {
   "cell_type": "code",
   "execution_count": 2,
   "metadata": {},
   "outputs": [
    {
     "output_type": "execute_result",
     "data": {
      "text/plain": [
       "⎛      ⎛ 2    2⎞ ⎞\n",
       "⎜-x   -⎝x  + y ⎠ ⎟\n",
       "⎜───, ───────────⎟\n",
       "⎜ y         3    ⎟\n",
       "⎝          y     ⎠"
      ],
      "image/png": "[encoded data removed]",
      "text/latex": "$\\displaystyle \\left( - \\frac{x}{y}, \\  - \\frac{x^{2} + y^{2}}{y^{3}}\\right)$"
     },
     "metadata": {},
     "execution_count": 2
    }
   ],
   "source": [
    "from sympy import *\n",
    "init_printing()\n",
    "x,y=symbols('x y')\n",
    "F=x**2+y**2-1\n",
    "#隐函数求导及求偏导均调用函数idiff(eq,y,x),其中eq为默认等于0的等式\n",
    "idiff(F,y,x),simplify(idiff(F,y,x,2))"
   ]
  },
  {
   "cell_type": "code",
   "execution_count": 3,
   "metadata": {},
   "outputs": [],
   "source": [
    "#例10.8"
   ]
  },
  {
   "cell_type": "code",
   "execution_count": 4,
   "metadata": {},
   "outputs": [
    {
     "output_type": "execute_result",
     "data": {
      "text/plain": [
       " ⎛ 2          2⎞ \n",
       "-⎝x  + (z - 2) ⎠ \n",
       "─────────────────\n",
       "            3    \n",
       "     (z - 2)     "
      ],
      "image/png": "[encoded data removed]",
      "text/latex": "$\\displaystyle - \\frac{x^{2} + \\left(z - 2\\right)^{2}}{\\left(z - 2\\right)^{3}}$"
     },
     "metadata": {},
     "execution_count": 4
    }
   ],
   "source": [
    "init_printing()\n",
    "x,y,z=symbols('x y z')\n",
    "F=x**2+y**2+z**2-4*z\n",
    "simplify(idiff(F,z,x,2))"
   ]
  },
  {
   "cell_type": "code",
   "execution_count": 5,
   "metadata": {},
   "outputs": [],
   "source": [
    "#例10.9"
   ]
  },
  {
   "cell_type": "code",
   "execution_count": 6,
   "metadata": {},
   "outputs": [
    {
     "output_type": "execute_result",
     "data": {
      "text/plain": [
       "⎧      y           x   ⎫\n",
       "⎪u: ───────, v: ───────⎪\n",
       "⎨    2    2      2    2⎬\n",
       "⎪   x  + y      x  + y ⎪\n",
       "⎩                      ⎭"
      ],
      "image/png": "[encoded data removed]",
      "text/latex": "$\\displaystyle \\left\\{ u : \\frac{y}{x^{2} + y^{2}}, \\  v : \\frac{x}{x^{2} + y^{2}}\\right\\}$"
     },
     "metadata": {},
     "execution_count": 6
    }
   ],
   "source": [
    "init_printing()\n",
    "x,y,u,v=symbols('x y u v')\n",
    "solve([x*u-y*v,y*u+x*v-1],[u,v])"
   ]
  },
  {
   "cell_type": "code",
   "execution_count": 7,
   "metadata": {},
   "outputs": [
    {
     "output_type": "execute_result",
     "data": {
      "text/plain": [
       "⎛                    2                       2                         ⎞\n",
       "⎜ -2⋅x⋅y          2⋅x          1          2⋅y          1      -2⋅x⋅y   ⎟\n",
       "⎜──────────, - ────────── + ───────, - ────────── + ───────, ──────────⎟\n",
       "⎜         2             2    2    2             2    2    2           2⎟\n",
       "⎜⎛ 2    2⎞     ⎛ 2    2⎞    x  + y     ⎛ 2    2⎞    x  + y   ⎛ 2    2⎞ ⎟\n",
       "⎝⎝x  + y ⎠     ⎝x  + y ⎠               ⎝x  + y ⎠             ⎝x  + y ⎠ ⎠"
      ],
      "image/png": "[encoded data removed]",
      "text/latex": "$\\displaystyle \\left( - \\frac{2 x y}{\\left(x^{2} + y^{2}\\right)^{2}}, \\  - \\frac{2 x^{2}}{\\left(x^{2} + y^{2}\\right)^{2}} + \\frac{1}{x^{2} + y^{2}}, \\  - \\frac{2 y^{2}}{\\left(x^{2} + y^{2}\\right)^{2}} + \\frac{1}{x^{2} + y^{2}}, \\  - \\frac{2 x y}{\\left(x^{2} + y^{2}\\right)^{2}}\\right)$"
     },
     "metadata": {},
     "execution_count": 7
    }
   ],
   "source": [
    "u=y/(x**2+y**2)\n",
    "v=x/(x**2+y**2)\n",
    "u.diff(x),v.diff(x),u.diff(y),v.diff(y)"
   ]
  },
  {
   "cell_type": "code",
   "execution_count": null,
   "metadata": {},
   "outputs": [],
   "source": []
  }
 ],
 "metadata": {
  "language_info": {
   "codemirror_mode": {
    "name": "ipython",
    "version": 3
   },
   "file_extension": ".py",
   "mimetype": "text/x-python",
   "name": "python",
   "nbconvert_exporter": "python",
   "pygments_lexer": "ipython3",
   "version": "3.6.1-final"
  },
  "orig_nbformat": 2,
  "kernelspec": {
   "name": "python36164bit1d6dd37536b64fb6a5530f9598c6f3c0",
   "display_name": "Python 3.6.1 64-bit",
   "language": "python"
  }
 },
 "nbformat": 4,
 "nbformat_minor": 2
}