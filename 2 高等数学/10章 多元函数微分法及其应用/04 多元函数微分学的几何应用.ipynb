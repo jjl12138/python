{
 "cells": [
  {
   "cell_type": "code",
   "execution_count": 1,
   "metadata": {},
   "outputs": [],
   "source": [
    "from sympy import *"
   ]
  },
  {
   "cell_type": "code",
   "execution_count": 2,
   "metadata": {},
   "outputs": [],
   "source": [
    "#求空间曲线的切线及法平面，其中空间曲线以参数方程给出\n",
    "def tangent_normalplane_1(x,y,z,t,t0=0):\n",
    "    #x'(t),y'(t),z'(t)在t0的取值\n",
    "    dxdt,dydt,dzdt=x.diff(t).subs(t,t0),y.diff(t).subs(t,t0),z.diff(t).subs(t,t0)\n",
    "    #t0对应点的坐标\n",
    "    x0,y0,z0=x.subs(t,t0),y.subs(t,t0),z.subs(t,t0)\n",
    "    #切线方程\n",
    "    tangent='Tangent:\\t(x-({}))/{}=(y-({}))/{}=(z-({}))/{}'.format(x0,dxdt,y0,dydt,z0,dzdt)\n",
    "    #法平面方程\n",
    "    normalplane='Normal plane:\\t(x-({}))*({})+(y-({}))*({})+(z-({}))*({})=0'.format(x0,dxdt,y0,dydt,z0,dzdt)\n",
    "    print(tangent)\n",
    "    print(normalplane)"
   ]
  },
  {
   "cell_type": "code",
   "execution_count": 3,
   "metadata": {},
   "outputs": [],
   "source": [
    "#例10.10"
   ]
  },
  {
   "cell_type": "code",
   "execution_count": 4,
   "metadata": {
    "tags": []
   },
   "outputs": [
    {
     "name": "stdout",
     "output_type": "stream",
     "text": [
      "Tangent:\t(x-(1))/1=(y-(1))/2=(z-(1))/3\n",
      "Normal plane:\t(x-(1))*(1)+(y-(1))*(2)+(z-(1))*(3)=0\n"
     ]
    }
   ],
   "source": [
    "t=Symbol('t')\n",
    "x,y,z=t,t**2,t**3\n",
    "tangent_normalplane_1(x,y,z,t,t0=1)"
   ]
  },
  {
   "cell_type": "code",
   "execution_count": 5,
   "metadata": {},
   "outputs": [],
   "source": [
    "#两条空间曲线的交线的切线及法平面\n",
    "def tangent_normalplane_2(eq1,eq2,point=[0,0,0]):\n",
    "    x,y,z=symbols('x y z')\n",
    "    a11=diff(eq1,y).subs([(x,point[0]),(y,point[1]),(z,point[2])])\n",
    "    a12=diff(eq1,z).subs([(x,point[0]),(y,point[1]),(z,point[2])])\n",
    "    b1=diff(eq1,x).subs([(x,point[0]),(y,point[1]),(z,point[2])])\n",
    "    a21=diff(eq2,y).subs([(x,point[0]),(y,point[1]),(z,point[2])])\n",
    "    a22=diff(eq2,z).subs([(x,point[0]),(y,point[1]),(z,point[2])])\n",
    "    b2=diff(eq2,x).subs([(x,point[0]),(y,point[1]),(z,point[2])])\n",
    "    dydx,dzdx=symbols('dydx dzdx')\n",
    "    solves=solve([a11*dydx+a12*dzdx+b1,a21*dydx+a22*dzdx+b2],[dydx,dzdx])\n",
    "    tangent='Tangent:\\t(x-({}))/1=(y-({}))/({})=(z-({}))/({})'\\\n",
    "        .format(point[0],point[1],solves[dydx],point[2],solves[dzdx])\n",
    "    normalplane='Normal plane:\\t(x-({}))+(y-({}))*({})+(z-({}))*({})=0'\\\n",
    "        .format(point[0],point[1],solves[dydx],point[2],solves[dzdx])\n",
    "    print(tangent)\n",
    "    print(normalplane)"
   ]
  },
  {
   "cell_type": "code",
   "execution_count": 6,
   "metadata": {},
   "outputs": [],
   "source": [
    "#例10.11"
   ]
  },
  {
   "cell_type": "code",
   "execution_count": 7,
   "metadata": {
    "tags": []
   },
   "outputs": [
    {
     "name": "stdout",
     "output_type": "stream",
     "text": [
      "Tangent:\t(x-(1))/1=(y-(-2))/(0)=(z-(1))/(-1)\n",
      "Normal plane:\t(x-(1))+(y-(-2))*(0)+(z-(1))*(-1)=0\n"
     ]
    }
   ],
   "source": [
    "x,y,z=symbols('x y z')\n",
    "eq1=x**2+y**2+z**2-6\n",
    "eq2=x+y+z\n",
    "point=[1,-2,1]\n",
    "tangent_normalplane_2(eq1,eq2,point=point)"
   ]
  },
  {
   "cell_type": "code",
   "execution_count": 15,
   "metadata": {},
   "outputs": [],
   "source": [
    "#求空间曲面在一点的法线及切平面方程，其中eq(默认等于0)为空间曲面的方程\n",
    "def norm_tangent_plane(eq,point=[0,0,0]):\n",
    "    x,y,z=symbols('x y z')\n",
    "    fx=eq.diff(x).subs([(x,point[0]),(y,point[1]),(z,point[2])])\n",
    "    fy=eq.diff(y).subs([(x,point[0]),(y,point[1]),(z,point[2])])\n",
    "    fz=eq.diff(z).subs([(x,point[0]),(y,point[1]),(z,point[2])])\n",
    "    norm='Norm:\\t\\t(x-({}))/({})=(y-({}))/({})=(z-({}))/({})'.format(point[0],fx,point[1],fy,point[2],fz)\n",
    "    tangent_plane='Tangent plane:\\t(x-({}))*({})+(y-({}))*({})+(z-({}))*({})=0'.format(point[0],fx,point[1],fy,point[2],fz)\n",
    "    print(norm)\n",
    "    print(tangent_plane)"
   ]
  },
  {
   "cell_type": "code",
   "execution_count": 9,
   "metadata": {},
   "outputs": [],
   "source": [
    "#例10.12"
   ]
  },
  {
   "cell_type": "code",
   "execution_count": 10,
   "metadata": {
    "tags": []
   },
   "outputs": [
    {
     "name": "stdout",
     "output_type": "stream",
     "text": [
      "Norm:\t\t(x-(1))/(2)=(y-(2))/(4)=(z-(3))/(6)\n",
      "Tangent plane:\t(x-(1))*(2)+(y-(2))*(4)+(z-(3))*(6)=0\n"
     ]
    }
   ],
   "source": [
    "x,y,z=symbols('x y z')\n",
    "eq=x**2+y**2+z**2-14\n",
    "point=[1,2,3]\n",
    "norm_tangent_plane(eq,point=point)"
   ]
  },
  {
   "cell_type": "code",
   "execution_count": 11,
   "metadata": {},
   "outputs": [],
   "source": [
    "#例10.13"
   ]
  },
  {
   "cell_type": "code",
   "execution_count": 16,
   "metadata": {
    "tags": []
   },
   "outputs": [
    {
     "name": "stdout",
     "output_type": "stream",
     "text": [
      "Norm:\t\t(x-(2))/(-4)=(y-(1))/(-2)=(z-(4))/(1)\n",
      "Tangent plane:\t(x-(2))*(-4)+(y-(1))*(-2)+(z-(4))*(1)=0\n"
     ]
    }
   ],
   "source": [
    "x,y,z=symbols('x y z')\n",
    "eq=z-x**2-y**2+1\n",
    "point=[2,1,4]\n",
    "norm_tangent_plane(eq,point=point)"
   ]
  },
  {
   "cell_type": "code",
   "execution_count": null,
   "metadata": {},
   "outputs": [],
   "source": []
  }
 ],
 "metadata": {
  "kernelspec": {
   "display_name": "Python 3.7.1 ('base')",
   "language": "python",
   "name": "python3"
  },
  "language_info": {
   "codemirror_mode": {
    "name": "ipython",
    "version": 3
   },
   "file_extension": ".py",
   "mimetype": "text/x-python",
   "name": "python",
   "nbconvert_exporter": "python",
   "pygments_lexer": "ipython3",
   "version": "3.7.1"
  },
  "orig_nbformat": 2,
  "vscode": {
   "interpreter": {
    "hash": "e42634819b8c191a5d07eaf23810ff32516dd8d3875f28ec3e488928fbd3c187"
   }
  }
 },
 "nbformat": 4,
 "nbformat_minor": 2
}
