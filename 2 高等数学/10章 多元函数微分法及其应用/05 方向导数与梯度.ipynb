{
 "cells": [
  {
   "cell_type": "code",
   "execution_count": 1,
   "metadata": {},
   "outputs": [],
   "source": [
    "from sympy import *\n",
    "init_printing()"
   ]
  },
  {
   "cell_type": "code",
   "execution_count": 2,
   "metadata": {},
   "outputs": [],
   "source": [
    "#求二元函数在(x0,y0)处，方向为(cosa,cosb)的方向导数\n",
    "def directional_derivative_xy(f,x,y,cosa,cosb,x0,y0):\n",
    "    return f.diff(x).subs([(x,x0),(y,y0)])*cosa+f.diff(y).subs([(x,x0),(y,y0)])*cosb"
   ]
  },
  {
   "cell_type": "code",
   "execution_count": 3,
   "metadata": {},
   "outputs": [],
   "source": [
    "#例10.14"
   ]
  },
  {
   "cell_type": "code",
   "execution_count": 4,
   "metadata": {},
   "outputs": [
    {
     "output_type": "execute_result",
     "data": {
      "text/plain": [
       "-0.707106781186548"
      ],
      "image/png": "[encoded data removed]",
      "text/latex": "$\\displaystyle -0.707106781186548$"
     },
     "metadata": {},
     "execution_count": 4
    }
   ],
   "source": [
    "x,y=symbols('x y')\n",
    "directional_derivative_xy(x*E**(2*y),x,y,2**(-0.5),-2**(-0.5),1,0)"
   ]
  },
  {
   "cell_type": "code",
   "execution_count": 5,
   "metadata": {},
   "outputs": [],
   "source": [
    "#求三元函数在(x0,y0,z0)处，方向为(cosa,cosb,cosr)的方向导数\n",
    "def directional_derivative_xyz(f,x,y,z,cosa,cosb,cosr,x0,y0,z0):\n",
    "    return f.diff(x).subs([(x,x0),(y,y0),(z,z0)])*cosa+\\\n",
    "           f.diff(y).subs([(x,x0),(y,y0),(z,z0)])*cosb+\\\n",
    "           f.diff(z).subs([(x,x0),(y,y0),(z,z0)])*cosr"
   ]
  },
  {
   "cell_type": "code",
   "execution_count": 6,
   "metadata": {},
   "outputs": [],
   "source": [
    "#例10.15"
   ]
  },
  {
   "cell_type": "code",
   "execution_count": 7,
   "metadata": {},
   "outputs": [
    {
     "output_type": "execute_result",
     "data": {
      "text/plain": [
       "4.62132034355964"
      ],
      "image/png": "[encoded data removed]",
      "text/latex": "$\\displaystyle 4.62132034355964$"
     },
     "metadata": {},
     "execution_count": 7
    }
   ],
   "source": [
    "x,y,z=symbols('x y z')\n",
    "directional_derivative_xyz(x*y+y*z+z*x,x,y,z,1/2,1/2**0.5,1/2,1,1,2)"
   ]
  },
  {
   "cell_type": "code",
   "execution_count": 8,
   "metadata": {},
   "outputs": [],
   "source": [
    "#计算二元函数(默认)的梯度表达式\n",
    "#如果X=‘xyz’则计算三元函数的梯度表达式\n",
    "#如果point(默认为None)为指定点，则计算这个点的梯度\n",
    "def grad(f,X='xy',point=None):\n",
    "    try:\n",
    "        if X=='xy':\n",
    "            x,y=symbols('x y')\n",
    "            fx=f.diff(x)\n",
    "            fy=f.diff(y)\n",
    "            if point is None:return (fx,fy)\n",
    "            else:\n",
    "                return (fx.subs([(x,point[0]),(y,point[1])]),\\\n",
    "                    fy.subs([(x,point[0]),(y,point[1])]))\n",
    "        if X=='xyz':\n",
    "            x,y,z=symbols('x y z')\n",
    "            fx=f.diff(x)\n",
    "            fy=f.diff(y)\n",
    "            fz=f.diff(z)\n",
    "            if point is None:return (fx,fy,fz)\n",
    "            else:\n",
    "                return (fx.subs([(x,point[0]),(y,point[1]),(z,point[2])]),\\\n",
    "                        fy.subs([(x,point[0]),(y,point[1]),(z,point[2])]),\\\n",
    "                        fz.subs([(x,point[0]),(y,point[1]),(z,point[2])]))\n",
    "    except:\n",
    "        print('参数设置错误，请认真理解grad的用法！')"
   ]
  },
  {
   "cell_type": "code",
   "execution_count": 9,
   "metadata": {},
   "outputs": [],
   "source": [
    "#例10.16"
   ]
  },
  {
   "cell_type": "code",
   "execution_count": 10,
   "metadata": {},
   "outputs": [
    {
     "output_type": "execute_result",
     "data": {
      "text/plain": [
       "⎛  -2⋅x        -2⋅y    ⎞\n",
       "⎜──────────, ──────────⎟\n",
       "⎜         2           2⎟\n",
       "⎜⎛ 2    2⎞   ⎛ 2    2⎞ ⎟\n",
       "⎝⎝x  + y ⎠   ⎝x  + y ⎠ ⎠"
      ],
      "image/png": "[encoded data removed]",
      "text/latex": "$\\displaystyle \\left( - \\frac{2 x}{\\left(x^{2} + y^{2}\\right)^{2}}, \\  - \\frac{2 y}{\\left(x^{2} + y^{2}\\right)^{2}}\\right)$"
     },
     "metadata": {},
     "execution_count": 10
    }
   ],
   "source": [
    "x,y=symbols('x y')\n",
    "#计算梯度表达式\n",
    "grad(1/(x**2+y**2))"
   ]
  },
  {
   "cell_type": "code",
   "execution_count": 11,
   "metadata": {},
   "outputs": [],
   "source": [
    "#例10.17"
   ]
  },
  {
   "cell_type": "code",
   "execution_count": 12,
   "metadata": {},
   "outputs": [
    {
     "output_type": "execute_result",
     "data": {
      "text/plain": [
       "(2, -2, -1)"
      ],
      "image/png": "[encoded data removed]",
      "text/latex": "$\\displaystyle \\left( 2, \\  -2, \\  -1\\right)$"
     },
     "metadata": {},
     "execution_count": 12
    }
   ],
   "source": [
    "x,y,z=symbols('x y z')\n",
    "#计算梯度\n",
    "grad((x**3-x*y**2-z),X='xyz',point=[1,1,0])"
   ]
  },
  {
   "cell_type": "code",
   "execution_count": 13,
   "metadata": {
    "tags": []
   },
   "outputs": [
    {
     "output_type": "stream",
     "name": "stdout",
     "text": [
      "参数设置错误，请认真理解grad的用法！\n"
     ]
    }
   ],
   "source": [
    "#错误的调用\n",
    "grad((x**3-x*y**2-z),X='xyz',point=[1,1])"
   ]
  },
  {
   "cell_type": "code",
   "execution_count": null,
   "metadata": {},
   "outputs": [],
   "source": []
  }
 ],
 "metadata": {
  "language_info": {
   "codemirror_mode": {
    "name": "ipython",
    "version": 3
   },
   "file_extension": ".py",
   "mimetype": "text/x-python",
   "name": "python",
   "nbconvert_exporter": "python",
   "pygments_lexer": "ipython3",
   "version": "3.6.1-final"
  },
  "orig_nbformat": 2,
  "kernelspec": {
   "name": "python36164bit1d6dd37536b64fb6a5530f9598c6f3c0",
   "display_name": "Python 3.6.1 64-bit",
   "language": "python"
  }
 },
 "nbformat": 4,
 "nbformat_minor": 2
}