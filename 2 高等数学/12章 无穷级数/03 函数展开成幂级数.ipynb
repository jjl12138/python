{
 "cells": [
  {
   "cell_type": "code",
   "execution_count": 1,
   "metadata": {},
   "outputs": [],
   "source": [
    "from sympy import *\n",
    "init_printing()"
   ]
  },
  {
   "cell_type": "code",
   "execution_count": 2,
   "metadata": {},
   "outputs": [],
   "source": [
    "#例12.15"
   ]
  },
  {
   "cell_type": "code",
   "execution_count": 3,
   "metadata": {},
   "outputs": [
    {
     "data": {
      "image/png": "[encoded data removed]",
      "text/latex": [
       "$$1 - x + x^{2} - x^{3} + x^{4} - x^{5} + O\\left(x^{6}\\right)$$"
      ],
      "text/plain": [
       "         2    3    4    5    ⎛ 6⎞\n",
       "1 - x + x  - x  + x  - x  + O⎝x ⎠"
      ]
     },
     "execution_count": 3,
     "metadata": {},
     "output_type": "execute_result"
    }
   ],
   "source": [
    "x=Symbol('x',real=True)\n",
    "series(1/(1+x))"
   ]
  },
  {
   "cell_type": "code",
   "execution_count": 4,
   "metadata": {},
   "outputs": [],
   "source": [
    "#例12.16"
   ]
  },
  {
   "cell_type": "code",
   "execution_count": 5,
   "metadata": {},
   "outputs": [
    {
     "data": {
      "image/png": "[encoded data removed]",
      "text/latex": [
       "$$x - \\frac{x^{3}}{3} + \\frac{x^{5}}{5} - \\frac{x^{7}}{7} + \\frac{x^{9}}{9} + O\\left(x^{10}\\right)$$"
      ],
      "text/plain": [
       "     3    5    7    9         \n",
       "    x    x    x    x     ⎛ 10⎞\n",
       "x - ── + ── - ── + ── + O⎝x  ⎠\n",
       "    3    5    7    9          "
      ]
     },
     "execution_count": 5,
     "metadata": {},
     "output_type": "execute_result"
    }
   ],
   "source": [
    "series(atan(x),n=10)"
   ]
  },
  {
   "cell_type": "code",
   "execution_count": 6,
   "metadata": {},
   "outputs": [],
   "source": [
    "#例12.17"
   ]
  },
  {
   "cell_type": "code",
   "execution_count": 7,
   "metadata": {},
   "outputs": [
    {
     "data": {
      "image/png": "[encoded data removed]",
      "text/latex": [
       "$$x - \\frac{3 x^{2}}{2} + \\frac{5 x^{3}}{6} - \\frac{7 x^{4}}{12} + \\frac{9 x^{5}}{20} - \\frac{11 x^{6}}{30} + \\frac{13 x^{7}}{42} - \\frac{15 x^{8}}{56} + \\frac{17 x^{9}}{72} - \\frac{19 x^{10}}{90} + \\frac{21 x^{11}}{110} + O\\left(x^{12}\\right)$$"
      ],
      "text/plain": [
       "       2      3      4      5       6       7       8       9       10       1\n",
       "    3⋅x    5⋅x    7⋅x    9⋅x    11⋅x    13⋅x    15⋅x    17⋅x    19⋅x     21⋅x \n",
       "x - ──── + ──── - ──── + ──── - ───── + ───── - ───── + ───── - ────── + ─────\n",
       "     2      6      12     20      30      42      56      72      90      110 \n",
       "\n",
       "1         \n",
       "     ⎛ 12⎞\n",
       "─ + O⎝x  ⎠\n",
       "          "
      ]
     },
     "execution_count": 7,
     "metadata": {},
     "output_type": "execute_result"
    }
   ],
   "source": [
    "f=(1-x)*log(1+x)\n",
    "series(f,n=12)"
   ]
  },
  {
   "cell_type": "code",
   "execution_count": 8,
   "metadata": {},
   "outputs": [],
   "source": [
    "#例12.18"
   ]
  },
  {
   "cell_type": "code",
   "execution_count": 9,
   "metadata": {},
   "outputs": [
    {
     "data": {
      "image/png": "[encoded data removed]",
      "text/latex": [
       "$$\\frac{\\sqrt{2}}{2} + \\frac{\\sqrt{2} \\left(x - \\frac{\\pi}{4}\\right)}{2} - \\frac{\\sqrt{2} \\left(x - \\frac{\\pi}{4}\\right)^{2}}{4} - \\frac{\\sqrt{2} \\left(x - \\frac{\\pi}{4}\\right)^{3}}{12} + \\frac{\\sqrt{2} \\left(x - \\frac{\\pi}{4}\\right)^{4}}{48} + \\frac{\\sqrt{2} \\left(x - \\frac{\\pi}{4}\\right)^{5}}{240} + O\\left(\\left(x - \\frac{\\pi}{4}\\right)^{6}; x\\rightarrow \\frac{\\pi}{4}\\right)$$"
      ],
      "text/plain": [
       "                            2             3             4             5       \n",
       "        ⎛    π⎞      ⎛    π⎞       ⎛    π⎞       ⎛    π⎞       ⎛    π⎞        \n",
       "     √2⋅⎜x - ─⎟   √2⋅⎜x - ─⎟    √2⋅⎜x - ─⎟    √2⋅⎜x - ─⎟    √2⋅⎜x - ─⎟     ⎛  \n",
       "√2      ⎝    4⎠      ⎝    4⎠       ⎝    4⎠       ⎝    4⎠       ⎝    4⎠     ⎜⎛ \n",
       "── + ────────── - ─────────── - ─────────── + ─────────── + ─────────── + O⎜⎜x\n",
       "2        2             4             12            48           240        ⎝⎝ \n",
       "\n",
       "              \n",
       "              \n",
       "     6       ⎞\n",
       "   π⎞       π⎟\n",
       " - ─⎟ ; x → ─⎟\n",
       "   4⎠       4⎠"
      ]
     },
     "execution_count": 9,
     "metadata": {},
     "output_type": "execute_result"
    }
   ],
   "source": [
    "f=sin(x)\n",
    "series(f,x0=pi/4)"
   ]
  },
  {
   "cell_type": "code",
   "execution_count": 10,
   "metadata": {},
   "outputs": [],
   "source": [
    "#例12.19"
   ]
  },
  {
   "cell_type": "code",
   "execution_count": 11,
   "metadata": {},
   "outputs": [
    {
     "data": {
      "image/png": "[encoded data removed]",
      "text/latex": [
       "$$\\frac{7}{32} + \\frac{7 \\left(x - 1\\right)^{2}}{128} - \\frac{15 \\left(x - 1\\right)^{3}}{512} + \\frac{31 \\left(x - 1\\right)^{4}}{2048} - \\frac{63 \\left(x - 1\\right)^{5}}{8192} - \\frac{3 x}{32} + O\\left(\\left(x - 1\\right)^{6}; x\\rightarrow 1\\right)$$"
      ],
      "text/plain": [
       "              2             3             4             5                     \n",
       "7    7⋅(x - 1)    15⋅(x - 1)    31⋅(x - 1)    63⋅(x - 1)    3⋅x    ⎛       6  \n",
       "── + ────────── - ─────────── + ─────────── - ─────────── - ─── + O⎝(x - 1) ; \n",
       "32      128           512           2048          8192       32               \n",
       "\n",
       "      \n",
       "     ⎞\n",
       "x → 1⎠\n",
       "      "
      ]
     },
     "execution_count": 11,
     "metadata": {},
     "output_type": "execute_result"
    }
   ],
   "source": [
    "f=1/(x**2+4*x+3)\n",
    "series(f,x0=1)"
   ]
  },
  {
   "cell_type": "code",
   "execution_count": null,
   "metadata": {},
   "outputs": [],
   "source": []
  }
 ],
 "metadata": {
  "kernelspec": {
   "display_name": "Python 3.7.1 ('base')",
   "language": "python",
   "name": "python3"
  },
  "language_info": {
   "codemirror_mode": {
    "name": "ipython",
    "version": 3
   },
   "file_extension": ".py",
   "mimetype": "text/x-python",
   "name": "python",
   "nbconvert_exporter": "python",
   "pygments_lexer": "ipython3",
   "version": "3.7.1"
  },
  "orig_nbformat": 2,
  "vscode": {
   "interpreter": {
    "hash": "e42634819b8c191a5d07eaf23810ff32516dd8d3875f28ec3e488928fbd3c187"
   }
  }
 },
 "nbformat": 4,
 "nbformat_minor": 2
}
