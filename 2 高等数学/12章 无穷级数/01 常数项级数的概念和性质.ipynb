{
 "cells": [
  {
   "cell_type": "code",
   "execution_count": 1,
   "metadata": {},
   "outputs": [
    {
     "output_type": "execute_result",
     "data": {
      "text/plain": [
       "0.0925656189127152"
      ]
     },
     "metadata": {},
     "execution_count": 1
    }
   ],
   "source": [
    "import numpy as np\n",
    "x_1=np.linspace(1,1000,1000)\n",
    "x_2=np.linspace(1001,2000,1000)\n",
    "np.sum(1/x_2)/np.sum(1/x_1)"
   ]
  },
  {
   "cell_type": "code",
   "execution_count": 2,
   "metadata": {},
   "outputs": [],
   "source": [
    "#判定一个级数是否收敛\n",
    "#如果收敛计算其前10000项的和，作为收敛值的近似值返回；否则返回False\n",
    "def bConvergent(f,C=0.0925656):\n",
    "    try:\n",
    "        n_1=np.linspace(1,1000,1000)\n",
    "        n_2=np.linspace(1001,2000,1000)\n",
    "        rate=np.sum(f(n_2))/np.sum(f(n_1))\n",
    "        bCon=rate<C\n",
    "        val=0.0\n",
    "        if bCon:\n",
    "            n_3=np.linspace(1,10000,10000)\n",
    "            val=np.sum(f(n_3))\n",
    "            return val\n",
    "        else:return False\n",
    "    except:\n",
    "        return False"
   ]
  },
  {
   "cell_type": "code",
   "execution_count": null,
   "metadata": {},
   "outputs": [],
   "source": [
    "#例12.1"
   ]
  },
  {
   "cell_type": "code",
   "execution_count": 3,
   "metadata": {},
   "outputs": [
    {
     "output_type": "execute_result",
     "data": {
      "text/plain": [
       "416.6666666513915"
      ]
     },
     "metadata": {},
     "execution_count": 3
    }
   ],
   "source": [
    "q=0.9976 \n",
    "def f(n):return q**(n-1)\n",
    "bConvergent(f)"
   ]
  },
  {
   "cell_type": "code",
   "execution_count": null,
   "metadata": {},
   "outputs": [],
   "source": [
    "#例12.2"
   ]
  },
  {
   "cell_type": "code",
   "execution_count": 4,
   "metadata": {},
   "outputs": [
    {
     "output_type": "execute_result",
     "data": {
      "text/plain": [
       "False"
      ]
     },
     "metadata": {},
     "execution_count": 4
    }
   ],
   "source": [
    "def f(n):return 1 if n%2==1 else -1\n",
    "bConvergent(f)"
   ]
  },
  {
   "cell_type": "code",
   "execution_count": null,
   "metadata": {},
   "outputs": [],
   "source": [
    "#例12.3"
   ]
  },
  {
   "cell_type": "code",
   "execution_count": 5,
   "metadata": {},
   "outputs": [
    {
     "output_type": "execute_result",
     "data": {
      "text/plain": [
       "0.9999000099989999"
      ]
     },
     "metadata": {},
     "execution_count": 5
    }
   ],
   "source": [
    "def f(n):return 1/n/(n+1)\n",
    "bConvergent(f)"
   ]
  },
  {
   "cell_type": "code",
   "execution_count": null,
   "metadata": {},
   "outputs": [],
   "source": [
    "#例12.4"
   ]
  },
  {
   "cell_type": "code",
   "execution_count": 6,
   "metadata": {},
   "outputs": [
    {
     "output_type": "execute_result",
     "data": {
      "text/plain": [
       "5.586925199207137"
      ]
     },
     "metadata": {},
     "execution_count": 6
    }
   ],
   "source": [
    "def f(n):return 1/(2*n-1)\n",
    "bConvergent(f)"
   ]
  },
  {
   "cell_type": "code",
   "execution_count": 7,
   "metadata": {},
   "outputs": [
    {
     "output_type": "execute_result",
     "data": {
      "text/plain": [
       "0.07813396648879643"
      ]
     },
     "metadata": {},
     "execution_count": 7
    }
   ],
   "source": [
    "x2=np.arange(2001,4000,2)\n",
    "x1=np.arange(1,2000,2)\n",
    "np.sum(1/x2)/np.sum(1/x1)"
   ]
  },
  {
   "cell_type": "code",
   "execution_count": null,
   "metadata": {},
   "outputs": [],
   "source": [
    "#例12.5"
   ]
  },
  {
   "cell_type": "code",
   "execution_count": 8,
   "metadata": {},
   "outputs": [
    {
     "output_type": "execute_result",
     "data": {
      "text/plain": [
       "1.6448340718480603"
      ]
     },
     "metadata": {},
     "execution_count": 8
    }
   ],
   "source": [
    "def f(n):return n**(-2)\n",
    "bConvergent(f)"
   ]
  },
  {
   "cell_type": "code",
   "execution_count": null,
   "metadata": {},
   "outputs": [],
   "source": []
  }
 ],
 "metadata": {
  "language_info": {
   "codemirror_mode": {
    "name": "ipython",
    "version": 3
   },
   "file_extension": ".py",
   "mimetype": "text/x-python",
   "name": "python",
   "nbconvert_exporter": "python",
   "pygments_lexer": "ipython3",
   "version": "3.6.1-final"
  },
  "orig_nbformat": 2,
  "kernelspec": {
   "name": "python3",
   "display_name": "Python 3.6.1 64-bit",
   "metadata": {
    "interpreter": {
     "hash": "4ce0e62306dd6a5716965d4519ada776f947e6dfc145b604b11307c10277ef29"
    }
   }
  }
 },
 "nbformat": 4,
 "nbformat_minor": 2
}