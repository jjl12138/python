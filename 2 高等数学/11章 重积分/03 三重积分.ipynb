{
 "cells": [
  {
   "cell_type": "code",
   "execution_count": 17,
   "metadata": {},
   "outputs": [],
   "source": [
    "from sympy import init_printing,symbols,integrate,pi,sin,cos,simplify\n",
    "#tplquad()计算三重积分\n",
    "from scipy.integrate import tplquad\n",
    "init_printing()"
   ]
  },
  {
   "cell_type": "code",
   "execution_count": 18,
   "metadata": {},
   "outputs": [],
   "source": [
    "#例11.8"
   ]
  },
  {
   "cell_type": "code",
   "execution_count": 19,
   "metadata": {},
   "outputs": [
    {
     "data": {
      "image/png": "[encoded data removed]",
      "text/latex": [
       "$$\\frac{1}{48}$$"
      ],
      "text/plain": [
       "1/48"
      ]
     },
     "execution_count": 19,
     "metadata": {},
     "output_type": "execute_result"
    }
   ],
   "source": [
    "x,y,z=symbols('x y z')\n",
    "integrate(x,(z,0,1-x-2*y),(y,0,(1-x)/2),(x,0,1))"
   ]
  },
  {
   "cell_type": "code",
   "execution_count": 20,
   "metadata": {},
   "outputs": [
    {
     "data": {
      "image/png": "[encoded data removed]",
      "text/latex": [
       "$$\\left ( 0.020833333333333332, \\quad 0.020833333333333332\\right )$$"
      ],
      "text/plain": [
       "(0.020833333333333332, 0.020833333333333332)"
      ]
     },
     "execution_count": 20,
     "metadata": {},
     "output_type": "execute_result"
    }
   ],
   "source": [
    "val,err=tplquad(lambda x,y,z:x,0,1,lambda x:0,lambda x:(1-x)/2,lambda x,y:0,lambda x,y:1-x-2*y)\n",
    "#数值解和解析解比较\n",
    "val,1/48"
   ]
  },
  {
   "cell_type": "code",
   "execution_count": 21,
   "metadata": {},
   "outputs": [],
   "source": [
    "#例11.9"
   ]
  },
  {
   "cell_type": "code",
   "execution_count": 22,
   "metadata": {},
   "outputs": [
    {
     "data": {
      "image/png": "[encoded data removed]",
      "text/latex": [
       "$$\\frac{32 \\pi}{3}$$"
      ],
      "text/plain": [
       "32⋅π\n",
       "────\n",
       " 3  "
      ]
     },
     "execution_count": 22,
     "metadata": {},
     "output_type": "execute_result"
    }
   ],
   "source": [
    "from sympy import pi\n",
    "theta,rho,z=symbols('theta rho z')\n",
    "#使用sympy.integrate求三重积分的解析解\n",
    "integrate(rho*z,(z,0,rho**2),(rho,0,2),(theta,0,2*pi))"
   ]
  },
  {
   "cell_type": "code",
   "execution_count": 23,
   "metadata": {},
   "outputs": [],
   "source": [
    "#例11.10"
   ]
  },
  {
   "cell_type": "code",
   "execution_count": 25,
   "metadata": {},
   "outputs": [
    {
     "data": {
      "image/png": "[encoded data removed]",
      "text/latex": [
       "$$\\frac{4 \\pi a^{3} \\left(- \\cos^{4}{\\left (a \\right )} + 1\\right)}{3}$$"
      ],
      "text/plain": [
       "     3 ⎛     4       ⎞\n",
       "4⋅π⋅a ⋅⎝- cos (a) + 1⎠\n",
       "──────────────────────\n",
       "          3           "
      ]
     },
     "execution_count": 25,
     "metadata": {},
     "output_type": "execute_result"
    }
   ],
   "source": [
    "r,phi,theta=symbols('r,phi,theta')\n",
    "alpha,a=symbols('alpha a',positive=True)\n",
    "result=integrate(r**2*sin(phi),(r,0,2*a*cos(phi)),\\\n",
    "    (phi,0,a),(theta,0,2*pi))\n",
    "simplify(result)"
   ]
  },
  {
   "cell_type": "code",
   "execution_count": null,
   "metadata": {},
   "outputs": [],
   "source": []
  }
 ],
 "metadata": {
  "kernelspec": {
   "display_name": "Python 3.7.1 ('base')",
   "language": "python",
   "name": "python3"
  },
  "language_info": {
   "codemirror_mode": {
    "name": "ipython",
    "version": 3
   },
   "file_extension": ".py",
   "mimetype": "text/x-python",
   "name": "python",
   "nbconvert_exporter": "python",
   "pygments_lexer": "ipython3",
   "version": "3.7.1"
  },
  "orig_nbformat": 2,
  "vscode": {
   "interpreter": {
    "hash": "e42634819b8c191a5d07eaf23810ff32516dd8d3875f28ec3e488928fbd3c187"
   }
  }
 },
 "nbformat": 4,
 "nbformat_minor": 2
}
