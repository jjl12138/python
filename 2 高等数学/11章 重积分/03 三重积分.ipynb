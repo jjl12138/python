{
 "cells": [
  {
   "cell_type": "code",
   "execution_count": 1,
   "metadata": {},
   "outputs": [],
   "source": [
    "from sympy import init_printing,symbols,integrate,pi,sin,cos,simplify\n",
    "#tplquad()计算三重积分\n",
    "from scipy.integrate import tplquad\n",
    "init_printing()"
   ]
  },
  {
   "cell_type": "code",
   "execution_count": null,
   "metadata": {},
   "outputs": [],
   "source": [
    "#例11.8"
   ]
  },
  {
   "cell_type": "code",
   "execution_count": 2,
   "metadata": {},
   "outputs": [
    {
     "output_type": "execute_result",
     "data": {
      "text/plain": [
       "1/48"
      ],
      "image/png": "[encoded data removed]",
      "text/latex": "$\\displaystyle \\frac{1}{48}$"
     },
     "metadata": {},
     "execution_count": 2
    }
   ],
   "source": [
    "x,y,z=symbols('x y z')\n",
    "integrate(x,(z,0,1-x-2*y),(y,0,(1-x)/2),(x,0,1))"
   ]
  },
  {
   "cell_type": "code",
   "execution_count": 3,
   "metadata": {},
   "outputs": [
    {
     "output_type": "execute_result",
     "data": {
      "text/plain": [
       "(0.020833333333333332, 0.020833333333333332)"
      ],
      "image/png": "[encoded data removed]",
      "text/latex": "$\\displaystyle \\left( 0.020833333333333332, \\  0.020833333333333332\\right)$"
     },
     "metadata": {},
     "execution_count": 3
    }
   ],
   "source": [
    "val,err=tplquad(lambda x,y,z:x,0,1,lambda x:0,lambda x:(1-x)/2,lambda x,y:0,lambda x,y:1-x-2*y)\n",
    "#数值解和解析解比较\n",
    "val,1/48"
   ]
  },
  {
   "cell_type": "code",
   "execution_count": null,
   "metadata": {},
   "outputs": [],
   "source": [
    "#例11.9"
   ]
  },
  {
   "cell_type": "code",
   "execution_count": 4,
   "metadata": {},
   "outputs": [
    {
     "output_type": "execute_result",
     "data": {
      "text/plain": [
       "64⋅π\n",
       "────\n",
       " 3  "
      ],
      "image/png": "[encoded data removed]",
      "text/latex": "$\\displaystyle \\frac{64 \\pi}{3}$"
     },
     "metadata": {},
     "execution_count": 4
    }
   ],
   "source": [
    "from sympy import pi\n",
    "theta,rho,z=symbols('theta rho z')\n",
    "#使用sympy.integrate求三重积分的解析解\n",
    "integrate(rho*z,(z,rho**2,4),(rho,0,2),(theta,0,2*pi))"
   ]
  },
  {
   "cell_type": "code",
   "execution_count": null,
   "metadata": {},
   "outputs": [],
   "source": [
    "#例11.10"
   ]
  },
  {
   "cell_type": "code",
   "execution_count": 5,
   "metadata": {},
   "outputs": [
    {
     "output_type": "execute_result",
     "data": {
      "text/plain": [
       "     3 ⎛       4   ⎞\n",
       "4⋅π⋅a ⋅⎝1 - cos (α)⎠\n",
       "────────────────────\n",
       "         3          "
      ],
      "image/png": "[encoded data removed]",
      "text/latex": "$\\displaystyle \\frac{4 \\pi a^{3} \\left(1 - \\cos^{4}{\\left(\\alpha \\right)}\\right)}{3}$"
     },
     "metadata": {},
     "execution_count": 5
    }
   ],
   "source": [
    "r,phi,theta=symbols('r,phi,theta')\n",
    "alpha,a=symbols('alpha a',positive=True)\n",
    "result=integrate(r**2*sin(phi),(r,0,2*a*cos(phi)),\\\n",
    "    (phi,0,alpha),(theta,0,2*pi))\n",
    "simplify(result)"
   ]
  },
  {
   "cell_type": "code",
   "execution_count": null,
   "metadata": {},
   "outputs": [],
   "source": []
  }
 ],
 "metadata": {
  "language_info": {
   "codemirror_mode": {
    "name": "ipython",
    "version": 3
   },
   "file_extension": ".py",
   "mimetype": "text/x-python",
   "name": "python",
   "nbconvert_exporter": "python",
   "pygments_lexer": "ipython3",
   "version": "3.6.1-final"
  },
  "orig_nbformat": 2,
  "kernelspec": {
   "name": "python3",
   "display_name": "Python 3.6.1 64-bit",
   "metadata": {
    "interpreter": {
     "hash": "4ce0e62306dd6a5716965d4519ada776f947e6dfc145b604b11307c10277ef29"
    }
   }
  }
 },
 "nbformat": 4,
 "nbformat_minor": 2
}