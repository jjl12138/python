{
 "cells": [
  {
   "cell_type": "code",
   "execution_count": 1,
   "metadata": {},
   "outputs": [],
   "source": [
    "from sympy import integrate,init_printing,symbols\n",
    "from scipy.integrate import dblquad\n",
    "init_printing()"
   ]
  },
  {
   "cell_type": "code",
   "execution_count": 2,
   "metadata": {},
   "outputs": [],
   "source": [
    "#例11.3"
   ]
  },
  {
   "cell_type": "code",
   "execution_count": 3,
   "metadata": {},
   "outputs": [
    {
     "output_type": "execute_result",
     "data": {
      "text/plain": [
       "9/8"
      ],
      "image/png": "[encoded data removed]",
      "text/latex": "$\\displaystyle \\frac{9}{8}$"
     },
     "metadata": {},
     "execution_count": 3
    }
   ],
   "source": [
    "x,y=symbols('x y')\n",
    "f=x*y\n",
    "integrate(f,(y,1,x),(x,1,2)) #注意先y后x"
   ]
  },
  {
   "cell_type": "code",
   "execution_count": 4,
   "metadata": {},
   "outputs": [
    {
     "output_type": "execute_result",
     "data": {
      "text/plain": [
       "1.125"
      ],
      "image/png": "[encoded data removed]",
      "text/latex": "$\\displaystyle 1.125$"
     },
     "metadata": {},
     "execution_count": 4
    }
   ],
   "source": [
    "f=lambda x,y:x*y\n",
    "g=lambda x:1\n",
    "h=lambda x:x\n",
    "#dblquad()求二重积分\n",
    "val,err=dblquad(f,1,2,g,h)\n",
    "#也可以直接将f,g,h写入参数，如下：\n",
    "#val,err=dblquad(lambda x,y:x*y,1,2,lambda x:1,lambda x:x)\n",
    "val"
   ]
  },
  {
   "cell_type": "code",
   "execution_count": 5,
   "metadata": {},
   "outputs": [],
   "source": [
    "#例11.4"
   ]
  },
  {
   "cell_type": "code",
   "execution_count": 6,
   "metadata": {
    "tags": []
   },
   "outputs": [
    {
     "output_type": "execute_result",
     "data": {
      "text/plain": [
       "-0.5000000000000175"
      ],
      "image/png": "[encoded data removed]",
      "text/latex": "$\\displaystyle -0.5000000000000175$"
     },
     "metadata": {},
     "execution_count": 6
    }
   ],
   "source": [
    "from sympy import sqrt\n",
    "x,y=symbols('x y')\n",
    "#下行代码又遇到了绝对值问题，没有产生结果\n",
    "#integrate(x*sqrt(1+x**2-y**2),(y,x,1),(x,-1,1))\n",
    "#尝试使用dblquad\n",
    "val,err=dblquad(lambda x,y:y*(1+x**2-y**2)**(1/2),\\\n",
    "    -1,1,lambda x:x,lambda x:1)\n",
    "val"
   ]
  },
  {
   "cell_type": "code",
   "execution_count": 7,
   "metadata": {},
   "outputs": [],
   "source": [
    "#例11.5"
   ]
  },
  {
   "cell_type": "code",
   "execution_count": 8,
   "metadata": {},
   "outputs": [
    {
     "output_type": "stream",
     "name": "stdout",
     "text": [
      "45/8\n5.624999999999999\n"
     ]
    }
   ],
   "source": [
    "x,y=symbols('x y')\n",
    "print(integrate(x*y,(x,y**2,y+2),(y,-1,2)))\n",
    "var,_=dblquad(lambda x,y:x*y,-1,2,lambda y:y**2,lambda y:y+2)\n",
    "print(var)"
   ]
  },
  {
   "cell_type": "code",
   "execution_count": 9,
   "metadata": {},
   "outputs": [
    {
     "output_type": "stream",
     "name": "stdout",
     "text": [
      "7.080025729198077e-14\n"
     ]
    }
   ],
   "source": [
    "print(_)"
   ]
  },
  {
   "cell_type": "code",
   "execution_count": 10,
   "metadata": {},
   "outputs": [],
   "source": [
    "#例11.6"
   ]
  },
  {
   "cell_type": "code",
   "execution_count": 11,
   "metadata": {},
   "outputs": [
    {
     "output_type": "execute_result",
     "data": {
      "text/plain": [
       "(ρ, θ)"
      ],
      "image/png": "[encoded data removed]",
      "text/latex": "$\\displaystyle \\left( \\rho, \\  \\theta\\right)$"
     },
     "metadata": {},
     "execution_count": 11
    }
   ],
   "source": [
    "from sympy import E,pi,simplify\n",
    "rho,theta,a=symbols('rho,theta,a')\n",
    "#积累获得这些数学符号的方法\n",
    "rho,theta"
   ]
  },
  {
   "cell_type": "code",
   "execution_count": 12,
   "metadata": {},
   "outputs": [
    {
     "output_type": "execute_result",
     "data": {
      "text/plain": [
       "         2\n",
       "       -a \n",
       "π - π⋅ℯ   "
      ],
      "image/png": "[encoded data removed]",
      "text/latex": "$\\displaystyle \\pi - \\pi e^{- a^{2}}$"
     },
     "metadata": {},
     "execution_count": 12
    }
   ],
   "source": [
    "result=integrate(rho*E**(-rho**2),(rho,0,a),(theta,0,2*pi))\n",
    "simplify(result)"
   ]
  },
  {
   "cell_type": "code",
   "execution_count": 13,
   "metadata": {},
   "outputs": [],
   "source": [
    "#例11.7"
   ]
  },
  {
   "cell_type": "code",
   "execution_count": 14,
   "metadata": {},
   "outputs": [
    {
     "output_type": "execute_result",
     "data": {
      "text/plain": [
       "(2.3504023872876028, 2.3504023872876028)"
      ],
      "image/png": "[encoded data removed]",
      "text/latex": "$\\displaystyle \\left( 2.3504023872876028, \\  2.3504023872876028\\right)$"
     },
     "metadata": {},
     "execution_count": 14
    }
   ],
   "source": [
    "import numpy as np\n",
    "val,err=dblquad(lambda x,y:np.e**((y-x)/(y+x)),\\\n",
    "    0,2,lambda x:0,lambda x:2-x)\n",
    "#比较数值解和解析解\n",
    "val,np.e-1/np.e"
   ]
  },
  {
   "cell_type": "code",
   "execution_count": null,
   "metadata": {},
   "outputs": [],
   "source": []
  }
 ],
 "metadata": {
  "language_info": {
   "codemirror_mode": {
    "name": "ipython",
    "version": 3
   },
   "file_extension": ".py",
   "mimetype": "text/x-python",
   "name": "python",
   "nbconvert_exporter": "python",
   "pygments_lexer": "ipython3",
   "version": "3.6.1-final"
  },
  "orig_nbformat": 2,
  "kernelspec": {
   "name": "python3",
   "display_name": "Python 3.6.1 64-bit",
   "metadata": {
    "interpreter": {
     "hash": "4ce0e62306dd6a5716965d4519ada776f947e6dfc145b604b11307c10277ef29"
    }
   }
  }
 },
 "nbformat": 4,
 "nbformat_minor": 2
}