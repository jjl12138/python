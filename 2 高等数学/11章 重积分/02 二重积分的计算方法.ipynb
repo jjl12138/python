{
 "cells": [
  {
   "cell_type": "code",
   "execution_count": 17,
   "metadata": {},
   "outputs": [],
   "source": [
    "from sympy import integrate,init_printing,symbols\n",
    "from scipy.integrate import dblquad\n",
    "init_printing()"
   ]
  },
  {
   "cell_type": "code",
   "execution_count": 18,
   "metadata": {},
   "outputs": [],
   "source": [
    "#例11.3"
   ]
  },
  {
   "cell_type": "code",
   "execution_count": 19,
   "metadata": {},
   "outputs": [
    {
     "data": {
      "image/png": "[encoded data removed]",
      "text/latex": [
       "$$\\frac{9}{8}$$"
      ],
      "text/plain": [
       "9/8"
      ]
     },
     "execution_count": 19,
     "metadata": {},
     "output_type": "execute_result"
    }
   ],
   "source": [
    "x,y=symbols('x y')\n",
    "f=x*y\n",
    "integrate(f,(y,1,x),(x,1,2)) #注意先y后x"
   ]
  },
  {
   "cell_type": "code",
   "execution_count": 20,
   "metadata": {},
   "outputs": [
    {
     "data": {
      "image/png": "[encoded data removed]",
      "text/latex": [
       "$$1.125$$"
      ],
      "text/plain": [
       "1.125"
      ]
     },
     "execution_count": 20,
     "metadata": {},
     "output_type": "execute_result"
    }
   ],
   "source": [
    "f=lambda x,y:x*y\n",
    "g=lambda x:1\n",
    "h=lambda x:x\n",
    "#dblquad()求二重积分\n",
    "val,err=dblquad(f,1,2,g,h)\n",
    "#也可以直接将f,g,h写入参数，如下：\n",
    "#val,err=dblquad(lambda x,y:x*y,1,2,lambda x:1,lambda x:x)\n",
    "val"
   ]
  },
  {
   "cell_type": "code",
   "execution_count": 21,
   "metadata": {},
   "outputs": [],
   "source": [
    "#例11.4"
   ]
  },
  {
   "cell_type": "code",
   "execution_count": 22,
   "metadata": {
    "tags": []
   },
   "outputs": [
    {
     "data": {
      "image/png": "[encoded data removed]",
      "text/latex": [
       "$$-0.5000000000000175$$"
      ],
      "text/plain": [
       "-0.5000000000000175"
      ]
     },
     "execution_count": 22,
     "metadata": {},
     "output_type": "execute_result"
    }
   ],
   "source": [
    "from sympy import sqrt\n",
    "x,y=symbols('x y')\n",
    "#下行代码又遇到了绝对值问题，没有产生结果\n",
    "#integrate(x*sqrt(1+x**2-y**2),(y,x,1),(x,-1,1))\n",
    "#尝试使用dblquad\n",
    "val,err=dblquad(lambda x,y:y*(1+x**2-y**2)**(1/2),\\\n",
    "    -1,1,lambda x:x,lambda x:1)\n",
    "val"
   ]
  },
  {
   "cell_type": "code",
   "execution_count": 23,
   "metadata": {},
   "outputs": [],
   "source": [
    "#例11.5"
   ]
  },
  {
   "cell_type": "code",
   "execution_count": 24,
   "metadata": {},
   "outputs": [
    {
     "name": "stdout",
     "output_type": "stream",
     "text": [
      "45/8\n",
      "5.624999999999999\n"
     ]
    }
   ],
   "source": [
    "x,y=symbols('x y')\n",
    "print(integrate(x*y,(x,y**2,y+2),(y,-1,2)))\n",
    "var,_=dblquad(lambda x,y:x*y,-1,2,lambda y:y**2,lambda y:y+2)\n",
    "print(var)"
   ]
  },
  {
   "cell_type": "code",
   "execution_count": 25,
   "metadata": {},
   "outputs": [
    {
     "name": "stdout",
     "output_type": "stream",
     "text": [
      "7.080025729198077e-14\n"
     ]
    }
   ],
   "source": [
    "print(_)"
   ]
  },
  {
   "cell_type": "code",
   "execution_count": 26,
   "metadata": {},
   "outputs": [],
   "source": [
    "#例11.6"
   ]
  },
  {
   "cell_type": "code",
   "execution_count": 27,
   "metadata": {},
   "outputs": [
    {
     "data": {
      "image/png": "[encoded data removed]",
      "text/latex": [
       "$$\\left ( \\rho, \\quad \\theta\\right )$$"
      ],
      "text/plain": [
       "(ρ, θ)"
      ]
     },
     "execution_count": 27,
     "metadata": {},
     "output_type": "execute_result"
    }
   ],
   "source": [
    "from sympy import E,pi,simplify\n",
    "rho,theta,a=symbols('rho,theta,a')\n",
    "#积累获得这些数学符号的方法\n",
    "rho,theta"
   ]
  },
  {
   "cell_type": "code",
   "execution_count": 28,
   "metadata": {},
   "outputs": [
    {
     "data": {
      "image/png": "[encoded data removed]",
      "text/latex": [
       "$$\\pi - \\pi e^{- a^{2}}$$"
      ],
      "text/plain": [
       "         2\n",
       "       -a \n",
       "π - π⋅ℯ   "
      ]
     },
     "execution_count": 28,
     "metadata": {},
     "output_type": "execute_result"
    }
   ],
   "source": [
    "result=integrate(rho*E**(-rho**2),(rho,0,a),(theta,0,2*pi))\n",
    "simplify(result)"
   ]
  },
  {
   "cell_type": "code",
   "execution_count": 29,
   "metadata": {},
   "outputs": [],
   "source": [
    "#例11.7"
   ]
  },
  {
   "cell_type": "code",
   "execution_count": 30,
   "metadata": {},
   "outputs": [
    {
     "data": {
      "image/png": "[encoded data removed]",
      "text/latex": [
       "$$\\left ( 2.3504023872876028, \\quad 2.3504023872876028\\right )$$"
      ],
      "text/plain": [
       "(2.3504023872876028, 2.3504023872876028)"
      ]
     },
     "execution_count": 30,
     "metadata": {},
     "output_type": "execute_result"
    }
   ],
   "source": [
    "import numpy as np\n",
    "val,err=dblquad(lambda x,y:np.e**((y-x)/(y+x)),\\\n",
    "    0,2,lambda x:0,lambda x:2-x)\n",
    "#比较数值解和解析解\n",
    "val,np.e-1/np.e"
   ]
  },
  {
   "cell_type": "code",
   "execution_count": null,
   "metadata": {},
   "outputs": [],
   "source": []
  }
 ],
 "metadata": {
  "kernelspec": {
   "display_name": "Python 3.7.1 ('base')",
   "language": "python",
   "name": "python3"
  },
  "language_info": {
   "codemirror_mode": {
    "name": "ipython",
    "version": 3
   },
   "file_extension": ".py",
   "mimetype": "text/x-python",
   "name": "python",
   "nbconvert_exporter": "python",
   "pygments_lexer": "ipython3",
   "version": "3.7.1"
  },
  "orig_nbformat": 2,
  "vscode": {
   "interpreter": {
    "hash": "e42634819b8c191a5d07eaf23810ff32516dd8d3875f28ec3e488928fbd3c187"
   }
  }
 },
 "nbformat": 4,
 "nbformat_minor": 2
}
