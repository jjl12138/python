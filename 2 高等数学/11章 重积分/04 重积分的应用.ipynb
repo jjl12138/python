{
 "cells": [
  {
   "cell_type": "code",
   "execution_count": 1,
   "metadata": {},
   "outputs": [],
   "source": [
    "from sympy import *"
   ]
  },
  {
   "cell_type": "code",
   "execution_count": 2,
   "metadata": {},
   "outputs": [],
   "source": [
    "#自定义函数，求曲面的面积\n",
    "def Area_Surface(z,x_left,x_right,y_low,y_high):\n",
    "    return integrate((1+z.diff(x)**2+z.diff(y)**2)**(1/2),\\\n",
    "        (y,y_low,y_high),(x,x_left,x_right)) "
   ]
  },
  {
   "cell_type": "code",
   "execution_count": null,
   "metadata": {},
   "outputs": [],
   "source": [
    "#例11.11"
   ]
  },
  {
   "cell_type": "code",
   "execution_count": 3,
   "metadata": {},
   "outputs": [],
   "source": [
    "#x,y=symbols('x y')\n",
    "#z=(1-x**2-y**2)**(1/2)\n",
    "#Area_Surface(z,-1,1,-(1-x**2)**(1/2),(1-x**2)**(1/2))\n",
    "#如果牵涉到含根式的三角换元法，sympy大概率会失效(如果程序一直运行而得不到结果，就关掉当前文件，然后重新打开)"
   ]
  },
  {
   "cell_type": "code",
   "execution_count": null,
   "metadata": {},
   "outputs": [],
   "source": [
    "#例11.12"
   ]
  },
  {
   "cell_type": "code",
   "execution_count": 4,
   "metadata": {},
   "outputs": [
    {
     "output_type": "execute_result",
     "data": {
      "text/plain": [
       "(0.866025403784439, 0.8660254037844386)"
      ]
     },
     "metadata": {},
     "execution_count": 4
    }
   ],
   "source": [
    "x,y=symbols('x y')\n",
    "z=1-x-y\n",
    "Area_Surface(z,0,1,0,1-x),3**.5/2"
   ]
  }
 ],
 "metadata": {
  "language_info": {
   "codemirror_mode": {
    "name": "ipython",
    "version": 3
   },
   "file_extension": ".py",
   "mimetype": "text/x-python",
   "name": "python",
   "nbconvert_exporter": "python",
   "pygments_lexer": "ipython3",
   "version": "3.6.1-final"
  },
  "orig_nbformat": 2,
  "kernelspec": {
   "name": "python3",
   "display_name": "Python 3.6.1 64-bit",
   "metadata": {
    "interpreter": {
     "hash": "4ce0e62306dd6a5716965d4519ada776f947e6dfc145b604b11307c10277ef29"
    }
   }
  }
 },
 "nbformat": 4,
 "nbformat_minor": 2
}