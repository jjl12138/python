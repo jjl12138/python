{
 "cells": [
  {
   "cell_type": "code",
   "execution_count": 1,
   "metadata": {},
   "outputs": [],
   "source": [
    "from sympy import *\n",
    "x=Symbol('x',real=True)\n",
    "init_printing()"
   ]
  },
  {
   "cell_type": "code",
   "execution_count": null,
   "metadata": {},
   "outputs": [],
   "source": [
    "#例6.5"
   ]
  },
  {
   "cell_type": "code",
   "execution_count": 2,
   "metadata": {},
   "outputs": [
    {
     "output_type": "execute_result",
     "data": {
      "text/plain": [
       "   2\n",
       "π⋅a \n",
       "────\n",
       " 4  "
      ],
      "image/png": "[encoded data removed]",
      "text/latex": "$\\displaystyle \\frac{\\pi a^{2}}{4}$"
     },
     "metadata": {},
     "execution_count": 2
    }
   ],
   "source": [
    "a=Symbol('a',positive=True)\n",
    "integrate(sqrt(a**2-x**2),(x,0,a))"
   ]
  },
  {
   "cell_type": "code",
   "execution_count": null,
   "metadata": {},
   "outputs": [],
   "source": [
    "#例6.6"
   ]
  },
  {
   "cell_type": "code",
   "execution_count": 4,
   "metadata": {},
   "outputs": [
    {
     "output_type": "execute_result",
     "data": {
      "text/plain": [
       "0.800000000000000"
      ],
      "image/png": "[encoded data removed]",
      "text/latex": "$\\displaystyle 0.8$"
     },
     "metadata": {},
     "execution_count": 4
    }
   ],
   "source": [
    "#下一行代码不能正确运行\n",
    "#integrate(sqrt(sin(x)**3-sin(x)**5),(x,0,pi))\n",
    "integrate(sin(x)**(3/2)*cos(x),(x,0,pi/2))-integrate(sin(x)**(3/2)*cos(x),(x,pi/2,pi))"
   ]
  },
  {
   "cell_type": "code",
   "execution_count": 1,
   "metadata": {},
   "outputs": [
    {
     "output_type": "execute_result",
     "data": {
      "text/plain": [
       "(0.8000000000000002, 3.1020013224747345e-09)"
      ]
     },
     "metadata": {},
     "execution_count": 1
    }
   ],
   "source": [
    "import numpy as np\n",
    "from scipy.integrate import quad\n",
    "f=lambda x:np.sqrt(np.sin(x)**3-np.sin(x)**5)\n",
    "quad(f,0,np.pi)"
   ]
  },
  {
   "cell_type": "code",
   "execution_count": null,
   "metadata": {},
   "outputs": [],
   "source": [
    "#例6.7"
   ]
  },
  {
   "cell_type": "code",
   "execution_count": 7,
   "metadata": {},
   "outputs": [
    {
     "output_type": "execute_result",
     "data": {
      "text/plain": [
       "22/3"
      ],
      "image/png": "[encoded data removed]",
      "text/latex": "$\\displaystyle \\frac{22}{3}$"
     },
     "metadata": {},
     "execution_count": 7
    }
   ],
   "source": [
    "integrate((x+2)/sqrt(2*x+1),(x,0,4))"
   ]
  },
  {
   "cell_type": "code",
   "execution_count": null,
   "metadata": {},
   "outputs": [],
   "source": [
    "#例6.8"
   ]
  },
  {
   "cell_type": "code",
   "execution_count": 8,
   "metadata": {},
   "outputs": [
    {
     "output_type": "execute_result",
     "data": {
      "text/plain": [
       "(log(-1 + √2) + log(1 + √2), 0)"
      ],
      "image/png": "[encoded data removed]",
      "text/latex": "$\\displaystyle \\left( \\log{\\left(-1 + \\sqrt{2} \\right)} + \\log{\\left(1 + \\sqrt{2} \\right)}, \\  0\\right)$"
     },
     "metadata": {},
     "execution_count": 8
    }
   ],
   "source": [
    "res=integrate(log(x+sqrt(x**2+1)),(x,-1,1))\n",
    "res,simplify(res)"
   ]
  },
  {
   "cell_type": "code",
   "execution_count": 9,
   "metadata": {},
   "outputs": [
    {
     "output_type": "execute_result",
     "data": {
      "text/plain": [
       "0.0"
      ],
      "image/png": "[encoded data removed]",
      "text/latex": "$\\displaystyle 0.0$"
     },
     "metadata": {},
     "execution_count": 9
    }
   ],
   "source": [
    "def an_odd_fun(x):\n",
    "    return np.log(x+np.sqrt(x**2+1))\n",
    "val,err=quad(an_odd_fun,-1,1)\n",
    "np.round(val,5)"
   ]
  },
  {
   "cell_type": "code",
   "execution_count": null,
   "metadata": {},
   "outputs": [],
   "source": [
    "#例6.9"
   ]
  },
  {
   "cell_type": "code",
   "execution_count": 10,
   "metadata": {},
   "outputs": [
    {
     "output_type": "execute_result",
     "data": {
      "text/plain": [
       "    8⋅√3⋅π\n",
       "1 + ──────\n",
       "      9   "
      ],
      "image/png": "[encoded data removed]",
      "text/latex": "$\\displaystyle 1 + \\frac{8 \\sqrt{3} \\pi}{9}$"
     },
     "metadata": {},
     "execution_count": 10
    }
   ],
   "source": [
    "integrate(x**2/(x**2-3*x+3)**2,(x,0,3))"
   ]
  },
  {
   "cell_type": "code",
   "execution_count": null,
   "metadata": {},
   "outputs": [],
   "source": [
    "#例6.10"
   ]
  },
  {
   "cell_type": "code",
   "execution_count": 11,
   "metadata": {},
   "outputs": [
    {
     "output_type": "execute_result",
     "data": {
      "text/plain": [
       "   -4               \n",
       "  ℯ     1           \n",
       "- ─── + ─ + tan(1/2)\n",
       "   2    2           "
      ],
      "image/png": "[encoded data removed]",
      "text/latex": "$\\displaystyle - \\frac{1}{2 e^{4}} + \\frac{1}{2} + \\tan{\\left(\\frac{1}{2} \\right)}$"
     },
     "metadata": {},
     "execution_count": 11
    }
   ],
   "source": [
    "f_left=1/(1+cos(x))\n",
    "f_right=x*pow(E,-x**2)\n",
    "integrate(f_left,(x,-1,0))+integrate(f_right,(x,0,2))"
   ]
  },
  {
   "cell_type": "code",
   "execution_count": null,
   "metadata": {},
   "outputs": [],
   "source": [
    "#例6.11"
   ]
  },
  {
   "cell_type": "code",
   "execution_count": 12,
   "metadata": {},
   "outputs": [
    {
     "output_type": "execute_result",
     "data": {
      "text/plain": [
       "⎛                    5⋅π⎞\n",
       "⎜0.6666666666666666, ───⎟\n",
       "⎝                     32⎠"
      ],
      "image/png": "[encoded data removed]",
      "text/latex": "$\\displaystyle \\left( 0.6666666666666666, \\  \\frac{5 \\pi}{32}\\right)$"
     },
     "metadata": {},
     "execution_count": 12
    }
   ],
   "source": [
    "def I(n):\n",
    "    if n==1:return 1\n",
    "    if n==0:return pi/2\n",
    "    return I(n-2)*(n-1)/n\n",
    "I(3),I(6)"
   ]
  },
  {
   "cell_type": "code",
   "execution_count": null,
   "metadata": {},
   "outputs": [],
   "source": []
  }
 ],
 "metadata": {
  "language_info": {
   "codemirror_mode": {
    "name": "ipython",
    "version": 3
   },
   "file_extension": ".py",
   "mimetype": "text/x-python",
   "name": "python",
   "nbconvert_exporter": "python",
   "pygments_lexer": "ipython3",
   "version": "3.6.1-final"
  },
  "orig_nbformat": 2,
  "kernelspec": {
   "name": "python3",
   "display_name": "Python 3.6.1 64-bit",
   "metadata": {
    "interpreter": {
     "hash": "4ce0e62306dd6a5716965d4519ada776f947e6dfc145b604b11307c10277ef29"
    }
   }
  }
 },
 "nbformat": 4,
 "nbformat_minor": 2
}