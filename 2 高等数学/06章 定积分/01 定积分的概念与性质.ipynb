{
 "cells": [
  {
   "cell_type": "code",
   "execution_count": null,
   "metadata": {},
   "outputs": [],
   "source": [
    "#例6.1"
   ]
  },
  {
   "cell_type": "code",
   "execution_count": 2,
   "metadata": {},
   "outputs": [],
   "source": [
    "import numpy as np"
   ]
  },
  {
   "cell_type": "code",
   "execution_count": 3,
   "metadata": {},
   "outputs": [
    {
     "output_type": "execute_result",
     "data": {
      "text/plain": [
       "(array([0. , 0.1, 0.2, 0.3, 0.4, 0.5, 0.6, 0.7, 0.8, 0.9, 1. ]),\n",
       " array([4.     , 3.9604 , 3.84615, 3.66972, 3.44828, 3.2    , 2.94118,\n",
       "        2.68456, 2.43902, 2.20994, 2.     ]))"
      ]
     },
     "metadata": {},
     "execution_count": 3
    }
   ],
   "source": [
    "x=np.linspace(0,1,11)\n",
    "y=np.round(4/(1+x**2),5)\n",
    "x,y"
   ]
  },
  {
   "cell_type": "code",
   "execution_count": 5,
   "metadata": {},
   "outputs": [
    {
     "output_type": "execute_result",
     "data": {
      "text/plain": [
       "(3.2399250000000004, 3.039925)"
      ]
     },
     "metadata": {},
     "execution_count": 5
    }
   ],
   "source": [
    "delta_x=0.1\n",
    "#矩形法的两个结果\n",
    "result_rect_1=np.sum(y[0:-1])*delta_x\n",
    "result_rect_2=np.sum(y[1:len(y)])*delta_x\n",
    "result_rect_1,result_rect_2"
   ]
  },
  {
   "cell_type": "code",
   "execution_count": 6,
   "metadata": {},
   "outputs": [
    {
     "output_type": "execute_result",
     "data": {
      "text/plain": [
       "3.1399250000000003"
      ]
     },
     "metadata": {},
     "execution_count": 6
    }
   ],
   "source": [
    "#梯形法\n",
    "result_trapezoid=(np.sum(y)-(y[0]+y[-1])/2)*delta_x\n",
    "result_trapezoid"
   ]
  },
  {
   "cell_type": "code",
   "execution_count": 7,
   "metadata": {},
   "outputs": [
    {
     "output_type": "execute_result",
     "data": {
      "text/plain": [
       "3.141591333333334"
      ]
     },
     "metadata": {},
     "execution_count": 7
    }
   ],
   "source": [
    "#抛物线(辛普森)法\n",
    "result_Simpson=(y[0]+y[-1]+4*(np.sum(y[1:len(y):2]))+2*np.sum(y[2:-1:2]))*delta_x/3\n",
    "result_Simpson"
   ]
  },
  {
   "cell_type": "code",
   "execution_count": 8,
   "metadata": {},
   "outputs": [
    {
     "output_type": "execute_result",
     "data": {
      "text/plain": [
       "(π, 3.14159265358979, 3.141592653589793)"
      ],
      "image/png": "[encoded data removed]",
      "text/latex": "$\\displaystyle \\left( \\pi, \\  3.14159265358979, \\  3.141592653589793\\right)$"
     },
     "metadata": {},
     "execution_count": 8
    }
   ],
   "source": [
    "from sympy import integrate,Symbol,init_printing\n",
    "x=Symbol('x')\n",
    "init_printing()\n",
    "result=integrate(4/(1+x**2),(x,0,1))#计算定积分的方法\n",
    "result,result.evalf(),float(result)"
   ]
  }
 ],
 "metadata": {
  "language_info": {
   "codemirror_mode": {
    "name": "ipython",
    "version": 3
   },
   "file_extension": ".py",
   "mimetype": "text/x-python",
   "name": "python",
   "nbconvert_exporter": "python",
   "pygments_lexer": "ipython3",
   "version": "3.6.1-final"
  },
  "orig_nbformat": 2,
  "kernelspec": {
   "name": "Python 3.6.1 64-bit",
   "display_name": "Python 3.6.1 64-bit",
   "metadata": {
    "interpreter": {
     "hash": "4ce0e62306dd6a5716965d4519ada776f947e6dfc145b604b11307c10277ef29"
    }
   }
  }
 },
 "nbformat": 4,
 "nbformat_minor": 2
}