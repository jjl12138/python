{
 "cells": [
  {
   "cell_type": "code",
   "execution_count": 1,
   "metadata": {},
   "outputs": [],
   "source": [
    "from sympy import *\n",
    "x=Symbol('x')\n",
    "init_printing()"
   ]
  },
  {
   "cell_type": "code",
   "execution_count": 2,
   "metadata": {},
   "outputs": [],
   "source": [
    "#例6.2"
   ]
  },
  {
   "cell_type": "code",
   "execution_count": 3,
   "metadata": {},
   "outputs": [
    {
     "output_type": "execute_result",
     "data": {
      "text/plain": [
       "-log(2)"
      ],
      "image/png": "[encoded data removed]",
      "text/latex": "$\\displaystyle - \\log{\\left(2 \\right)}$"
     },
     "metadata": {},
     "execution_count": 3
    }
   ],
   "source": [
    "integrate(1/x,(x,-2,-1))"
   ]
  },
  {
   "cell_type": "code",
   "execution_count": 4,
   "metadata": {},
   "outputs": [],
   "source": [
    "#例6.3"
   ]
  },
  {
   "cell_type": "code",
   "execution_count": 5,
   "metadata": {},
   "outputs": [
    {
     "output_type": "execute_result",
     "data": {
      "text/plain": [
       " 2⋅x    \n",
       "ℯ      1\n",
       "──── - ─\n",
       " 2     2"
      ],
      "image/png": "[encoded data removed]",
      "text/latex": "$\\displaystyle \\frac{e^{2 x}}{2} - \\frac{1}{2}$"
     },
     "metadata": {},
     "execution_count": 5
    }
   ],
   "source": [
    "t=Symbol('t')\n",
    "integrate(E**(2*t),(t,0,x))"
   ]
  },
  {
   "cell_type": "code",
   "execution_count": 6,
   "metadata": {},
   "outputs": [],
   "source": [
    "#例6.4"
   ]
  },
  {
   "cell_type": "code",
   "execution_count": 7,
   "metadata": {},
   "outputs": [
    {
     "output_type": "execute_result",
     "data": {
      "text/plain": [
       " -1\n",
       "ℯ  \n",
       "───\n",
       " 2 "
      ],
      "image/png": "[encoded data removed]",
      "text/latex": "$\\displaystyle \\frac{1}{2 e}$"
     },
     "metadata": {},
     "execution_count": 7
    }
   ],
   "source": [
    "limit(integrate(E**(-t**2),(t,cos(x),1))/(x**2),x,0)"
   ]
  }
 ],
 "metadata": {
  "language_info": {
   "codemirror_mode": {
    "name": "ipython",
    "version": 3
   },
   "file_extension": ".py",
   "mimetype": "text/x-python",
   "name": "python",
   "nbconvert_exporter": "python",
   "pygments_lexer": "ipython3",
   "version": "3.6.1-final"
  },
  "orig_nbformat": 2,
  "kernelspec": {
   "name": "python3",
   "display_name": "Python 3.6.1 64-bit",
   "metadata": {
    "interpreter": {
     "hash": "4ce0e62306dd6a5716965d4519ada776f947e6dfc145b604b11307c10277ef29"
    }
   }
  }
 },
 "nbformat": 4,
 "nbformat_minor": 2
}