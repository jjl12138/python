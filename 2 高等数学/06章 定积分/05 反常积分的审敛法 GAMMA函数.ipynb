{
 "cells": [
  {
   "cell_type": "code",
   "execution_count": 1,
   "metadata": {},
   "outputs": [],
   "source": [
    "from sympy import pi,sqrt\n",
    "from math import floor\n",
    "def Gamma(n):\n",
    "    if floor(2*n)!=(2*n) or n<=0:\n",
    "        print('参数n错误，2n必须为正整数')\n",
    "        return #或者return None\n",
    "    if n==1:return 1\n",
    "    if n==1/2:return sqrt(pi)\n",
    "    return (n-1)*Gamma(n-1)"
   ]
  },
  {
   "cell_type": "code",
   "execution_count": 2,
   "metadata": {},
   "outputs": [
    {
     "output_type": "execute_result",
     "data": {
      "text/plain": [
       "(2, 6, 24)"
      ]
     },
     "metadata": {},
     "execution_count": 2
    }
   ],
   "source": [
    "Gamma(3),Gamma(4),Gamma(5)"
   ]
  },
  {
   "cell_type": "code",
   "execution_count": 3,
   "metadata": {},
   "outputs": [
    {
     "output_type": "execute_result",
     "data": {
      "text/plain": [
       "(sqrt(pi), 0.5*sqrt(pi), 0.75*sqrt(pi))"
      ]
     },
     "metadata": {},
     "execution_count": 3
    }
   ],
   "source": [
    "Gamma(0.5),Gamma(1.5),Gamma(2.5)"
   ]
  },
  {
   "cell_type": "code",
   "execution_count": 4,
   "metadata": {
    "tags": []
   },
   "outputs": [
    {
     "output_type": "stream",
     "name": "stdout",
     "text": [
      "参数n错误，2n必须为正整数\n参数n错误，2n必须为正整数\n"
     ]
    },
    {
     "output_type": "execute_result",
     "data": {
      "text/plain": [
       "(None, None)"
      ]
     },
     "metadata": {},
     "execution_count": 4
    }
   ],
   "source": [
    "Gamma(1.6),Gamma(0)"
   ]
  },
  {
   "cell_type": "code",
   "execution_count": null,
   "metadata": {},
   "outputs": [],
   "source": []
  }
 ],
 "metadata": {
  "language_info": {
   "codemirror_mode": {
    "name": "ipython",
    "version": 3
   },
   "file_extension": ".py",
   "mimetype": "text/x-python",
   "name": "python",
   "nbconvert_exporter": "python",
   "pygments_lexer": "ipython3",
   "version": "3.6.1-final"
  },
  "orig_nbformat": 2,
  "kernelspec": {
   "name": "python3",
   "display_name": "Python 3.6.1 64-bit",
   "metadata": {
    "interpreter": {
     "hash": "4ce0e62306dd6a5716965d4519ada776f947e6dfc145b604b11307c10277ef29"
    }
   }
  }
 },
 "nbformat": 4,
 "nbformat_minor": 2
}