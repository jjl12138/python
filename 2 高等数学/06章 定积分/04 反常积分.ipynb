{
 "cells": [
  {
   "cell_type": "code",
   "execution_count": 1,
   "metadata": {},
   "outputs": [],
   "source": [
    "from sympy import *\n",
    "from scipy.integrate import quad\n",
    "from scipy import Infinity"
   ]
  },
  {
   "cell_type": "code",
   "execution_count": 2,
   "metadata": {},
   "outputs": [],
   "source": [
    "init_printing()\n",
    "x=Symbol('x')"
   ]
  },
  {
   "cell_type": "code",
   "execution_count": null,
   "metadata": {},
   "outputs": [],
   "source": [
    "#例6.12"
   ]
  },
  {
   "cell_type": "code",
   "execution_count": 3,
   "metadata": {},
   "outputs": [
    {
     "output_type": "execute_result",
     "data": {
      "text/plain": [
       "π"
      ],
      "image/png": "[encoded data removed]",
      "text/latex": "$\\displaystyle \\pi$"
     },
     "metadata": {},
     "execution_count": 3
    }
   ],
   "source": [
    "integrate(1/(1+x**2),(x,-oo,oo))"
   ]
  },
  {
   "cell_type": "code",
   "execution_count": 4,
   "metadata": {},
   "outputs": [
    {
     "output_type": "execute_result",
     "data": {
      "text/plain": [
       "3.141592653589793"
      ],
      "image/png": "[encoded data removed]",
      "text/latex": "$\\displaystyle 3.141592653589793$"
     },
     "metadata": {},
     "execution_count": 4
    }
   ],
   "source": [
    "quad(lambda x:1/(1+x**2),-Infinity,Infinity)[0]"
   ]
  },
  {
   "cell_type": "code",
   "execution_count": null,
   "metadata": {},
   "outputs": [],
   "source": [
    "#例6.13"
   ]
  },
  {
   "cell_type": "code",
   "execution_count": 5,
   "metadata": {},
   "outputs": [
    {
     "output_type": "execute_result",
     "data": {
      "text/plain": [
       "1 \n",
       "──\n",
       " 2\n",
       "p "
      ],
      "image/png": "[encoded data removed]",
      "text/latex": "$\\displaystyle \\frac{1}{p^{2}}$"
     },
     "metadata": {},
     "execution_count": 5
    }
   ],
   "source": [
    "p=Symbol('p',positive=True)\n",
    "t=Symbol('t')\n",
    "integrate(t*E**(-p*t),(t,0,oo))"
   ]
  },
  {
   "cell_type": "code",
   "execution_count": null,
   "metadata": {},
   "outputs": [],
   "source": [
    "#例6.14"
   ]
  },
  {
   "cell_type": "code",
   "execution_count": 6,
   "metadata": {},
   "outputs": [
    {
     "output_type": "execute_result",
     "data": {
      "text/plain": [
       "π\n",
       "─\n",
       "2"
      ],
      "image/png": "[encoded data removed]",
      "text/latex": "$\\displaystyle \\frac{\\pi}{2}$"
     },
     "metadata": {},
     "execution_count": 6
    }
   ],
   "source": [
    "a=Symbol('a',positive=True)\n",
    "integrate(1/sqrt(a**2-x**2),(x,0,a))"
   ]
  },
  {
   "cell_type": "code",
   "execution_count": null,
   "metadata": {},
   "outputs": [],
   "source": [
    "#例6.15"
   ]
  },
  {
   "cell_type": "code",
   "execution_count": 7,
   "metadata": {},
   "outputs": [
    {
     "output_type": "execute_result",
     "data": {
      "text/plain": [
       "∞"
      ],
      "image/png": "[encoded data removed]",
      "text/latex": "$\\displaystyle \\infty$"
     },
     "metadata": {},
     "execution_count": 7
    }
   ],
   "source": [
    "integrate(x**(-2),(x,-1,1))"
   ]
  },
  {
   "cell_type": "code",
   "execution_count": null,
   "metadata": {},
   "outputs": [],
   "source": [
    "#例6.16"
   ]
  },
  {
   "cell_type": "code",
   "execution_count": 8,
   "metadata": {},
   "outputs": [
    {
     "output_type": "execute_result",
     "data": {
      "text/plain": [
       "2"
      ],
      "image/png": "[encoded data removed]",
      "text/latex": "$\\displaystyle 2$"
     },
     "metadata": {},
     "execution_count": 8
    }
   ],
   "source": [
    "integrate(1/sqrt(x*(x+1)**3),(x,0,oo))"
   ]
  }
 ],
 "metadata": {
  "language_info": {
   "codemirror_mode": {
    "name": "ipython",
    "version": 3
   },
   "file_extension": ".py",
   "mimetype": "text/x-python",
   "name": "python",
   "nbconvert_exporter": "python",
   "pygments_lexer": "ipython3",
   "version": "3.6.1-final"
  },
  "orig_nbformat": 2,
  "kernelspec": {
   "name": "python3",
   "display_name": "Python 3.6.1 64-bit",
   "metadata": {
    "interpreter": {
     "hash": "4ce0e62306dd6a5716965d4519ada776f947e6dfc145b604b11307c10277ef29"
    }
   }
  }
 },
 "nbformat": 4,
 "nbformat_minor": 2
}