{
 "cells": [
  {
   "cell_type": "code",
   "execution_count": 1,
   "metadata": {},
   "outputs": [],
   "source": [
    "#例3.7"
   ]
  },
  {
   "cell_type": "code",
   "execution_count": 2,
   "metadata": {},
   "outputs": [
    {
     "output_type": "execute_result",
     "data": {
      "text/plain": [
       "   2           \n",
       "6⋅x  - 10⋅x + 3"
      ],
      "image/png": "[encoded data removed]",
      "text/latex": "$\\displaystyle 6 x^{2} - 10 x + 3$"
     },
     "metadata": {},
     "execution_count": 2
    }
   ],
   "source": [
    "from sympy import *\n",
    "x=symbols('x')\n",
    "init_printing()\n",
    "diff(2*x**3-5*x**2+3*x-7,x)"
   ]
  },
  {
   "cell_type": "code",
   "execution_count": 3,
   "metadata": {},
   "outputs": [],
   "source": [
    "#例3.8"
   ]
  },
  {
   "cell_type": "code",
   "execution_count": 4,
   "metadata": {},
   "outputs": [
    {
     "output_type": "execute_result",
     "data": {
      "text/plain": [
       "⎛                         2⎞\n",
       "⎜   2                  3⋅π ⎟\n",
       "⎜3⋅x  - 4⋅sin(x), -4 + ────⎟\n",
       "⎝                       4  ⎠"
      ],
      "image/png": "[encoded data removed]",
      "text/latex": "$\\displaystyle \\left( 3 x^{2} - 4 \\sin{\\left(x \\right)}, \\  -4 + \\frac{3 \\pi^{2}}{4}\\right)$"
     },
     "metadata": {},
     "execution_count": 4
    }
   ],
   "source": [
    "x=symbols('x')\n",
    "init_printing()\n",
    "f=(x**3+4*cos(x)-sin(pi/2)).diff(x)\n",
    "f,f.subs(x,pi/2)"
   ]
  },
  {
   "cell_type": "code",
   "execution_count": 5,
   "metadata": {},
   "outputs": [],
   "source": [
    "#例3.9"
   ]
  },
  {
   "cell_type": "code",
   "execution_count": 6,
   "metadata": {},
   "outputs": [
    {
     "output_type": "execute_result",
     "data": {
      "text/plain": [
       "                    x                      x\n",
       "(-sin(x) + cos(x))⋅ℯ  + (sin(x) + cos(x))⋅ℯ "
      ],
      "image/png": "[encoded data removed]",
      "text/latex": "$\\displaystyle \\left(- \\sin{\\left(x \\right)} + \\cos{\\left(x \\right)}\\right) e^{x} + \\left(\\sin{\\left(x \\right)} + \\cos{\\left(x \\right)}\\right) e^{x}$"
     },
     "metadata": {},
     "execution_count": 6
    }
   ],
   "source": [
    "x=symbols('x')\n",
    "init_printing()\n",
    "y=E**x*(sin(x)+cos(x))\n",
    "y.diff(x)"
   ]
  },
  {
   "cell_type": "code",
   "execution_count": 7,
   "metadata": {},
   "outputs": [
    {
     "output_type": "execute_result",
     "data": {
      "text/plain": [
       "   x       \n",
       "2⋅ℯ ⋅cos(x)"
      ],
      "image/png": "[encoded data removed]",
      "text/latex": "$\\displaystyle 2 e^{x} \\cos{\\left(x \\right)}$"
     },
     "metadata": {},
     "execution_count": 7
    }
   ],
   "source": [
    "#将上式化简\n",
    "simplify(y.diff(x))"
   ]
  },
  {
   "cell_type": "code",
   "execution_count": 8,
   "metadata": {},
   "outputs": [],
   "source": [
    "#例3.10"
   ]
  },
  {
   "cell_type": "code",
   "execution_count": 9,
   "metadata": {},
   "outputs": [
    {
     "output_type": "execute_result",
     "data": {
      "text/plain": [
       "⎛   2            1   ⎞\n",
       "⎜tan (x) + 1, ───────⎟\n",
       "⎜                2   ⎟\n",
       "⎝             cos (x)⎠"
      ],
      "image/png": "[encoded data removed]",
      "text/latex": "$\\displaystyle \\left( \\tan^{2}{\\left(x \\right)} + 1, \\  \\frac{1}{\\cos^{2}{\\left(x \\right)}}\\right)$"
     },
     "metadata": {},
     "execution_count": 9
    }
   ],
   "source": [
    "x=symbols('x')\n",
    "init_printing()\n",
    "diff(tan(x),x),simplify(diff(tan(x),x))"
   ]
  },
  {
   "cell_type": "code",
   "execution_count": 10,
   "metadata": {},
   "outputs": [],
   "source": [
    "#例3.11"
   ]
  },
  {
   "cell_type": "code",
   "execution_count": 11,
   "metadata": {},
   "outputs": [
    {
     "output_type": "execute_result",
     "data": {
      "text/plain": [
       "tan(x)⋅sec(x)"
      ],
      "image/png": "[encoded data removed]",
      "text/latex": "$\\displaystyle \\tan{\\left(x \\right)} \\sec{\\left(x \\right)}$"
     },
     "metadata": {},
     "execution_count": 11
    }
   ],
   "source": [
    "x=symbols('x')\n",
    "init_printing()\n",
    "sec(x).diff(x)"
   ]
  },
  {
   "cell_type": "code",
   "execution_count": 12,
   "metadata": {},
   "outputs": [],
   "source": [
    "#例3.12"
   ]
  },
  {
   "cell_type": "code",
   "execution_count": 13,
   "metadata": {},
   "outputs": [
    {
     "output_type": "execute_result",
     "data": {
      "text/plain": [
       "     1     \n",
       "───────────\n",
       "   ________\n",
       "  ╱      2 \n",
       "╲╱  1 - x  "
      ],
      "image/png": "[encoded data removed]",
      "text/latex": "$\\displaystyle \\frac{1}{\\sqrt{1 - x^{2}}}$"
     },
     "metadata": {},
     "execution_count": 13
    }
   ],
   "source": [
    "x=symbols('x')\n",
    "init_printing()\n",
    "asin(x).diff(x)"
   ]
  },
  {
   "cell_type": "code",
   "execution_count": 14,
   "metadata": {},
   "outputs": [],
   "source": [
    "#例3.13"
   ]
  },
  {
   "cell_type": "code",
   "execution_count": 15,
   "metadata": {},
   "outputs": [
    {
     "output_type": "execute_result",
     "data": {
      "text/plain": [
       "0"
      ],
      "image/png": "[encoded data removed]",
      "text/latex": "$\\displaystyle 0$"
     },
     "metadata": {},
     "execution_count": 15
    }
   ],
   "source": [
    "x=symbols('x')\n",
    "init_printing()\n",
    "(asin(x)+acos(x)).diff(x)"
   ]
  },
  {
   "cell_type": "code",
   "execution_count": 16,
   "metadata": {},
   "outputs": [],
   "source": [
    "#例3.14"
   ]
  },
  {
   "cell_type": "code",
   "execution_count": 17,
   "metadata": {},
   "outputs": [
    {
     "output_type": "execute_result",
     "data": {
      "text/plain": [
       "  1   \n",
       "──────\n",
       " 2    \n",
       "x  + 1"
      ],
      "image/png": "[encoded data removed]",
      "text/latex": "$\\displaystyle \\frac{1}{x^{2} + 1}$"
     },
     "metadata": {},
     "execution_count": 17
    }
   ],
   "source": [
    "x=symbols('x')\n",
    "init_printing()\n",
    "atan(x).diff(x)"
   ]
  },
  {
   "cell_type": "code",
   "execution_count": 18,
   "metadata": {},
   "outputs": [],
   "source": [
    "#例3.15"
   ]
  },
  {
   "cell_type": "code",
   "execution_count": 19,
   "metadata": {},
   "outputs": [
    {
     "output_type": "execute_result",
     "data": {
      "text/plain": [
       "      ⎛ 3⎞\n",
       "   2  ⎝x ⎠\n",
       "3⋅x ⋅ℯ    "
      ],
      "image/png": "[encoded data removed]",
      "text/latex": "$\\displaystyle 3 x^{2} e^{x^{3}}$"
     },
     "metadata": {},
     "execution_count": 19
    }
   ],
   "source": [
    "x=symbols('x')\n",
    "init_printing()\n",
    "#先定义u(x)\n",
    "u=x**3\n",
    "#再定义y(u)\n",
    "y=E**u\n",
    "y.diff(x)"
   ]
  },
  {
   "cell_type": "code",
   "execution_count": 20,
   "metadata": {},
   "outputs": [],
   "source": [
    "#例3.16"
   ]
  },
  {
   "cell_type": "code",
   "execution_count": 21,
   "metadata": {},
   "outputs": [
    {
     "output_type": "execute_result",
     "data": {
      "text/plain": [
       "   ⎛ 2    ⎞    ⎛ 2⋅x  ⎞ \n",
       "-2⋅⎝x  - 1⎠⋅cos⎜──────⎟ \n",
       "               ⎜ 2    ⎟ \n",
       "               ⎝x  + 1⎠ \n",
       "────────────────────────\n",
       "               2        \n",
       "       ⎛ 2    ⎞         \n",
       "       ⎝x  + 1⎠         "
      ],
      "image/png": "[encoded data removed]",
      "text/latex": "$\\displaystyle - \\frac{2 \\left(x^{2} - 1\\right) \\cos{\\left(\\frac{2 x}{x^{2} + 1} \\right)}}{\\left(x^{2} + 1\\right)^{2}}$"
     },
     "metadata": {},
     "execution_count": 21
    }
   ],
   "source": [
    "x=symbols('x')\n",
    "init_printing()\n",
    "y=sin(2*x/(1+x**2))\n",
    "simplify(diff(y,x))"
   ]
  },
  {
   "cell_type": "code",
   "execution_count": 22,
   "metadata": {},
   "outputs": [],
   "source": [
    "#例3.17"
   ]
  },
  {
   "cell_type": "code",
   "execution_count": 23,
   "metadata": {},
   "outputs": [
    {
     "output_type": "execute_result",
     "data": {
      "text/plain": [
       "     n - 1                \n",
       "n⋅sin     (x)⋅sin(n⋅x + x)"
      ],
      "image/png": "[encoded data removed]",
      "text/latex": "$\\displaystyle n \\sin^{n - 1}{\\left(x \\right)} \\sin{\\left(n x + x \\right)}$"
     },
     "metadata": {},
     "execution_count": 23
    }
   ],
   "source": [
    "x,n=symbols('x n')\n",
    "init_printing()\n",
    "y=sin(n*x)*(sin(x)**n)\n",
    "simplify(diff(y,x))"
   ]
  }
 ],
 "metadata": {
  "language_info": {
   "codemirror_mode": {
    "name": "ipython",
    "version": 3
   },
   "file_extension": ".py",
   "mimetype": "text/x-python",
   "name": "python",
   "nbconvert_exporter": "python",
   "pygments_lexer": "ipython3",
   "version": "3.6.1-final"
  },
  "orig_nbformat": 2,
  "kernelspec": {
   "name": "python3",
   "display_name": "Python 3",
   "language": "python"
  }
 },
 "nbformat": 4,
 "nbformat_minor": 2
}