{
 "cells": [
  {
   "cell_type": "code",
   "execution_count": 7,
   "metadata": {},
   "outputs": [],
   "source": [
    "#例3.18"
   ]
  },
  {
   "cell_type": "code",
   "execution_count": 8,
   "metadata": {},
   "outputs": [
    {
     "output_type": "execute_result",
     "data": {
      "text/plain": [
       "0"
      ],
      "image/png": "[encoded data removed]",
      "text/latex": "$\\displaystyle 0$"
     },
     "metadata": {},
     "execution_count": 8
    }
   ],
   "source": [
    "from sympy import *\n",
    "x,a,b=symbols('x a b')\n",
    "init_printing()\n",
    "y=a*x+b\n",
    "y.diff(x,2)"
   ]
  },
  {
   "cell_type": "code",
   "execution_count": 9,
   "metadata": {},
   "outputs": [],
   "source": [
    "#例3.19"
   ]
  },
  {
   "cell_type": "code",
   "execution_count": 10,
   "metadata": {},
   "outputs": [
    {
     "output_type": "execute_result",
     "data": {
      "text/plain": [
       "  2         \n",
       "-ω ⋅sin(ω⋅t)"
      ],
      "image/png": "[encoded data removed]",
      "text/latex": "$\\displaystyle - \\omega^{2} \\sin{\\left(\\omega t \\right)}$"
     },
     "metadata": {},
     "execution_count": 10
    }
   ],
   "source": [
    "w,t=symbols('omega t')\n",
    "init_printing()\n",
    "s=sin(w*t)\n",
    "s.diff(t,2)"
   ]
  },
  {
   "cell_type": "code",
   "execution_count": 11,
   "metadata": {},
   "outputs": [],
   "source": [
    "#例3.20"
   ]
  },
  {
   "cell_type": "code",
   "execution_count": 12,
   "metadata": {},
   "outputs": [
    {
     "output_type": "execute_result",
     "data": {
      "text/plain": [
       "       2                           1.0\n",
       "- 1.0⋅x  + 2.0⋅x - 1.0⋅(-x⋅(x - 2))   "
      ],
      "image/png": "[encoded data removed]",
      "text/latex": "$\\displaystyle - 1.0 x^{2} + 2.0 x - 1.0 \\left(- x \\left(x - 2\\right)\\right)^{1.0}$"
     },
     "metadata": {},
     "execution_count": 12
    }
   ],
   "source": [
    "x=symbols('x')\n",
    "init_printing()\n",
    "y=(2*x-x**2)**(1/2)\n",
    "simplify(y**3*diff(y,x,2)+1)"
   ]
  },
  {
   "cell_type": "code",
   "execution_count": 13,
   "metadata": {},
   "outputs": [
    {
     "output_type": "execute_result",
     "data": {
      "text/plain": [
       "0"
      ],
      "image/png": "[encoded data removed]",
      "text/latex": "$\\displaystyle 0$"
     },
     "metadata": {},
     "execution_count": 13
    }
   ],
   "source": [
    "x=symbols('x')\n",
    "init_printing()\n",
    "y=sqrt(2*x-x**2) #或者 y=(2*x-x**2)**(S(1)/2)\n",
    "simplify(y**3*diff(y,x,2)+1)"
   ]
  },
  {
   "cell_type": "code",
   "execution_count": 14,
   "metadata": {},
   "outputs": [],
   "source": [
    "#例3.21"
   ]
  },
  {
   "cell_type": "code",
   "execution_count": 15,
   "metadata": {},
   "outputs": [
    {
     "output_type": "execute_result",
     "data": {
      "text/plain": [
       "0"
      ],
      "image/png": "[encoded data removed]",
      "text/latex": "$\\displaystyle 0$"
     },
     "metadata": {},
     "execution_count": 15
    }
   ],
   "source": [
    "x=symbols('x')\n",
    "n=Symbol('n',integer=True,positive=True)\n",
    "init_printing()\n",
    "y=E**x\n",
    "diff(y,x,n)"
   ]
  },
  {
   "cell_type": "code",
   "execution_count": 16,
   "metadata": {},
   "outputs": [],
   "source": [
    "#例3.22"
   ]
  },
  {
   "cell_type": "code",
   "execution_count": 17,
   "metadata": {},
   "outputs": [
    {
     "output_type": "execute_result",
     "data": {
      "text/plain": [
       "        ⎛ 2            ⎞  2⋅x\n",
       "1048576⋅⎝x  + 20⋅x + 95⎠⋅ℯ   "
      ],
      "image/png": "[encoded data removed]",
      "text/latex": "$\\displaystyle 1048576 \\left(x^{2} + 20 x + 95\\right) e^{2 x}$"
     },
     "metadata": {},
     "execution_count": 17
    }
   ],
   "source": [
    "x=symbols('x')\n",
    "init_printing()\n",
    "(x**2*E**(2*x)).diff(x,20)"
   ]
  }
 ],
 "metadata": {
  "language_info": {
   "codemirror_mode": {
    "name": "ipython",
    "version": 3
   },
   "file_extension": ".py",
   "mimetype": "text/x-python",
   "name": "python",
   "nbconvert_exporter": "python",
   "pygments_lexer": "ipython3",
   "version": "3.6.1-final"
  },
  "orig_nbformat": 2,
  "kernelspec": {
   "name": "python3",
   "display_name": "Python 3",
   "language": "python"
  }
 },
 "nbformat": 4,
 "nbformat_minor": 2
}