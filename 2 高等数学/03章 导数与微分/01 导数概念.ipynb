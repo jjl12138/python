{
 "cells": [
  {
   "cell_type": "code",
   "execution_count": 8,
   "metadata": {},
   "outputs": [],
   "source": [
    "#例3.1"
   ]
  },
  {
   "cell_type": "code",
   "execution_count": 9,
   "metadata": {},
   "outputs": [
    {
     "output_type": "execute_result",
     "data": {
      "text/plain": [
       "0"
      ],
      "image/png": "[encoded data removed]",
      "text/latex": "$\\displaystyle 0$"
     },
     "metadata": {},
     "execution_count": 9
    }
   ],
   "source": [
    "from sympy import *\n",
    "x,C=symbols('x C')\n",
    "init_printing()\n",
    "#第一种求导的方式：f(x).diff(x)\n",
    "C.diff(x)"
   ]
  },
  {
   "cell_type": "code",
   "execution_count": 10,
   "metadata": {},
   "outputs": [],
   "source": [
    "#例3.2"
   ]
  },
  {
   "cell_type": "code",
   "execution_count": 11,
   "metadata": {},
   "outputs": [
    {
     "output_type": "execute_result",
     "data": {
      "text/plain": [
       "   μ\n",
       "μ⋅x \n",
       "────\n",
       " x  "
      ],
      "image/png": "[encoded data removed]",
      "text/latex": "$\\displaystyle \\frac{\\mu x^{\\mu}}{x}$"
     },
     "metadata": {},
     "execution_count": 11
    }
   ],
   "source": [
    "x,mu=symbols('x mu')\n",
    "init_printing()\n",
    "(x**mu).diff(x)"
   ]
  },
  {
   "cell_type": "code",
   "execution_count": 12,
   "metadata": {},
   "outputs": [],
   "source": [
    "#例3.3"
   ]
  },
  {
   "cell_type": "code",
   "execution_count": 13,
   "metadata": {},
   "outputs": [
    {
     "output_type": "execute_result",
     "data": {
      "text/plain": [
       "cos(x)"
      ],
      "image/png": "[encoded data removed]",
      "text/latex": "$\\displaystyle \\cos{\\left(x \\right)}$"
     },
     "metadata": {},
     "execution_count": 13
    }
   ],
   "source": [
    "x=symbols('x')\n",
    "init_printing()\n",
    "sin(x).diff(x)"
   ]
  },
  {
   "cell_type": "code",
   "execution_count": 14,
   "metadata": {},
   "outputs": [],
   "source": [
    "#例3.4"
   ]
  },
  {
   "cell_type": "code",
   "execution_count": 15,
   "metadata": {},
   "outputs": [
    {
     "output_type": "execute_result",
     "data": {
      "text/plain": [
       " x       \n",
       "a ⋅log(a)"
      ],
      "image/png": "[encoded data removed]",
      "text/latex": "$\\displaystyle a^{x} \\log{\\left(a \\right)}$"
     },
     "metadata": {},
     "execution_count": 15
    }
   ],
   "source": [
    "x,a=symbols('x a')\n",
    "init_printing()\n",
    "(a**x).diff(x)"
   ]
  },
  {
   "cell_type": "code",
   "execution_count": 16,
   "metadata": {},
   "outputs": [],
   "source": [
    "#例3.5"
   ]
  },
  {
   "cell_type": "code",
   "execution_count": 17,
   "metadata": {},
   "outputs": [
    {
     "output_type": "execute_result",
     "data": {
      "text/plain": [
       "   1    \n",
       "────────\n",
       "x⋅log(a)"
      ],
      "image/png": "[encoded data removed]",
      "text/latex": "$\\displaystyle \\frac{1}{x \\log{\\left(a \\right)}}$"
     },
     "metadata": {},
     "execution_count": 17
    }
   ],
   "source": [
    "x,a=symbols('x a')\n",
    "init_printing()\n",
    "#第二种求导的方式：diff(f(x),x)\n",
    "diff(log(x,a),x)  #log(x,a)中a为底数"
   ]
  },
  {
   "cell_type": "code",
   "execution_count": 18,
   "metadata": {},
   "outputs": [],
   "source": [
    "#例3.6"
   ]
  },
  {
   "cell_type": "code",
   "execution_count": 19,
   "metadata": {},
   "outputs": [
    {
     "output_type": "execute_result",
     "data": {
      "text/plain": [
       "1\n",
       "─\n",
       "x"
      ],
      "image/png": "[encoded data removed]",
      "text/latex": "$\\displaystyle \\frac{1}{x}$"
     },
     "metadata": {},
     "execution_count": 19
    }
   ],
   "source": [
    "x=symbols('x')\n",
    "init_printing()\n",
    "diff(log(x),x)  #log(x)底默认为e"
   ]
  },
  {
   "cell_type": "code",
   "execution_count": 20,
   "metadata": {},
   "outputs": [
    {
     "output_type": "execute_result",
     "data": {
      "text/plain": [
       "1"
      ],
      "image/png": "[encoded data removed]",
      "text/latex": "$\\displaystyle 1$"
     },
     "metadata": {},
     "execution_count": 20
    }
   ],
   "source": [
    "diff_sinx=diff(sin(x),x)\n",
    "#将x替换为0\n",
    "diff_sinx.subs(x,0)"
   ]
  },
  {
   "cell_type": "code",
   "execution_count": null,
   "metadata": {},
   "outputs": [],
   "source": []
  }
 ],
 "metadata": {
  "language_info": {
   "codemirror_mode": {
    "name": "ipython",
    "version": 3
   },
   "file_extension": ".py",
   "mimetype": "text/x-python",
   "name": "python",
   "nbconvert_exporter": "python",
   "pygments_lexer": "ipython3",
   "version": "3.6.1-final"
  },
  "orig_nbformat": 2,
  "kernelspec": {
   "name": "python3",
   "display_name": "Python 3",
   "language": "python"
  }
 },
 "nbformat": 4,
 "nbformat_minor": 2
}