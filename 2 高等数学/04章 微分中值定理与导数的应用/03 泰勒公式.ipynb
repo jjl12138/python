{
 "cells": [
  {
   "cell_type": "code",
   "execution_count": 11,
   "metadata": {},
   "outputs": [],
   "source": [
    "#例4.3"
   ]
  },
  {
   "cell_type": "code",
   "execution_count": 12,
   "metadata": {
    "tags": []
   },
   "outputs": [
    {
     "output_type": "execute_result",
     "data": {
      "text/plain": [
       "         2    3    4     5        \n",
       "        x    x    x     x     ⎛ 6⎞\n",
       "1 + x + ── + ── + ── + ─── + O⎝x ⎠\n",
       "        2    6    24   120        "
      ],
      "image/png": "[encoded data removed]",
      "text/latex": "$\\displaystyle 1 + x + \\frac{x^{2}}{2} + \\frac{x^{3}}{6} + \\frac{x^{4}}{24} + \\frac{x^{5}}{120} + O\\left(x^{6}\\right)$"
     },
     "metadata": {},
     "execution_count": 12
    }
   ],
   "source": [
    "from sympy import E,symbols,init_printing,series,sin,cos,log,simplify,tan,limit,oo,E\n",
    "x=symbols('x')\n",
    "init_printing()\n",
    "f=E**x\n",
    "exp1=series(f,x,0)\n",
    "exp1"
   ]
  },
  {
   "cell_type": "code",
   "execution_count": 13,
   "metadata": {},
   "outputs": [],
   "source": [
    "#例4.4"
   ]
  },
  {
   "cell_type": "code",
   "execution_count": 14,
   "metadata": {},
   "outputs": [
    {
     "output_type": "execute_result",
     "data": {
      "text/plain": [
       "     3     5     7       9           \n",
       "    x     x     x       x       ⎛ 10⎞\n",
       "x - ── + ─── - ──── + ────── + O⎝x  ⎠\n",
       "    6    120   5040   362880         "
      ],
      "image/png": "[encoded data removed]",
      "text/latex": "$\\displaystyle x - \\frac{x^{3}}{6} + \\frac{x^{5}}{120} - \\frac{x^{7}}{5040} + \\frac{x^{9}}{362880} + O\\left(x^{10}\\right)$"
     },
     "metadata": {},
     "execution_count": 14
    }
   ],
   "source": [
    "x=symbols('x')\n",
    "init_printing()\n",
    "series(sin(x),x,0,n=10)"
   ]
  },
  {
   "cell_type": "code",
   "execution_count": 15,
   "metadata": {},
   "outputs": [],
   "source": [
    "#例4.5"
   ]
  },
  {
   "cell_type": "code",
   "execution_count": 16,
   "metadata": {},
   "outputs": [
    {
     "output_type": "execute_result",
     "data": {
      "text/plain": [
       "     2    3    4    5        \n",
       "    x    x    x    x     ⎛ 6⎞\n",
       "x - ── + ── - ── + ── + O⎝x ⎠\n",
       "    2    3    4    5         "
      ],
      "image/png": "[encoded data removed]",
      "text/latex": "$\\displaystyle x - \\frac{x^{2}}{2} + \\frac{x^{3}}{3} - \\frac{x^{4}}{4} + \\frac{x^{5}}{5} + O\\left(x^{6}\\right)$"
     },
     "metadata": {},
     "execution_count": 16
    }
   ],
   "source": [
    "x=symbols('x')\n",
    "init_printing()\n",
    "series(log(1+x),x,0)"
   ]
  },
  {
   "cell_type": "code",
   "execution_count": 17,
   "metadata": {},
   "outputs": [],
   "source": [
    "#例4.6"
   ]
  },
  {
   "cell_type": "code",
   "execution_count": 18,
   "metadata": {},
   "outputs": [
    {
     "output_type": "execute_result",
     "data": {
      "text/plain": [
       "             2              3 ⎛ 2          ⎞      4 ⎛ 3      2           ⎞    \n",
       "          α⋅x ⋅(α - 1)   α⋅x ⋅⎝α  - 3⋅α + 2⎠   α⋅x ⋅⎝α  - 6⋅α  + 11⋅α - 6⎠   α\n",
       "1 + α⋅x + ──────────── + ─────────────────── + ─────────────────────────── + ─\n",
       "               2                  6                         24                \n",
       "\n",
       "  5 ⎛ 4       3       2            ⎞        \n",
       "⋅x ⋅⎝α  - 10⋅α  + 35⋅α  - 50⋅α + 24⎠    ⎛ 6⎞\n",
       "──────────────────────────────────── + O⎝x ⎠\n",
       "                120                         "
      ],
      "image/png": "[encoded data removed]",
      "text/latex": "$\\displaystyle 1 + \\alpha x + \\frac{\\alpha x^{2} \\left(\\alpha - 1\\right)}{2} + \\frac{\\alpha x^{3} \\left(\\alpha^{2} - 3 \\alpha + 2\\right)}{6} + \\frac{\\alpha x^{4} \\left(\\alpha^{3} - 6 \\alpha^{2} + 11 \\alpha - 6\\right)}{24} + \\frac{\\alpha x^{5} \\left(\\alpha^{4} - 10 \\alpha^{3} + 35 \\alpha^{2} - 50 \\alpha + 24\\right)}{120} + O\\left(x^{6}\\right)$"
     },
     "metadata": {},
     "execution_count": 18
    }
   ],
   "source": [
    "a=symbols('alpha',real=True)\n",
    "init_printing()\n",
    "simplify(series((1+x)**a,x))"
   ]
  },
  {
   "cell_type": "code",
   "execution_count": 19,
   "metadata": {},
   "outputs": [],
   "source": [
    "#例4.7"
   ]
  },
  {
   "cell_type": "code",
   "execution_count": 20,
   "metadata": {},
   "outputs": [
    {
     "output_type": "execute_result",
     "data": {
      "text/plain": [
       "     3      5        \n",
       "    x    2⋅x     ⎛ 6⎞\n",
       "x + ── + ──── + O⎝x ⎠\n",
       "    3     15         "
      ],
      "image/png": "[encoded data removed]",
      "text/latex": "$\\displaystyle x + \\frac{x^{3}}{3} + \\frac{2 x^{5}}{15} + O\\left(x^{6}\\right)$"
     },
     "metadata": {},
     "execution_count": 20
    }
   ],
   "source": [
    "x=symbols('x')\n",
    "init_printing()\n",
    "series(tan(x),x,0)"
   ]
  },
  {
   "cell_type": "code",
   "execution_count": 21,
   "metadata": {},
   "outputs": [],
   "source": [
    "#例4.8"
   ]
  },
  {
   "cell_type": "code",
   "execution_count": 22,
   "metadata": {},
   "outputs": [
    {
     "output_type": "execute_result",
     "data": {
      "text/plain": [
       "            2          3          4          5        ⎛       6        ⎞\n",
       "-2 - (x + 1)  - (x + 1)  - (x + 1)  - (x + 1)  - x + O⎝(x + 1) ; x → -1⎠"
      ],
      "image/png": "[encoded data removed]",
      "text/latex": "$\\displaystyle -2 - \\left(x + 1\\right)^{2} - \\left(x + 1\\right)^{3} - \\left(x + 1\\right)^{4} - \\left(x + 1\\right)^{5} - x + O\\left(\\left(x + 1\\right)^{6}; x\\rightarrow -1\\right)$"
     },
     "metadata": {},
     "execution_count": 22
    }
   ],
   "source": [
    "x=symbols('x')\n",
    "init_printing()\n",
    "series(1/x,x,-1) "
   ]
  },
  {
   "cell_type": "code",
   "execution_count": 23,
   "metadata": {},
   "outputs": [],
   "source": [
    "#例4.9(1)"
   ]
  },
  {
   "cell_type": "code",
   "execution_count": 24,
   "metadata": {},
   "outputs": [
    {
     "output_type": "execute_result",
     "data": {
      "text/plain": [
       "1.50000000000000"
      ],
      "image/png": "[encoded data removed]",
      "text/latex": "$\\displaystyle 1.5$"
     },
     "metadata": {},
     "execution_count": 24
    }
   ],
   "source": [
    "x=symbols('x')\n",
    "init_printing()\n",
    "ex_1=(x**3+3*x**2)**(1/3)-(x**4-2*x**3)**(1/4)\n",
    "limit(ex_1,x,oo)"
   ]
  },
  {
   "cell_type": "code",
   "execution_count": 25,
   "metadata": {},
   "outputs": [],
   "source": [
    "#例4.9(2)"
   ]
  },
  {
   "cell_type": "code",
   "execution_count": 26,
   "metadata": {},
   "outputs": [
    {
     "output_type": "execute_result",
     "data": {
      "text/plain": [
       "1/6"
      ],
      "image/png": "[encoded data removed]",
      "text/latex": "$\\displaystyle \\frac{1}{6}$"
     },
     "metadata": {},
     "execution_count": 26
    }
   ],
   "source": [
    "x=symbols('x')\n",
    "init_printing()\n",
    "ex_2=(cos(x)-E**(-x**2/2))/(x**2*(x+log(1-x)))\n",
    "limit(ex_2,x,0,dir='+-')"
   ]
  },
  {
   "cell_type": "code",
   "execution_count": 27,
   "metadata": {},
   "outputs": [],
   "source": [
    "#例4.9(3)"
   ]
  },
  {
   "cell_type": "code",
   "execution_count": 28,
   "metadata": {},
   "outputs": [
    {
     "output_type": "execute_result",
     "data": {
      "text/plain": [
       "(-0.0833333333333333, -0.08333333333333333)"
      ],
      "image/png": "[encoded data removed]",
      "text/latex": "$\\displaystyle \\left( -0.0833333333333333, \\  -0.08333333333333333\\right)$"
     },
     "metadata": {},
     "execution_count": 28
    }
   ],
   "source": [
    "x=symbols('x')\n",
    "init_printing()\n",
    "ex_3=(1+x**2/2-(1+x**2)**(1/2))/((cos(x)-E**(x**2))*sin(x**2))\n",
    "limit(ex_3,x,0,dir='+-'),-1/12"
   ]
  },
  {
   "cell_type": "code",
   "execution_count": 29,
   "metadata": {},
   "outputs": [],
   "source": [
    "#例4.9(4)"
   ]
  },
  {
   "cell_type": "code",
   "execution_count": 30,
   "metadata": {},
   "outputs": [
    {
     "output_type": "execute_result",
     "data": {
      "text/plain": [
       "(1/2, 1/2)"
      ],
      "image/png": "[encoded data removed]",
      "text/latex": "$\\displaystyle \\left( \\frac{1}{2}, \\  \\frac{1}{2}\\right)$"
     },
     "metadata": {},
     "execution_count": 30
    }
   ],
   "source": [
    "x=symbols('x')\n",
    "init_printing()\n",
    "ex_4=x-x**2*log(1+1/x)\n",
    "limit(ex_4,x,oo),limit(ex_4,x,-oo)"
   ]
  },
  {
   "cell_type": "code",
   "execution_count": null,
   "metadata": {},
   "outputs": [],
   "source": []
  }
 ],
 "metadata": {
  "language_info": {
   "codemirror_mode": {
    "name": "ipython",
    "version": 3
   },
   "file_extension": ".py",
   "mimetype": "text/x-python",
   "name": "python",
   "nbconvert_exporter": "python",
   "pygments_lexer": "ipython3",
   "version": "3.6.1-final"
  },
  "orig_nbformat": 2,
  "kernelspec": {
   "name": "python3",
   "display_name": "Python 3",
   "language": "python"
  }
 },
 "nbformat": 4,
 "nbformat_minor": 2
}