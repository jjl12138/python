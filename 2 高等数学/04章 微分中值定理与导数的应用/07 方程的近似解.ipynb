{
 "cells": [
  {
   "cell_type": "code",
   "execution_count": null,
   "metadata": {},
   "outputs": [],
   "source": [
    "#例4.17"
   ]
  },
  {
   "cell_type": "code",
   "execution_count": 1,
   "metadata": {
    "tags": []
   },
   "outputs": [
    {
     "output_type": "stream",
     "name": "stdout",
     "text": [
      "middle=0.5,\tf(middle)=-0.5499999999999998,\tNow: left=0.5\t,right=1\nmiddle=0.75,\tf(middle)=0.31562500000000004,\tNow: left=0.5\t,right=0.75\nmiddle=0.625,\tf(middle)=-0.1636718749999999,\tNow: left=0.625\t,right=0.75\nmiddle=0.6875,\tf(middle)=0.06362304687500009,\tNow: left=0.625\t,right=0.6875\nmiddle=0.65625,\tf(middle)=-0.05302124023437482,\tNow: left=0.65625\t,right=0.6875\nmiddle=0.671875,\tf(middle)=0.0045402526855471415,\tNow: left=0.65625\t,right=0.671875\nmiddle=0.6640625,\tf(middle)=-0.02442922592163077,\tNow: left=0.6640625\t,right=0.671875\nmiddle=0.66796875,\tf(middle)=-0.009991848468780429,\tNow: left=0.66796875\t,right=0.671875\nmiddle=0.669921875,\tf(middle)=-0.002737660706042977,\tNow: left=0.669921875\t,right=0.671875\nAt last,x=0.6708984375,f(0.6708984375)=0.0008983274921776641\n"
     ]
    }
   ],
   "source": [
    "import numpy as np \n",
    "def f(x):\n",
    "    return x**3+1.1*x**2+0.9*x-1.4\n",
    "epsilon=1e-3\n",
    "left=0  #f(0)<0\n",
    "right=1  #f(1)>0\n",
    "middle=(left+right)/2\n",
    "while np.abs(f(middle))>epsilon:\n",
    "    print('middle={},\\t'.format(middle),end='')\n",
    "    print('f(middle)={},\\t'.format(f(middle)),end='')\n",
    "    if f(middle)>0:\n",
    "        right=middle\n",
    "    else:\n",
    "        left=middle\n",
    "    print('Now: left={}\\t,right={}'.format(left,right))\n",
    "    middle=(left+right)/2\n",
    "print(\"At last,x={},f({})={}\".format(middle,middle,f(middle)))"
   ]
  },
  {
   "cell_type": "code",
   "execution_count": 2,
   "metadata": {
    "tags": []
   },
   "outputs": [
    {
     "output_type": "stream",
     "name": "stdout",
     "text": [
      "roots=[0.670657310725810]\nf(roots)=0\n"
     ]
    }
   ],
   "source": [
    "from sympy import solve,symbols\n",
    "x=symbols('x',real=True)\n",
    "roots=solve(f(x),x)\n",
    "print(\"roots={}\".format(roots))\n",
    "print(\"f(roots)={}\".format(f(roots[0])))"
   ]
  },
  {
   "cell_type": "code",
   "execution_count": null,
   "metadata": {},
   "outputs": [],
   "source": [
    "#例4.18"
   ]
  },
  {
   "cell_type": "code",
   "execution_count": 3,
   "metadata": {},
   "outputs": [
    {
     "output_type": "execute_result",
     "data": {
      "text/plain": [
       "(-0.19993610223642172, 2)"
      ]
     },
     "metadata": {},
     "execution_count": 3
    }
   ],
   "source": [
    "def f(x):return x**5+5*x+1\n",
    "def diff_f(x):return 5*x**4+5\n",
    "def nextX(x):return x-f(x)/diff_f(x) \n",
    "epsilon=1e-8\n",
    "x=0\n",
    "iter_times=0\n",
    "while abs(f(x))>epsilon:\n",
    "    iter_times+=1\n",
    "    x=nextX(x)\n",
    "x,iter_times"
   ]
  },
  {
   "cell_type": "code",
   "execution_count": null,
   "metadata": {},
   "outputs": [],
   "source": []
  }
 ],
 "metadata": {
  "language_info": {
   "codemirror_mode": {
    "name": "ipython",
    "version": 3
   },
   "file_extension": ".py",
   "mimetype": "text/x-python",
   "name": "python",
   "nbconvert_exporter": "python",
   "pygments_lexer": "ipython3",
   "version": "3.6.1-final"
  },
  "orig_nbformat": 2,
  "kernelspec": {
   "name": "python3",
   "display_name": "Python 3",
   "language": "python"
  }
 },
 "nbformat": 4,
 "nbformat_minor": 2
}