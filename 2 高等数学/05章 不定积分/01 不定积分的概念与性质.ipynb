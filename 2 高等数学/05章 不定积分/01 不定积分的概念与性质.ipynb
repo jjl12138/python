{
 "cells": [
  {
   "cell_type": "code",
   "execution_count": 1,
   "metadata": {},
   "outputs": [],
   "source": [
    "#例5.1"
   ]
  },
  {
   "cell_type": "code",
   "execution_count": 2,
   "metadata": {},
   "outputs": [
    {
     "output_type": "execute_result",
     "data": {
      "text/plain": [
       " 3\n",
       "x \n",
       "──\n",
       "3 "
      ],
      "image/png": "[encoded data removed]",
      "text/latex": "$\\displaystyle \\frac{x^{3}}{3}$"
     },
     "metadata": {},
     "execution_count": 2
    }
   ],
   "source": [
    "from sympy import *\n",
    "x=symbols('x')\n",
    "init_printing()\n",
    "integrate(x**2,x)"
   ]
  },
  {
   "cell_type": "code",
   "execution_count": 3,
   "metadata": {},
   "outputs": [],
   "source": [
    "#例5.2"
   ]
  },
  {
   "cell_type": "code",
   "execution_count": 4,
   "metadata": {},
   "outputs": [
    {
     "output_type": "execute_result",
     "data": {
      "text/plain": [
       " 2                     \n",
       "x                     1\n",
       "── - 3⋅x + 3⋅log(x) + ─\n",
       "2                     x"
      ],
      "image/png": "[encoded data removed]",
      "text/latex": "$\\displaystyle \\frac{x^{2}}{2} - 3 x + 3 \\log{\\left(x \\right)} + \\frac{1}{x}$"
     },
     "metadata": {},
     "execution_count": 4
    }
   ],
   "source": [
    "x=symbols('x')\n",
    "init_printing()\n",
    "ex_2=(x-1)**3/(x**2)\n",
    "integrate(ex_2,x)"
   ]
  },
  {
   "cell_type": "code",
   "execution_count": null,
   "metadata": {},
   "outputs": [],
   "source": [
    "#例5.3"
   ]
  },
  {
   "cell_type": "code",
   "execution_count": 5,
   "metadata": {},
   "outputs": [
    {
     "output_type": "execute_result",
     "data": {
      "text/plain": [
       "x      ⎛x⎞    ⎛x⎞\n",
       "─ - sin⎜─⎟⋅cos⎜─⎟\n",
       "2      ⎝2⎠    ⎝2⎠"
      ],
      "image/png": "[encoded data removed]",
      "text/latex": "$\\displaystyle \\frac{x}{2} - \\sin{\\left(\\frac{x}{2} \\right)} \\cos{\\left(\\frac{x}{2} \\right)}$"
     },
     "metadata": {},
     "execution_count": 5
    }
   ],
   "source": [
    "x=symbols('x')\n",
    "init_printing()\n",
    "ex_3=lambda x:(sin(x/2))**2\n",
    "integrate(ex_3(x),x)"
   ]
  },
  {
   "cell_type": "code",
   "execution_count": null,
   "metadata": {},
   "outputs": [],
   "source": [
    "#例5.4"
   ]
  },
  {
   "cell_type": "code",
   "execution_count": 6,
   "metadata": {},
   "outputs": [
    {
     "output_type": "execute_result",
     "data": {
      "text/plain": [
       "   3                \n",
       "2⋅x                 \n",
       "──── - x + 4⋅atan(x)\n",
       " 3                  "
      ],
      "image/png": "[encoded data removed]",
      "text/latex": "$\\displaystyle \\frac{2 x^{3}}{3} - x + 4 \\operatorname{atan}{\\left(x \\right)}$"
     },
     "metadata": {},
     "execution_count": 6
    }
   ],
   "source": [
    "x=symbols('x')\n",
    "init_printing()\n",
    "def ex_4(x):\n",
    "    return (2*x**4+x**2+3)/(x**2+1)\n",
    "integrate(ex_4(x),x)"
   ]
  },
  {
   "cell_type": "code",
   "execution_count": null,
   "metadata": {},
   "outputs": [],
   "source": []
  }
 ],
 "metadata": {
  "language_info": {
   "codemirror_mode": {
    "name": "ipython",
    "version": 3
   },
   "file_extension": ".py",
   "mimetype": "text/x-python",
   "name": "python",
   "nbconvert_exporter": "python",
   "pygments_lexer": "ipython3",
   "version": "3.6.1-final"
  },
  "orig_nbformat": 2,
  "kernelspec": {
   "name": "python3",
   "display_name": "Python 3",
   "language": "python"
  }
 },
 "nbformat": 4,
 "nbformat_minor": 2
}