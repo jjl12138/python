{
 "cells": [
  {
   "cell_type": "code",
   "execution_count": null,
   "metadata": {},
   "outputs": [],
   "source": [
    "#例5.5"
   ]
  },
  {
   "cell_type": "code",
   "execution_count": 1,
   "metadata": {},
   "outputs": [
    {
     "output_type": "execute_result",
     "data": {
      "text/plain": [
       "    ⎛x⎞\n",
       "atan⎜─⎟\n",
       "    ⎝a⎠\n",
       "───────\n",
       "   a   "
      ],
      "image/png": "[encoded data removed]",
      "text/latex": "$\\displaystyle \\frac{\\operatorname{atan}{\\left(\\frac{x}{a} \\right)}}{a}$"
     },
     "metadata": {},
     "execution_count": 1
    }
   ],
   "source": [
    "from sympy import *\n",
    "x,a=symbols('x a',real=True)\n",
    "init_printing()\n",
    "integrate(1/(x**2+a**2),x)"
   ]
  },
  {
   "cell_type": "code",
   "execution_count": null,
   "metadata": {},
   "outputs": [],
   "source": [
    "#例5.6"
   ]
  },
  {
   "cell_type": "code",
   "execution_count": 2,
   "metadata": {},
   "outputs": [
    {
     "output_type": "execute_result",
     "data": {
      "text/plain": [
       "               5                3                   \n",
       "x    sin(x)⋅cos (x)   sin(x)⋅cos (x)   sin(x)⋅cos(x)\n",
       "── - ────────────── + ────────────── + ─────────────\n",
       "16         6                24               16     "
      ],
      "image/png": "[encoded data removed]",
      "text/latex": "$\\displaystyle \\frac{x}{16} - \\frac{\\sin{\\left(x \\right)} \\cos^{5}{\\left(x \\right)}}{6} + \\frac{\\sin{\\left(x \\right)} \\cos^{3}{\\left(x \\right)}}{24} + \\frac{\\sin{\\left(x \\right)} \\cos{\\left(x \\right)}}{16}$"
     },
     "metadata": {},
     "execution_count": 2
    }
   ],
   "source": [
    "x=symbols('x',real=True)\n",
    "init_printing()\n",
    "f=sin(x)**2*cos(x)**4\n",
    "result=integrate(f,x)\n",
    "result"
   ]
  },
  {
   "cell_type": "code",
   "execution_count": 3,
   "metadata": {},
   "outputs": [
    {
     "output_type": "execute_result",
     "data": {
      "text/plain": [
       "                   2                               \n",
       "x    (cos(2⋅x) + 1) ⋅sin(2⋅x)   sin(2⋅x)   sin(4⋅x)\n",
       "── - ──────────────────────── + ──────── + ────────\n",
       "16              48                 24        192   "
      ],
      "image/png": "[encoded data removed]",
      "text/latex": "$\\displaystyle \\frac{x}{16} - \\frac{\\left(\\cos{\\left(2 x \\right)} + 1\\right)^{2} \\sin{\\left(2 x \\right)}}{48} + \\frac{\\sin{\\left(2 x \\right)}}{24} + \\frac{\\sin{\\left(4 x \\right)}}{192}$"
     },
     "metadata": {},
     "execution_count": 3
    }
   ],
   "source": [
    "simplify(result)"
   ]
  },
  {
   "cell_type": "code",
   "execution_count": null,
   "metadata": {},
   "outputs": [],
   "source": [
    "#例5.7"
   ]
  },
  {
   "cell_type": "code",
   "execution_count": 4,
   "metadata": {},
   "outputs": [
    {
     "output_type": "execute_result",
     "data": {
      "text/plain": [
       "log(cos(x) - 1)   log(cos(x) + 1)\n",
       "─────────────── - ───────────────\n",
       "       2                 2       "
      ],
      "image/png": "[encoded data removed]",
      "text/latex": "$\\displaystyle \\frac{\\log{\\left(\\cos{\\left(x \\right)} - 1 \\right)}}{2} - \\frac{\\log{\\left(\\cos{\\left(x \\right)} + 1 \\right)}}{2}$"
     },
     "metadata": {},
     "execution_count": 4
    }
   ],
   "source": [
    "x=symbols('x',real=True)\n",
    "init_printing()\n",
    "result=integrate(csc(x),x)\n",
    "result"
   ]
  },
  {
   "cell_type": "code",
   "execution_count": 5,
   "metadata": {},
   "outputs": [
    {
     "output_type": "execute_result",
     "data": {
      "text/plain": [
       "log(cos(x) - 1)   log(cos(x) + 1)\n",
       "─────────────── - ───────────────\n",
       "       2                 2       "
      ],
      "image/png": "[encoded data removed]",
      "text/latex": "$\\displaystyle \\frac{\\log{\\left(\\cos{\\left(x \\right)} - 1 \\right)}}{2} - \\frac{\\log{\\left(\\cos{\\left(x \\right)} + 1 \\right)}}{2}$"
     },
     "metadata": {},
     "execution_count": 5
    }
   ],
   "source": [
    "simplify(result)"
   ]
  },
  {
   "cell_type": "code",
   "execution_count": null,
   "metadata": {},
   "outputs": [],
   "source": [
    "#例5.8"
   ]
  },
  {
   "cell_type": "code",
   "execution_count": 6,
   "metadata": {},
   "outputs": [
    {
     "output_type": "execute_result",
     "data": {
      "text/plain": [
       " 2     ⎛x⎞        _________\n",
       "a ⋅asin⎜─⎟       ╱  2    2 \n",
       "       ⎝a⎠   x⋅╲╱  a  - x  \n",
       "────────── + ──────────────\n",
       "    2              2       "
      ],
      "image/png": "[encoded data removed]",
      "text/latex": "$\\displaystyle \\frac{a^{2} \\operatorname{asin}{\\left(\\frac{x}{a} \\right)}}{2} + \\frac{x \\sqrt{a^{2} - x^{2}}}{2}$"
     },
     "metadata": {},
     "execution_count": 6
    }
   ],
   "source": [
    "a=symbols('a',positive=True)\n",
    "x=symbols('x',real=True)\n",
    "init_printing()\n",
    "integrate(sqrt(a**2-x**2),x)"
   ]
  },
  {
   "cell_type": "code",
   "execution_count": null,
   "metadata": {},
   "outputs": [],
   "source": [
    "#例5.9"
   ]
  },
  {
   "cell_type": "code",
   "execution_count": 7,
   "metadata": {},
   "outputs": [
    {
     "output_type": "execute_result",
     "data": {
      "text/plain": [
       "     ⎛x⎞\n",
       "asinh⎜─⎟\n",
       "     ⎝a⎠"
      ],
      "image/png": "[encoded data removed]",
      "text/latex": "$\\displaystyle \\operatorname{asinh}{\\left(\\frac{x}{a} \\right)}$"
     },
     "metadata": {},
     "execution_count": 7
    }
   ],
   "source": [
    "a=symbols('a',positive=True)\n",
    "x=symbols('x',real=True)\n",
    "init_printing()\n",
    "f=1/(sqrt(x**2+a**2))\n",
    "integrate(f,x)"
   ]
  },
  {
   "cell_type": "code",
   "execution_count": null,
   "metadata": {},
   "outputs": [],
   "source": [
    "#例5.10"
   ]
  },
  {
   "cell_type": "code",
   "execution_count": 8,
   "metadata": {},
   "outputs": [
    {
     "output_type": "execute_result",
     "data": {
      "text/plain": [
       "                    ⎛ 2          ⎞                \n",
       "       x         log⎝x  - 2⋅x + 2⎠                \n",
       "- ──────────── + ───────────────── + 2⋅atan(x - 1)\n",
       "   2                     2                        \n",
       "  x  - 2⋅x + 2                                    "
      ],
      "image/png": "[encoded data removed]",
      "text/latex": "$\\displaystyle - \\frac{x}{x^{2} - 2 x + 2} + \\frac{\\log{\\left(x^{2} - 2 x + 2 \\right)}}{2} + 2 \\operatorname{atan}{\\left(x - 1 \\right)}$"
     },
     "metadata": {},
     "execution_count": 8
    }
   ],
   "source": [
    "x=symbols('x',real=True)\n",
    "init_printing()\n",
    "integrate(x**3/((x**2-2*x+2)**2),x)"
   ]
  }
 ],
 "metadata": {
  "language_info": {
   "codemirror_mode": {
    "name": "ipython",
    "version": 3
   },
   "file_extension": ".py",
   "mimetype": "text/x-python",
   "name": "python",
   "nbconvert_exporter": "python",
   "pygments_lexer": "ipython3",
   "version": "3.6.1-final"
  },
  "orig_nbformat": 2,
  "kernelspec": {
   "name": "python3",
   "display_name": "Python 3",
   "language": "python"
  }
 },
 "nbformat": 4,
 "nbformat_minor": 2
}