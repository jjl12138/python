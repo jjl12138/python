{
 "cells": [
  {
   "cell_type": "code",
   "execution_count": 1,
   "metadata": {},
   "outputs": [
    {
     "data": {
      "image/png": "[encoded data removed]",
      "text/latex": [
       "$\\displaystyle \\frac{x - 1}{x + 1}$"
      ],
      "text/plain": [
       "x - 1\n",
       "─────\n",
       "x + 1"
      ]
     },
     "execution_count": 1,
     "metadata": {},
     "output_type": "execute_result"
    }
   ],
   "source": [
    "from sympy import *\n",
    "x=symbols('x')\n",
    "init_printing()\n",
    "#约分:cancel()\n",
    "cancel((x**2-2*x+1)/(x**2-1))"
   ]
  },
  {
   "cell_type": "code",
   "execution_count": 2,
   "metadata": {},
   "outputs": [
    {
     "data": {
      "image/png": "[encoded data removed]",
      "text/latex": [
       "$\\displaystyle x^{3} + 3 x^{2} + 3 x + 1$"
      ],
      "text/plain": [
       " 3      2          \n",
       "x  + 3⋅x  + 3⋅x + 1"
      ]
     },
     "execution_count": 2,
     "metadata": {},
     "output_type": "execute_result"
    }
   ],
   "source": [
    "x=symbols('x')\n",
    "init_printing()\n",
    "#展开:expand()\n",
    "expand((x+1)**3)"
   ]
  },
  {
   "cell_type": "code",
   "execution_count": 3,
   "metadata": {},
   "outputs": [
    {
     "data": {
      "image/png": "[encoded data removed]",
      "text/latex": [
       "$\\displaystyle \\left(x + 1\\right)^{3}$"
      ],
      "text/plain": [
       "       3\n",
       "(x + 1) "
      ]
     },
     "execution_count": 3,
     "metadata": {},
     "output_type": "execute_result"
    }
   ],
   "source": [
    "x=symbols('x')\n",
    "init_printing()\n",
    "#分解因式:factor()\n",
    "factor(x**3+3*x**2+3*x+1)"
   ]
  },
  {
   "cell_type": "code",
   "execution_count": 4,
   "metadata": {},
   "outputs": [
    {
     "data": {
      "image/png": "[encoded data removed]",
      "text/latex": [
       "$\\displaystyle 2 x^{2} - 1 + \\frac{4}{x^{2} + 1}$"
      ],
      "text/plain": [
       "   2         4   \n",
       "2⋅x  - 1 + ──────\n",
       "            2    \n",
       "           x  + 1"
      ]
     },
     "execution_count": 4,
     "metadata": {},
     "output_type": "execute_result"
    }
   ],
   "source": [
    "x=symbols('x')\n",
    "init_printing()\n",
    "#将假分式拆分为几个真分式的和:apart()\n",
    "apart((2*x**4+x**2+3)/(x**2+1),x)"
   ]
  },
  {
   "cell_type": "code",
   "execution_count": 5,
   "metadata": {},
   "outputs": [],
   "source": [
    "#例5.14"
   ]
  },
  {
   "cell_type": "code",
   "execution_count": 6,
   "metadata": {},
   "outputs": [
    {
     "data": {
      "image/png": "[encoded data removed]",
      "text/latex": [
       "$\\displaystyle \\log{\\left(x + \\frac{1}{2} \\right)} - \\frac{\\log{\\left(x^{2} + x + 1 \\right)}}{2} + \\frac{\\sqrt{3} \\operatorname{atan}{\\left(\\frac{2 \\sqrt{3} x}{3} + \\frac{\\sqrt{3}}{3} \\right)}}{3}$"
      ],
      "text/plain": [
       "                                        ⎛2⋅√3⋅x   √3⎞\n",
       "                  ⎛ 2        ⎞   √3⋅atan⎜────── + ──⎟\n",
       "               log⎝x  + x + 1⎠          ⎝  3      3 ⎠\n",
       "log(x + 1/2) - ─────────────── + ────────────────────\n",
       "                      2                   3          "
      ]
     },
     "execution_count": 6,
     "metadata": {},
     "output_type": "execute_result"
    }
   ],
   "source": [
    "x=symbols('x')\n",
    "init_printing()\n",
    "ex_1=(x+2)/((2*x+1)*(x**2+x+1))\n",
    "integrate(ex_1,x)"
   ]
  },
  {
   "cell_type": "code",
   "execution_count": 7,
   "metadata": {},
   "outputs": [],
   "source": [
    "#例5.15"
   ]
  },
  {
   "cell_type": "code",
   "execution_count": 8,
   "metadata": {},
   "outputs": [
    {
     "data": {
      "image/png": "[encoded data removed]",
      "text/latex": [
       "$\\displaystyle \\log{\\left(x - 1 \\right)} - \\log{\\left(x + 1 \\right)} + \\frac{1}{x - 1}$"
      ],
      "text/plain": [
       "                            1  \n",
       "log(x - 1) - log(x + 1) + ─────\n",
       "                          x - 1"
      ]
     },
     "execution_count": 8,
     "metadata": {},
     "output_type": "execute_result"
    }
   ],
   "source": [
    "x=symbols('x')\n",
    "init_printing()\n",
    "ex_2=(x-3)/((x-1)*(x**2-1))\n",
    "integrate(ex_2,x)"
   ]
  },
  {
   "cell_type": "code",
   "execution_count": 9,
   "metadata": {},
   "outputs": [],
   "source": [
    "#例5.16"
   ]
  },
  {
   "cell_type": "code",
   "execution_count": 10,
   "metadata": {},
   "outputs": [
    {
     "data": {
      "image/png": "[encoded data removed]",
      "text/latex": [
       "$\\displaystyle \\frac{\\log{\\left(\\tan{\\left(\\frac{x}{2} \\right)} \\right)}}{2} + \\frac{\\tan^{2}{\\left(\\frac{x}{2} \\right)}}{4} + \\tan{\\left(\\frac{x}{2} \\right)}$"
      ],
      "text/plain": [
       "   ⎛   ⎛x⎞⎞      2⎛x⎞         \n",
       "log⎜tan⎜─⎟⎟   tan ⎜─⎟         \n",
       "   ⎝   ⎝2⎠⎠       ⎝2⎠      ⎛x⎞\n",
       "─────────── + ─────── + tan⎜─⎟\n",
       "     2           4         ⎝2⎠"
      ]
     },
     "execution_count": 10,
     "metadata": {},
     "output_type": "execute_result"
    }
   ],
   "source": [
    "x=symbols('x')\n",
    "init_printing()\n",
    "ex_3=(1+sin(x))/(sin(x)*(1+cos(x)))\n",
    "integrate(ex_3,x)"
   ]
  },
  {
   "cell_type": "code",
   "execution_count": 11,
   "metadata": {},
   "outputs": [],
   "source": [
    "#例5.17"
   ]
  },
  {
   "cell_type": "code",
   "execution_count": 12,
   "metadata": {},
   "outputs": [
    {
     "data": {
      "image/png": "[encoded data removed]",
      "text/latex": [
       "$\\displaystyle 6 \\sqrt[6]{x} - 6 \\operatorname{atan}{\\left(\\sqrt[6]{x} \\right)}$"
      ],
      "text/plain": [
       "  6 ___         ⎛6 ___⎞\n",
       "6⋅╲╱ x  - 6⋅atan⎝╲╱ x ⎠"
      ]
     },
     "execution_count": 12,
     "metadata": {},
     "output_type": "execute_result"
    }
   ],
   "source": [
    "x=symbols('x')\n",
    "init_printing()\n",
    "ex_4=1/(sqrt(x)+x**(S(5)/6))\n",
    "integrate(ex_4,x)"
   ]
  }
 ],
 "metadata": {
  "kernelspec": {
   "display_name": "Python 3.7.1 ('base')",
   "language": "python",
   "name": "python3"
  },
  "language_info": {
   "codemirror_mode": {
    "name": "ipython",
    "version": 3
   },
   "file_extension": ".py",
   "mimetype": "text/x-python",
   "name": "python",
   "nbconvert_exporter": "python",
   "pygments_lexer": "ipython3",
   "version": "3.7.1"
  },
  "orig_nbformat": 2,
  "vscode": {
   "interpreter": {
    "hash": "e42634819b8c191a5d07eaf23810ff32516dd8d3875f28ec3e488928fbd3c187"
   }
  }
 },
 "nbformat": 4,
 "nbformat_minor": 2
}
