{
 "cells": [
  {
   "cell_type": "code",
   "execution_count": null,
   "metadata": {},
   "outputs": [],
   "source": [
    "#例7.1"
   ]
  },
  {
   "cell_type": "code",
   "execution_count": 1,
   "metadata": {},
   "outputs": [
    {
     "output_type": "execute_result",
     "data": {
      "text/plain": [
       "        2    \n",
       "f(x) = x  + 1"
      ],
      "image/png": "[encoded data removed]",
      "text/latex": "$\\displaystyle f{\\left(x \\right)} = x^{2} + 1$"
     },
     "metadata": {},
     "execution_count": 1
    }
   ],
   "source": [
    "from sympy import *\n",
    "x=symbols('x')\n",
    "init_printing()\n",
    "f=Function('f') #定义一个函数\n",
    "eq=f(x).diff(x)-2*x #默认=0\n",
    "#ics={},大括号中填入初始条件\n",
    "dsolve(eq,f(x),ics={f(1):2})"
   ]
  },
  {
   "cell_type": "code",
   "execution_count": null,
   "metadata": {},
   "outputs": [],
   "source": [
    "#例7.2"
   ]
  },
  {
   "cell_type": "code",
   "execution_count": 2,
   "metadata": {},
   "outputs": [
    {
     "output_type": "execute_result",
     "data": {
      "text/plain": [
       "          2       \n",
       "         t        \n",
       "s(t) = - ── + 20⋅t\n",
       "         5        "
      ],
      "image/png": "[encoded data removed]",
      "text/latex": "$\\displaystyle s{\\left(t \\right)} = - \\frac{t^{2}}{5} + 20 t$"
     },
     "metadata": {},
     "execution_count": 2
    }
   ],
   "source": [
    "init_printing()\n",
    "s=Function('s')\n",
    "t=Symbol('t')\n",
    "#eq=Derivative(s(t),t,2)+0.4   --和下两行代码等效\n",
    "#eq=s(t).diff(t,t)+0.4\n",
    "eq=s(t).diff(t,2)+0.4\n",
    "#初始条件s'(0)=20这样写：s(t).diff(t).subs(t,0):20\n",
    "ics={s(0):0,s(t).diff(t).subs(t,0):20}\n",
    "dsolve(eq,s(t),ics=ics)"
   ]
  },
  {
   "cell_type": "code",
   "execution_count": null,
   "metadata": {},
   "outputs": [],
   "source": [
    "#例7.3"
   ]
  },
  {
   "cell_type": "code",
   "execution_count": 3,
   "metadata": {},
   "outputs": [
    {
     "output_type": "execute_result",
     "data": {
      "text/plain": [
       "0"
      ],
      "image/png": "[encoded data removed]",
      "text/latex": "$\\displaystyle 0$"
     },
     "metadata": {},
     "execution_count": 3
    }
   ],
   "source": [
    "init_printing()\n",
    "x,C1,C2,k,t=symbols('x C1 C2 k t')\n",
    "x=C1*cos(k*t)+C2*sin(k*t)\n",
    "x.diff(t,2)+k**2*x"
   ]
  },
  {
   "cell_type": "code",
   "execution_count": null,
   "metadata": {},
   "outputs": [],
   "source": [
    "#例7.4"
   ]
  },
  {
   "cell_type": "code",
   "execution_count": 4,
   "metadata": {},
   "outputs": [
    {
     "output_type": "execute_result",
     "data": {
      "text/plain": [
       "          ⅈ⋅k⋅t      -ⅈ⋅k⋅t\n",
       "       A⋅ℯ        A⋅ℯ      \n",
       "x(t) = ──────── + ─────────\n",
       "          2           2    "
      ],
      "image/png": "[encoded data removed]",
      "text/latex": "$\\displaystyle x{\\left(t \\right)} = \\frac{A e^{i k t}}{2} + \\frac{A e^{- i k t}}{2}$"
     },
     "metadata": {},
     "execution_count": 4
    }
   ],
   "source": [
    "init_printing()\n",
    "A=Symbol('A')\n",
    "x=Function('x')\n",
    "eq=x(t).diff(t,2)+k**2*x(t)\n",
    "ics={x(0):A,x(t).diff(t).subs(t,0):0}\n",
    "solve=dsolve(eq,x(t),ics=ics)\n",
    "solve"
   ]
  },
  {
   "cell_type": "code",
   "execution_count": 5,
   "metadata": {},
   "outputs": [
    {
     "output_type": "execute_result",
     "data": {
      "text/plain": [
       "x(t) = A⋅cos(k⋅t)"
      ],
      "image/png": "[encoded data removed]",
      "text/latex": "$\\displaystyle x{\\left(t \\right)} = A \\cos{\\left(k t \\right)}$"
     },
     "metadata": {},
     "execution_count": 5
    }
   ],
   "source": [
    "#化简\n",
    "simplify(solve)"
   ]
  }
 ],
 "metadata": {
  "language_info": {
   "codemirror_mode": {
    "name": "ipython",
    "version": 3
   },
   "file_extension": ".py",
   "mimetype": "text/x-python",
   "name": "python",
   "nbconvert_exporter": "python",
   "pygments_lexer": "ipython3",
   "version": "3.6.1-final"
  },
  "orig_nbformat": 2,
  "kernelspec": {
   "name": "python36164bit1d6dd37536b64fb6a5530f9598c6f3c0",
   "display_name": "Python 3.6.1 64-bit",
   "language": "python"
  }
 },
 "nbformat": 4,
 "nbformat_minor": 2
}