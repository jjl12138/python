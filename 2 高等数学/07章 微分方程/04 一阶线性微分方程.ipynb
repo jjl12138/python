{
 "cells": [
  {
   "cell_type": "code",
   "execution_count": 1,
   "metadata": {},
   "outputs": [],
   "source": [
    "#例7.12"
   ]
  },
  {
   "cell_type": "code",
   "execution_count": 2,
   "metadata": {},
   "outputs": [
    {
     "output_type": "execute_result",
     "data": {
      "text/plain": [
       "              2 ⎛             _______       _______⎞\n",
       "       (x + 1) ⋅⎝3⋅C₁ + 2⋅x⋅╲╱ x + 1  + 2⋅╲╱ x + 1 ⎠\n",
       "y(x) = ─────────────────────────────────────────────\n",
       "                             3                      "
      ],
      "image/png": "[encoded data removed]",
      "text/latex": "$\\displaystyle y{\\left(x \\right)} = \\frac{\\left(x + 1\\right)^{2} \\left(3 C_{1} + 2 x \\sqrt{x + 1} + 2 \\sqrt{x + 1}\\right)}{3}$"
     },
     "metadata": {},
     "execution_count": 2
    }
   ],
   "source": [
    "from sympy import *\n",
    "init_printing()\n",
    "x=symbols('x')\n",
    "y=Function('y')\n",
    "result=dsolve(y(x).diff(x)-2*y(x)/(1+x)-(x+1)**(S(5)/2),y(x))\n",
    "factor(result)"
   ]
  },
  {
   "cell_type": "code",
   "execution_count": 3,
   "metadata": {},
   "outputs": [],
   "source": [
    "#例7.13"
   ]
  },
  {
   "cell_type": "code",
   "execution_count": 4,
   "metadata": {},
   "outputs": [
    {
     "output_type": "execute_result",
     "data": {
      "text/plain": [
       "       ⎛                                              R⋅t⎞       \n",
       "       ⎜                                              ───⎟  -R⋅t \n",
       "       ⎜                                               L ⎟  ─────\n",
       "       ⎜  E₀⋅L⋅ω     E₀⋅(-L⋅ω⋅cos(ω⋅t) + R⋅sin(ω⋅t))⋅ℯ   ⎟    L  \n",
       "i(t) = ⎜────────── + ────────────────────────────────────⎟⋅ℯ     \n",
       "       ⎜ 2  2    2                 2  2    2             ⎟       \n",
       "       ⎝L ⋅ω  + R                 L ⋅ω  + R              ⎠       "
      ],
      "image/png": "[encoded data removed]",
      "text/latex": "$\\displaystyle i{\\left(t \\right)} = \\left(\\frac{E_{0} L \\omega}{L^{2} \\omega^{2} + R^{2}} + \\frac{E_{0} \\left(- L \\omega \\cos{\\left(\\omega t \\right)} + R \\sin{\\left(\\omega t \\right)}\\right) e^{\\frac{R t}{L}}}{L^{2} \\omega^{2} + R^{2}}\\right) e^{- \\frac{R t}{L}}$"
     },
     "metadata": {},
     "execution_count": 4
    }
   ],
   "source": [
    "init_printing()\n",
    "E0,L,t,R,w=symbols('E0 L t R omega',positive=True)\n",
    "i=Function('i')\n",
    "eq=i(t).diff(t)+R/L*i(t)-E0/L*sin(w*t)\n",
    "ics={i(0):0}\n",
    "dsolve(eq,i(t),ics=ics)"
   ]
  },
  {
   "cell_type": "code",
   "execution_count": 5,
   "metadata": {},
   "outputs": [],
   "source": [
    "#例7.14"
   ]
  },
  {
   "cell_type": "code",
   "execution_count": 6,
   "metadata": {},
   "outputs": [
    {
     "output_type": "execute_result",
     "data": {
      "text/plain": [
       "               1         \n",
       "y(x) = ──────────────────\n",
       "         ⎛          2   ⎞\n",
       "         ⎜     a⋅log (x)⎟\n",
       "       x⋅⎜C₁ - ─────────⎟\n",
       "         ⎝         2    ⎠"
      ],
      "image/png": "[encoded data removed]",
      "text/latex": "$\\displaystyle y{\\left(x \\right)} = \\frac{1}{x \\left(C_{1} - \\frac{a \\log{\\left(x \\right)}^{2}}{2}\\right)}$"
     },
     "metadata": {},
     "execution_count": 6
    }
   ],
   "source": [
    "init_printing()\n",
    "x=symbols('x')\n",
    "a=symbols('a',real=True)\n",
    "y=Function('y')\n",
    "eq=y(x).diff(x)+y(x)/x-a*log(x)*(y(x)**2)\n",
    "dsolve(eq,y(x))"
   ]
  },
  {
   "cell_type": "code",
   "execution_count": null,
   "metadata": {},
   "outputs": [],
   "source": []
  }
 ],
 "metadata": {
  "language_info": {
   "codemirror_mode": {
    "name": "ipython",
    "version": 3
   },
   "file_extension": ".py",
   "mimetype": "text/x-python",
   "name": "python",
   "nbconvert_exporter": "python",
   "pygments_lexer": "ipython3",
   "version": "3.6.1-final"
  },
  "orig_nbformat": 2,
  "kernelspec": {
   "name": "python3",
   "display_name": "Python 3",
   "language": "python"
  }
 },
 "nbformat": 4,
 "nbformat_minor": 2
}