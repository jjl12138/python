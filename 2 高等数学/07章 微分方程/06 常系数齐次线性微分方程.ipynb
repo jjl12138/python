{
 "cells": [
  {
   "cell_type": "code",
   "execution_count": 1,
   "metadata": {},
   "outputs": [],
   "source": [
    "#例7.21"
   ]
  },
  {
   "cell_type": "code",
   "execution_count": 2,
   "metadata": {},
   "outputs": [
    {
     "output_type": "execute_result",
     "data": {
      "text/plain": [
       "           -x       3⋅x\n",
       "y(x) = C₁⋅ℯ   + C₂⋅ℯ   "
      ],
      "image/png": "[encoded data removed]",
      "text/latex": "$\\displaystyle y{\\left(x \\right)} = C_{1} e^{- x} + C_{2} e^{3 x}$"
     },
     "metadata": {},
     "execution_count": 2
    }
   ],
   "source": [
    "from sympy import *\n",
    "init_printing()\n",
    "x=symbols('x')\n",
    "y=Function('y')\n",
    "eq=y(x).diff(x,2)-2*y(x).diff(x)-3*y(x)\n",
    "dsolve(eq,y(x))"
   ]
  },
  {
   "cell_type": "code",
   "execution_count": 3,
   "metadata": {},
   "outputs": [],
   "source": [
    "#例7.22"
   ]
  },
  {
   "cell_type": "code",
   "execution_count": 4,
   "metadata": {},
   "outputs": [
    {
     "output_type": "execute_result",
     "data": {
      "text/plain": [
       "                  -t\n",
       "s(t) = (2⋅t + 4)⋅ℯ  "
      ],
      "image/png": "[encoded data removed]",
      "text/latex": "$\\displaystyle s{\\left(t \\right)} = \\left(2 t + 4\\right) e^{- t}$"
     },
     "metadata": {},
     "execution_count": 4
    }
   ],
   "source": [
    "init_printing()\n",
    "t=symbols('t')\n",
    "s=Function('s')\n",
    "eq=s(t).diff(t,2)+2*s(t).diff(t)+s(t)\n",
    "ics={s(0):4,s(t).diff(t).subs(t,0):-2}\n",
    "dsolve(eq,s(t),ics=ics)"
   ]
  },
  {
   "cell_type": "code",
   "execution_count": 5,
   "metadata": {},
   "outputs": [],
   "source": [
    "#例7.23"
   ]
  },
  {
   "cell_type": "code",
   "execution_count": 6,
   "metadata": {},
   "outputs": [
    {
     "output_type": "execute_result",
     "data": {
      "text/plain": [
       "                                    x\n",
       "y(x) = (C₁⋅sin(2⋅x) + C₂⋅cos(2⋅x))⋅ℯ "
      ],
      "image/png": "[encoded data removed]",
      "text/latex": "$\\displaystyle y{\\left(x \\right)} = \\left(C_{1} \\sin{\\left(2 x \\right)} + C_{2} \\cos{\\left(2 x \\right)}\\right) e^{x}$"
     },
     "metadata": {},
     "execution_count": 6
    }
   ],
   "source": [
    "init_printing()\n",
    "x=symbols('x')\n",
    "y=Function('y')\n",
    "eq=y(x).diff(x,2)-2*y(x).diff(x)+5*y(x)\n",
    "dsolve(eq,y(x))"
   ]
  },
  {
   "cell_type": "code",
   "execution_count": 7,
   "metadata": {},
   "outputs": [],
   "source": [
    "#例7.24"
   ]
  },
  {
   "cell_type": "code",
   "execution_count": 8,
   "metadata": {},
   "outputs": [
    {
     "output_type": "execute_result",
     "data": {
      "text/plain": [
       "                                                x\n",
       "y(x) = C₁ + C₂⋅x + (C₃⋅sin(2⋅x) + C₄⋅cos(2⋅x))⋅ℯ "
      ],
      "image/png": "[encoded data removed]",
      "text/latex": "$\\displaystyle y{\\left(x \\right)} = C_{1} + C_{2} x + \\left(C_{3} \\sin{\\left(2 x \\right)} + C_{4} \\cos{\\left(2 x \\right)}\\right) e^{x}$"
     },
     "metadata": {},
     "execution_count": 8
    }
   ],
   "source": [
    "init_printing()\n",
    "x=symbols('x')\n",
    "y=Function('y')\n",
    "eq=y(x).diff(x,4)-2*y(x).diff(x,3)+5*y(x).diff(x,2)\n",
    "dsolve(eq,y(x))"
   ]
  },
  {
   "cell_type": "code",
   "execution_count": 9,
   "metadata": {},
   "outputs": [],
   "source": [
    "#例7.25"
   ]
  },
  {
   "cell_type": "code",
   "execution_count": 10,
   "metadata": {},
   "outputs": [
    {
     "output_type": "execute_result",
     "data": {
      "text/plain": [
       "             ⎛√2⋅β⋅x⎞         ⎛√2⋅β⋅x⎞                                        \n",
       "       C₁⋅sin⎜──────⎟ + C₂⋅cos⎜──────⎟                                        \n",
       "             ⎝  2   ⎠         ⎝  2   ⎠   ⎛      ⎛√2⋅β⋅x⎞         ⎛√2⋅β⋅x⎞⎞   ╱\n",
       "ω(x) = ─────────────────────────────── + ⎜C₃⋅sin⎜──────⎟ + C₄⋅cos⎜──────⎟⎟⋅╲╱ \n",
       "                    _________            ⎝      ⎝  2   ⎠         ⎝  2   ⎠⎠    \n",
       "                   ╱  √2⋅β⋅x                                                  \n",
       "                 ╲╱  ℯ                                                        \n",
       "\n",
       "         \n",
       "_________\n",
       "  √2⋅β⋅x \n",
       " ℯ       \n",
       "         \n",
       "         \n",
       "         "
      ],
      "image/png": "[encoded data removed]",
      "text/latex": "$\\displaystyle \\omega{\\left(x \\right)} = \\frac{C_{1} \\sin{\\left(\\frac{\\sqrt{2} \\beta x}{2} \\right)} + C_{2} \\cos{\\left(\\frac{\\sqrt{2} \\beta x}{2} \\right)}}{\\sqrt{e^{\\sqrt{2} \\beta x}}} + \\left(C_{3} \\sin{\\left(\\frac{\\sqrt{2} \\beta x}{2} \\right)} + C_{4} \\cos{\\left(\\frac{\\sqrt{2} \\beta x}{2} \\right)}\\right) \\sqrt{e^{\\sqrt{2} \\beta x}}$"
     },
     "metadata": {},
     "execution_count": 10
    }
   ],
   "source": [
    "init_printing()\n",
    "x=symbols('x')\n",
    "beta=Symbol('beta',positive=True)\n",
    "w=Function('omega')\n",
    "eq=w(x).diff(x,4)+w(x)*beta**4\n",
    "dsolve(eq,w(x))"
   ]
  },
  {
   "cell_type": "code",
   "execution_count": null,
   "metadata": {},
   "outputs": [],
   "source": []
  }
 ],
 "metadata": {
  "language_info": {
   "codemirror_mode": {
    "name": "ipython",
    "version": 3
   },
   "file_extension": ".py",
   "mimetype": "text/x-python",
   "name": "python",
   "nbconvert_exporter": "python",
   "pygments_lexer": "ipython3",
   "version": "3.6.1-final"
  },
  "orig_nbformat": 2,
  "kernelspec": {
   "name": "python3",
   "display_name": "Python 3",
   "language": "python"
  }
 },
 "nbformat": 4,
 "nbformat_minor": 2
}