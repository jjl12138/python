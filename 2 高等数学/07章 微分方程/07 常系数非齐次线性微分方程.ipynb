{
 "cells": [
  {
   "cell_type": "code",
   "execution_count": 1,
   "metadata": {},
   "outputs": [],
   "source": [
    "#例7.26"
   ]
  },
  {
   "cell_type": "code",
   "execution_count": 2,
   "metadata": {},
   "outputs": [
    {
     "output_type": "execute_result",
     "data": {
      "text/plain": [
       "           -x       3⋅x       1\n",
       "y(x) = C₁⋅ℯ   + C₂⋅ℯ    - x + ─\n",
       "                              3"
      ],
      "image/png": "[encoded data removed]",
      "text/latex": "$\\displaystyle y{\\left(x \\right)} = C_{1} e^{- x} + C_{2} e^{3 x} - x + \\frac{1}{3}$"
     },
     "metadata": {},
     "execution_count": 2
    }
   ],
   "source": [
    "from sympy import *\n",
    "init_printing()\n",
    "x=symbols('x')\n",
    "y=Function('y')\n",
    "eq=y(x).diff(x,2)-2*y(x).diff(x)-3*y(x)-3*x-1\n",
    "dsolve(eq,y(x))"
   ]
  },
  {
   "cell_type": "code",
   "execution_count": 3,
   "metadata": {},
   "outputs": [],
   "source": [
    "#例7.27"
   ]
  },
  {
   "cell_type": "code",
   "execution_count": 4,
   "metadata": {},
   "outputs": [
    {
     "output_type": "execute_result",
     "data": {
      "text/plain": [
       "       ⎛              2    ⎞     \n",
       "       ⎜         x   x     ⎟  2⋅x\n",
       "y(x) = ⎜C₁ + C₂⋅ℯ  - ── - x⎟⋅ℯ   \n",
       "       ⎝             2     ⎠     "
      ],
      "image/png": "[encoded data removed]",
      "text/latex": "$\\displaystyle y{\\left(x \\right)} = \\left(C_{1} + C_{2} e^{x} - \\frac{x^{2}}{2} - x\\right) e^{2 x}$"
     },
     "metadata": {},
     "execution_count": 4
    }
   ],
   "source": [
    "init_printing()\n",
    "x=symbols('x')\n",
    "y=Function('y')\n",
    "eq=y(x).diff(x,2)-5*y(x).diff(x)+6*y(x)-x*E**(2*x)\n",
    "dsolve(eq,y(x))"
   ]
  },
  {
   "cell_type": "code",
   "execution_count": 5,
   "metadata": {},
   "outputs": [],
   "source": [
    "#例7.28"
   ]
  },
  {
   "cell_type": "code",
   "execution_count": 6,
   "metadata": {},
   "outputs": [
    {
     "output_type": "execute_result",
     "data": {
      "text/plain": [
       "                               x⋅cos(2⋅x)   4⋅sin(2⋅x)\n",
       "y(x) = C₁⋅sin(x) + C₂⋅cos(x) - ────────── + ──────────\n",
       "                                   3            9     "
      ],
      "image/png": "[encoded data removed]",
      "text/latex": "$\\displaystyle y{\\left(x \\right)} = C_{1} \\sin{\\left(x \\right)} + C_{2} \\cos{\\left(x \\right)} - \\frac{x \\cos{\\left(2 x \\right)}}{3} + \\frac{4 \\sin{\\left(2 x \\right)}}{9}$"
     },
     "metadata": {},
     "execution_count": 6
    }
   ],
   "source": [
    "init_printing()\n",
    "x=symbols('x')\n",
    "y=Function('y')\n",
    "eq=y(x).diff(x,2)+y(x)-x*cos(2*x)\n",
    "dsolve(eq,y(x))"
   ]
  },
  {
   "cell_type": "code",
   "execution_count": 7,
   "metadata": {},
   "outputs": [],
   "source": [
    "#例7.29"
   ]
  },
  {
   "cell_type": "code",
   "execution_count": 8,
   "metadata": {},
   "outputs": [
    {
     "output_type": "execute_result",
     "data": {
      "text/plain": [
       "           -x   ⎛     sin(2⋅x)   cos(2⋅x)⎞  x\n",
       "y(x) = C₂⋅ℯ   + ⎜C₁ + ──────── - ────────⎟⋅ℯ \n",
       "                ⎝        8          8    ⎠   "
      ],
      "image/png": "[encoded data removed]",
      "text/latex": "$\\displaystyle y{\\left(x \\right)} = C_{2} e^{- x} + \\left(C_{1} + \\frac{\\sin{\\left(2 x \\right)}}{8} - \\frac{\\cos{\\left(2 x \\right)}}{8}\\right) e^{x}$"
     },
     "metadata": {},
     "execution_count": 8
    }
   ],
   "source": [
    "init_printing()\n",
    "x=symbols('x')\n",
    "y=Function('y')\n",
    "eq=y(x).diff(x,2)-y(x)-E**x*cos(2*x)\n",
    "dsolve(eq,y(x))"
   ]
  },
  {
   "cell_type": "code",
   "execution_count": null,
   "metadata": {},
   "outputs": [],
   "source": []
  }
 ],
 "metadata": {
  "language_info": {
   "codemirror_mode": {
    "name": "ipython",
    "version": 3
   },
   "file_extension": ".py",
   "mimetype": "text/x-python",
   "name": "python",
   "nbconvert_exporter": "python",
   "pygments_lexer": "ipython3",
   "version": "3.6.1-final"
  },
  "orig_nbformat": 2,
  "kernelspec": {
   "name": "python3",
   "display_name": "Python 3",
   "language": "python"
  }
 },
 "nbformat": 4,
 "nbformat_minor": 2
}