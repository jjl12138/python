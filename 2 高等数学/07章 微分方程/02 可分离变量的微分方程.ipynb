{
 "cells": [
  {
   "cell_type": "code",
   "execution_count": null,
   "metadata": {},
   "outputs": [],
   "source": [
    "#例7.5"
   ]
  },
  {
   "cell_type": "code",
   "execution_count": 1,
   "metadata": {},
   "outputs": [
    {
     "output_type": "execute_result",
     "data": {
      "text/plain": [
       "           ⎛ 2⎞\n",
       "           ⎝x ⎠\n",
       "y(x) = C₁⋅ℯ    "
      ],
      "image/png": "[encoded data removed]",
      "text/latex": "$\\displaystyle y{\\left(x \\right)} = C_{1} e^{x^{2}}$"
     },
     "metadata": {},
     "execution_count": 1
    }
   ],
   "source": [
    "from sympy import *\n",
    "init_printing()\n",
    "x=Symbol('x')\n",
    "y=Function('y')\n",
    "dsolve(y(x).diff(x)-2*x*y(x),y(x))"
   ]
  },
  {
   "cell_type": "code",
   "execution_count": null,
   "metadata": {},
   "outputs": [],
   "source": [
    "#例7.6"
   ]
  },
  {
   "cell_type": "code",
   "execution_count": 2,
   "metadata": {},
   "outputs": [
    {
     "output_type": "execute_result",
     "data": {
      "text/plain": [
       "           -λ⋅t\n",
       "M(t) = M₀⋅ℯ    "
      ],
      "image/png": "[encoded data removed]",
      "text/latex": "$\\displaystyle M{\\left(t \\right)} = M_{0} e^{- \\lambda t}$"
     },
     "metadata": {},
     "execution_count": 2
    }
   ],
   "source": [
    "init_printing()\n",
    "t,M0,lamda=symbols('t M0 lamda',positive=True)\n",
    "M=Function('M')\n",
    "eq=M(t).diff(t)+lamda*M(t)\n",
    "ics={M(0):M0}\n",
    "dsolve(eq,M(t),ics=ics)"
   ]
  },
  {
   "cell_type": "code",
   "execution_count": null,
   "metadata": {},
   "outputs": [],
   "source": [
    "#例7.7"
   ]
  },
  {
   "cell_type": "code",
   "execution_count": 3,
   "metadata": {},
   "outputs": [
    {
     "output_type": "execute_result",
     "data": {
      "text/plain": [
       "           ⎛     -k⋅t ⎞\n",
       "           ⎜     ─────⎟\n",
       "           ⎜       m  ⎟\n",
       "       g⋅m⋅⎝1 - ℯ     ⎠\n",
       "v(t) = ────────────────\n",
       "              k        "
      ],
      "image/png": "[encoded data removed]",
      "text/latex": "$\\displaystyle v{\\left(t \\right)} = \\frac{g m \\left(1 - e^{- \\frac{k t}{m}}\\right)}{k}$"
     },
     "metadata": {},
     "execution_count": 3
    }
   ],
   "source": [
    "init_printing()\n",
    "t,m,g,k=symbols('t m g k',positive=True)\n",
    "v=Function('v',real=True)\n",
    "eq=m*v(t).diff(t)-m*g+k*v(t)\n",
    "ics={v(0):0}\n",
    "result=dsolve(eq,v(t),ics=ics,simplify=True) #注意这里simplify参数没起到预期效果\n",
    "simplify(result)"
   ]
  },
  {
   "cell_type": "code",
   "execution_count": null,
   "metadata": {},
   "outputs": [],
   "source": [
    "#例7.8"
   ]
  },
  {
   "cell_type": "code",
   "execution_count": 4,
   "metadata": {},
   "outputs": [
    {
     "output_type": "execute_result",
     "data": {
      "text/plain": [
       "            ⎛   5/2       3/2    ⎞\n",
       "       √2⋅π⋅⎝3⋅h    - 10⋅h    + 7⎠\n",
       "t(h) = ───────────────────────────\n",
       "                15⋅S⋅√g⋅k         "
      ],
      "image/png": "[encoded data removed]",
      "text/latex": "$\\displaystyle t{\\left(h \\right)} = \\frac{\\sqrt{2} \\pi \\left(3 h^{\\frac{5}{2}} - 10 h^{\\frac{3}{2}} + 7\\right)}{15 S \\sqrt{g} k}$"
     },
     "metadata": {},
     "execution_count": 4
    }
   ],
   "source": [
    "init_printing()\n",
    "h,k,S,g=symbols('h k S g',positive=True)\n",
    "t=Function('t',positive=True)\n",
    "eq=pi*(2*h-h**2)+k*S*sqrt(2*g*h)*t(h).diff(h)\n",
    "ics={t(1):0}\n",
    "result=dsolve(eq,t(h),ics=ics) \n",
    "simplify(result)"
   ]
  },
  {
   "cell_type": "code",
   "execution_count": null,
   "metadata": {},
   "outputs": [],
   "source": []
  }
 ],
 "metadata": {
  "language_info": {
   "codemirror_mode": {
    "name": "ipython",
    "version": 3
   },
   "file_extension": ".py",
   "mimetype": "text/x-python",
   "name": "python",
   "nbconvert_exporter": "python",
   "pygments_lexer": "ipython3",
   "version": "3.6.1-final"
  },
  "orig_nbformat": 2,
  "kernelspec": {
   "name": "python36164bit1d6dd37536b64fb6a5530f9598c6f3c0",
   "display_name": "Python 3.6.1 64-bit",
   "language": "python"
  }
 },
 "nbformat": 4,
 "nbformat_minor": 2
}