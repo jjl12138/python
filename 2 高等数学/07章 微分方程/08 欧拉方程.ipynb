{
 "cells": [
  {
   "cell_type": "code",
   "execution_count": 1,
   "metadata": {},
   "outputs": [],
   "source": [
    "#例7.30"
   ]
  },
  {
   "cell_type": "code",
   "execution_count": 2,
   "metadata": {},
   "outputs": [
    {
     "output_type": "execute_result",
     "data": {
      "text/plain": [
       "                          2\n",
       "            C₂       3   x \n",
       "y(x) = C₁ + ── + C₃⋅x  - ──\n",
       "            x            2 "
      ],
      "image/png": "[encoded data removed]",
      "text/latex": "$\\displaystyle y{\\left(x \\right)} = C_{1} + \\frac{C_{2}}{x} + C_{3} x^{3} - \\frac{x^{2}}{2}$"
     },
     "metadata": {},
     "execution_count": 2
    }
   ],
   "source": [
    "from sympy import *\n",
    "init_printing()\n",
    "x=symbols('x')\n",
    "y=Function('y')\n",
    "eq=x**3*y(x).diff(x,3)+x**2*y(x).diff(x,2)-4*x*y(x).diff(x)-3*x**2\n",
    "dsolve(eq,y(x))"
   ]
  },
  {
   "cell_type": "code",
   "execution_count": null,
   "metadata": {},
   "outputs": [],
   "source": []
  }
 ],
 "metadata": {
  "language_info": {
   "codemirror_mode": {
    "name": "ipython",
    "version": 3
   },
   "file_extension": ".py",
   "mimetype": "text/x-python",
   "name": "python",
   "nbconvert_exporter": "python",
   "pygments_lexer": "ipython3",
   "version": "3.6.1-final"
  },
  "orig_nbformat": 2,
  "kernelspec": {
   "name": "python3",
   "display_name": "Python 3",
   "language": "python"
  }
 },
 "nbformat": 4,
 "nbformat_minor": 2
}