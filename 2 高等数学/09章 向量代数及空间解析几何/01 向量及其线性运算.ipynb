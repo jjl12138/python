{
 "cells": [
  {
   "cell_type": "code",
   "execution_count": 1,
   "metadata": {},
   "outputs": [],
   "source": [
    "#例9.1"
   ]
  },
  {
   "cell_type": "code",
   "execution_count": 2,
   "metadata": {},
   "outputs": [
    {
     "data": {
      "text/plain": [
       "array([[ 7., -1., 10.],\n",
       "       [11., -2., 16.]])"
      ]
     },
     "execution_count": 2,
     "metadata": {},
     "output_type": "execute_result"
    }
   ],
   "source": [
    "#使用np.linalg.solve求解向量方程组\n",
    "import numpy as np\n",
    "A,b=np.array([[5,-3],[3,-2]]),np.array([[2,1,2],[-1,1,-2]])\n",
    "np.linalg.solve(A,b)"
   ]
  },
  {
   "cell_type": "code",
   "execution_count": 3,
   "metadata": {},
   "outputs": [],
   "source": [
    "#例9.2"
   ]
  },
  {
   "cell_type": "code",
   "execution_count": 4,
   "metadata": {},
   "outputs": [
    {
     "data": {
      "image/png": "[encoded data removed]",
      "text/latex": [
       "$$\\left\\{\\left ( \\frac{\\lambda x_{2} + x_{1}}{\\lambda + 1}, \\quad \\frac{\\lambda y_{2} + y_{1}}{\\lambda + 1}, \\quad \\frac{\\lambda z_{2} + z_{1}}{\\lambda + 1}\\right )\\right\\}$$"
      ],
      "text/plain": [
       "⎧⎛λ⋅x₂ + x₁  λ⋅y₂ + y₁  λ⋅z₂ + z₁⎞⎫\n",
       "⎨⎜─────────, ─────────, ─────────⎟⎬\n",
       "⎩⎝  λ + 1      λ + 1      λ + 1  ⎠⎭"
      ]
     },
     "execution_count": 4,
     "metadata": {},
     "output_type": "execute_result"
    }
   ],
   "source": [
    "#使用sympy.linsolve()函数求解线性方程组\n",
    "from sympy import symbols,linsolve,Matrix,init_printing\n",
    "init_printing()\n",
    "x1,x2,y1,y2,z1,z2,lamda=symbols('x1 x2 y1 y2 z1 z2 lamda')\n",
    "A=Matrix([[1+lamda,0,0],[0,1+lamda,0],[0,0,1+lamda]])\n",
    "b=Matrix([x1,y1,z1])+lamda*Matrix([x2,y2,z2])\n",
    "linsolve((A,b))"
   ]
  },
  {
   "cell_type": "code",
   "execution_count": 5,
   "metadata": {},
   "outputs": [],
   "source": [
    "#例9.3"
   ]
  },
  {
   "cell_type": "code",
   "execution_count": 6,
   "metadata": {},
   "outputs": [
    {
     "data": {
      "image/png": "[encoded data removed]",
      "text/latex": [
       "$$\\left ( \\left\\{\\frac{14}{9}\\right\\}, \\quad \\left [ \\frac{14}{9}\\right ]\\right )$$"
      ],
      "text/plain": [
       "({14/9}, [14/9])"
      ]
     },
     "execution_count": 6,
     "metadata": {},
     "output_type": "execute_result"
    }
   ],
   "source": [
    "from sympy import solve,solveset,sqrt,Symbol,roots\n",
    "z=Symbol('z')\n",
    "eq=sqrt((0+4)**2+(0-1)**2+(z-7)**2)-sqrt((3-0)**2+(5-0)**2+(-2-z)**2)\n",
    "#solveset返回解的集合，solve()函数返回解的列表，一般推荐使用solve()函数\n",
    "solveset(eq,z),solve(eq,z)"
   ]
  },
  {
   "cell_type": "code",
   "execution_count": 7,
   "metadata": {},
   "outputs": [],
   "source": [
    "#例9.4"
   ]
  },
  {
   "cell_type": "code",
   "execution_count": 8,
   "metadata": {},
   "outputs": [
    {
     "data": {
      "text/plain": [
       "array([ 0.80178373,  0.26726124, -0.53452248])"
      ]
     },
     "execution_count": 8,
     "metadata": {},
     "output_type": "execute_result"
    }
   ],
   "source": [
    "import numpy as np\n",
    "A=np.array([4,0,5])\n",
    "B=np.array([7,1,3])\n",
    "C=B-A\n",
    "#norm()函数返回一个向量的范数(长度)\n",
    "C/np.linalg.norm(C)"
   ]
  },
  {
   "cell_type": "code",
   "execution_count": null,
   "metadata": {},
   "outputs": [],
   "source": []
  }
 ],
 "metadata": {
  "kernelspec": {
   "display_name": "Python 3.7.1 ('base')",
   "language": "python",
   "name": "python3"
  },
  "language_info": {
   "codemirror_mode": {
    "name": "ipython",
    "version": 3
   },
   "file_extension": ".py",
   "mimetype": "text/x-python",
   "name": "python",
   "nbconvert_exporter": "python",
   "pygments_lexer": "ipython3",
   "version": "3.7.1"
  },
  "orig_nbformat": 2,
  "vscode": {
   "interpreter": {
    "hash": "e42634819b8c191a5d07eaf23810ff32516dd8d3875f28ec3e488928fbd3c187"
   }
  }
 },
 "nbformat": 4,
 "nbformat_minor": 2
}
