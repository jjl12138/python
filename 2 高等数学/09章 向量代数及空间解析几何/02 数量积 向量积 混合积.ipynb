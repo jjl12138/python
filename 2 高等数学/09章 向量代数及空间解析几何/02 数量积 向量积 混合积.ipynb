{
 "cells": [
  {
   "cell_type": "code",
   "execution_count": 1,
   "metadata": {},
   "outputs": [],
   "source": [
    "#例9.5"
   ]
  },
  {
   "cell_type": "code",
   "execution_count": 2,
   "metadata": {},
   "outputs": [
    {
     "output_type": "execute_result",
     "data": {
      "text/plain": [
       "(1.0471975511965979, 0.33333333333333337)"
      ]
     },
     "metadata": {},
     "execution_count": 2
    }
   ],
   "source": [
    "from numpy import dot,arccos,pi,array,inner\n",
    "from numpy.linalg import norm\n",
    "MA=array([1,1,0])\n",
    "MB=array([1,0,1])\n",
    "#求两个向量的夹角\n",
    "alpha=arccos(dot(MA,MB)/(norm(MA)*norm(MB)))\n",
    "alpha,alpha/pi"
   ]
  },
  {
   "cell_type": "code",
   "execution_count": 3,
   "metadata": {},
   "outputs": [],
   "source": [
    "#例9.6"
   ]
  },
  {
   "cell_type": "code",
   "execution_count": 4,
   "metadata": {},
   "outputs": [
    {
     "output_type": "execute_result",
     "data": {
      "text/plain": [
       "array([ 1., -5., -3.])"
      ]
     },
     "metadata": {},
     "execution_count": 4
    }
   ],
   "source": [
    "import numpy as np\n",
    "from numpy.linalg import det\n",
    "#自定义函数求两个三维向量的向量积\n",
    "def v_dot(a,b):\n",
    "    if len(a)!=3 or len(b)!=3:\n",
    "        return [None,None,None]\n",
    "    return np.array([det([[a[1],a[2]],[b[1],b[2]]]),\n",
    "            -det([[a[0],a[2]],[b[0],b[2]]]),\n",
    "            det([[a[0],a[1]],[b[0],b[1]]])])\n",
    "\n",
    "a,b=[2,1,-1],[1,-1,2]\n",
    "v_dot(a,b)"
   ]
  },
  {
   "cell_type": "code",
   "execution_count": 5,
   "metadata": {},
   "outputs": [],
   "source": [
    "#例9.7"
   ]
  },
  {
   "cell_type": "code",
   "execution_count": 6,
   "metadata": {},
   "outputs": [
    {
     "output_type": "execute_result",
     "data": {
      "text/plain": [
       "3.7416573867739413"
      ]
     },
     "metadata": {},
     "execution_count": 6
    }
   ],
   "source": [
    "#利用向量积求三角形面积\n",
    "AB=[2,2,2]\n",
    "AC=[1,2,4]\n",
    "0.5*norm(v_dot(AB,AC))"
   ]
  },
  {
   "cell_type": "code",
   "execution_count": 7,
   "metadata": {},
   "outputs": [],
   "source": [
    "#例9.8"
   ]
  },
  {
   "cell_type": "code",
   "execution_count": 8,
   "metadata": {},
   "outputs": [
    {
     "output_type": "execute_result",
     "data": {
      "text/plain": [
       "-4.0"
      ]
     },
     "metadata": {},
     "execution_count": 8
    }
   ],
   "source": [
    "#自定义函数求三个向量的混合积\n",
    "def mix_dot(a,b,c):\n",
    "    if len(a)!=3 or len(b)!=3 or len(c)!=3:return None\n",
    "    return v_dot(a,b).dot(c)\n",
    "\n",
    "mix_dot([-1,-2,0],[1,1,1],[3,0,2])"
   ]
  },
  {
   "cell_type": "code",
   "execution_count": null,
   "metadata": {},
   "outputs": [],
   "source": []
  }
 ],
 "metadata": {
  "language_info": {
   "codemirror_mode": {
    "name": "ipython",
    "version": 3
   },
   "file_extension": ".py",
   "mimetype": "text/x-python",
   "name": "python",
   "nbconvert_exporter": "python",
   "pygments_lexer": "ipython3",
   "version": "3.6.1-final"
  },
  "orig_nbformat": 2,
  "kernelspec": {
   "name": "python36164bit1d6dd37536b64fb6a5530f9598c6f3c0",
   "display_name": "Python 3.6.1 64-bit",
   "language": "python"
  }
 },
 "nbformat": 4,
 "nbformat_minor": 2
}