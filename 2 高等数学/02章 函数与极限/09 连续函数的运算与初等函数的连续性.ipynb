{
 "cells": [
  {
   "cell_type": "code",
   "execution_count": 5,
   "metadata": {},
   "outputs": [],
   "source": [
    "#例2.25"
   ]
  },
  {
   "cell_type": "code",
   "execution_count": 6,
   "metadata": {},
   "outputs": [
    {
     "output_type": "execute_result",
     "data": {
      "text/plain": [
       "  1   \n",
       "──────\n",
       "log(a)"
      ],
      "image/png": "[encoded data removed]",
      "text/latex": "$\\displaystyle \\frac{1}{\\log{\\left(a \\right)}}$"
     },
     "metadata": {},
     "execution_count": 6
    }
   ],
   "source": [
    "from sympy import *\n",
    "a=symbols('a',real=True,positive=True)  #限定a为正实数\n",
    "x=symbols('x')\n",
    "init_printing()  #启动环境中可用的最佳打印资源\n",
    "example_1=limit(log(1+x,a)/x,x,0,dir='+-')\n",
    "example_1"
   ]
  },
  {
   "cell_type": "code",
   "execution_count": 7,
   "metadata": {},
   "outputs": [],
   "source": [
    "#例2.26"
   ]
  },
  {
   "cell_type": "code",
   "execution_count": 8,
   "metadata": {},
   "outputs": [
    {
     "output_type": "execute_result",
     "data": {
      "text/plain": [
       "log(a)"
      ],
      "image/png": "[encoded data removed]",
      "text/latex": "$\\displaystyle \\log{\\left(a \\right)}$"
     },
     "metadata": {},
     "execution_count": 8
    }
   ],
   "source": [
    "a=symbols('a',real=True,positive=True)  \n",
    "x=symbols('x')\n",
    "init_printing()\n",
    "example_2=limit((pow(a,x)-1)/x,x,0,dir='+-')\n",
    "example_2"
   ]
  },
  {
   "cell_type": "code",
   "execution_count": 9,
   "metadata": {},
   "outputs": [],
   "source": [
    "#例2.27"
   ]
  },
  {
   "cell_type": "code",
   "execution_count": 10,
   "metadata": {},
   "outputs": [
    {
     "output_type": "execute_result",
     "data": {
      "text/plain": [
       "α"
      ],
      "image/png": "[encoded data removed]",
      "text/latex": "$\\displaystyle \\alpha$"
     },
     "metadata": {},
     "execution_count": 10
    }
   ],
   "source": [
    "x=symbols('x')\n",
    "alpha=symbols('alpha',real=True)\n",
    "init_printing()\n",
    "example_3=limit(((1+x)**alpha-1)/x,x,0,dir='+-')\n",
    "example_3"
   ]
  },
  {
   "cell_type": "code",
   "execution_count": 11,
   "metadata": {},
   "outputs": [],
   "source": [
    "#例2.28"
   ]
  },
  {
   "cell_type": "code",
   "execution_count": 12,
   "metadata": {},
   "outputs": [
    {
     "output_type": "execute_result",
     "data": {
      "text/plain": [
       " 6\n",
       "ℯ "
      ],
      "image/png": "[encoded data removed]",
      "text/latex": "$\\displaystyle e^{6}$"
     },
     "metadata": {},
     "execution_count": 12
    }
   ],
   "source": [
    "x=symbols('x')\n",
    "init_printing()\n",
    "example_4=limit((1+2*x)**(3/sin(x)),x,0,dir='+-')\n",
    "example_4"
   ]
  },
  {
   "cell_type": "code",
   "execution_count": null,
   "metadata": {},
   "outputs": [],
   "source": []
  }
 ],
 "metadata": {
  "language_info": {
   "codemirror_mode": {
    "name": "ipython",
    "version": 3
   },
   "file_extension": ".py",
   "mimetype": "text/x-python",
   "name": "python",
   "nbconvert_exporter": "python",
   "pygments_lexer": "ipython3",
   "version": "3.6.1-final"
  },
  "orig_nbformat": 2,
  "kernelspec": {
   "name": "python3",
   "display_name": "Python 3",
   "language": "python"
  }
 },
 "nbformat": 4,
 "nbformat_minor": 2
}