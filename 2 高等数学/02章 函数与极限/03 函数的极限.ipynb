{
 "cells": [
  {
   "cell_type": "code",
   "execution_count": null,
   "metadata": {},
   "outputs": [],
   "source": [
    "#例2.6"
   ]
  },
  {
   "cell_type": "code",
   "execution_count": 1,
   "metadata": {
    "tags": []
   },
   "outputs": [
    {
     "output_type": "stream",
     "name": "stdout",
     "text": [
      "2\n"
     ]
    }
   ],
   "source": [
    "import sympy as sy #导入sympy并命名为sy\n",
    "x=sy.symbols('x') #定义变量\n",
    "def f(x):return (x**2-1)/(x-1)\n",
    "result=sy.limit(f(x),x,1,dir='+-') #求x趋近于1时的极限\n",
    "print(result)"
   ]
  },
  {
   "cell_type": "code",
   "execution_count": null,
   "metadata": {},
   "outputs": [],
   "source": [
    "#例2.7"
   ]
  },
  {
   "cell_type": "code",
   "execution_count": 3,
   "metadata": {},
   "outputs": [
    {
     "output_type": "execute_result",
     "data": {
      "text/plain": [
       "(-1, 1)"
      ]
     },
     "metadata": {},
     "execution_count": 3
    }
   ],
   "source": [
    "x=sy.symbols('x')\n",
    "g=lambda x:sy.Abs(x)/x\n",
    "sy.limit(g(x),x,0,dir='-'),sy.limit(g(x),x,0,dir='+')"
   ]
  },
  {
   "cell_type": "code",
   "execution_count": null,
   "metadata": {},
   "outputs": [],
   "source": [
    "#例2.8"
   ]
  },
  {
   "cell_type": "code",
   "execution_count": 2,
   "metadata": {},
   "outputs": [
    {
     "output_type": "execute_result",
     "data": {
      "text/plain": [
       "(-2, 0, 2)"
      ]
     },
     "metadata": {},
     "execution_count": 2
    }
   ],
   "source": [
    "x=sy.symbols('x')\n",
    "def f(x):\n",
    "    if x<0:return x-1\n",
    "    elif x==0:return 0\n",
    "    else:return x+1\n",
    "f(-1),f(0),f(1)"
   ]
  },
  {
   "cell_type": "code",
   "execution_count": 4,
   "metadata": {},
   "outputs": [
    {
     "output_type": "execute_result",
     "data": {
      "text/plain": [
       "(-1, 1)"
      ]
     },
     "metadata": {},
     "execution_count": 4
    }
   ],
   "source": [
    "x=sy.symbols('x')\n",
    "def f_left(x):return x-1\n",
    "def f_middle(x):return 0\n",
    "def f_right(x):return x+1\n",
    "sy.limit(f_left(x),x,0,dir='-'),sy.limit(f_right(x),x,0,dir='+')"
   ]
  }
 ],
 "metadata": {
  "language_info": {
   "codemirror_mode": {
    "name": "ipython",
    "version": 3
   },
   "file_extension": ".py",
   "mimetype": "text/x-python",
   "name": "python",
   "nbconvert_exporter": "python",
   "pygments_lexer": "ipython3",
   "version": "3.6.1-final"
  },
  "orig_nbformat": 2,
  "kernelspec": {
   "name": "python3",
   "display_name": "Python 3",
   "language": "python"
  }
 },
 "nbformat": 4,
 "nbformat_minor": 2
}