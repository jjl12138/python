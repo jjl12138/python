{
 "cells": [
  {
   "cell_type": "code",
   "execution_count": 4,
   "metadata": {},
   "outputs": [],
   "source": [
    "#例2.29"
   ]
  },
  {
   "cell_type": "code",
   "execution_count": 5,
   "metadata": {
    "tags": []
   },
   "outputs": [
    {
     "output_type": "stream",
     "name": "stdout",
     "text": [
      "-1\n1\n"
     ]
    }
   ],
   "source": [
    "from sympy import *\n",
    "x=symbols('x')\n",
    "f=(E**(1/x)-1)/(E**(1/x)+1)\n",
    "print(limit(f,x,0,dir='-'))\n",
    "print(limit(f,x,0,dir='+'))"
   ]
  },
  {
   "cell_type": "code",
   "execution_count": 6,
   "metadata": {},
   "outputs": [],
   "source": [
    "#例2.30"
   ]
  },
  {
   "cell_type": "code",
   "execution_count": 7,
   "metadata": {
    "tags": []
   },
   "outputs": [
    {
     "output_type": "stream",
     "name": "stdout",
     "text": [
      "a**(1/3)*b**(1/3)*c**(1/3)\n"
     ]
    }
   ],
   "source": [
    "a,b,c=symbols('a b c',positive=True)\n",
    "print(limit(((a**x+b**x+c**x)/3)**(1/x),x,0,dir='+-'))\n"
   ]
  },
  {
   "cell_type": "code",
   "execution_count": 8,
   "metadata": {},
   "outputs": [],
   "source": [
    "#例2.31"
   ]
  },
  {
   "cell_type": "code",
   "execution_count": 9,
   "metadata": {
    "tags": []
   },
   "outputs": [
    {
     "output_type": "stream",
     "name": "stdout",
     "text": [
      "k=2\nb=1\n"
     ]
    }
   ],
   "source": [
    "x=symbols('x')\n",
    "f=(2*x-1)*(E**(1/x))\n",
    "k=limit(f/x,x,oo)\n",
    "print('k={}'.format(k))\n",
    "b=limit((f-k*x),x,oo)\n",
    "print('b={}'.format(b))"
   ]
  },
  {
   "cell_type": "code",
   "execution_count": null,
   "metadata": {},
   "outputs": [],
   "source": []
  }
 ],
 "metadata": {
  "language_info": {
   "codemirror_mode": {
    "name": "ipython",
    "version": 3
   },
   "file_extension": ".py",
   "mimetype": "text/x-python",
   "name": "python",
   "nbconvert_exporter": "python",
   "pygments_lexer": "ipython3",
   "version": "3.6.1-final"
  },
  "orig_nbformat": 2,
  "kernelspec": {
   "name": "python3",
   "display_name": "Python 3",
   "language": "python"
  }
 },
 "nbformat": 4,
 "nbformat_minor": 2
}