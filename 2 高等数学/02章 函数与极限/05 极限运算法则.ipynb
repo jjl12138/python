{
 "cells": [
  {
   "cell_type": "code",
   "execution_count": 5,
   "metadata": {},
   "outputs": [],
   "source": [
    "#例2.10"
   ]
  },
  {
   "cell_type": "code",
   "execution_count": 6,
   "metadata": {
    "tags": []
   },
   "outputs": [
    {
     "output_type": "stream",
     "name": "stdout",
     "text": [
      "1/6\n"
     ]
    }
   ],
   "source": [
    "import sympy as sy\n",
    "x=sy.symbols('x')\n",
    "print(sy.limit((x-3)/(x**2-9),x,3,dir='+-'))"
   ]
  },
  {
   "cell_type": "code",
   "execution_count": null,
   "metadata": {},
   "outputs": [],
   "source": [
    "#例2.11"
   ]
  },
  {
   "cell_type": "code",
   "execution_count": 7,
   "metadata": {
    "tags": []
   },
   "outputs": [
    {
     "output_type": "stream",
     "name": "stdout",
     "text": [
      "-oo\noo\n"
     ]
    }
   ],
   "source": [
    "x=sy.symbols('x')\n",
    "print(sy.limit((2*x-3)/(x**2-5*x+4),x,1,dir='-'))\n",
    "print(sy.limit((2*x-3)/(x**2-5*x+4),x,1))"
   ]
  },
  {
   "cell_type": "code",
   "execution_count": null,
   "metadata": {},
   "outputs": [],
   "source": [
    "#例2.12"
   ]
  },
  {
   "cell_type": "code",
   "execution_count": 8,
   "metadata": {
    "tags": []
   },
   "outputs": [
    {
     "output_type": "stream",
     "name": "stdout",
     "text": [
      "3/7\n3/7\n"
     ]
    }
   ],
   "source": [
    "x=sy.symbols('x')\n",
    "print(sy.limit((3*x**3+4*x**2+2)/(7*x**3+5*x**2-3),x,sy.oo,dir='-'))\n",
    "print(sy.limit((3*x**3+4*x**2+2)/(7*x**3+5*x**2-3),x,-sy.oo,dir='+'))"
   ]
  },
  {
   "cell_type": "code",
   "execution_count": null,
   "metadata": {},
   "outputs": [],
   "source": [
    "#例2.13"
   ]
  },
  {
   "cell_type": "code",
   "execution_count": 9,
   "metadata": {
    "tags": []
   },
   "outputs": [
    {
     "output_type": "stream",
     "name": "stdout",
     "text": [
      "0\n",
      "0\n"
     ]
    }
   ],
   "source": [
    "x=sy.symbols('x')\n",
    "y=sy.sin(x)/x\n",
    "print(sy.limit(y,x,sy.oo,dir='+'))\n",
    "print(sy.limit(y,x,-sy.oo,dir='+'))"
   ]
  },
  {
   "cell_type": "code",
   "execution_count": null,
   "metadata": {},
   "outputs": [],
   "source": []
  }
 ],
 "metadata": {
  "language_info": {
   "codemirror_mode": {
    "name": "ipython",
    "version": 3
   },
   "file_extension": ".py",
   "mimetype": "text/x-python",
   "name": "python",
   "nbconvert_exporter": "python",
   "pygments_lexer": "ipython3",
   "version": "3.6.1-final"
  },
  "orig_nbformat": 2,
  "kernelspec": {
   "name": "python3",
   "display_name": "Python 3",
   "language": "python"
  }
 },
 "nbformat": 4,
 "nbformat_minor": 2
}