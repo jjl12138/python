{
 "cells": [
  {
   "cell_type": "code",
   "execution_count": 1,
   "metadata": {},
   "outputs": [],
   "source": [
    "import numpy as np \n",
    "from numpy.linalg import matrix_rank,solve"
   ]
  },
  {
   "cell_type": "code",
   "execution_count": 2,
   "metadata": {},
   "outputs": [],
   "source": [
    "#例8.8"
   ]
  },
  {
   "cell_type": "code",
   "execution_count": 3,
   "metadata": {},
   "outputs": [
    {
     "output_type": "execute_result",
     "data": {
      "text/plain": [
       "2"
      ]
     },
     "metadata": {},
     "execution_count": 3
    }
   ],
   "source": [
    "A=np.array([[1,2,3],[2,3,-5],[4,7,1]])\n",
    "#matrix_rank(A)函数求矩阵A的秩\n",
    "matrix_rank(A)"
   ]
  },
  {
   "cell_type": "code",
   "execution_count": 4,
   "metadata": {},
   "outputs": [],
   "source": [
    "#例8.9"
   ]
  },
  {
   "cell_type": "code",
   "execution_count": 5,
   "metadata": {
    "tags": []
   },
   "outputs": [
    {
     "output_type": "stream",
     "name": "stdout",
     "text": [
      "Last 2 dimensions of the array must be square\n"
     ]
    }
   ],
   "source": [
    "#当A非满秩时，numpy.linalg.solve函数无法求齐次或非齐次方程的解\n",
    "A=np.array([\n",
    "            [1,2,2,1],\n",
    "            [2,1,-2,-2],\n",
    "            [1,-1,-4,-3]\n",
    "          ])\n",
    "b=np.array([0,0,0])\n",
    "try:\n",
    "    solve(A,b)\n",
    "except Exception as e:\n",
    "    print(str(e))"
   ]
  },
  {
   "cell_type": "code",
   "execution_count": 6,
   "metadata": {},
   "outputs": [
    {
     "output_type": "execute_result",
     "data": {
      "text/plain": [
       "⎧               5⋅x₃ ₀                  4⋅x₃ ₀⎫\n",
       "⎨x₀ ₀: 2⋅x₂ ₀ + ──────, x₁ ₀: -2⋅x₂ ₀ - ──────⎬\n",
       "⎩                 3                       3   ⎭"
      ],
      "image/png": "[encoded data removed]",
      "text/latex": "$\\displaystyle \\left\\{ x_{0 0} : 2 x_{2 0} + \\frac{5 x_{3 0}}{3}, \\  x_{1 0} : - 2 x_{2 0} - \\frac{4 x_{3 0}}{3}\\right\\}$"
     },
     "metadata": {},
     "execution_count": 6
    }
   ],
   "source": [
    "#当A非满秩时，可以使用sympy.solve求解\n",
    "import sympy as sy\n",
    "sy.init_printing()\n",
    "A=sy.Matrix([\n",
    "            [1,2,2,1],\n",
    "            [2,1,-2,-2],\n",
    "            [1,-1,-4,-3]\n",
    "          ])\n",
    "x=sy.symarray('x',(4,1))\n",
    "sy.solve(A*x)"
   ]
  },
  {
   "cell_type": "code",
   "execution_count": 7,
   "metadata": {},
   "outputs": [],
   "source": [
    "#例8.10"
   ]
  },
  {
   "cell_type": "code",
   "execution_count": 11,
   "metadata": {},
   "outputs": [
    {
     "output_type": "execute_result",
     "data": {
      "text/plain": [
       "[]"
      ],
      "image/png": "[encoded data removed]",
      "text/latex": "$\\displaystyle \\left[ \\right]$"
     },
     "metadata": {},
     "execution_count": 11
    }
   ],
   "source": [
    "#非齐次方程无解时的演示\n",
    "A=sy.Matrix([[1,1,-1],[2,0,1],[1,-1,2]])\n",
    "b=sy.Matrix([[1],[5],[3]])\n",
    "x=sy.symarray('x',(3,1))\n",
    "sy.solve(A*x-b)"
   ]
  },
  {
   "cell_type": "code",
   "execution_count": null,
   "metadata": {},
   "outputs": [],
   "source": []
  }
 ],
 "metadata": {
  "language_info": {
   "codemirror_mode": {
    "name": "ipython",
    "version": 3
   },
   "file_extension": ".py",
   "mimetype": "text/x-python",
   "name": "python",
   "nbconvert_exporter": "python",
   "pygments_lexer": "ipython3",
   "version": "3.6.1-final"
  },
  "orig_nbformat": 2,
  "kernelspec": {
   "name": "python3",
   "display_name": "Python 3.6.1 64-bit",
   "metadata": {
    "interpreter": {
     "hash": "4ce0e62306dd6a5716965d4519ada776f947e6dfc145b604b11307c10277ef29"
    }
   }
  }
 },
 "nbformat": 4,
 "nbformat_minor": 2
}