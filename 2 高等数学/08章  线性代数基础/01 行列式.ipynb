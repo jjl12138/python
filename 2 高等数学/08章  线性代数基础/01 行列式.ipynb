{
 "cells": [
  {
   "cell_type": "code",
   "execution_count": 1,
   "metadata": {},
   "outputs": [],
   "source": [
    "import sympy as sy\n",
    "import numpy as np\n",
    "sy.init_printing()"
   ]
  },
  {
   "cell_type": "code",
   "execution_count": 2,
   "metadata": {},
   "outputs": [],
   "source": [
    "#例8.1"
   ]
  },
  {
   "cell_type": "code",
   "execution_count": 3,
   "metadata": {},
   "outputs": [
    {
     "output_type": "execute_result",
     "data": {
      "text/plain": [
       "40.0"
      ],
      "image/png": "[encoded data removed]",
      "text/latex": "$\\displaystyle 40.0$"
     },
     "metadata": {},
     "execution_count": 3
    }
   ],
   "source": [
    "#np.linalg求行列式\n",
    "A=np.array([\n",
    "           [3,1,-1,2],\n",
    "           [-5,1,3,-4],\n",
    "           [2,0,1,-1],\n",
    "           [1,-5,3,-3]\n",
    "           ])\n",
    "#将数组转换为矩阵\n",
    "matrixA=np.matrix(A)\n",
    "#求方阵对应的行列式\n",
    "detA=np.linalg.det(matrixA)\n",
    "np.round(detA,0)"
   ]
  },
  {
   "cell_type": "code",
   "execution_count": 4,
   "metadata": {},
   "outputs": [
    {
     "output_type": "execute_result",
     "data": {
      "text/plain": [
       "40"
      ],
      "image/png": "[encoded data removed]",
      "text/latex": "$\\displaystyle 40$"
     },
     "metadata": {},
     "execution_count": 4
    }
   ],
   "source": [
    "#sympy求行列式\n",
    "A=sy.Matrix([\n",
    "           [3,1,-1,2],\n",
    "           [-5,1,3,-4],\n",
    "           [2,0,1,-1],\n",
    "           [1,-5,3,-3]\n",
    "           ])\n",
    "sy.det(A)"
   ]
  },
  {
   "cell_type": "code",
   "execution_count": 5,
   "metadata": {},
   "outputs": [],
   "source": [
    "#例8.2"
   ]
  },
  {
   "cell_type": "code",
   "execution_count": 6,
   "metadata": {},
   "outputs": [
    {
     "output_type": "execute_result",
     "data": {
      "text/plain": [
       " 4\n",
       "a "
      ],
      "image/png": "[encoded data removed]",
      "text/latex": "$\\displaystyle a^{4}$"
     },
     "metadata": {},
     "execution_count": 6
    }
   ],
   "source": [
    "#sympy求带符号的行列式\n",
    "a,b,c,d=sy.symbols('a b c d')\n",
    "A=sy.Matrix([\n",
    "    [a,b,c,d],\n",
    "    [a,a+b,a+b+c,a+b+c+d],\n",
    "    [a,2*a+b,3*a+2*b+c,4*a+3*b+2*c+d],\n",
    "    [a,3*a+b,6*a+3*b+c,10*a+6*b+3*c+d]\n",
    "])\n",
    "sy.det(A)"
   ]
  },
  {
   "cell_type": "code",
   "execution_count": null,
   "metadata": {},
   "outputs": [],
   "source": []
  }
 ],
 "metadata": {
  "language_info": {
   "codemirror_mode": {
    "name": "ipython",
    "version": 3
   },
   "file_extension": ".py",
   "mimetype": "text/x-python",
   "name": "python",
   "nbconvert_exporter": "python",
   "pygments_lexer": "ipython3",
   "version": "3.6.1-final"
  },
  "orig_nbformat": 2,
  "kernelspec": {
   "name": "python3",
   "display_name": "Python 3.6.1 64-bit",
   "metadata": {
    "interpreter": {
     "hash": "4ce0e62306dd6a5716965d4519ada776f947e6dfc145b604b11307c10277ef29"
    }
   }
  }
 },
 "nbformat": 4,
 "nbformat_minor": 2
}