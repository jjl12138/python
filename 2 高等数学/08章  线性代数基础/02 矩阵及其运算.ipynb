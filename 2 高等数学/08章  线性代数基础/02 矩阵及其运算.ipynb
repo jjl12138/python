{
 "cells": [
  {
   "cell_type": "code",
   "execution_count": 1,
   "metadata": {},
   "outputs": [],
   "source": [
    "import numpy as np\n",
    "from numpy.linalg import *"
   ]
  },
  {
   "cell_type": "code",
   "execution_count": 2,
   "metadata": {},
   "outputs": [],
   "source": [
    "#例8.3"
   ]
  },
  {
   "cell_type": "code",
   "execution_count": 3,
   "metadata": {},
   "outputs": [
    {
     "output_type": "execute_result",
     "data": {
      "text/plain": [
       "(2, 3)"
      ]
     },
     "metadata": {},
     "execution_count": 3
    }
   ],
   "source": [
    "A=np.array([[1,2,3],[4,5,6]])\n",
    "#获得A的行列数\n",
    "A.shape"
   ]
  },
  {
   "cell_type": "code",
   "execution_count": 4,
   "metadata": {},
   "outputs": [],
   "source": [
    "#例8.4"
   ]
  },
  {
   "cell_type": "code",
   "execution_count": 5,
   "metadata": {
    "tags": []
   },
   "outputs": [
    {
     "output_type": "stream",
     "name": "stdout",
     "text": [
      "[[-16 -32]\n [  8  16]]\n\n[[0 0]\n [0 0]]\n\n[[-16 -32]\n [  8  16]]\n\n[[0 0]\n [0 0]]\n"
     ]
    }
   ],
   "source": [
    "A=np.array([[-2,4],[1,-2]])\n",
    "B=np.array([[2,4],[-3,-6]])\n",
    "#矩阵乘法的两种方法\n",
    "print('{}\\n\\n{}\\n\\n{}\\n\\n{}'.format(A@B,B@A,np.dot(A,B),np.dot(B,A)))"
   ]
  },
  {
   "cell_type": "code",
   "execution_count": 6,
   "metadata": {},
   "outputs": [
    {
     "output_type": "execute_result",
     "data": {
      "text/plain": [
       "array([[-4, 16],\n",
       "       [-3, 12]])"
      ]
     },
     "metadata": {},
     "execution_count": 6
    }
   ],
   "source": [
    "#A*B仅是对应元素相乘，没有线性代数方面的意义\n",
    "A*B"
   ]
  },
  {
   "cell_type": "code",
   "execution_count": 7,
   "metadata": {},
   "outputs": [
    {
     "output_type": "execute_result",
     "data": {
      "text/plain": [
       "matrix([[-16, -32],\n",
       "        [  8,  16]])"
      ]
     },
     "metadata": {},
     "execution_count": 7
    }
   ],
   "source": [
    "#转换为矩阵后可以使用*\n",
    "np.matrix(A)*np.matrix(B)"
   ]
  },
  {
   "cell_type": "code",
   "execution_count": 8,
   "metadata": {
    "tags": []
   },
   "outputs": [
    {
     "output_type": "stream",
     "name": "stdout",
     "text": [
      "[[-32  64]\n [ 16 -32]]\n[[-32  64]\n [ 16 -32]]\n"
     ]
    }
   ],
   "source": [
    "print(A@A@A)\n",
    "#计算方阵的幂\n",
    "print(matrix_power(A,3))"
   ]
  },
  {
   "cell_type": "code",
   "execution_count": 9,
   "metadata": {},
   "outputs": [],
   "source": [
    "#例8.5"
   ]
  },
  {
   "cell_type": "code",
   "execution_count": 10,
   "metadata": {},
   "outputs": [
    {
     "output_type": "execute_result",
     "data": {
      "text/plain": [
       "array([[ 0, 17],\n",
       "       [14, 13],\n",
       "       [-3, 10]])"
      ]
     },
     "metadata": {},
     "execution_count": 10
    }
   ],
   "source": [
    "A=[[2,0,-1],[1,3,2]]\n",
    "B=[[1,7,-1],[4,2,3],[2,0,1]]\n",
    "#注意，直接对列表A、B进行A@B运算不合法\n",
    "C=np.array(A)@np.array(B)\n",
    "#C的转置 \n",
    "C.T"
   ]
  },
  {
   "cell_type": "code",
   "execution_count": 11,
   "metadata": {},
   "outputs": [
    {
     "output_type": "execute_result",
     "data": {
      "text/plain": [
       "array([[1., 0., 0., 0.],\n",
       "       [0., 1., 0., 0.],\n",
       "       [0., 0., 1., 0.],\n",
       "       [0., 0., 0., 1.]])"
      ]
     },
     "metadata": {},
     "execution_count": 11
    }
   ],
   "source": [
    "#4阶单位矩阵\n",
    "np.eye(4)"
   ]
  },
  {
   "cell_type": "code",
   "execution_count": 12,
   "metadata": {},
   "outputs": [
    {
     "output_type": "execute_result",
     "data": {
      "text/plain": [
       "numpy.matrix"
      ]
     },
     "metadata": {},
     "execution_count": 12
    }
   ],
   "source": [
    "#type(A)获得一个对象A的类型\n",
    "type(np.matrix(np.eye(4)))"
   ]
  },
  {
   "cell_type": "code",
   "execution_count": 13,
   "metadata": {},
   "outputs": [],
   "source": [
    "#例8.6"
   ]
  },
  {
   "cell_type": "code",
   "execution_count": 14,
   "metadata": {},
   "outputs": [
    {
     "output_type": "execute_result",
     "data": {
      "text/plain": [
       "array([[ 1. ,  3. , -2. ],\n",
       "       [-1.5, -3. ,  2.5],\n",
       "       [ 1. ,  1. , -1. ]])"
      ]
     },
     "metadata": {},
     "execution_count": 14
    }
   ],
   "source": [
    "A=[[1,2,3],[2,2,1],[3,4,3]]\n",
    "A=np.array(A)\n",
    "#求一个矩阵的逆\n",
    "inv(A)"
   ]
  },
  {
   "cell_type": "code",
   "execution_count": 15,
   "metadata": {
    "tags": []
   },
   "outputs": [
    {
     "output_type": "stream",
     "name": "stdout",
     "text": [
      "A* is:\n[[ 2.  6. -4.]\n [-3. -6.  5.]\n [ 2.  2. -2.]]\n"
     ]
    }
   ],
   "source": [
    "#求矩阵的伴随\n",
    "print('A* is:\\n{}'.format(det(A)*inv(A)))"
   ]
  },
  {
   "cell_type": "code",
   "execution_count": 16,
   "metadata": {},
   "outputs": [],
   "source": [
    "#例8.7"
   ]
  },
  {
   "cell_type": "code",
   "execution_count": 24,
   "metadata": {},
   "outputs": [
    {
     "output_type": "execute_result",
     "data": {
      "text/plain": [
       "array([ 5., -0.,  3.])"
      ]
     },
     "metadata": {},
     "execution_count": 24
    }
   ],
   "source": [
    "A=np.array([[1,-1,-1],\n",
    "            [2,-1,-3],\n",
    "            [3,2,-5]])\n",
    "b=np.array([2,1,0])\n",
    "#求非齐次线性方程组\n",
    "s=solve(A,b)\n",
    "np.round(s,3)"
   ]
  },
  {
   "cell_type": "code",
   "execution_count": null,
   "metadata": {},
   "outputs": [],
   "source": []
  }
 ],
 "metadata": {
  "language_info": {
   "codemirror_mode": {
    "name": "ipython",
    "version": 3
   },
   "file_extension": ".py",
   "mimetype": "text/x-python",
   "name": "python",
   "nbconvert_exporter": "python",
   "pygments_lexer": "ipython3",
   "version": "3.6.1-final"
  },
  "orig_nbformat": 2,
  "kernelspec": {
   "name": "python3",
   "display_name": "Python 3.6.1 64-bit",
   "metadata": {
    "interpreter": {
     "hash": "4ce0e62306dd6a5716965d4519ada776f947e6dfc145b604b11307c10277ef29"
    }
   }
  }
 },
 "nbformat": 4,
 "nbformat_minor": 2
}