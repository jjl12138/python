{
 "cells": [
  {
   "cell_type": "code",
   "execution_count": 1,
   "metadata": {},
   "outputs": [],
   "source": [
    "import numpy as np"
   ]
  },
  {
   "cell_type": "code",
   "execution_count": 2,
   "metadata": {},
   "outputs": [],
   "source": [
    "def Dijkstra(fromIdx,endIdx,adjacentMatrix,M=100000,iterAll=False):\n",
    "    \"\"\"\n",
    "    参数：\n",
    "        fromIdx:起始点索引\n",
    "        endIdx:终点索引\n",
    "        adjacentMatrix:邻接矩阵\n",
    "        M:非相邻顶点的距离\n",
    "        iterAll:是否遍历所有顶点，默认False(当添加endIdx信息后停止遍历剩余顶点)\n",
    "    返回：\n",
    "        distanceArray：距起始顶点的距离数组\n",
    "        parentArray：顶点的父顶点索引数组\n",
    "    \"\"\"\n",
    "    lenMatrix=len(adjacentMatrix)\n",
    "    #保存已标注的顶点\n",
    "    T=[]\n",
    "    #保存未标注的顶点\n",
    "    N_T=[]\n",
    "    for idx in range(lenMatrix):\n",
    "        N_T.append(idx)\n",
    "    T.append(fromIdx)\n",
    "    N_T.remove(fromIdx)\n",
    "    #保存顶点endIdx至初始顶点fromIdx的最短路径上的每一顶点至fromIdx的最短距离\n",
    "    distanceArray=np.ones(lenMatrix)*M\n",
    "    distanceArray[fromIdx]=0\n",
    "    #保存顶点endIdx至初始顶点fromIdx的最短路径上的每一顶点的父（上一）顶点的索引，初始值均为-1\n",
    "    parentArray=np.ones(lenMatrix)*(-1)\n",
    "    while True: \n",
    "        if endIdx in T and not iterAll:\n",
    "            break\n",
    "        if len(T)==lenMatrix:\n",
    "            break\n",
    "        storageDistance=[]\n",
    "        storageIndex=[]\n",
    "        storageParentIndex=[]\n",
    "        #在未标注的顶点中查找离已标注顶点距离最近的顶点\n",
    "        for point in T:\n",
    "            temp=[]\n",
    "            for nextPoint in range(lenMatrix):\n",
    "                temp.append(M if nextPoint in T else adjacentMatrix[point][nextPoint])\n",
    "            minDistance=np.min(temp)\n",
    "            #np.argmin(temp)获得列表temp的最小元素的索引\n",
    "            minIdx=np.argmin(temp)\n",
    "            storageDistance.append(minDistance+distanceArray[point])\n",
    "            storageIndex.append(minIdx)\n",
    "            storageParentIndex.append(point)\n",
    "        minDistance_fromIdx=np.min(storageDistance)\n",
    "        minDistance_Index=np.argmin(storageDistance)\n",
    "        #在列表T中添加已标注顶点，并在N_T中删除这个顶点\n",
    "        if minDistance_fromIdx<M:\n",
    "            appendIndex=storageIndex[minDistance_Index]\n",
    "            T.append(appendIndex)\n",
    "            N_T.remove(appendIndex)\n",
    "            distanceArray[appendIndex]=minDistance_fromIdx\n",
    "            parentArray[appendIndex]=storageParentIndex[minDistance_Index]\n",
    "        #所有的顶点都已标注，退出while循环\n",
    "        else:\n",
    "            break\n",
    "    return distanceArray,parentArray"
   ]
  },
  {
   "cell_type": "code",
   "execution_count": 3,
   "metadata": {},
   "outputs": [],
   "source": [
    "#例31.1"
   ]
  },
  {
   "cell_type": "code",
   "execution_count": 4,
   "metadata": {},
   "outputs": [
    {
     "output_type": "execute_result",
     "data": {
      "text/plain": [
       "(array([ 0.,  5.,  3.,  1.,  6., 10.,  9., 11.,  8.]),\n",
       " array([-1.,  2.,  0.,  0.,  1.,  4.,  4.,  8.,  4.]))"
      ]
     },
     "metadata": {},
     "execution_count": 4
    }
   ],
   "source": [
    "M=100\n",
    "matrix=np.array([\n",
    "                [0,6,3,1,M,M,M,M,M],\n",
    "                [6,0,2,M,1,M,M,M,M],\n",
    "                [3,2,0,2,M,M,M,M,M],\n",
    "                [1,M,2,0,6,10,M,M,M],\n",
    "                [M,1,M,6,0,4,3,6,2],\n",
    "                [M,M,M,10,4,0,2,M,M],\n",
    "                [M,M,M,M,3,2,0,4,M],\n",
    "                [M,M,M,M,6,M,4,0,3],\n",
    "                [M,M,M,M,2,M,M,3,0]\n",
    "                ])\n",
    "fromIdx=0\n",
    "endIdx=7\n",
    "distance,parent=Dijkstra(fromIdx,endIdx,matrix,M=M)\n",
    "distance,parent"
   ]
  },
  {
   "cell_type": "code",
   "execution_count": 5,
   "metadata": {},
   "outputs": [
    {
     "output_type": "stream",
     "name": "stdout",
     "text": [
      "The shortest distance from 'v1' to 'v8' is 11.0,the path is: ['v1', 'v3', 'v2', 'v5', 'v9', 'v8']\n"
     ]
    }
   ],
   "source": [
    "vertexes=['v1','v2','v3','v4','v5','v6','v7','v8','v9']\n",
    "end_idx=endIdx\n",
    "print('The shortest distance from \\'{}\\' to \\'{}\\' is {},the path is:'.format(vertexes[fromIdx],vertexes[end_idx],distance[end_idx]),            end=' ')\n",
    "path=[]\n",
    "path.append(vertexes[end_idx])\n",
    "while end_idx!=fromIdx and end_idx>-1:\n",
    "    end_idx=int(parent[end_idx])\n",
    "    path.append(vertexes[end_idx])\n",
    "path.reverse()\n",
    "print(path)"
   ]
  },
  {
   "cell_type": "code",
   "execution_count": 6,
   "metadata": {},
   "outputs": [],
   "source": [
    "def minDistance_with_neg_arc(fromIdx,adjacentMatrix,M=100000):\n",
    "    \"\"\"\n",
    "    参数：\n",
    "        fromIdx:起始顶点索引\n",
    "        adjacentMatrix:邻接矩阵\n",
    "        M:非相邻顶点的距离\n",
    "    返回值：\n",
    "        success:是否计算成功(如果图中含有负回路，则计算失败)\n",
    "        A:自起始顶点至各顶点的最短距离数组\n",
    "    \"\"\"\n",
    "    lenMatrix=len(adjacentMatrix)\n",
    "    A=adjacentMatrix[fromIdx]\n",
    "    B=[M]*lenMatrix\n",
    "    maxEdges=1\n",
    "    success=True\n",
    "    while A!=B:\n",
    "        for i in range(lenMatrix):\n",
    "            temp=[]\n",
    "            for j in range(lenMatrix):\n",
    "                x=A[j]+adjacentMatrix[j][i] \n",
    "                if x>=M/2:x=M\n",
    "                temp.append(x)\n",
    "            B[i]=min(temp)\n",
    "        A,B=B,A\n",
    "        maxEdges+=1\n",
    "        if maxEdges>=lenMatrix:\n",
    "            success=False\n",
    "            break\n",
    "    return success,A"
   ]
  },
  {
   "cell_type": "code",
   "execution_count": 7,
   "metadata": {},
   "outputs": [],
   "source": [
    "#例31.2"
   ]
  },
  {
   "cell_type": "code",
   "execution_count": 8,
   "metadata": {},
   "outputs": [
    {
     "output_type": "execute_result",
     "data": {
      "text/plain": [
       "(True, [0, -5, -2, -7, -3, -1, -5, 6])"
      ]
     },
     "metadata": {},
     "execution_count": 8
    }
   ],
   "source": [
    "#最短路径问题\n",
    "M=100000\n",
    "disMatrix=[\n",
    "           [0,-1,-2,3,M,M,M,M],\n",
    "           [6,0,M,M,2,M,M,M],\n",
    "           [M,-3,0,-5,M,1,M,M],\n",
    "           [8,M,M,0,M,M,2,M],\n",
    "           [M,-1,M,M,0,M,M,M],\n",
    "           [M,M,M,M,1,0,1,7],\n",
    "           [M,M,M,-1,M,M,0,M],\n",
    "           [M,M,M,M,-3,M,-5,0]\n",
    "          ]\n",
    "success,A=minDistance_with_neg_arc(0,disMatrix)\n",
    "success,A"
   ]
  },
  {
   "cell_type": "code",
   "execution_count": 9,
   "metadata": {},
   "outputs": [],
   "source": [
    "#例31.3"
   ]
  },
  {
   "cell_type": "code",
   "execution_count": 10,
   "metadata": {},
   "outputs": [
    {
     "output_type": "execute_result",
     "data": {
      "text/plain": [
       "(array([ 0., 16., 22., 30., 41., 53.]), array([-1.,  0.,  0.,  0.,  0.,  2.]))"
      ]
     },
     "metadata": {},
     "execution_count": 10
    }
   ],
   "source": [
    "#设备更新问题\n",
    "M=1000\n",
    "adM=np.ones((6,6))*M\n",
    "adM[0][1]=16\n",
    "adM[0][2]=22\n",
    "adM[0][3]=30\n",
    "adM[0][4]=41\n",
    "adM[0][5]=59\n",
    "adM[1][2]=16\n",
    "adM[1][3]=22\n",
    "adM[1][4]=30\n",
    "adM[1][5]=41\n",
    "adM[2][3]=17\n",
    "adM[2][4]=23\n",
    "adM[2][5]=31\n",
    "adM[3][4]=17\n",
    "adM[3][5]=23\n",
    "adM[4][5]=18\n",
    "fromIdx=0\n",
    "endIdx=5\n",
    "disArr,parArr=Dijkstra(fromIdx,endIdx,adM,M=M)\n",
    "disArr,parArr"
   ]
  },
  {
   "cell_type": "code",
   "execution_count": 11,
   "metadata": {},
   "outputs": [
    {
     "output_type": "stream",
     "name": "stdout",
     "text": [
      "[0, 5] 59.0\n[0, 1, 5] 57.0\n[0, 2, 5] 53.0\n[0, 3, 5] 53.0\n"
     ]
    }
   ],
   "source": [
    "#设备更新问题的随机模拟方法\n",
    "np.random.seed(0)\n",
    "minCost=M\n",
    "for _ in range(50):\n",
    "    project=[0]\n",
    "    cost=0\n",
    "    while True:\n",
    "        a=np.random.randint(1,6)\n",
    "        project.append(a)\n",
    "        if a==5:\n",
    "            project.sort()\n",
    "            for idx in range(len(set(project))-1):\n",
    "                cost+=adM[project[idx]][project[idx+1]]\n",
    "            if cost<=minCost:\n",
    "                print(project,cost)\n",
    "                minCost=cost\n",
    "            break"
   ]
  },
  {
   "cell_type": "code",
   "execution_count": 12,
   "metadata": {},
   "outputs": [],
   "source": [
    "#例31.4"
   ]
  },
  {
   "cell_type": "code",
   "execution_count": 13,
   "metadata": {},
   "outputs": [
    {
     "output_type": "execute_result",
     "data": {
      "text/plain": [
       "(5.0, array([3., 2., 0., 3., 2., 0., 0., 3., 2.]))"
      ]
     },
     "metadata": {},
     "execution_count": 13
    }
   ],
   "source": [
    "#网络最大流的线性规划解法\n",
    "from scipy.optimize import linprog\n",
    "#价值向量\n",
    "c=np.array([-1,-1,0,0,0,0,0,0,0])\n",
    "#9行9列的单位矩阵\n",
    "Aub=np.eye(9)\n",
    "bub=np.array([3,5,1,4,2,1,3,5,2])\n",
    "#等式约束矩阵\n",
    "Aeq=np.array([\n",
    "                [1,1,0,0,0,0,0,-1,-1],\n",
    "                [0,1,1,0,-1,0,0,0,0],\n",
    "                [1,0,-1,-1,0,1,0,0,0],\n",
    "                [0,0,0,1,0,0,1,-1,0],\n",
    "                [0,0,0,0,1,-1,-1,0,-1]\n",
    "            ])\n",
    "beq=np.array([0]*5)\n",
    "result=linprog(c,A_ub=Aub,b_ub=bub,A_eq=Aeq,b_eq=beq,method='simplex')\n",
    "np.round(-result.fun,3),np.round(result.x,3)"
   ]
  },
  {
   "cell_type": "code",
   "execution_count": 14,
   "metadata": {},
   "outputs": [],
   "source": [
    "MaxFlow=np.zeros((5,6,2))\n",
    "MaxFlow[0][1][0]=5\n",
    "MaxFlow[0][2][0]=3\n",
    "MaxFlow[1][3][0]=2\n",
    "MaxFlow[2][1][0]=1\n",
    "MaxFlow[2][4][0]=4\n",
    "MaxFlow[3][2][0]=1\n",
    "MaxFlow[3][4][0]=3\n",
    "MaxFlow[3][5][0]=2\n",
    "MaxFlow[4][5][0]=5"
   ]
  },
  {
   "cell_type": "code",
   "execution_count": 15,
   "metadata": {},
   "outputs": [],
   "source": [
    "#随机获得一条从起点至终点的路径\n",
    "def find_path(max_flow,max_search_times=10000):\n",
    "    success=False\n",
    "    from_idx=0\n",
    "    path=[from_idx]\n",
    "    search_times=0\n",
    "    while search_times<max_search_times:\n",
    "        next_vertexes=[index for index in range(len(max_flow[0])) if max_flow[from_idx][index][0]>max_flow[from_idx][index][1]]\n",
    "        if len(next_vertexes)==0:\n",
    "            search_times+=1\n",
    "            from_idx=fromIdx\n",
    "            continue\n",
    "        next_vertex=next_vertexes[np.random.randint(len(next_vertexes))]\n",
    "        path.append(next_vertex)\n",
    "        if next_vertex==len(max_flow[0])-1:\n",
    "            success=True\n",
    "            break\n",
    "        from_idx=next_vertex\n",
    "    if success:\n",
    "        for i in range(len(path)-1,0,-1):\n",
    "            if path[i] in path[:i]:\n",
    "                #去除路径中的圈\n",
    "                path.remove(path[i])\n",
    "        return path\n",
    "    else:return []"
   ]
  },
  {
   "cell_type": "code",
   "execution_count": 16,
   "metadata": {},
   "outputs": [
    {
     "output_type": "execute_result",
     "data": {
      "text/plain": [
       "[0, 1, 3, 5]"
      ]
     },
     "metadata": {},
     "execution_count": 16
    }
   ],
   "source": [
    "find_path(MaxFlow)"
   ]
  },
  {
   "cell_type": "code",
   "execution_count": 17,
   "metadata": {},
   "outputs": [],
   "source": [
    "#用随机模拟方法查看有向图中是否有圈\n",
    "def find_circle(max_flow,max_search_times=100):\n",
    "    hasCircle=False\n",
    "    minVetex_idx=1\n",
    "    maxVetex_idx=len(max_flow[0])-2\n",
    "    for idx in range(minVetex_idx,maxVetex_idx+1):\n",
    "        path=[idx]\n",
    "        distance=[]\n",
    "        search_times=0\n",
    "        from_idx=idx\n",
    "        while search_times<max_search_times:\n",
    "            next_vertexes=[index for index in range(minVetex_idx,maxVetex_idx+1) if max_flow[from_idx][index][1]>0]\n",
    "            if len(next_vertexes)==0:\n",
    "                path=[idx]\n",
    "                distance=[]\n",
    "                search_times+=1\n",
    "                from_idx=idx\n",
    "                continue\n",
    "            next_vertex=next_vertexes[np.random.randint(len(next_vertexes))]\n",
    "            path.append(next_vertex)\n",
    "            distance.append(max_flow[from_idx][next_vertex][1])\n",
    "            if next_vertex==idx:\n",
    "                hasCircle=True\n",
    "                min_dis=min(distance)\n",
    "                for i in range(len(path)-1):\n",
    "                    max_flow[path[i]][path[i+1]][1]=max_flow[path[i]][path[i+1]][1]-min_dis\n",
    "                return hasCircle\n",
    "            from_idx=next_vertex\n",
    "    return hasCircle"
   ]
  },
  {
   "cell_type": "code",
   "execution_count": 18,
   "metadata": {},
   "outputs": [
    {
     "output_type": "stream",
     "name": "stdout",
     "text": [
      "True\n"
     ]
    }
   ],
   "source": [
    "testFlow=np.zeros((5,6,2))\n",
    "testFlow[0][1]=[5,1]\n",
    "testFlow[0][2]=[3,1]\n",
    "testFlow[1][3]=[2,2]\n",
    "testFlow[2][1]=[1,1]\n",
    "testFlow[2][4]=[4,1]\n",
    "testFlow[3][2]=[1,1]\n",
    "testFlow[3][5]=[2,1]\n",
    "testFlow[4][5]=[5,1]\n",
    "print(find_circle(testFlow))"
   ]
  },
  {
   "cell_type": "code",
   "execution_count": 19,
   "metadata": {},
   "outputs": [],
   "source": [
    "#网络最大流函数，返回网络最大流和对应顶点、边的索引及流量及信息\n",
    "def max_net_flow(max_flow):   \n",
    "    while True:\n",
    "        path=find_path(max_flow)\n",
    "        if len(path)==0:\n",
    "            if find_circle(max_flow):continue\n",
    "            S=set()\n",
    "            for row in range(len(max_flow)):\n",
    "                for col in range(len(max_flow[0])):\n",
    "                    if max_flow[row][col][0]>0:\n",
    "                        S.add((row,col,max_flow[row][col][1]))\n",
    "            return sum(max_flow[0])[1],S\n",
    "        flowArr=[]\n",
    "        for i in range(len(path)-1):\n",
    "            appendFlow=max_flow[path[i]][path[i+1]][0]-max_flow[path[i]][path[i+1]][1] if path[i]<path[i+1]\\\n",
    "                       else max_flow[path[i]][path[i+1]][1]\n",
    "            flowArr.append(appendFlow)\n",
    "            minFlow=min(flowArr)\n",
    "        for i in range(len(path)-1):\n",
    "            max_flow[path[i]][path[i+1]][1]=max_flow[path[i]][path[i+1]][1]+minFlow"
   ]
  },
  {
   "cell_type": "code",
   "execution_count": 20,
   "metadata": {},
   "outputs": [
    {
     "output_type": "execute_result",
     "data": {
      "text/plain": [
       "(5.0,\n",
       " {(0, 1, 2.0),\n",
       "  (0, 2, 3.0),\n",
       "  (1, 3, 2.0),\n",
       "  (2, 1, 0.0),\n",
       "  (2, 4, 3.0),\n",
       "  (3, 2, 0.0),\n",
       "  (3, 4, 0.0),\n",
       "  (3, 5, 2.0),\n",
       "  (4, 5, 3.0)})"
      ]
     },
     "metadata": {},
     "execution_count": 20
    }
   ],
   "source": [
    "max_net_flow(MaxFlow)"
   ]
  },
  {
   "cell_type": "code",
   "execution_count": 21,
   "metadata": {},
   "outputs": [],
   "source": [
    "#例31.5"
   ]
  },
  {
   "cell_type": "code",
   "execution_count": 22,
   "metadata": {},
   "outputs": [
    {
     "output_type": "execute_result",
     "data": {
      "text/plain": [
       "3.0"
      ]
     },
     "metadata": {},
     "execution_count": 22
    }
   ],
   "source": [
    "#先求出网络最大流\n",
    "flow=np.zeros((4,5,2))\n",
    "flow[0][1][0]=4\n",
    "flow[0][2][0]=1\n",
    "flow[2][1][0]=2\n",
    "flow[1][3][0]=6\n",
    "flow[1][4][0]=1\n",
    "flow[2][3][0]=3\n",
    "flow[3][4][0]=2\n",
    "f,s=max_net_flow(flow)\n",
    "f"
   ]
  },
  {
   "cell_type": "code",
   "execution_count": 23,
   "metadata": {},
   "outputs": [
    {
     "output_type": "stream",
     "name": "stdout",
     "text": [
      "49.0\n[3.0, 0.0, 2.0, 1.0, 0.0, 0.0, 2.0]\n"
     ]
    }
   ],
   "source": [
    "#用线性规划的方法求最小费用最大流\n",
    "import pulp\n",
    "x=[pulp.LpVariable(f'x{i}',lowBound=0,cat='Integer') for i in range(7)]\n",
    "c=[10,8,2,7,5,10,4]\n",
    "#[(0,1),(0,2),(1,3),(1,4),(2,1),(2,3)(3,4)]\n",
    "m=pulp.LpProblem()\n",
    "m+=pulp.lpDot(x,c)\n",
    "m+=(x[0]+x[1]==3)\n",
    "m+=(x[0]+x[4]==x[2]+x[3])\n",
    "m+=(x[1]==x[4]+x[5])\n",
    "m+=(x[5]+x[2]==x[6])\n",
    "m+=(x[3]+x[6]==3)\n",
    "m+=(x[0]<=4)\n",
    "m+=(x[1]<=1)\n",
    "m+=(x[2]<=6)\n",
    "m+=(x[3]<=1)\n",
    "m+=(x[4]<=2)\n",
    "m+=(x[5]<=3)\n",
    "m+=(x[6]<=2)\n",
    "m.solve()\n",
    "print(pulp.value(m.objective))\n",
    "print([pulp.value(var) for var in x])"
   ]
  },
  {
   "cell_type": "code",
   "execution_count": null,
   "metadata": {},
   "outputs": [],
   "source": []
  }
 ],
 "metadata": {
  "language_info": {
   "codemirror_mode": {
    "name": "ipython",
    "version": 3
   },
   "file_extension": ".py",
   "mimetype": "text/x-python",
   "name": "python",
   "nbconvert_exporter": "python",
   "pygments_lexer": "ipython3",
   "version": "3.6.1-final"
  },
  "orig_nbformat": 2,
  "kernelspec": {
   "name": "python3",
   "display_name": "Python 3.6.1 64-bit",
   "metadata": {
    "interpreter": {
     "hash": "4ce0e62306dd6a5716965d4519ada776f947e6dfc145b604b11307c10277ef29"
    }
   }
  }
 },
 "nbformat": 4,
 "nbformat_minor": 2
}