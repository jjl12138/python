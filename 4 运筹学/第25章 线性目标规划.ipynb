{
 "cells": [
  {
   "cell_type": "code",
   "execution_count": 1,
   "metadata": {},
   "outputs": [],
   "source": [
    "import numpy as np\n",
    "from scipy.optimize import linprog"
   ]
  },
  {
   "cell_type": "code",
   "execution_count": 2,
   "metadata": {},
   "outputs": [],
   "source": [
    "#例25.1"
   ]
  },
  {
   "cell_type": "code",
   "execution_count": 3,
   "metadata": {},
   "outputs": [
    {
     "output_type": "execute_result",
     "data": {
      "text/plain": [
       "(62.0, array([4., 3.]))"
      ]
     },
     "metadata": {},
     "execution_count": 3
    }
   ],
   "source": [
    "c=np.array([8,10])\n",
    "A=np.array([[2,1],[1,2]])\n",
    "b=np.array([11,10])\n",
    "c=-c\n",
    "result=linprog(c,A_ub=A,b_ub=b)\n",
    "-result.fun.round(3),result.x.round(3)"
   ]
  },
  {
   "cell_type": "code",
   "execution_count": 4,
   "metadata": {},
   "outputs": [],
   "source": [
    "#例25.2"
   ]
  },
  {
   "cell_type": "code",
   "execution_count": 5,
   "metadata": {},
   "outputs": [
    {
     "output_type": "execute_result",
     "data": {
      "text/plain": [
       "(array([2., 4., 2., 0., 3., 0., 0., 0., 0., 0.]), 0.0)"
      ]
     },
     "metadata": {},
     "execution_count": 5
    }
   ],
   "source": [
    "c=np.array([0,0,0,8,0,4,2,2,1,0])\n",
    "A_eq=np.array([\n",
    "               [1,-1,1,-1,0,0,0,0,0,0],\n",
    "               [2,1,0,0,1,-1,0,0,0,0],\n",
    "               [1,2,0,0,0,0,1,-1,0,0],\n",
    "               [8,10,0,0,0,0,0,0,1,-1]\n",
    "              ])\n",
    "b_eq=np.array([0,11,10,56])\n",
    "result=linprog(c,A_eq=A_eq,b_eq=b_eq,method='simplex')\n",
    "result.x.round(3),result.fun"
   ]
  },
  {
   "cell_type": "code",
   "execution_count": 6,
   "metadata": {},
   "outputs": [],
   "source": [
    "#例25.3"
   ]
  },
  {
   "cell_type": "code",
   "execution_count": 7,
   "metadata": {},
   "outputs": [
    {
     "output_type": "execute_result",
     "data": {
      "text/plain": [
       "(array([24., 26.,  0., 10.,  0.,  0.,  0.,  0.,  4.,  0.]), 4.0)"
      ]
     },
     "metadata": {},
     "execution_count": 7
    }
   ],
   "source": [
    "c=np.array([0,0,8,0,0,4,2,0,1,0])\n",
    "A_eq=np.array([\n",
    "                [1,1,1,-1,0,0,0,0,0,0],\n",
    "                [1,1,0,0,1,-1,0,0,0,0],\n",
    "                [1,0,0,0,0,0,1,-1,0,0],\n",
    "                [0,1,0,0,0,0,0,0,1,-1]\n",
    "              ])\n",
    "b_eq=np.array([40,50,24,30])\n",
    "result=linprog(c,A_eq=A_eq,b_eq=b_eq)\n",
    "result.x.round(3),result.fun.round(3)"
   ]
  },
  {
   "cell_type": "code",
   "execution_count": 8,
   "metadata": {},
   "outputs": [],
   "source": [
    "#例25.4"
   ]
  },
  {
   "cell_type": "code",
   "execution_count": 9,
   "metadata": {
    "tags": []
   },
   "outputs": [
    {
     "output_type": "stream",
     "name": "stdout",
     "text": [
      "0.0\n"
     ]
    },
    {
     "output_type": "execute_result",
     "data": {
      "text/plain": [
       "array([24., 52., 52.,  0.,  0.,  6.,  0.,  2.,  0.,  0.,  0.,  0.,  0.,\n",
       "        0., 22.])"
      ]
     },
     "metadata": {},
     "execution_count": 9
    }
   ],
   "source": [
    "priority=np.array([0,0,0,0,4,0,2,0,2,0,2,1,0,1,0])\n",
    "left_x=np.array([\n",
    "                [2.5,2.5,5],\n",
    "                [1,0,0],\n",
    "                [-1,1,0],\n",
    "                [0,-1,1],\n",
    "                [1,0,0],\n",
    "                [0,1,0]\n",
    "             ])\n",
    "right_d=np.array([\n",
    "                [1,-1,0,0,0,0,0,0,0,0,0,0],\n",
    "                [0,0,1,-1,0,0,0,0,0,0,0,0],\n",
    "                [0,0,0,0,1,-1,0,0,0,0,0,0],\n",
    "                [0,0,0,0,0,0,1,-1,0,0,0,0],\n",
    "                [0,0,0,0,0,0,0,0,1,-1,0,0],\n",
    "                [0,0,0,0,0,0,0,0,0,0,1,-1]\n",
    "              ])\n",
    "#np.hstack((A,B))将两个行数相同的数组在水平方向上拼接\n",
    "A_eq=np.hstack((left_x,right_d))\n",
    "b_eq=np.array([450,30,30,0,24,30])\n",
    "result=linprog(priority,A_eq=A_eq,b_eq=b_eq,method='simplex')\n",
    "print(result.fun.round(3))\n",
    "result.x.round(3)"
   ]
  },
  {
   "cell_type": "code",
   "execution_count": 10,
   "metadata": {
    "tags": []
   },
   "outputs": [
    {
     "output_type": "stream",
     "name": "stdout",
     "text": [
      "0.0\n[24.0, 30.0, 0.0, 315.0, 0.0, 6.0, 0.0, 24.0, 0.0, 30.0, 0.0, 0.0, 0.0, 0.0, 0.0]\n"
     ]
    }
   ],
   "source": [
    "import pulp\n",
    "m=pulp.LpProblem(sense=pulp.LpMinimize)\n",
    "x=[pulp.LpVariable(f'x{i}',lowBound=0,cat=pulp.LpInteger)\\\n",
    "     for i in np.arange(1,16)]\n",
    "m+=pulp.lpDot(priority,x)\n",
    "for i in np.arange(6):\n",
    "    m+=(pulp.lpDot(A_eq[i],x)==b_eq[i])\n",
    "m.solve()\n",
    "print(pulp.value(m.objective))\n",
    "print([pulp.value(var) for var in x])"
   ]
  },
  {
   "cell_type": "code",
   "execution_count": 11,
   "metadata": {},
   "outputs": [],
   "source": [
    "#例25.5"
   ]
  },
  {
   "cell_type": "code",
   "execution_count": 12,
   "metadata": {},
   "outputs": [
    {
     "output_type": "execute_result",
     "data": {
      "text/plain": [
       "2950.0"
      ]
     },
     "metadata": {},
     "execution_count": 12
    }
   ],
   "source": [
    "# 首先求出此问题的最小运费\n",
    "m=pulp.LpProblem()\n",
    "c=[[5,2,6,7],[3,5,4,6],[4,5,2,3]]\n",
    "production=[300,200,400]\n",
    "requirement=[200,100,450,250]\n",
    "x=[[pulp.LpVariable(f'{i}{j}',lowBound=0,cat=pulp.LpInteger) \\\n",
    "    for j in range(4)] for i in range(3)]\n",
    "m+=sum([pulp.lpDot(c[row],x[row]) for row in range(3)])\n",
    "for row in range(3):\n",
    "    m+=(sum(x[row])==production[row])\n",
    "x_T=np.array(x).T\n",
    "for col in range(4):\n",
    "    m+=(sum(x_T[col])<=requirement[col])\n",
    "m.solve()\n",
    "pulp.value(m.objective)"
   ]
  },
  {
   "cell_type": "code",
   "execution_count": 13,
   "metadata": {},
   "outputs": [],
   "source": [
    "#价值向量\n",
    "c=np.zeros(38)\n",
    "c[18]=64\n",
    "c[20]=32\n",
    "c[22]=16\n",
    "c[24]=16\n",
    "c[26]=16\n",
    "c[28]=16\n",
    "c[31]=8\n",
    "c[33]=4\n",
    "c[34]=2\n",
    "c[35]=2\n",
    "c[37]=1\n",
    "\n",
    "#等式约束矩阵\n",
    "A=np.zeros((16,38))\n",
    "A[0][:4]=1\n",
    "A[1][4:8]=1\n",
    "A[2][8:12]=1\n",
    "#A[3]\n",
    "A[3][0]=1\n",
    "A[3][4]=1\n",
    "A[3][8]=1\n",
    "A[3][12]=1\n",
    "A[3][13]=-1\n",
    "#A[4]\n",
    "A[4][1]=1\n",
    "A[4][5]=1\n",
    "A[4][9]=1\n",
    "A[4][14]=1\n",
    "A[4][15]=-1\n",
    "#A[5]\n",
    "A[5][2]=1\n",
    "A[5][6]=1\n",
    "A[5][10]=1\n",
    "A[5][16]=1\n",
    "A[5][17]=-1\n",
    "#A[6]\n",
    "A[6][3]=1\n",
    "A[6][7]=1\n",
    "A[6][11]=1\n",
    "A[6][18]=1\n",
    "A[6][19]=-1\n",
    "#A[7]\n",
    "A[7][8]=1\n",
    "A[7][20]=1\n",
    "A[7][21]=-1\n",
    "#A[8]\n",
    "A[8][0]=1\n",
    "A[8][4]=1\n",
    "A[8][8]=1\n",
    "A[8][22]=1\n",
    "A[8][23]=-1\n",
    "#A[9]\n",
    "A[9][1]=1\n",
    "A[9][5]=1\n",
    "A[9][9]=1\n",
    "A[9][24]=1\n",
    "A[9][25]=-1\n",
    "#A[10]\n",
    "A[10][2]=1\n",
    "A[10][6]=1\n",
    "A[10][10]=1\n",
    "A[10][26]=1\n",
    "A[10][27]=-1\n",
    "#A[11]\n",
    "A[11][3]=1\n",
    "A[11][7]=1\n",
    "A[11][11]=1\n",
    "A[11][28]=1\n",
    "A[11][29]=-1\n",
    "#A[12]\n",
    "A[12][0:12]=[5,2,6,7,3,5,4,6,4,5,2,3]\n",
    "A[12][30]=1\n",
    "A[12][31]=-1\n",
    "#A[13]\n",
    "A[13][7]=1\n",
    "A[13][32]=1\n",
    "A[13][33]=-1\n",
    "#A[14]\n",
    "A[14][0]=1\n",
    "A[14][4]=1\n",
    "A[14][8]=1\n",
    "A[14][2]=-200/450\n",
    "A[14][6]=-200/450\n",
    "A[14][10]=-200/450\n",
    "A[14][34]=1\n",
    "A[14][35]=-1\n",
    "#A[15]\n",
    "A[15][:12]=[5,2,6,7,3,5,4,6,4,5,2,3]\n",
    "A[15][36]=1\n",
    "A[15][37]=-1\n",
    "\n",
    "#资源向量\n",
    "b=np.array([300,200,400,200,100,450,250,100,\\\n",
    "    160,80,360,200,2950*1.1,0,0,2950])"
   ]
  },
  {
   "cell_type": "code",
   "execution_count": 14,
   "metadata": {
    "tags": []
   },
   "outputs": [
    {
     "output_type": "stream",
     "name": "stdout",
     "text": [
      "x is:\n[[  0. 139. 161.   0.]\n [ 60.   0. 140.   0.]\n [100.   0.  50. 250.]]\n=====================\nd is:\n[[ 40.   0.]\n [  0.  39.]\n [ 99.   0.]\n [  0.   0.]\n [  0.   0.]\n [  0.   0.]\n [  0.  59.]\n [  9.   0.]\n [  0.  50.]\n [ 11.   0.]\n [  0.   0.]\n [  0.   4.]\n [  0. 284.]]\n===========\nz is:\n436.0\n"
     ]
    }
   ],
   "source": [
    "m=pulp.LpProblem()\n",
    "x=[pulp.LpVariable(f'x{i}',lowBound=0,cat=pulp.LpInteger) \\\n",
    "    for i in range(38)]\n",
    "m+=pulp.lpDot(c,x)\n",
    "for i in np.arange(16):\n",
    "    m+=(pulp.lpDot(A[i],x)==b[i])\n",
    "m.solve()\n",
    "result_x=[pulp.value(x[i]) for i in range(12)]\n",
    "result_d=[pulp.value(x[i]) for i in range(12,38)]\n",
    "result_x=np.array(result_x).reshape((3,4))\n",
    "result_d=np.array(result_d).reshape((13,2))\n",
    "print('x is:')\n",
    "print(result_x)\n",
    "print('=====================')\n",
    "print('d is:')\n",
    "print(result_d)\n",
    "print('===========')\n",
    "print('z is:')\n",
    "print(pulp.value(m.objective))"
   ]
  },
  {
   "cell_type": "code",
   "execution_count": 15,
   "metadata": {},
   "outputs": [
    {
     "output_type": "execute_result",
     "data": {
      "text/plain": [
       "(array([[ 29., 136.,  70.,  65.],\n",
       "        [ 31.,   0., 169.,   0.],\n",
       "        [100.,   0., 115., 185.]]), 401.0)"
      ]
     },
     "metadata": {},
     "execution_count": 15
    }
   ],
   "source": [
    "# linprog求解\n",
    "result=linprog(c,A_eq=A,b_eq=b)\n",
    "res=np.array(result.x[:12]).round(0).reshape((3,4))\n",
    "res,result.fun.round(0)"
   ]
  },
  {
   "cell_type": "code",
   "execution_count": null,
   "metadata": {},
   "outputs": [],
   "source": []
  }
 ],
 "metadata": {
  "language_info": {
   "codemirror_mode": {
    "name": "ipython",
    "version": 3
   },
   "file_extension": ".py",
   "mimetype": "text/x-python",
   "name": "python",
   "nbconvert_exporter": "python",
   "pygments_lexer": "ipython3",
   "version": "3.6.1-final"
  },
  "orig_nbformat": 2,
  "kernelspec": {
   "name": "python3",
   "display_name": "Python 3.6.1 64-bit",
   "metadata": {
    "interpreter": {
     "hash": "4ce0e62306dd6a5716965d4519ada776f947e6dfc145b604b11307c10277ef29"
    }
   }
  }
 },
 "nbformat": 4,
 "nbformat_minor": 2
}