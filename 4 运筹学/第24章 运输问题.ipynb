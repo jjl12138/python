{
 "cells": [
  {
   "cell_type": "code",
   "execution_count": 1,
   "metadata": {},
   "outputs": [],
   "source": [
    "from scipy.optimize import linprog\n",
    "import pulp\n",
    "import numpy as np "
   ]
  },
  {
   "cell_type": "code",
   "execution_count": 2,
   "metadata": {},
   "outputs": [],
   "source": [
    "#例24.1"
   ]
  },
  {
   "cell_type": "code",
   "execution_count": 3,
   "metadata": {},
   "outputs": [
    {
     "output_type": "execute_result",
     "data": {
      "text/plain": [
       "(14.0, [4.0, 2.0])"
      ]
     },
     "metadata": {},
     "execution_count": 3
    }
   ],
   "source": [
    "c=[2,3]\n",
    "A=[[1,2],[4,0],[0,4]]\n",
    "b=[8,16,12]\n",
    "#新建一个线性规划问题，LpMaximize指明为求最大值\n",
    "m=pulp.LpProblem(sense=pulp.LpMaximize)\n",
    "#添加变量\n",
    "x=[pulp.LpVariable(f'x{i}',lowBound=0) for i in [1,2]]\n",
    "#目标函数\n",
    "m+=pulp.lpDot(c,x)\n",
    "#添加约束\n",
    "for i in range(len(A)):\n",
    "    m+=(pulp.lpDot(A[i],x)<=b[i])\n",
    "#求解\n",
    "m.solve()\n",
    "#显示目标函数及对应变量值\n",
    "pulp.value(m.objective),[pulp.value(var) for var in x]"
   ]
  },
  {
   "cell_type": "code",
   "execution_count": 4,
   "metadata": {},
   "outputs": [],
   "source": [
    "#例24.2"
   ]
  },
  {
   "cell_type": "code",
   "execution_count": 5,
   "metadata": {},
   "outputs": [],
   "source": [
    "#使用linprog()函数求运输问题\n",
    "def transport_linprog(costs,supply,demand):\n",
    "    m=len(supply)\n",
    "    n=len(demand)\n",
    "    A_ub=np.zeros((m,m*n))\n",
    "    for row in np.arange(m):\n",
    "        for col in np.arange(row*n,row*n+n):\n",
    "            A_ub[row][col]=1\n",
    "    A_eq=np.zeros((n,m*n))\n",
    "    for row in np.arange(n):\n",
    "        for col in np.arange(m):\n",
    "            A_eq[row][row+n*col]=1\n",
    "    c=np.ravel(costs)\n",
    "    result=linprog(c,A_ub=A_ub,b_ub=supply,A_eq=A_eq,\\\n",
    "                   b_eq=demand,method='simplex')\n",
    "    #以字典的形式返回结果\n",
    "    return {'success':result.success,'fun':result.fun.round(3),\\\n",
    "            'x':result.x.round(3).reshape((m,n))}"
   ]
  },
  {
   "cell_type": "code",
   "execution_count": 6,
   "metadata": {
    "tags": []
   },
   "outputs": [
    {
     "output_type": "stream",
     "name": "stdout",
     "text": [
      "True\n85.0\n[[0. 0. 5. 2.]\n [3. 0. 0. 1.]\n [0. 6. 0. 3.]]\n"
     ]
    }
   ],
   "source": [
    "c=[[3,11,3,10],[1,9,2,8],[7,4,10,5]]\n",
    "supply=[7,4,9]\n",
    "demand=[3,6,5,6]\n",
    "result=transport_linprog(c,supply,demand)\n",
    "#显示结果\n",
    "print(result['success'])\n",
    "print(result['fun'])\n",
    "print(result['x'])"
   ]
  },
  {
   "cell_type": "code",
   "execution_count": 7,
   "metadata": {},
   "outputs": [],
   "source": [
    "#例24.3"
   ]
  },
  {
   "cell_type": "code",
   "execution_count": 8,
   "metadata": {},
   "outputs": [],
   "source": [
    "#使用pulp求解运输问题\n",
    "def transport_pulp(costs,supply,demand,cat=pulp.LpContinuous):\n",
    "    #提供给使用人的函数基本信息描述\n",
    "    \"\"\"\n",
    "    ============================================================\n",
    "    运筹学之运输问题：\n",
    "    参数：\n",
    "    costs:运输单价表\n",
    "    supply:（各点）可供应量\n",
    "    demand:（各点）需求量\n",
    "    cat=pulp.LpContinuous(default),pulp.LpInteger or pulp.Binary\n",
    "    ============================================================\n",
    "    返回:\n",
    "    {'fun'：fun ,'x'：x }\n",
    "    ============================================================\n",
    "    \"\"\"\n",
    "    rows=len(costs)\n",
    "    cols=len(costs[0])\n",
    "    problem=pulp.LpProblem('trans_p',sense=pulp.LpMinimize)\n",
    "    var=[[pulp.LpVariable(f'x{i}{j}',lowBound=0,cat=cat) for j in \\\n",
    "        range(cols)] for i in range(rows)]\n",
    "    problem += sum([pulp.lpDot(costs[row],var[row]) for row in \\\n",
    "        range(rows)])\n",
    "    for row in range(rows):\n",
    "        problem += (pulp.lpSum(var[row]) <= supply[row])\n",
    "    for col in range(cols):\n",
    "        problem += (pulp.lpSum([var[row][col] for row in range(rows)])\\\n",
    "             == demand[col])\n",
    "    problem.solve()\n",
    "    fun=pulp.value(problem.objective)\n",
    "    x=[[pulp.value(var[row][col]) for col in range(cols)] for row in \\\n",
    "        range(rows)]\n",
    "    return {'fun':fun,'x':x}"
   ]
  },
  {
   "cell_type": "code",
   "execution_count": 9,
   "metadata": {},
   "outputs": [
    {
     "output_type": "stream",
     "text": [
      "\u001b[1;31mSignature:\u001b[0m \u001b[0mtransport_pulp\u001b[0m\u001b[1;33m(\u001b[0m\u001b[0mcosts\u001b[0m\u001b[1;33m,\u001b[0m \u001b[0msupply\u001b[0m\u001b[1;33m,\u001b[0m \u001b[0mdemand\u001b[0m\u001b[1;33m,\u001b[0m \u001b[0mcat\u001b[0m\u001b[1;33m=\u001b[0m\u001b[1;34m'Continuous'\u001b[0m\u001b[1;33m)\u001b[0m\u001b[1;33m\u001b[0m\u001b[0m\n",
      "\u001b[1;31mDocstring:\u001b[0m\n",
      "============================================================\n",
      "运筹学之运输问题：\n",
      "参数：\n",
      "costs:运输单价表\n",
      "supply:（各点）可供应量\n",
      "demand:（各点）需求量\n",
      "cat=pulp.LpContinuous(default),pulp.LpInteger or pulp.Binary\n",
      "============================================================\n",
      "返回:\n",
      "{'fun'：fun ,'x'：x }\n",
      "============================================================\n",
      "\u001b[1;31mFile:\u001b[0m      e:\\高数、统计、运筹文稿及代码\\代码\\运筹代码\\<ipython-input-8-7ca2eafe8b66>\n",
      "\u001b[1;31mType:\u001b[0m      function\n"
     ],
     "name": "stdout"
    }
   ],
   "source": [
    "transport_pulp?"
   ]
  },
  {
   "cell_type": "code",
   "execution_count": 10,
   "metadata": {
    "tags": []
   },
   "outputs": [
    {
     "output_type": "stream",
     "name": "stdout",
     "text": [
      "85.0\n[[2. 0. 5. 0.]\n [1. 0. 0. 3.]\n [0. 6. 0. 3.]]\n"
     ]
    }
   ],
   "source": [
    "c=[[3,11,3,10],[1,9,2,8],[7,4,10,5]]\n",
    "supply=[7,4,9]\n",
    "demand=[3,6,5,6]\n",
    "result=transport_pulp(c,supply,demand)\n",
    "print(result['fun'])\n",
    "print(np.array(result['x']))"
   ]
  },
  {
   "cell_type": "code",
   "execution_count": 11,
   "metadata": {},
   "outputs": [],
   "source": [
    "#例24.4"
   ]
  },
  {
   "cell_type": "code",
   "execution_count": 12,
   "metadata": {
    "tags": []
   },
   "outputs": [
    {
     "output_type": "stream",
     "name": "stdout",
     "text": [
      "By trandport_linprog:\nfun:2460.0\nx:[[ 0.  0. 50.  0.  0.  0.]\n [ 0.  0. 20.  0. 10. 30.]\n [30. 20.  0.  0.  0.  0.]\n [ 0.  0.  0. 30.  0. 20.]]\n\n\nBy trandport_pulp:\nfun:2460.0\nx:[[ 0.  0. 50.  0.  0.  0.]\n [ 0.  0. 20.  0. 10. 30.]\n [30. 20.  0.  0.  0.  0.]\n [ 0.  0.  0. 30.  0. 20.]]\n"
     ]
    }
   ],
   "source": [
    "M=10000\n",
    "c=[[16,16,13,22,17,17],[14,14,13,19,15,15],[19,19,20,23,M,M],\\\n",
    "    [M,0,M,0,M,0]]\n",
    "supply=[50,60,50,50]\n",
    "demand=[30,20,70,30,10,50]\n",
    "result_1=transport_linprog(c,supply,demand)\n",
    "print('By trandport_linprog:\\nfun:{}\\nx:{}'.format(result_1['fun'],\\\n",
    "    np.array(result_1['x'])))\n",
    "result_2=transport_pulp(c,supply,demand)\n",
    "print('\\n\\nBy trandport_pulp:\\nfun:{}\\nx:{}'.format(result_2['fun'],\\\n",
    "    np.array(result_2['x'])))"
   ]
  },
  {
   "cell_type": "code",
   "execution_count": 13,
   "metadata": {},
   "outputs": [],
   "source": [
    "#例24.5"
   ]
  },
  {
   "cell_type": "code",
   "execution_count": 14,
   "metadata": {},
   "outputs": [
    {
     "output_type": "execute_result",
     "data": {
      "text/plain": [
       "(773.0, array([[10., 10.,  0.,  5.],\n",
       "        [ 0.,  5.,  0.,  0.],\n",
       "        [ 0.,  0., 25.,  5.],\n",
       "        [ 0.,  0.,  0., 10.]]))"
      ]
     },
     "metadata": {},
     "execution_count": 14
    }
   ],
   "source": [
    "M=10000\n",
    "c=[[10.8,10.95,11.1,11.25],[M,11.1,11.25,11.4],\\\n",
    "    [M,M,11.0,11.15],[M,M,M,11.3]]\n",
    "supply=[25,35,30,10]\n",
    "demand=[10,15,25,20]\n",
    "result=transport_pulp(c,supply,demand,\\\n",
    "    cat=pulp.LpInteger)\n",
    "result['fun'],np.array(result['x'])"
   ]
  },
  {
   "cell_type": "code",
   "execution_count": 18,
   "metadata": {
    "tags": []
   },
   "outputs": [
    {
     "output_type": "stream",
     "name": "stdout",
     "text": [
      "0.9484517574310303\nTrue\n"
     ]
    }
   ],
   "source": [
    "from time import time\n",
    "start=time()\n",
    "np.random.RandomState(0)\n",
    "supply_num=30\n",
    "demand_num=45\n",
    "c=np.random.randint(0,10,size=(supply_num,demand_num))\n",
    "supply=np.random.randint(20000,25000,size=supply_num)\n",
    "demand=np.random.randint(10000,20000,size=demand_num)\n",
    "result=transport_linprog(c,supply,demand)\n",
    "#因为随机性及主机运行速度原因，显示的结果会有差别\n",
    "print((time()-start))\n",
    "print(result['success'])"
   ]
  },
  {
   "cell_type": "code",
   "execution_count": null,
   "metadata": {},
   "outputs": [],
   "source": []
  }
 ],
 "metadata": {
  "language_info": {
   "codemirror_mode": {
    "name": "ipython",
    "version": 3
   },
   "file_extension": ".py",
   "mimetype": "text/x-python",
   "name": "python",
   "nbconvert_exporter": "python",
   "pygments_lexer": "ipython3",
   "version": "3.6.1-final"
  },
  "orig_nbformat": 2,
  "kernelspec": {
   "name": "python3",
   "display_name": "Python 3.6.1 64-bit",
   "metadata": {
    "interpreter": {
     "hash": "4ce0e62306dd6a5716965d4519ada776f947e6dfc145b604b11307c10277ef29"
    }
   }
  }
 },
 "nbformat": 4,
 "nbformat_minor": 2
}