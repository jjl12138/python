{
 "cells": [
  {
   "cell_type": "code",
   "execution_count": 1,
   "metadata": {},
   "outputs": [],
   "source": [
    "#例29.1"
   ]
  },
  {
   "cell_type": "code",
   "execution_count": 2,
   "metadata": {},
   "outputs": [
    {
     "output_type": "execute_result",
     "data": {
      "text/plain": [
       "120"
      ]
     },
     "metadata": {},
     "execution_count": 2
    }
   ],
   "source": [
    "def factorial(n):\n",
    "    if n==0:return 1\n",
    "    return n*factorial(n-1)\n",
    "factorial(5)"
   ]
  },
  {
   "cell_type": "code",
   "execution_count": 3,
   "metadata": {},
   "outputs": [],
   "source": [
    "#例29.2"
   ]
  },
  {
   "cell_type": "code",
   "execution_count": 4,
   "metadata": {},
   "outputs": [
    {
     "output_type": "execute_result",
     "data": {
      "text/plain": [
       "(1, 0.7853981633974483, 0.6666666666666666)"
      ]
     },
     "metadata": {},
     "execution_count": 4
    }
   ],
   "source": [
    "import numpy as np \n",
    "def I(n):\n",
    "    if n==0:return np.pi/2\n",
    "    if n==1:return 1\n",
    "    return (n-1)*I(n-2)/n\n",
    "I(1),I(2),I(3)"
   ]
  },
  {
   "cell_type": "code",
   "execution_count": 5,
   "metadata": {},
   "outputs": [],
   "source": [
    "#例29.3"
   ]
  },
  {
   "cell_type": "code",
   "execution_count": 6,
   "metadata": {},
   "outputs": [
    {
     "output_type": "stream",
     "name": "stdout",
     "text": [
      "1;2;3;5;8;13;21;34;55;89;"
     ]
    }
   ],
   "source": [
    "def F(n):\n",
    "    if n<=2:return n\n",
    "    return F(n-1)+F(n-2)\n",
    "for i in range(1,11):\n",
    "    print(F(i),end=';')"
   ]
  },
  {
   "cell_type": "code",
   "execution_count": 7,
   "metadata": {},
   "outputs": [],
   "source": [
    "#例29.4"
   ]
  },
  {
   "cell_type": "code",
   "execution_count": 8,
   "metadata": {},
   "outputs": [
    {
     "output_type": "execute_result",
     "data": {
      "text/plain": [
       "252"
      ]
     },
     "metadata": {},
     "execution_count": 8
    }
   ],
   "source": [
    "def C(n,m):\n",
    "    if n==m or m==0:return 1\n",
    "    return C(n-1,m)+C(n-1,m-1)\n",
    "C(10,5)"
   ]
  },
  {
   "cell_type": "code",
   "execution_count": 9,
   "metadata": {},
   "outputs": [],
   "source": [
    "#例29.5"
   ]
  },
  {
   "cell_type": "code",
   "execution_count": 10,
   "metadata": {},
   "outputs": [],
   "source": [
    "#最短路径问题"
   ]
  },
  {
   "cell_type": "code",
   "execution_count": 11,
   "metadata": {},
   "outputs": [],
   "source": [
    "a=np.ones((16,16))*100.0\n",
    "a[0][1]=5\n",
    "a[0][2]=3\n",
    "a[1][3]=1\n",
    "a[1][4]=3\n",
    "a[1][5]=6\n",
    "a[2][4]=8\n",
    "a[2][5]=7\n",
    "a[2][6]=6\n",
    "a[3][7]=6\n",
    "a[3][8]=8\n",
    "a[4][7]=3\n",
    "a[4][8]=5\n",
    "a[5][8]=3\n",
    "a[5][9]=3\n",
    "a[6][8]=8\n",
    "a[6][9]=4\n",
    "a[7][10]=2\n",
    "a[7][11]=2\n",
    "a[8][11]=1\n",
    "a[8][12]=2\n",
    "a[9][11]=3\n",
    "a[9][12]=3\n",
    "a[10][13]=3\n",
    "a[10][14]=5\n",
    "a[11][13]=5\n",
    "a[11][14]=2\n",
    "a[12][13]=6\n",
    "a[12][14]=6\n",
    "a[13][15]=4\n",
    "a[14][15]=3"
   ]
  },
  {
   "cell_type": "code",
   "execution_count": 12,
   "metadata": {},
   "outputs": [
    {
     "output_type": "execute_result",
     "data": {
      "text/plain": [
       "18.0"
      ]
     },
     "metadata": {},
     "execution_count": 12
    }
   ],
   "source": [
    "def minDistance(idxPoint,max_point_idx=15):\n",
    "    if idxPoint>=max_point_idx:\n",
    "        return 0\n",
    "    b=[]\n",
    "    for col in range(max_point_idx+1):\n",
    "        if a[idxPoint][col]>99:\n",
    "            continue\n",
    "        b.append(a[idxPoint,col]+minDistance(col))\n",
    "    return np.min(np.array(b))\n",
    "\n",
    "minDistance(0)"
   ]
  },
  {
   "cell_type": "code",
   "execution_count": 13,
   "metadata": {},
   "outputs": [
    {
     "output_type": "stream",
     "name": "stdout",
     "text": [
      "The shortest path is:\tA->B1->C2->D1->E2->F2->G\n"
     ]
    }
   ],
   "source": [
    "points=['A','B1','B2','C1','C2','C3','C4','D1','D2','D3','E1','E2','E3','F1','F2','G']\n",
    "while True:\n",
    "    B=np.random.randint(1,3)\n",
    "    C=np.random.randint(3,7)\n",
    "    D=np.random.randint(7,10)\n",
    "    E=np.random.randint(10,13)\n",
    "    F=np.random.randint(13,15)\n",
    "    if a[0][B]+a[B][C]+a[C][D]+a[D][E]+a[E][F]+a[F][15]==18:\n",
    "        print('The shortest path is:\\tA->{}->{}->{}->{}->{}->G'.format(points[B],points[C],points[D],points[E],points[F]))\n",
    "        break"
   ]
  },
  {
   "cell_type": "code",
   "execution_count": 14,
   "metadata": {},
   "outputs": [],
   "source": [
    "#例29.6"
   ]
  },
  {
   "cell_type": "code",
   "execution_count": 15,
   "metadata": {},
   "outputs": [
    {
     "output_type": "execute_result",
     "data": {
      "text/plain": [
       "(array([0.24923, 0.50153, 0.24923]), 0.015624080488528423)"
      ]
     },
     "metadata": {},
     "execution_count": 15
    }
   ],
   "source": [
    "from scipy.optimize import minimize\n",
    "def fun(x,sign=1.0):\n",
    "    return sign*(x[0]*x[1]**2*x[2])\n",
    "cons=({'type':'eq','fun':lambda x:np.array([x[0]+x[1]+x[2]-1])},\n",
    "      {'type':'ineq','fun':lambda x:np.array([x[0]])},\n",
    "      {'type':'ineq','fun':lambda x:np.array([x[1]])},\n",
    "      {'type':'ineq','fun':lambda x:np.array([x[2]])})\n",
    "result=minimize(fun,[0.3,0.3,0.3],args=(-1.0,),constraints=cons)\n",
    "x=np.round(result.x,5)\n",
    "x,fun(x)"
   ]
  },
  {
   "cell_type": "code",
   "execution_count": 16,
   "metadata": {},
   "outputs": [],
   "source": [
    "#例29.7"
   ]
  },
  {
   "cell_type": "code",
   "execution_count": 17,
   "metadata": {},
   "outputs": [
    {
     "output_type": "execute_result",
     "data": {
      "text/plain": [
       "(array([-0.,  0.,  9.]), 174.0)"
      ]
     },
     "metadata": {},
     "execution_count": 17
    }
   ],
   "source": [
    "def fun(x,sign=1.0):\n",
    "    return sign*(4*x[0]**2-x[1]**2+2*x[2]**2+12)\n",
    "cons=({'type':'ineq','fun':lambda x:np.array([-3*x[0]-2*x[1]-x[2]+9])},\n",
    "      {'type':'ineq','fun':lambda x:np.array([x[0]])},\n",
    "      {'type':'ineq','fun':lambda x:np.array([x[1]])},\n",
    "      {'type':'ineq','fun':lambda x:np.array([x[2]])})\n",
    "result=minimize(fun,[1,1,1],args=(-1.0,),constraints=cons)\n",
    "x=np.round(result.x,3)\n",
    "x,fun(x)"
   ]
  },
  {
   "cell_type": "code",
   "execution_count": 18,
   "metadata": {},
   "outputs": [
    {
     "output_type": "execute_result",
     "data": {
      "text/plain": [
       "(array([0., 0., 0.]), 12.0)"
      ]
     },
     "metadata": {},
     "execution_count": 18
    }
   ],
   "source": [
    "def fun(x,sign=1.0):\n",
    "    return sign*(4*x[0]**2-x[1]**2+2*x[2]**2+12)\n",
    "cons=({'type':'ineq','fun':lambda x:np.array([-3*x[0]-2*x[1]-x[2]+9])},\n",
    "      {'type':'ineq','fun':lambda x:np.array([x[0]])},\n",
    "      {'type':'ineq','fun':lambda x:np.array([x[1]])},\n",
    "      {'type':'ineq','fun':lambda x:np.array([x[2]])})\n",
    "result=minimize(fun,[0,0,0],args=(-1.0,),constraints=cons)\n",
    "x=np.round(result.x,3)\n",
    "x,fun(x)"
   ]
  },
  {
   "cell_type": "code",
   "execution_count": null,
   "metadata": {},
   "outputs": [],
   "source": []
  }
 ],
 "metadata": {
  "language_info": {
   "codemirror_mode": {
    "name": "ipython",
    "version": 3
   },
   "file_extension": ".py",
   "mimetype": "text/x-python",
   "name": "python",
   "nbconvert_exporter": "python",
   "pygments_lexer": "ipython3",
   "version": "3.6.1-final"
  },
  "orig_nbformat": 2,
  "kernelspec": {
   "name": "python3",
   "display_name": "Python 3.6.1 64-bit",
   "metadata": {
    "interpreter": {
     "hash": "4ce0e62306dd6a5716965d4519ada776f947e6dfc145b604b11307c10277ef29"
    }
   }
  }
 },
 "nbformat": 4,
 "nbformat_minor": 2
}