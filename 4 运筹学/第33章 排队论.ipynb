{
 "cells": [
  {
   "cell_type": "code",
   "execution_count": 1,
   "metadata": {},
   "outputs": [],
   "source": [
    "import numpy as np "
   ]
  },
  {
   "cell_type": "code",
   "execution_count": 2,
   "metadata": {},
   "outputs": [],
   "source": [
    "#例33.1"
   ]
  },
  {
   "cell_type": "code",
   "execution_count": 3,
   "metadata": {},
   "outputs": [
    {
     "output_type": "execute_result",
     "data": {
      "text/plain": [
       "array([[ 1,  0,  5,  2,  0],\n",
       "       [ 2,  2,  7,  4,  3],\n",
       "       [ 3,  6,  1,  5,  6],\n",
       "       [ 4, 11,  9,  1,  2],\n",
       "       [ 5, 12,  2,  7, 10]])"
      ]
     },
     "metadata": {},
     "execution_count": 3
    }
   ],
   "source": [
    "import numpy as np\n",
    "#原始数据\n",
    "original_data=[\n",
    "               [1,0,5],[2,2,7],[3,6,1],[4,11,9],[5,12,2],[6,19,4],\n",
    "               [7,22,3],[8,26,3],[9,36,1],[10,38,2],[11,45,5],\n",
    "               [12,47,4],[13,49,1],[14,52,2],[15,61,1],[16,62,2],\n",
    "               [17,65,1],[18,70,3],[19,72,4],[20,80,3],[21,81,2],\n",
    "               [22,83,3],[23,86,6],[24,88,5],[25,92,1],[26,95,3],\n",
    "               [27,101,2],[28,105,2],[29,106,1],[30,109,2],[31,114,1],\n",
    "               [32,116,8],[33,117,4],[34,121,2],[35,127,1],[36,129,6],\n",
    "               [37,130,3],[38,133,5],[39,135,2],[40,139,4],[41,142,1]\n",
    "              ]\n",
    "compute_data=[]\n",
    "for i in range(len(original_data)):\n",
    "    if i==0:\n",
    "        compute_data.append([original_data[1][1]-original_data[0][1],0])\n",
    "    elif i==len(original_data)-1:\n",
    "        w=compute_data[i-1][1]+original_data[i-1][2]-compute_data[i-1][0]\n",
    "        w=w if w>0 else 0\n",
    "        compute_data.append([0,w])\n",
    "    else:\n",
    "        t=original_data[i+1][1]-original_data[i][1]\n",
    "        w=compute_data[i-1][1]+original_data[i-1][2]-compute_data[i-1][0]\n",
    "        w=w if w>0 else 0\n",
    "        compute_data.append([t,w])\n",
    "data=np.hstack((original_data,compute_data))\n",
    "data[:5]"
   ]
  },
  {
   "cell_type": "code",
   "execution_count": 4,
   "metadata": {},
   "outputs": [
    {
     "output_type": "execute_result",
     "data": {
      "text/plain": [
       "array([3.55 , 3.098, 3.317])"
      ]
     },
     "metadata": {},
     "execution_count": 4
    }
   ],
   "source": [
    "aver_t=np.mean(data[:-1],axis=0)[3]\n",
    "aver_s,aver_w=np.mean(data,axis=0)[[2,4]]\n",
    "np.round((aver_t,aver_s,aver_w),3)"
   ]
  },
  {
   "cell_type": "code",
   "execution_count": 5,
   "metadata": {},
   "outputs": [
    {
     "output_type": "execute_result",
     "data": {
      "text/plain": [
       "(1 + lambda*t + lambda**2*t**2/2 + lambda**3*t**3/6 + lambda**4*t**4/24 + lambda**5*t**5/120 + O(t**6))*exp(-lambda*t)"
      ],
      "text/latex": "$\\displaystyle \\left(1 + \\lambda t + \\frac{\\lambda^{2} t^{2}}{2} + \\frac{\\lambda^{3} t^{3}}{6} + \\frac{\\lambda^{4} t^{4}}{24} + \\frac{\\lambda^{5} t^{5}}{120} + O\\left(t^{6}\\right)\\right) e^{- \\lambda t}$"
     },
     "metadata": {},
     "execution_count": 5
    }
   ],
   "source": [
    "import sympy as sy\n",
    "from sympy import series\n",
    "t,lamda=sy.symbols('t lambda')\n",
    "f=lambda t:sy.exp(lamda*t)\n",
    "#so:1=exp(lamda*x)*exp(-lamda*x)\n",
    "#display(f(t).series(t,0,6)*sy.exp(-lamda*t))\n",
    "f(t).series(t,0,6)*sy.exp(-lamda*t)"
   ]
  },
  {
   "cell_type": "code",
   "execution_count": 6,
   "metadata": {},
   "outputs": [],
   "source": [
    "#so:P(n>0)=1-exp(-lamda*t),即输入为泊松流和负指数分布是等价的"
   ]
  },
  {
   "cell_type": "code",
   "execution_count": 7,
   "metadata": {},
   "outputs": [],
   "source": [
    "from scipy.stats import poisson,expon,uniform\n",
    "import numpy as np"
   ]
  },
  {
   "cell_type": "code",
   "execution_count": 8,
   "metadata": {},
   "outputs": [],
   "source": [
    "#例33.2"
   ]
  },
  {
   "cell_type": "code",
   "execution_count": 9,
   "metadata": {},
   "outputs": [],
   "source": [
    "#生成服务对象达到时间\n",
    "def gen_reach_T(lamda,uniform_scale,gen_size,random_seed):\n",
    "    np.random.seed(random_seed)\n",
    "    generator=poisson(lamda)\n",
    "    nums=0\n",
    "    gen_nums=[]\n",
    "    while nums<gen_size:\n",
    "        num=generator.rvs(size=1)\n",
    "        gen_nums.append(num)\n",
    "        nums+=num\n",
    "    #修改最后一个元素，使列表gen_nums的各项和恰好为gen_size\n",
    "    gen_nums[-1]-=nums-gen_size\n",
    "    gen_nums=list(np.array(gen_nums).ravel())\n",
    "    reach_T=[]\n",
    "    for idx,num in enumerate(gen_nums):\n",
    "        if num>0:\n",
    "            T_s=uniform(idx,uniform_scale).rvs(size=num)\n",
    "            T_s.sort()\n",
    "            for t in T_s:\n",
    "                reach_T.append(t)\n",
    "    reach_T=list(np.round(np.array(reach_T).ravel(),2))\n",
    "    #将首个服务对象到达的时刻设为0\n",
    "    reach_T[0]=0\n",
    "    return reach_T"
   ]
  },
  {
   "cell_type": "code",
   "execution_count": 10,
   "metadata": {},
   "outputs": [
    {
     "output_type": "execute_result",
     "data": {
      "text/plain": [
       "[0, 0.47, 0.51, 0.71, 1.04, 1.06, 1.29, 1.83, 2.53, 2.67]"
      ]
     },
     "metadata": {},
     "execution_count": 10
    }
   ],
   "source": [
    "reach_T=gen_reach_T(2.1,1.0,1000,0)\n",
    "reach_T[:10]"
   ]
  },
  {
   "cell_type": "code",
   "execution_count": 11,
   "metadata": {},
   "outputs": [
    {
     "output_type": "execute_result",
     "data": {
      "text/plain": [
       "0.40155"
      ]
     },
     "metadata": {},
     "execution_count": 11
    }
   ],
   "source": [
    "#生成对每个服务对象的服务时长\n",
    "def gen_service_T(theta,gen_size,random_seed):\n",
    "    np.random.seed(random_seed)\n",
    "    generator=expon(0,theta)\n",
    "    return list(np.round(generator.rvs(size=gen_size),2))\n",
    "\n",
    "np.mean(gen_service_T(0.4,1000,0))"
   ]
  },
  {
   "cell_type": "code",
   "execution_count": 12,
   "metadata": {},
   "outputs": [],
   "source": [
    "#要使用pd.cut函数\n",
    "import pandas as pd"
   ]
  },
  {
   "cell_type": "code",
   "execution_count": 13,
   "metadata": {},
   "outputs": [],
   "source": [
    "#返回系统中的平均顾客数、队列中等待的平均顾客数及rou(平均达到率与平均服务率的比值)\n",
    "def gen_Lq_Ls_rou(reach_t,service_t):\n",
    "    start_service_t=[]\n",
    "    stop_service_t=[]\n",
    "    start_service_t.append(reach_t[0])\n",
    "    stop_service_t.append(service_t[0])\n",
    "    size=len(reach_t)\n",
    "    for i in range(1,size):\n",
    "        if reach_t[i]>=stop_service_t[i-1]:\n",
    "            start_service_t.append(reach_t[i])\n",
    "            stop_service_t.append(reach_t[i]+service_t[i])\n",
    "        else:\n",
    "            start_service_t.append(stop_service_t[i-1])\n",
    "            stop_service_t.append(stop_service_t[i-1]+service_t[i])\n",
    "    Lq,Ls,rou=[],[],[]\n",
    "    observe_t=np.linspace(0,stop_service_t[-1],size)\n",
    "    for i in range(size):\n",
    "        #pd.cut()函数将区间分为左开右闭的区间，因为reach_t[0]=0,所以这里要加上1\n",
    "        total_come_nums=pd.cut(reach_t,[0,observe_t[i]]).value_counts()[0]+1\n",
    "        total_leave_nums=pd.cut(stop_service_t,[0,observe_t[i]]).value_counts()[0]\n",
    "        sub=total_come_nums-total_leave_nums\n",
    "        if sub==0:\n",
    "            Lq.append(sub)\n",
    "            Ls.append(sub)\n",
    "        else:\n",
    "            Lq.append(sub-1)\n",
    "            Ls.append(sub)\n",
    "        rou.append(sum(service_t)/stop_service_t[-1])\n",
    "    return Lq,Ls,rou"
   ]
  },
  {
   "cell_type": "code",
   "execution_count": 14,
   "metadata": {},
   "outputs": [],
   "source": [
    "import sys\n",
    "#M_M_1函数输出随机模拟的各指标信息\n",
    "def M_M_1(lamda=2.1,uniform_scale=1.0,theta=0.4,gen_size=2000,\\\n",
    "         random_seed=np.random.randint(20,size=(100,2)),bCompute_Ls_Lq_rou=False):\n",
    "    \n",
    "    #如果需要输出这几个指标，仅输出20个随机模拟的结果\n",
    "    if bCompute_Ls_Lq_rou:random_seed=np.random.randint(20,size=(20,2))\n",
    "\n",
    "    result=[]\n",
    "    for [seed_1,seed_2] in random_seed:\n",
    "        info=[]\n",
    "        reach_T=gen_reach_T(lamda,uniform_scale,gen_size,seed_1)\n",
    "        service_T=gen_service_T(theta,gen_size,seed_2)\n",
    "        interval_T=[reach_T[i+1]-reach_T[i] for i in range(len(reach_T)-1)]\n",
    "        wait_T=[0]\n",
    "        for i in range(1,len(service_T)):\n",
    "            temp=wait_T[i-1]+service_T[i-1]-interval_T[i-1]\n",
    "            wait_T.append(temp if temp>=0 else 0)\n",
    "        info.append(wait_T)\n",
    "        stay_T=list(np.array(wait_T)+np.array(service_T))\n",
    "        info.append(stay_T)\n",
    "        if bCompute_Ls_Lq_rou:\n",
    "            lq,ls,rou=gen_Lq_Ls_rou(reach_T,service_T)\n",
    "            info.append(lq)\n",
    "            info.append(ls)\n",
    "            info.append(rou)\n",
    "            Wq,Ws,Lq,Ls,rou=np.mean(np.array(info),axis=1)\n",
    "            result.append([Wq,Ws,Lq,Ls,rou])\n",
    "            print('In test {}:\\tWq={:.3f}, Ws={:.3f}, Lq={:.3f}, Ls={:.3f}, rou={:.3f}'\\\n",
    "                .format(len(result),Wq,Ws,Lq,Ls,rou))\n",
    "            sys.stdout.flush()\n",
    "        else:\n",
    "            Wq,Ws=np.mean(np.array(info),axis=1)\n",
    "            result.append([Wq,Ws])\n",
    "            print('In test {}:\\tWq={:.3f}, Ws={:.3f}'.format(len(result),Wq,Ws))\n",
    "            sys.stdout.flush()\n",
    "    return np.mean(np.array(result),axis=0)"
   ]
  },
  {
   "cell_type": "code",
   "execution_count": 15,
   "metadata": {
    "tags": []
   },
   "outputs": [
    {
     "output_type": "stream",
     "name": "stdout",
     "text": [
      "In test 1:\tWq=2.332, Ws=2.739\n",
      "In test 2:\tWq=1.543, Ws=1.949\n",
      "In test 3:\tWq=1.640, Ws=2.043\n",
      "In test 4:\tWq=1.418, Ws=1.809\n",
      "In test 5:\tWq=1.542, Ws=1.946\n",
      "In test 6:\tWq=1.751, Ws=2.144\n",
      "In test 7:\tWq=2.366, Ws=2.777\n",
      "In test 8:\tWq=1.515, Ws=1.906\n",
      "In test 9:\tWq=4.984, Ws=5.387\n",
      "In test 10:\tWq=2.353, Ws=2.767\n",
      "In test 11:\tWq=2.433, Ws=2.822\n",
      "In test 12:\tWq=1.804, Ws=2.206\n",
      "In test 13:\tWq=1.800, Ws=2.205\n",
      "In test 14:\tWq=2.352, Ws=2.754\n",
      "In test 15:\tWq=1.694, Ws=2.086\n",
      "In test 16:\tWq=2.300, Ws=2.700\n",
      "In test 17:\tWq=1.381, Ws=1.784\n",
      "In test 18:\tWq=1.811, Ws=2.217\n",
      "In test 19:\tWq=2.001, Ws=2.403\n",
      "In test 20:\tWq=3.105, Ws=3.516\n",
      "In test 21:\tWq=1.741, Ws=2.145\n",
      "In test 22:\tWq=2.088, Ws=2.479\n",
      "In test 23:\tWq=2.513, Ws=2.919\n",
      "In test 24:\tWq=1.874, Ws=2.279\n",
      "In test 25:\tWq=1.612, Ws=2.005\n",
      "In test 26:\tWq=3.435, Ws=3.837\n",
      "In test 27:\tWq=1.389, Ws=1.780\n",
      "In test 28:\tWq=1.770, Ws=2.161\n",
      "In test 29:\tWq=2.371, Ws=2.763\n",
      "In test 30:\tWq=1.640, Ws=2.034\n",
      "In test 31:\tWq=2.626, Ws=3.029\n",
      "In test 32:\tWq=2.871, Ws=3.282\n",
      "In test 33:\tWq=1.934, Ws=2.347\n",
      "In test 34:\tWq=1.862, Ws=2.269\n",
      "In test 35:\tWq=2.275, Ws=2.676\n",
      "In test 36:\tWq=1.542, Ws=1.936\n",
      "In test 37:\tWq=1.821, Ws=2.214\n",
      "In test 38:\tWq=2.088, Ws=2.479\n",
      "In test 39:\tWq=2.117, Ws=2.520\n",
      "In test 40:\tWq=2.187, Ws=2.576\n",
      "In test 41:\tWq=1.733, Ws=2.128\n",
      "In test 42:\tWq=2.366, Ws=2.777\n",
      "In test 43:\tWq=2.195, Ws=2.590\n",
      "In test 44:\tWq=1.770, Ws=2.161\n",
      "In test 45:\tWq=1.956, Ws=2.363\n",
      "In test 46:\tWq=2.044, Ws=2.444\n",
      "In test 47:\tWq=2.871, Ws=3.282\n",
      "In test 48:\tWq=2.406, Ws=2.818\n",
      "In test 49:\tWq=2.351, Ws=2.751\n",
      "In test 50:\tWq=2.352, Ws=2.760\n",
      "In test 51:\tWq=2.025, Ws=2.428\n",
      "In test 52:\tWq=3.611, Ws=4.023\n",
      "In test 53:\tWq=1.542, Ws=1.946\n",
      "In test 54:\tWq=1.984, Ws=2.388\n",
      "In test 55:\tWq=2.345, Ws=2.759\n",
      "In test 56:\tWq=2.352, Ws=2.760\n",
      "In test 57:\tWq=2.432, Ws=2.843\n",
      "In test 58:\tWq=2.515, Ws=2.922\n",
      "In test 59:\tWq=1.931, Ws=2.324\n",
      "In test 60:\tWq=2.344, Ws=2.744\n",
      "In test 61:\tWq=1.947, Ws=2.350\n",
      "In test 62:\tWq=1.760, Ws=2.161\n",
      "In test 63:\tWq=3.671, Ws=4.085\n",
      "In test 64:\tWq=1.979, Ws=2.387\n",
      "In test 65:\tWq=2.537, Ws=2.948\n",
      "In test 66:\tWq=2.195, Ws=2.590\n",
      "In test 67:\tWq=2.207, Ws=2.599\n",
      "In test 68:\tWq=2.744, Ws=3.133\n",
      "In test 69:\tWq=1.436, Ws=1.828\n",
      "In test 70:\tWq=2.736, Ws=3.144\n",
      "In test 71:\tWq=1.804, Ws=2.206\n",
      "In test 72:\tWq=1.561, Ws=1.952\n",
      "In test 73:\tWq=3.309, Ws=3.721\n",
      "In test 74:\tWq=3.118, Ws=3.511\n",
      "In test 75:\tWq=1.882, Ws=2.274\n",
      "In test 76:\tWq=1.821, Ws=2.214\n",
      "In test 77:\tWq=2.541, Ws=2.955\n",
      "In test 78:\tWq=1.804, Ws=2.206\n",
      "In test 79:\tWq=2.626, Ws=3.029\n",
      "In test 80:\tWq=4.933, Ws=5.335\n",
      "In test 81:\tWq=1.760, Ws=2.160\n",
      "In test 82:\tWq=2.084, Ws=2.489\n",
      "In test 83:\tWq=2.160, Ws=2.562\n",
      "In test 84:\tWq=1.280, Ws=1.673\n",
      "In test 85:\tWq=1.609, Ws=2.017\n",
      "In test 86:\tWq=2.215, Ws=2.619\n",
      "In test 87:\tWq=1.612, Ws=2.005\n",
      "In test 88:\tWq=1.585, Ws=1.977\n",
      "In test 89:\tWq=3.219, Ws=3.624\n",
      "In test 90:\tWq=1.811, Ws=2.217\n",
      "In test 91:\tWq=1.735, Ws=2.145\n",
      "In test 92:\tWq=2.044, Ws=2.438\n",
      "In test 93:\tWq=2.516, Ws=2.919\n",
      "In test 94:\tWq=1.428, Ws=1.819\n",
      "In test 95:\tWq=1.769, Ws=2.169\n",
      "In test 96:\tWq=2.108, Ws=2.500\n",
      "In test 97:\tWq=3.020, Ws=3.423\n",
      "In test 98:\tWq=1.776, Ws=2.169\n",
      "In test 99:\tWq=1.832, Ws=2.236\n",
      "In test 100:\tWq=1.447, Ws=1.838\n"
     ]
    },
    {
     "output_type": "execute_result",
     "data": {
      "text/plain": [
       "array([2.1663584, 2.5673604])"
      ]
     },
     "metadata": {},
     "execution_count": 15
    }
   ],
   "source": [
    "M_M_1()"
   ]
  },
  {
   "cell_type": "code",
   "execution_count": 16,
   "metadata": {
    "tags": []
   },
   "outputs": [
    {
     "output_type": "stream",
     "name": "stdout",
     "text": [
      "In test 1:\tWq=1.604, Ws=2.011, Lq=3.307, Ls=4.153, rou=0.841\n",
      "In test 2:\tWq=1.523, Ws=1.922, Lq=3.142, Ls=3.965, rou=0.823\n",
      "In test 3:\tWq=2.357, Ws=2.768, Lq=4.991, Ls=5.864, rou=0.872\n",
      "In test 4:\tWq=3.025, Ws=3.420, Lq=6.406, Ls=7.240, rou=0.834\n",
      "In test 5:\tWq=1.854, Ws=2.259, Lq=3.838, Ls=4.686, rou=0.842\n",
      "In test 6:\tWq=1.784, Ws=2.177, Lq=3.747, Ls=4.575, rou=0.823\n",
      "In test 7:\tWq=1.891, Ws=2.292, Lq=3.977, Ls=4.822, rou=0.846\n",
      "In test 8:\tWq=2.601, Ws=3.002, Lq=5.481, Ls=6.329, rou=0.845\n",
      "In test 9:\tWq=3.002, Ws=3.414, Lq=6.181, Ls=7.027, rou=0.847\n",
      "In test 10:\tWq=3.233, Ws=3.634, Lq=6.783, Ls=7.625, rou=0.841\n",
      "In test 11:\tWq=1.697, Ws=2.090, Lq=4.412, Ls=5.412, rou=0.828\n",
      "In test 12:\tWq=2.537, Ws=2.948, Lq=5.228, Ls=6.074, rou=0.845\n",
      "In test 13:\tWq=1.760, Ws=2.154, Lq=3.648, Ls=4.470, rou=0.822\n",
      "In test 14:\tWq=2.584, Ws=2.979, Lq=5.610, Ls=6.468, rou=0.857\n",
      "In test 15:\tWq=3.142, Ws=3.554, Lq=6.598, Ls=7.462, rou=0.863\n",
      "In test 16:\tWq=1.697, Ws=2.090, Lq=4.412, Ls=5.412, rou=0.828\n",
      "In test 17:\tWq=1.424, Ws=1.816, Lq=3.789, Ls=4.789, rou=0.819\n",
      "In test 18:\tWq=1.642, Ws=2.048, Lq=3.410, Ls=4.258, rou=0.841\n",
      "In test 19:\tWq=1.752, Ws=2.145, Lq=3.604, Ls=4.408, rou=0.807\n",
      "In test 20:\tWq=2.108, Ws=2.500, Lq=4.450, Ls=5.279, rou=0.827\n"
     ]
    },
    {
     "output_type": "execute_result",
     "data": {
      "text/plain": [
       "array([2.16085325, 2.5610255 , 4.65075   , 5.51585   , 0.83757077])"
      ]
     },
     "metadata": {},
     "execution_count": 16
    }
   ],
   "source": [
    "M_M_1(bCompute_Ls_Lq_rou=True)"
   ]
  },
  {
   "cell_type": "code",
   "execution_count": 17,
   "metadata": {},
   "outputs": [],
   "source": [
    "#例33.3"
   ]
  },
  {
   "cell_type": "code",
   "execution_count": 18,
   "metadata": {},
   "outputs": [
    {
     "output_type": "execute_result",
     "data": {
      "text/plain": [
       "0.9216759999999999"
      ]
     },
     "metadata": {},
     "execution_count": 18
    }
   ],
   "source": [
    "result=[]\n",
    "test_days,test_times=2000,1000\n",
    "for _ in range(test_times):\n",
    "    reached_num=np.random.choice([0,1,2,3,4,5],size=test_days,\\\n",
    "        p=[0.23,0.3,0.3,0.1,0.05,0.02])\n",
    "    can_unload=[2]*(test_days)\n",
    "    delay_unload=[reached_num[0]-can_unload[0] \\\n",
    "        if reached_num[0]-can_unload[0]>0 else 0]\n",
    "    for i in range(1,test_times):\n",
    "        delay_=delay_unload[-1]+reached_num[i]-can_unload[i]\n",
    "        delay_unload.append(delay_ if delay_>0 else 0)\n",
    "    result.append(np.mean(delay_unload))\n",
    "np.mean(result)"
   ]
  },
  {
   "cell_type": "code",
   "execution_count": null,
   "metadata": {},
   "outputs": [],
   "source": []
  }
 ],
 "metadata": {
  "language_info": {
   "codemirror_mode": {
    "name": "ipython",
    "version": 3
   },
   "file_extension": ".py",
   "mimetype": "text/x-python",
   "name": "python",
   "nbconvert_exporter": "python",
   "pygments_lexer": "ipython3",
   "version": "3.6.1-final"
  },
  "orig_nbformat": 2,
  "kernelspec": {
   "name": "python3",
   "display_name": "Python 3.6.1 64-bit",
   "metadata": {
    "interpreter": {
     "hash": "4ce0e62306dd6a5716965d4519ada776f947e6dfc145b604b11307c10277ef29"
    }
   }
  }
 },
 "nbformat": 4,
 "nbformat_minor": 2
}