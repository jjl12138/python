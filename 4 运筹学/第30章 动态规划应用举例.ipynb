{
 "cells": [
  {
   "cell_type": "code",
   "execution_count": 1,
   "metadata": {},
   "outputs": [],
   "source": [
    "#例30.1"
   ]
  },
  {
   "cell_type": "code",
   "execution_count": 2,
   "metadata": {},
   "outputs": [
    {
     "output_type": "execute_result",
     "data": {
      "text/plain": [
       "21"
      ]
     },
     "metadata": {},
     "execution_count": 2
    }
   ],
   "source": [
    "#资源分配问题\n",
    "import numpy as np\n",
    "#赢利矩阵\n",
    "profit=[[0,0,0],[3,5,4],[7,10,6],[9,11,11],[12,11,12],[13,11,12]]\n",
    "#工厂编号\n",
    "factory=[0,1,2]\n",
    "#递归函数\n",
    "def maxProfit(idx_factory,devices_num):\n",
    "    #递归函数的退出条件\n",
    "    if idx_factory>2 or devices_num<=0:\n",
    "        return 0\n",
    "    b=[]\n",
    "    project=[]\n",
    "    for i in range(devices_num+1):\n",
    "        #调用自身(maxProfit())\n",
    "        b.append(profit[i][idx_factory]+maxProfit(idx_factory+1,devices_num-i))\n",
    "    return np.max(np.array(b))\n",
    "maxProfit(0,5)"
   ]
  },
  {
   "cell_type": "code",
   "execution_count": 3,
   "metadata": {},
   "outputs": [
    {
     "output_type": "execute_result",
     "data": {
      "text/plain": [
       "[0, 2, 3]"
      ]
     },
     "metadata": {},
     "execution_count": 3
    }
   ],
   "source": [
    "#分配方案\n",
    "project=[]\n",
    "leave_num=5\n",
    "for i in range(3):\n",
    "    for row in range(6):\n",
    "        if maxProfit(i,leave_num)-maxProfit(i+1,leave_num-row)==profit[row][i]:\n",
    "            project.append(row)\n",
    "            leave_num=leave_num-row\n",
    "            break\n",
    "project"
   ]
  },
  {
   "cell_type": "code",
   "execution_count": 4,
   "metadata": {},
   "outputs": [
    {
     "output_type": "stream",
     "name": "stdout",
     "text": [
      "maxProfit is 72.0.\nRun time is 11s.\n"
     ]
    }
   ],
   "source": [
    "#增补资源分配问题：调整参数，观察执行递归函数对计算资源的占用\n",
    "from datetime import datetime\n",
    "def maxProfit(idx_factory,devices_num):\n",
    "    if idx_factory>9 or devices_num<=0:\n",
    "        return 0\n",
    "    b=[]\n",
    "    project=[]\n",
    "    for i in range(devices_num+1):\n",
    "        b.append(profit[i][idx_factory]+maxProfit(idx_factory+1,devices_num-i))\n",
    "    return np.max(np.array(b))\n",
    "profit=np.zeros((16,20))\n",
    "np.random.seed(0)\n",
    "for row in range(1,16):\n",
    "    for col in range(10):\n",
    "        profit[row,col]=4*row+np.random.randint(3)*2-2\n",
    "start=datetime.now()\n",
    "print('maxProfit is {}.'.format(maxProfit(0,15)))\n",
    "print('Run time is {}s.'.format((datetime.now()-start).seconds))"
   ]
  },
  {
   "cell_type": "code",
   "execution_count": 5,
   "metadata": {},
   "outputs": [
    {
     "output_type": "execute_result",
     "data": {
      "text/plain": [
       "array([[ 0.,  0.,  0.,  0.,  0.,  0.,  0.,  0.,  0.,  0.,  0.,  0.,  0.,\n",
       "         0.,  0.,  0.,  0.,  0.,  0.,  0.],\n",
       "       [ 2.,  4.,  2.,  4.,  4.,  6.,  2.,  6.,  2.,  2.,  0.,  0.,  0.,\n",
       "         0.,  0.,  0.,  0.,  0.,  0.,  0.],\n",
       "       [ 6., 10.,  8., 10., 10.,  6.,  8.,  8.,  8.,  8.,  0.,  0.,  0.,\n",
       "         0.,  0.,  0.,  0.,  0.,  0.,  0.],\n",
       "       [10., 12., 10., 10., 12., 14., 10., 14., 10., 12.,  0.,  0.,  0.,\n",
       "         0.,  0.,  0.,  0.,  0.,  0.,  0.],\n",
       "       [16., 18., 14., 16., 16., 16., 14., 18., 14., 18.,  0.,  0.,  0.,\n",
       "         0.,  0.,  0.,  0.,  0.,  0.,  0.],\n",
       "       [22., 18., 22., 18., 18., 18., 20., 20., 22., 18.,  0.,  0.,  0.,\n",
       "         0.,  0.,  0.,  0.,  0.,  0.,  0.],\n",
       "       [22., 24., 22., 24., 26., 26., 22., 24., 24., 24.,  0.,  0.,  0.,\n",
       "         0.,  0.,  0.,  0.,  0.,  0.,  0.],\n",
       "       [28., 30., 30., 30., 26., 30., 28., 26., 28., 30.,  0.,  0.,  0.,\n",
       "         0.,  0.,  0.,  0.,  0.,  0.,  0.],\n",
       "       [30., 30., 34., 30., 30., 30., 30., 30., 30., 34.,  0.,  0.,  0.,\n",
       "         0.,  0.,  0.,  0.,  0.,  0.,  0.],\n",
       "       [34., 38., 36., 36., 36., 34., 36., 36., 36., 34.,  0.,  0.,  0.,\n",
       "         0.,  0.,  0.,  0.,  0.,  0.,  0.],\n",
       "       [40., 42., 38., 40., 42., 38., 42., 38., 40., 42.,  0.,  0.,  0.,\n",
       "         0.,  0.,  0.,  0.,  0.,  0.,  0.],\n",
       "       [46., 44., 42., 44., 44., 42., 46., 46., 46., 46.,  0.,  0.,  0.,\n",
       "         0.,  0.,  0.,  0.,  0.,  0.,  0.],\n",
       "       [48., 50., 50., 50., 50., 50., 46., 48., 50., 50.,  0.,  0.,  0.,\n",
       "         0.,  0.,  0.,  0.,  0.,  0.,  0.],\n",
       "       [52., 54., 52., 50., 54., 54., 50., 54., 50., 50.,  0.,  0.,  0.,\n",
       "         0.,  0.,  0.,  0.,  0.,  0.,  0.],\n",
       "       [58., 54., 58., 58., 58., 54., 54., 54., 56., 58.,  0.,  0.,  0.,\n",
       "         0.,  0.,  0.,  0.,  0.,  0.,  0.],\n",
       "       [58., 60., 62., 62., 62., 60., 58., 58., 58., 58.,  0.,  0.,  0.,\n",
       "         0.,  0.,  0.,  0.,  0.,  0.,  0.]])"
      ]
     },
     "metadata": {},
     "execution_count": 5
    }
   ],
   "source": [
    "profit"
   ]
  },
  {
   "cell_type": "code",
   "execution_count": 6,
   "metadata": {},
   "outputs": [
    {
     "output_type": "execute_result",
     "data": {
      "text/plain": [
       "[0, 0, 0, 2, 2, 1, 0, 1, 5, 4]"
      ]
     },
     "metadata": {},
     "execution_count": 6
    }
   ],
   "source": [
    "#分配方案\n",
    "project=[]\n",
    "leave_num=15\n",
    "for i in range(10):\n",
    "    for row in range(16):\n",
    "        if maxProfit(i,leave_num)-maxProfit(i+1,leave_num-row)\\\n",
    "            ==profit[row][i]:\n",
    "            project.append(row)\n",
    "            leave_num=leave_num-row\n",
    "            break\n",
    "project"
   ]
  },
  {
   "cell_type": "code",
   "execution_count": 7,
   "metadata": {},
   "outputs": [],
   "source": [
    "#例30.2"
   ]
  },
  {
   "cell_type": "code",
   "execution_count": 8,
   "metadata": {},
   "outputs": [
    {
     "output_type": "execute_result",
     "data": {
      "text/plain": [
       "23660"
      ]
     },
     "metadata": {},
     "execution_count": 8
    }
   ],
   "source": [
    "#机器负荷问题的递归解法\n",
    "from math import floor\n",
    "def maxProduct(usable_machines,idx_year):\n",
    "    if idx_year>4 or usable_machines<=0:return 0\n",
    "    b=[]\n",
    "    for high_nums in range(0,usable_machines+1,50):\n",
    "        low_num=usable_machines-high_nums\n",
    "        b.append(8*high_nums+low_num*5+maxProduct(usable_machines-floor(0.3*high_nums)-floor(0.1*low_num),idx_year+1))\n",
    "    return np.max(np.array(b))\n",
    "maxProduct(1000,0)"
   ]
  },
  {
   "cell_type": "code",
   "execution_count": 9,
   "metadata": {},
   "outputs": [
    {
     "output_type": "execute_result",
     "data": {
      "text/plain": [
       "(23691.0, array([[   0., 1000.],\n",
       "        [   0.,  900.],\n",
       "        [ 810.,    0.],\n",
       "        [ 567.,    0.],\n",
       "        [ 397.,    0.]]))"
      ]
     },
     "metadata": {},
     "execution_count": 9
    }
   ],
   "source": [
    "#机器负荷问题的线性规划解法\n",
    "from scipy.optimize import linprog\n",
    "c=[8,5,8,5,8,5,8,5,8,5]\n",
    "c=-np.array(c)\n",
    "Aeq=[\n",
    "    [1,1,0,0,0,0,0,0,0,0],\n",
    "    [0.7,0.9,-1,-1,0,0,0,0,0,0],\n",
    "    [0,0,0.7,0.9,-1,-1,0,0,0,0],\n",
    "    [0,0,0,0,0.7,0.9,-1,-1,0,0],\n",
    "    [0,0,0,0,0,0,0.7,0.9,-1,-1]\n",
    "    ]\n",
    "beq=[1000,0,0,0,0]\n",
    "result=linprog(c,A_eq=Aeq,b_eq=beq)\n",
    "np.round(-result.fun,0),np.round(result.x.reshape(5,2),0)"
   ]
  },
  {
   "cell_type": "code",
   "execution_count": 10,
   "metadata": {},
   "outputs": [],
   "source": [
    "#例30.3"
   ]
  },
  {
   "cell_type": "code",
   "execution_count": 11,
   "metadata": {},
   "outputs": [
    {
     "output_type": "execute_result",
     "data": {
      "text/plain": [
       "(21818.0, array([[   0., 1000.],\n",
       "        [   0.,  900.],\n",
       "        [   0.,  810.],\n",
       "        [   0.,  729.],\n",
       "        [ 447.,  209.]]))"
      ]
     },
     "metadata": {},
     "execution_count": 11
    }
   ],
   "source": [
    "#五年结束时完好机器量不少于500的解法\n",
    "c=[8,5,8,5,8,5,8,5,8,5]\n",
    "c=-np.array(c)\n",
    "Aeq=[\n",
    "    [1,1,0,0,0,0,0,0,0,0],\n",
    "    [0.7,0.9,-1,-1,0,0,0,0,0,0],\n",
    "    [0,0,0.7,0.9,-1,-1,0,0,0,0],\n",
    "    [0,0,0,0,0.7,0.9,-1,-1,0,0],\n",
    "    [0,0,0,0,0,0,0.7,0.9,-1,-1],\n",
    "    [0.3,0.1]*5\n",
    "    ]\n",
    "beq=[1000,0,0,0,0,499]\n",
    "result=linprog(c,A_eq=Aeq,b_eq=beq)\n",
    "np.round(-result.fun,0),np.round(result.x.reshape(5,2),0)"
   ]
  },
  {
   "cell_type": "code",
   "execution_count": 12,
   "metadata": {},
   "outputs": [],
   "source": [
    "#例30.4"
   ]
  },
  {
   "cell_type": "code",
   "execution_count": 13,
   "metadata": {},
   "outputs": [
    {
     "output_type": "execute_result",
     "data": {
      "text/plain": [
       "20.5"
      ]
     },
     "metadata": {},
     "execution_count": 13
    }
   ],
   "source": [
    "#生产计划问题一的递归解法\n",
    "def c(x):return 0 if x<=0 else 3+x\n",
    "def h(x):return 0 if x<=0 else 0.5*x\n",
    "max_product=6\n",
    "need=[2,3,2,4]\n",
    "#递归函数\n",
    "def minCost(idx_period,now_storage):\n",
    "    if idx_period>3:return 0\n",
    "    min_product=0 if now_storage>=need[idx_period] else need[idx_period]-now_storage\n",
    "    b=[]\n",
    "    for i in range(min_product,max_product+1):\n",
    "        now_storage=i-need[idx_period]\n",
    "        cost=c(i)+h(now_storage)+minCost(idx_period+1,now_storage)\n",
    "        b.append(cost)\n",
    "    return np.min(np.array(b))\n",
    "minCost(0,0)"
   ]
  },
  {
   "cell_type": "code",
   "execution_count": 14,
   "metadata": {},
   "outputs": [
    {
     "output_type": "stream",
     "name": "stdout",
     "text": [
      "5 0 6 0\n"
     ]
    }
   ],
   "source": [
    "#生产计划问题一的解决方案\n",
    "for x1 in range(7):\n",
    "    for x2 in range(7):\n",
    "        for x3 in range(7):\n",
    "            for x4 in range(7):\n",
    "                if c(x1)+c(x2)+c(x3)+c(x4)+h(x1-2)+h(x1+x2-5)+h(x1+x2+x3-7)==20.5 and x1+x2+x3+x4==11 and x1>=2 and x1+x2>=5 and x1+x2+x3>=7:\n",
    "                    print(x1,x2,x3,x4)\n",
    "                    break"
   ]
  },
  {
   "cell_type": "code",
   "execution_count": 15,
   "metadata": {},
   "outputs": [
    {
     "output_type": "stream",
     "name": "stdout",
     "text": [
      "2 3 2 4 Cost is: 23\n",
      "2 3 6 0 Cost is: 22.0\n",
      "2 5 0 4 Cost is: 21.0\n",
      "5 0 6 0 Cost is: 20.5\n"
     ]
    }
   ],
   "source": [
    "#生产计划问题一的随机模拟解决方法\n",
    "import sys\n",
    "minCost=100\n",
    "for x1 in range(7):\n",
    "    if x1<2:continue\n",
    "    for x2 in range(7):\n",
    "        if x1+x2<2+3:continue\n",
    "        for x3 in range(7):\n",
    "            if x1+x2+x3<2+3+2:continue\n",
    "            for x4 in range(7):\n",
    "                if x1+x2+x3+x4!=2+3+2+4:continue\n",
    "                cost=c(x1)+c(x2)+c(x3)+c(x4)+h(x1-2)+h(x1+x2-5)+h(x1+x2+x3-7)\n",
    "                if cost<minCost:\n",
    "                    print(x1,x2,x3,x4,'Cost is:',cost)\n",
    "                    sys.stdout.flush()\n",
    "                    minCost=cost"
   ]
  },
  {
   "cell_type": "code",
   "execution_count": 16,
   "metadata": {},
   "outputs": [],
   "source": [
    "#例30.5"
   ]
  },
  {
   "cell_type": "code",
   "execution_count": 17,
   "metadata": {},
   "outputs": [
    {
     "output_type": "stream",
     "name": "stdout",
     "text": [
      "357.0\n[7.0, 4.0, 9.0, 3.0, 0.0, 4.0]\n"
     ]
    }
   ],
   "source": [
    "#生产计划问题二的线性规划解决方法\n",
    "import pulp\n",
    "c=[11,18,13,17,20,10]\n",
    "x=[pulp.LpVariable(f'x{i}',lowBound=0,cat='Integer') for i in range(6)]\n",
    "m=pulp.LpProblem()\n",
    "m+=pulp.lpDot(c,x)\n",
    "A=[\n",
    "    [1,0,0,0,0,0],\n",
    "    [1,1,0,0,0,0],\n",
    "    [1,1,1,0,0,0],\n",
    "    [1,1,1,1,0,0],\n",
    "    [1,1,1,1,1,0],\n",
    "    [1,1,1,1,1,1]\n",
    "  ]\n",
    "#库存限制\n",
    "b=[7,15,20,23,25,32]\n",
    "#生产限制\n",
    "d=[6,11,14,16,23,27]\n",
    "for i in range(6):\n",
    "    m+=(pulp.lpDot(A[i],x)<=b[i])    \n",
    "    m+=(pulp.lpDot(A[i],x)>=d[i])\n",
    "m.solve()\n",
    "print(pulp.value(m.objective))\n",
    "print([pulp.value(var) for var in x])"
   ]
  },
  {
   "cell_type": "code",
   "execution_count": 18,
   "metadata": {},
   "outputs": [],
   "source": [
    "#例30.6"
   ]
  },
  {
   "cell_type": "code",
   "execution_count": 19,
   "metadata": {},
   "outputs": [
    {
     "output_type": "stream",
     "name": "stdout",
     "text": [
      "3 0 0 maxf=12\n2 1 0 maxf=13\n"
     ]
    }
   ],
   "source": [
    "#背包问题的随机模拟解决方法\n",
    "maxf=0\n",
    "for x1 in (3,2,1,0):\n",
    "    for x2 in (2,1,0):\n",
    "        for x3 in (2,1,0):\n",
    "            if 3*x1+4*x2+5*x3>10:\n",
    "                continue\n",
    "            f=4*x1+5*x2+6*x3\n",
    "            if f>maxf:\n",
    "                maxf=f\n",
    "                print(x1,x2,x3,'maxf={}'.format(maxf))"
   ]
  },
  {
   "cell_type": "code",
   "execution_count": 20,
   "metadata": {},
   "outputs": [
    {
     "output_type": "stream",
     "name": "stdout",
     "text": [
      "13.0\n[2.0, 1.0, 0.0]\n"
     ]
    }
   ],
   "source": [
    "#背包问题的线性规划解决方法\n",
    "c=[4,5,6]\n",
    "x=[pulp.LpVariable(f'x{i}',lowBound=0,cat='Integer') for i in range(3)]\n",
    "w=[3,4,5]\n",
    "a=10\n",
    "m=pulp.LpProblem(sense=pulp.LpMaximize)\n",
    "m+=pulp.lpDot(c,x)\n",
    "m+=(pulp.lpDot(w,x)==a)\n",
    "m.solve()\n",
    "print(pulp.value(m.objective))\n",
    "print([pulp.value(var) for var in x])"
   ]
  },
  {
   "cell_type": "code",
   "execution_count": 21,
   "metadata": {},
   "outputs": [],
   "source": [
    "#例30.7"
   ]
  },
  {
   "cell_type": "code",
   "execution_count": 22,
   "metadata": {},
   "outputs": [
    {
     "output_type": "stream",
     "name": "stdout",
     "text": [
      "2 1 1 reliable is 0.396\n1 3 1 reliable is 0.4464\n1 2 2 reliable is 0.648\n"
     ]
    }
   ],
   "source": [
    "#复合系统工作可靠性问题的随机模拟解决方法\n",
    "maxReli=0.9*0.8*0.5\n",
    "for d1 in (2,1):\n",
    "    for d2 in (3,2,1):\n",
    "        for d3 in (3,2,1):\n",
    "            if 30*d1+15*d2+20*d3>105:\n",
    "                continue\n",
    "            Reli=(1-0.1**d1)*(1-0.2**d2)*(1-0.5**d3)\n",
    "            if Reli>maxReli:\n",
    "                maxReli=Reli\n",
    "                print(d1,d2,d3,'reliable is {}'.format(maxReli))"
   ]
  },
  {
   "cell_type": "code",
   "execution_count": 23,
   "metadata": {},
   "outputs": [
    {
     "output_type": "execute_result",
     "data": {
      "text/plain": [
       "0.648"
      ]
     },
     "metadata": {},
     "execution_count": 23
    }
   ],
   "source": [
    "#复合系统工作可靠性问题的递归函数解决方法\n",
    "minUse=[1,1,1]\n",
    "maxUse=[2,3,3]\n",
    "reliable=[0.9,0.8,0.5]\n",
    "price=[30,15,20]\n",
    "def maxReliable(idx_D,leaveMoney):\n",
    "    if leaveMoney<0:return 0\n",
    "    if idx_D>2:return 1\n",
    "    b=[]\n",
    "    for i in range(minUse[idx_D],maxUse[idx_D]+1,1):\n",
    "        b.append((1-(1-reliable[idx_D])**i)*maxReliable(idx_D+1,leaveMoney-i*price[idx_D]))\n",
    "    return np.max(np.array(b))\n",
    "maxReliable(0,105)"
   ]
  },
  {
   "cell_type": "code",
   "execution_count": 24,
   "metadata": {},
   "outputs": [
    {
     "output_type": "stream",
     "name": "stdout",
     "text": [
      "1,2,2\n"
     ]
    }
   ],
   "source": [
    "#解决方案\n",
    "x=[[1-0.1,1-0.1**2,0],[1-0.2,1-0.2**2,1-0.2**3],[1-0.5,1-0.5**2,1-0.5**3]]\n",
    "for i in range(3):\n",
    "    for j in range(3):\n",
    "        for k in range(3):\n",
    "            if x[0][i]*x[1][j]*x[2][k]==0.648:\n",
    "                print('{},{},{}'.format(i+1,j+1,k+1))\n",
    "                break"
   ]
  },
  {
   "cell_type": "code",
   "execution_count": 25,
   "metadata": {},
   "outputs": [],
   "source": [
    "#例30.8"
   ]
  },
  {
   "cell_type": "code",
   "execution_count": 26,
   "metadata": {
    "tags": []
   },
   "outputs": [
    {
     "output_type": "execute_result",
     "data": {
      "text/plain": [
       "defaultdict(set,\n",
       "            {30: {(3, 1, 2, 4, 5)},\n",
       "             29: {(3, 2, 1, 5, 4)},\n",
       "             28: {(1, 5, 3, 4, 2),\n",
       "              (1, 5, 4, 3, 2),\n",
       "              (3, 1, 4, 5, 2),\n",
       "              (3, 1, 5, 4, 2),\n",
       "              (3, 4, 1, 5, 2),\n",
       "              (3, 4, 5, 1, 2),\n",
       "              (3, 5, 1, 4, 2),\n",
       "              (3, 5, 4, 1, 2),\n",
       "              (4, 3, 5, 1, 2)}})"
      ]
     },
     "metadata": {},
     "execution_count": 26
    }
   ],
   "source": [
    "#加工工件在机床上的排序问题\n",
    "from collections import defaultdict\n",
    "a=np.array([[3,6],[7,2],[4,7],[5,3],[7,4]])\n",
    "a_copy=a.copy()\n",
    "def toOrder(a):\n",
    "    temp=[]\n",
    "    for i in range(len(a)):\n",
    "        for j in range(len(a_copy)):\n",
    "            if all(a[i]==a_copy[j]):\n",
    "                temp.append(j+1)\n",
    "                break\n",
    "    #字典的值不能为列表\n",
    "    return tuple(temp)\n",
    "minTime=1000\n",
    "myDict=defaultdict(set)\n",
    "np.random.seed(0)\n",
    "for _ in range(100):\n",
    "    np.random.shuffle(a)\n",
    "    t1_end=[]\n",
    "    for i in range(len(a)):\n",
    "        t1_end.append(sum(a[:i+1,0]))\n",
    "    t2_start=[t1_end[0]]*len(a)\n",
    "    for i in range(1,len(a)):\n",
    "        t2_start[i]+=sum(a[:i,1])\n",
    "    for i in range(1,len(a)):\n",
    "        if t2_start[i]<t1_end[i]:\n",
    "            subT=t1_end[i]-t2_start[i]\n",
    "            for j in range(i,len(a)):\n",
    "                t2_start[j]+=subT\n",
    "    useTime=a[-1,-1]+t2_start[-1]\n",
    "    if useTime<=minTime:\n",
    "        myDict[useTime].add(toOrder(a))\n",
    "    minTime=min(minTime,useTime)\n",
    "myDict"
   ]
  },
  {
   "cell_type": "code",
   "execution_count": 27,
   "metadata": {},
   "outputs": [],
   "source": [
    "#例30.9"
   ]
  },
  {
   "cell_type": "code",
   "execution_count": 28,
   "metadata": {},
   "outputs": [
    {
     "output_type": "stream",
     "name": "stdout",
     "text": [
      "minDistance is 30\nThe order is 1->2->3->4->1\n\nminDistance is 23\nThe order is 1->3->4->2->1\n\n"
     ]
    }
   ],
   "source": [
    "#货郎担问题的随机模拟解决方法\n",
    "D=[[0,8,5,6],[6,0,8,5],[7,9,0,5],[9,7,8,0]]\n",
    "minDistance=10000\n",
    "for _ in range(1000):\n",
    "    order=np.array([0,1,2,3,0])\n",
    "    #将列表order的第二至倒数第二个元素的次序随机打乱\n",
    "    np.random.shuffle(order[1:-1])\n",
    "    distance=0\n",
    "    for i in range(len(order)-1):\n",
    "        distance+=D[order[i]][order[i+1]]\n",
    "    if distance<minDistance:\n",
    "        print('minDistance is {}\\nThe order is {}->{}->{}->{}->{}\\n'\n",
    "            .format(distance,order[0]+1,order[1]+1,order[2]+1,order[3]+1,order[4]+1))\n",
    "    minDistance=min(distance,minDistance)"
   ]
  },
  {
   "cell_type": "code",
   "execution_count": null,
   "metadata": {},
   "outputs": [],
   "source": []
  }
 ],
 "metadata": {
  "language_info": {
   "codemirror_mode": {
    "name": "ipython",
    "version": 3
   },
   "file_extension": ".py",
   "mimetype": "text/x-python",
   "name": "python",
   "nbconvert_exporter": "python",
   "pygments_lexer": "ipython3",
   "version": "3.6.1-final"
  },
  "orig_nbformat": 2,
  "kernelspec": {
   "name": "python3",
   "display_name": "Python 3.6.1 64-bit",
   "metadata": {
    "interpreter": {
     "hash": "4ce0e62306dd6a5716965d4519ada776f947e6dfc145b604b11307c10277ef29"
    }
   }
  }
 },
 "nbformat": 4,
 "nbformat_minor": 2
}