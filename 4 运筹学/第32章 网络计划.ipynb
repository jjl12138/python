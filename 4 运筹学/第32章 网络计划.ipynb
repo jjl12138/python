{
 "cells": [
  {
   "cell_type": "code",
   "execution_count": 1,
   "metadata": {},
   "outputs": [],
   "source": [
    "#例32.1"
   ]
  },
  {
   "cell_type": "code",
   "execution_count": 2,
   "metadata": {},
   "outputs": [],
   "source": [
    "class Work():\n",
    "   def __init__(self):\n",
    "       #类Work的属性\n",
    "       self.idx=-1\n",
    "       self.name=''\n",
    "       self.describe=''\n",
    "       #紧前工作\n",
    "       self.ahead_work_idxes=[]\n",
    "       #紧后工作\n",
    "       self.back_work_idxes=[]\n",
    "       #左节点索引\n",
    "       self.from_node_idx=-1\n",
    "       #右节点索引\n",
    "       self.to_node_idx=-1\n",
    "       self.D=0\n",
    "       self.ES=0\n",
    "       self.EF=0\n",
    "       self.LS=0\n",
    "       self.LF=0\n",
    "       self.TF=0\n",
    "       self.FF=0\n",
    "       self.isOnKeypath=False"
   ]
  },
  {
   "cell_type": "code",
   "execution_count": 3,
   "metadata": {},
   "outputs": [],
   "source": [
    "workes=[]\n",
    "w=Work()\n",
    "w.idx=1\n",
    "w.name='A'\n",
    "w.describe='产品设计和工艺设计'\n",
    "w.back_work_idxes=[2,3,4,5]\n",
    "w.D=60\n",
    "workes.append(w)\n",
    "\n",
    "w=Work()\n",
    "w.idx=2\n",
    "w.name='B'\n",
    "w.describe='外购配套件'\n",
    "w.ahead_work_idxes=[1]\n",
    "w.back_work_idxes=[10]\n",
    "w.D=45\n",
    "workes.append(w)\n",
    "\n",
    "w=Work()\n",
    "w.idx=3\n",
    "w.name='C'\n",
    "w.describe='锻件准备'\n",
    "w.ahead_work_idxes=[1]\n",
    "w.back_work_idxes=[6]\n",
    "w.D=10\n",
    "workes.append(w)\n",
    "\n",
    "w=Work()\n",
    "w.idx=4\n",
    "w.name='D'\n",
    "w.describe='工装制造1'\n",
    "w.ahead_work_idxes=[1]\n",
    "w.back_work_idxes=[7,8]\n",
    "w.D=20\n",
    "workes.append(w)\n",
    "\n",
    "w=Work()\n",
    "w.idx=5\n",
    "w.name='E'\n",
    "w.describe='铸件'\n",
    "w.ahead_work_idxes=[1]\n",
    "w.back_work_idxes=[8]\n",
    "w.D=40\n",
    "workes.append(w)\n",
    "\n",
    "w=Work()\n",
    "w.idx=6\n",
    "w.name='F'\n",
    "w.describe='机械加工1'\n",
    "w.ahead_work_idxes=[3]\n",
    "w.back_work_idxes=[10]\n",
    "w.D=18\n",
    "workes.append(w)\n",
    "\n",
    "w=Work()\n",
    "w.idx=7\n",
    "w.name='G'\n",
    "w.describe='工装制造2'\n",
    "w.ahead_work_idxes=[4]\n",
    "w.back_work_idxes=[9]\n",
    "w.D=30\n",
    "workes.append(w)\n",
    "\n",
    "w=Work()\n",
    "w.idx=8\n",
    "w.name='H'\n",
    "w.describe='机械加工2'\n",
    "w.ahead_work_idxes=[4,5]\n",
    "w.back_work_idxes=[10]\n",
    "w.D=15\n",
    "workes.append(w)\n",
    "\n",
    "w=Work()\n",
    "w.idx=9\n",
    "w.name='K'\n",
    "w.describe='机械加工3'\n",
    "w.ahead_work_idxes=[7]\n",
    "w.back_work_idxes=[10]\n",
    "w.D=25\n",
    "workes.append(w)\n",
    "\n",
    "w=Work()\n",
    "w.idx=10\n",
    "w.name='L'\n",
    "w.describe='装配与调试'\n",
    "w.ahead_work_idxes=[2,6,7,8]\n",
    "w.D=35\n",
    "workes.append(w)"
   ]
  },
  {
   "cell_type": "code",
   "execution_count": 4,
   "metadata": {},
   "outputs": [
    {
     "output_type": "execute_result",
     "data": {
      "text/plain": [
       "  idx name   describe  ahead_workes   back_workes from  to   D ES EF LS LF TF  \\\n",
       "0   1    A  产品设计和工艺设计            []  [2, 3, 4, 5]   -1  -1  60  0  0  0  0  0   \n",
       "1   2    B      外购配套件           [1]          [10]   -1  -1  45  0  0  0  0  0   \n",
       "2   3    C       锻件准备           [1]           [6]   -1  -1  10  0  0  0  0  0   \n",
       "3   4    D      工装制造1           [1]        [7, 8]   -1  -1  20  0  0  0  0  0   \n",
       "4   5    E         铸件           [1]           [8]   -1  -1  40  0  0  0  0  0   \n",
       "5   6    F      机械加工1           [3]          [10]   -1  -1  18  0  0  0  0  0   \n",
       "6   7    G      工装制造2           [4]           [9]   -1  -1  30  0  0  0  0  0   \n",
       "7   8    H      机械加工2        [4, 5]          [10]   -1  -1  15  0  0  0  0  0   \n",
       "8   9    K      机械加工3           [7]          [10]   -1  -1  25  0  0  0  0  0   \n",
       "9  10    L      装配与调试  [2, 6, 7, 8]            []   -1  -1  35  0  0  0  0  0   \n",
       "\n",
       "  FF isOnKeypath  \n",
       "0  0       False  \n",
       "1  0       False  \n",
       "2  0       False  \n",
       "3  0       False  \n",
       "4  0       False  \n",
       "5  0       False  \n",
       "6  0       False  \n",
       "7  0       False  \n",
       "8  0       False  \n",
       "9  0       False  "
      ],
      "text/html": "<div>\n<style scoped>\n    .dataframe tbody tr th:only-of-type {\n        vertical-align: middle;\n    }\n\n    .dataframe tbody tr th {\n        vertical-align: top;\n    }\n\n    .dataframe thead th {\n        text-align: right;\n    }\n</style>\n<table border=\"1\" class=\"dataframe\">\n  <thead>\n    <tr style=\"text-align: right;\">\n      <th></th>\n      <th>idx</th>\n      <th>name</th>\n      <th>describe</th>\n      <th>ahead_workes</th>\n      <th>back_workes</th>\n      <th>from</th>\n      <th>to</th>\n      <th>D</th>\n      <th>ES</th>\n      <th>EF</th>\n      <th>LS</th>\n      <th>LF</th>\n      <th>TF</th>\n      <th>FF</th>\n      <th>isOnKeypath</th>\n    </tr>\n  </thead>\n  <tbody>\n    <tr>\n      <th>0</th>\n      <td>1</td>\n      <td>A</td>\n      <td>产品设计和工艺设计</td>\n      <td>[]</td>\n      <td>[2, 3, 4, 5]</td>\n      <td>-1</td>\n      <td>-1</td>\n      <td>60</td>\n      <td>0</td>\n      <td>0</td>\n      <td>0</td>\n      <td>0</td>\n      <td>0</td>\n      <td>0</td>\n      <td>False</td>\n    </tr>\n    <tr>\n      <th>1</th>\n      <td>2</td>\n      <td>B</td>\n      <td>外购配套件</td>\n      <td>[1]</td>\n      <td>[10]</td>\n      <td>-1</td>\n      <td>-1</td>\n      <td>45</td>\n      <td>0</td>\n      <td>0</td>\n      <td>0</td>\n      <td>0</td>\n      <td>0</td>\n      <td>0</td>\n      <td>False</td>\n    </tr>\n    <tr>\n      <th>2</th>\n      <td>3</td>\n      <td>C</td>\n      <td>锻件准备</td>\n      <td>[1]</td>\n      <td>[6]</td>\n      <td>-1</td>\n      <td>-1</td>\n      <td>10</td>\n      <td>0</td>\n      <td>0</td>\n      <td>0</td>\n      <td>0</td>\n      <td>0</td>\n      <td>0</td>\n      <td>False</td>\n    </tr>\n    <tr>\n      <th>3</th>\n      <td>4</td>\n      <td>D</td>\n      <td>工装制造1</td>\n      <td>[1]</td>\n      <td>[7, 8]</td>\n      <td>-1</td>\n      <td>-1</td>\n      <td>20</td>\n      <td>0</td>\n      <td>0</td>\n      <td>0</td>\n      <td>0</td>\n      <td>0</td>\n      <td>0</td>\n      <td>False</td>\n    </tr>\n    <tr>\n      <th>4</th>\n      <td>5</td>\n      <td>E</td>\n      <td>铸件</td>\n      <td>[1]</td>\n      <td>[8]</td>\n      <td>-1</td>\n      <td>-1</td>\n      <td>40</td>\n      <td>0</td>\n      <td>0</td>\n      <td>0</td>\n      <td>0</td>\n      <td>0</td>\n      <td>0</td>\n      <td>False</td>\n    </tr>\n    <tr>\n      <th>5</th>\n      <td>6</td>\n      <td>F</td>\n      <td>机械加工1</td>\n      <td>[3]</td>\n      <td>[10]</td>\n      <td>-1</td>\n      <td>-1</td>\n      <td>18</td>\n      <td>0</td>\n      <td>0</td>\n      <td>0</td>\n      <td>0</td>\n      <td>0</td>\n      <td>0</td>\n      <td>False</td>\n    </tr>\n    <tr>\n      <th>6</th>\n      <td>7</td>\n      <td>G</td>\n      <td>工装制造2</td>\n      <td>[4]</td>\n      <td>[9]</td>\n      <td>-1</td>\n      <td>-1</td>\n      <td>30</td>\n      <td>0</td>\n      <td>0</td>\n      <td>0</td>\n      <td>0</td>\n      <td>0</td>\n      <td>0</td>\n      <td>False</td>\n    </tr>\n    <tr>\n      <th>7</th>\n      <td>8</td>\n      <td>H</td>\n      <td>机械加工2</td>\n      <td>[4, 5]</td>\n      <td>[10]</td>\n      <td>-1</td>\n      <td>-1</td>\n      <td>15</td>\n      <td>0</td>\n      <td>0</td>\n      <td>0</td>\n      <td>0</td>\n      <td>0</td>\n      <td>0</td>\n      <td>False</td>\n    </tr>\n    <tr>\n      <th>8</th>\n      <td>9</td>\n      <td>K</td>\n      <td>机械加工3</td>\n      <td>[7]</td>\n      <td>[10]</td>\n      <td>-1</td>\n      <td>-1</td>\n      <td>25</td>\n      <td>0</td>\n      <td>0</td>\n      <td>0</td>\n      <td>0</td>\n      <td>0</td>\n      <td>0</td>\n      <td>False</td>\n    </tr>\n    <tr>\n      <th>9</th>\n      <td>10</td>\n      <td>L</td>\n      <td>装配与调试</td>\n      <td>[2, 6, 7, 8]</td>\n      <td>[]</td>\n      <td>-1</td>\n      <td>-1</td>\n      <td>35</td>\n      <td>0</td>\n      <td>0</td>\n      <td>0</td>\n      <td>0</td>\n      <td>0</td>\n      <td>0</td>\n      <td>False</td>\n    </tr>\n  </tbody>\n</table>\n</div>"
     },
     "metadata": {},
     "execution_count": 4
    }
   ],
   "source": [
    "#显示(打印)工作信息\n",
    "import pandas as pd\n",
    "def print_workes(workes):\n",
    "    df=pd.DataFrame(columns=['idx','name','describe','ahead_workes',\\\n",
    "        'back_workes','from','to','D','ES','EF','LS','LF','TF','FF',\\\n",
    "            'isOnKeypath'])\n",
    "    for i in range(len(workes)):\n",
    "        df.loc[i]=[workes[i].idx,workes[i].name,workes[i].describe,\\\n",
    "         workes[i].ahead_work_idxes,workes[i].back_work_idxes,\\\n",
    "         workes[i].from_node_idx,workes[i].to_node_idx,workes[i].D,workes[i].ES,workes[i].EF,workes[i].LS,workes[i].LF,workes[i].TF\\\n",
    "         ,workes[i].FF,workes[i].isOnKeypath]\n",
    "    return df\n",
    "print_workes(workes)"
   ]
  },
  {
   "cell_type": "code",
   "execution_count": 5,
   "metadata": {},
   "outputs": [
    {
     "output_type": "execute_result",
     "data": {
      "text/plain": [
       "[1]"
      ]
     },
     "metadata": {},
     "execution_count": 5
    }
   ],
   "source": [
    "#获得所有无紧前的工作\n",
    "def get_first_work_indexes(workes):\n",
    "    first_workes=[]\n",
    "    for work in workes:\n",
    "        if len(work.ahead_work_idxes)==0:\n",
    "            first_workes.append(work.idx)\n",
    "    return first_workes\n",
    "\n",
    "first_work_idxes=get_first_work_indexes(workes)\n",
    "first_work_idxes"
   ]
  },
  {
   "cell_type": "code",
   "execution_count": 6,
   "metadata": {},
   "outputs": [
    {
     "output_type": "execute_result",
     "data": {
      "text/plain": [
       "[1, 5, 8, 10]"
      ]
     },
     "metadata": {},
     "execution_count": 6
    }
   ],
   "source": [
    "#随机获得一个工作路径\n",
    "import random as r\n",
    "def get_a_path(workes):\n",
    "    path=[]\n",
    "    nowAddIndex=first_work_idxes[r.randint(0,len(first_work_idxes)-1)]\n",
    "    path.append(nowAddIndex)\n",
    "    while True:\n",
    "        next_to_choice=workes[nowAddIndex-1].back_work_idxes\n",
    "        if len(next_to_choice)==0:\n",
    "            break\n",
    "        nowAddIndex=next_to_choice[r.randint(0,len(next_to_choice)-1)]\n",
    "        path.append(nowAddIndex)\n",
    "    return path\n",
    "\n",
    "get_a_path(workes)"
   ]
  },
  {
   "cell_type": "code",
   "execution_count": 7,
   "metadata": {},
   "outputs": [
    {
     "output_type": "execute_result",
     "data": {
      "text/plain": [
       "defaultdict(int,\n",
       "            {(1, 4, 8, 10): 130,\n",
       "             (1, 2, 10): 140,\n",
       "             (1, 5, 8, 10): 150,\n",
       "             (1, 3, 6, 10): 123,\n",
       "             (1, 4, 7, 9, 10): 170})"
      ]
     },
     "metadata": {},
     "execution_count": 7
    }
   ],
   "source": [
    "#获得所有工作路径并将其保存至字典\n",
    "from collections import defaultdict\n",
    "path_dict=defaultdict(int)\n",
    "for _ in range(1000):\n",
    "    path=get_a_path(workes)\n",
    "    path_length=0\n",
    "    for i in range(len(path)):\n",
    "        for work in workes:\n",
    "            if work.idx==path[i]:\n",
    "                path_length+=work.D\n",
    "                break\n",
    "    path_dict[tuple(path)]=path_length\n",
    "path_dict"
   ]
  },
  {
   "cell_type": "code",
   "execution_count": 8,
   "metadata": {},
   "outputs": [
    {
     "output_type": "execute_result",
     "data": {
      "text/plain": [
       "[((1, 4, 7, 9, 10), 170),\n",
       " ((1, 5, 8, 10), 150),\n",
       " ((1, 2, 10), 140),\n",
       " ((1, 4, 8, 10), 130),\n",
       " ((1, 3, 6, 10), 123)]"
      ]
     },
     "metadata": {},
     "execution_count": 8
    }
   ],
   "source": [
    "#将字典按值(路径工作时长)排序\n",
    "from operator import itemgetter\n",
    "sorted_dict=sorted(path_dict.items(),key=itemgetter(1),reverse=True)\n",
    "sorted_dict"
   ]
  },
  {
   "cell_type": "code",
   "execution_count": 9,
   "metadata": {},
   "outputs": [
    {
     "output_type": "execute_result",
     "data": {
      "text/plain": [
       "  idx name   describe  ahead_workes   back_workes from  to   D   ES   EF   LS  \\\n",
       "0   1    A  产品设计和工艺设计            []  [2, 3, 4, 5]    1   2  60    0   60    0   \n",
       "1   2    B      外购配套件           [1]          [10]   -1  -1  45    0    0    0   \n",
       "2   3    C       锻件准备           [1]           [6]   -1  -1  10    0    0    0   \n",
       "3   4    D      工装制造1           [1]        [7, 8]    2   3  20   60   80   60   \n",
       "4   5    E         铸件           [1]           [8]   -1  -1  40    0    0    0   \n",
       "5   6    F      机械加工1           [3]          [10]   -1  -1  18    0    0    0   \n",
       "6   7    G      工装制造2           [4]           [9]    3   4  30   80  110   80   \n",
       "7   8    H      机械加工2        [4, 5]          [10]   -1  -1  15    0    0    0   \n",
       "8   9    K      机械加工3           [7]          [10]    4   5  25  110  135  110   \n",
       "9  10    L      装配与调试  [2, 6, 7, 8]            []    5   6  35  135  170  135   \n",
       "\n",
       "    LF TF FF isOnKeypath  \n",
       "0   60  0  0        True  \n",
       "1    0  0  0       False  \n",
       "2    0  0  0       False  \n",
       "3   80  0  0        True  \n",
       "4    0  0  0       False  \n",
       "5    0  0  0       False  \n",
       "6  110  0  0        True  \n",
       "7    0  0  0       False  \n",
       "8  135  0  0        True  \n",
       "9  170  0  0        True  "
      ],
      "text/html": "<div>\n<style scoped>\n    .dataframe tbody tr th:only-of-type {\n        vertical-align: middle;\n    }\n\n    .dataframe tbody tr th {\n        vertical-align: top;\n    }\n\n    .dataframe thead th {\n        text-align: right;\n    }\n</style>\n<table border=\"1\" class=\"dataframe\">\n  <thead>\n    <tr style=\"text-align: right;\">\n      <th></th>\n      <th>idx</th>\n      <th>name</th>\n      <th>describe</th>\n      <th>ahead_workes</th>\n      <th>back_workes</th>\n      <th>from</th>\n      <th>to</th>\n      <th>D</th>\n      <th>ES</th>\n      <th>EF</th>\n      <th>LS</th>\n      <th>LF</th>\n      <th>TF</th>\n      <th>FF</th>\n      <th>isOnKeypath</th>\n    </tr>\n  </thead>\n  <tbody>\n    <tr>\n      <th>0</th>\n      <td>1</td>\n      <td>A</td>\n      <td>产品设计和工艺设计</td>\n      <td>[]</td>\n      <td>[2, 3, 4, 5]</td>\n      <td>1</td>\n      <td>2</td>\n      <td>60</td>\n      <td>0</td>\n      <td>60</td>\n      <td>0</td>\n      <td>60</td>\n      <td>0</td>\n      <td>0</td>\n      <td>True</td>\n    </tr>\n    <tr>\n      <th>1</th>\n      <td>2</td>\n      <td>B</td>\n      <td>外购配套件</td>\n      <td>[1]</td>\n      <td>[10]</td>\n      <td>-1</td>\n      <td>-1</td>\n      <td>45</td>\n      <td>0</td>\n      <td>0</td>\n      <td>0</td>\n      <td>0</td>\n      <td>0</td>\n      <td>0</td>\n      <td>False</td>\n    </tr>\n    <tr>\n      <th>2</th>\n      <td>3</td>\n      <td>C</td>\n      <td>锻件准备</td>\n      <td>[1]</td>\n      <td>[6]</td>\n      <td>-1</td>\n      <td>-1</td>\n      <td>10</td>\n      <td>0</td>\n      <td>0</td>\n      <td>0</td>\n      <td>0</td>\n      <td>0</td>\n      <td>0</td>\n      <td>False</td>\n    </tr>\n    <tr>\n      <th>3</th>\n      <td>4</td>\n      <td>D</td>\n      <td>工装制造1</td>\n      <td>[1]</td>\n      <td>[7, 8]</td>\n      <td>2</td>\n      <td>3</td>\n      <td>20</td>\n      <td>60</td>\n      <td>80</td>\n      <td>60</td>\n      <td>80</td>\n      <td>0</td>\n      <td>0</td>\n      <td>True</td>\n    </tr>\n    <tr>\n      <th>4</th>\n      <td>5</td>\n      <td>E</td>\n      <td>铸件</td>\n      <td>[1]</td>\n      <td>[8]</td>\n      <td>-1</td>\n      <td>-1</td>\n      <td>40</td>\n      <td>0</td>\n      <td>0</td>\n      <td>0</td>\n      <td>0</td>\n      <td>0</td>\n      <td>0</td>\n      <td>False</td>\n    </tr>\n    <tr>\n      <th>5</th>\n      <td>6</td>\n      <td>F</td>\n      <td>机械加工1</td>\n      <td>[3]</td>\n      <td>[10]</td>\n      <td>-1</td>\n      <td>-1</td>\n      <td>18</td>\n      <td>0</td>\n      <td>0</td>\n      <td>0</td>\n      <td>0</td>\n      <td>0</td>\n      <td>0</td>\n      <td>False</td>\n    </tr>\n    <tr>\n      <th>6</th>\n      <td>7</td>\n      <td>G</td>\n      <td>工装制造2</td>\n      <td>[4]</td>\n      <td>[9]</td>\n      <td>3</td>\n      <td>4</td>\n      <td>30</td>\n      <td>80</td>\n      <td>110</td>\n      <td>80</td>\n      <td>110</td>\n      <td>0</td>\n      <td>0</td>\n      <td>True</td>\n    </tr>\n    <tr>\n      <th>7</th>\n      <td>8</td>\n      <td>H</td>\n      <td>机械加工2</td>\n      <td>[4, 5]</td>\n      <td>[10]</td>\n      <td>-1</td>\n      <td>-1</td>\n      <td>15</td>\n      <td>0</td>\n      <td>0</td>\n      <td>0</td>\n      <td>0</td>\n      <td>0</td>\n      <td>0</td>\n      <td>False</td>\n    </tr>\n    <tr>\n      <th>8</th>\n      <td>9</td>\n      <td>K</td>\n      <td>机械加工3</td>\n      <td>[7]</td>\n      <td>[10]</td>\n      <td>4</td>\n      <td>5</td>\n      <td>25</td>\n      <td>110</td>\n      <td>135</td>\n      <td>110</td>\n      <td>135</td>\n      <td>0</td>\n      <td>0</td>\n      <td>True</td>\n    </tr>\n    <tr>\n      <th>9</th>\n      <td>10</td>\n      <td>L</td>\n      <td>装配与调试</td>\n      <td>[2, 6, 7, 8]</td>\n      <td>[]</td>\n      <td>5</td>\n      <td>6</td>\n      <td>35</td>\n      <td>135</td>\n      <td>170</td>\n      <td>135</td>\n      <td>170</td>\n      <td>0</td>\n      <td>0</td>\n      <td>True</td>\n    </tr>\n  </tbody>\n</table>\n</div>"
     },
     "metadata": {},
     "execution_count": 9
    }
   ],
   "source": [
    "#设置关键路径上每项工作的属性信息\n",
    "key_path_workes=list(sorted_dict[0][0])\n",
    "minMarkIdx=1\n",
    "ES=0\n",
    "for i in range(len(key_path_workes)):\n",
    "    work_idx=key_path_workes[i]-1\n",
    "    workes[work_idx].from_node_idx=minMarkIdx\n",
    "    workes[work_idx].ES=ES\n",
    "    workes[work_idx].LS=ES\n",
    "    ES+=workes[work_idx].D\n",
    "    workes[work_idx].EF=ES\n",
    "    workes[work_idx].LF=ES\n",
    "    minMarkIdx+=1\n",
    "    workes[work_idx].to_node_idx=minMarkIdx\n",
    "    workes[work_idx].isOnKeypath=True\n",
    "print_workes(workes)"
   ]
  },
  {
   "cell_type": "code",
   "execution_count": 10,
   "metadata": {},
   "outputs": [],
   "source": [
    "#为非关键路径上的工作设置左右节点编号\n",
    "for i in range(1,len(sorted_dict)):\n",
    "    deal_path=list(sorted_dict[i][0])\n",
    "    workes[deal_path[0]-1].from_node_idx=1\n",
    "    for idx in range(len(deal_path)-1):\n",
    "        if workes[deal_path[idx]-1].to_node_idx<0 and workes[deal_path[idx+1]-1].from_node_idx>0:\n",
    "            workes[deal_path[idx]-1].to_node_idx=workes[deal_path[idx+1]-1].from_node_idx\n",
    "            continue\n",
    "        if workes[deal_path[idx]-1].to_node_idx>0 and workes[deal_path[idx+1]-1].from_node_idx<0:\n",
    "            workes[deal_path[idx+1]-1].from_node_idx=workes[deal_path[idx]-1].to_node_idx\n",
    "            continue\n",
    "        if workes[deal_path[idx]-1].to_node_idx<0 and workes[deal_path[idx+1]-1].from_node_idx<0:\n",
    "            minMarkIdx+=1\n",
    "            workes[deal_path[idx]-1].to_node_idx=minMarkIdx\n",
    "            workes[deal_path[idx+1]-1].from_node_idx=minMarkIdx\n",
    "            continue\n",
    "    if workes[deal_path[-1]-1].to_node_idx<0:\n",
    "        minMarkIdx+=1\n",
    "        workes[deal_path[-1]-1].to_node_idx=minMarkIdx"
   ]
  },
  {
   "cell_type": "code",
   "execution_count": 11,
   "metadata": {},
   "outputs": [
    {
     "output_type": "execute_result",
     "data": {
      "text/plain": [
       "  idx name   describe  ahead_workes   back_workes from to   D   ES   EF   LS  \\\n",
       "0   1    A  产品设计和工艺设计            []  [2, 3, 4, 5]    1  2  60    0   60    0   \n",
       "1   2    B      外购配套件           [1]          [10]    2  5  45    0    0    0   \n",
       "2   3    C       锻件准备           [1]           [6]    2  8  10    0    0    0   \n",
       "3   4    D      工装制造1           [1]        [7, 8]    2  3  20   60   80   60   \n",
       "4   5    E         铸件           [1]           [8]    2  7  40    0    0    0   \n",
       "5   6    F      机械加工1           [3]          [10]    8  5  18    0    0    0   \n",
       "6   7    G      工装制造2           [4]           [9]    3  4  30   80  110   80   \n",
       "7   8    H      机械加工2        [4, 5]          [10]    7  5  15    0    0    0   \n",
       "8   9    K      机械加工3           [7]          [10]    4  5  25  110  135  110   \n",
       "9  10    L      装配与调试  [2, 6, 7, 8]            []    5  6  35  135  170  135   \n",
       "\n",
       "    LF TF FF isOnKeypath  \n",
       "0   60  0  0        True  \n",
       "1    0  0  0       False  \n",
       "2    0  0  0       False  \n",
       "3   80  0  0        True  \n",
       "4    0  0  0       False  \n",
       "5    0  0  0       False  \n",
       "6  110  0  0        True  \n",
       "7    0  0  0       False  \n",
       "8  135  0  0        True  \n",
       "9  170  0  0        True  "
      ],
      "text/html": "<div>\n<style scoped>\n    .dataframe tbody tr th:only-of-type {\n        vertical-align: middle;\n    }\n\n    .dataframe tbody tr th {\n        vertical-align: top;\n    }\n\n    .dataframe thead th {\n        text-align: right;\n    }\n</style>\n<table border=\"1\" class=\"dataframe\">\n  <thead>\n    <tr style=\"text-align: right;\">\n      <th></th>\n      <th>idx</th>\n      <th>name</th>\n      <th>describe</th>\n      <th>ahead_workes</th>\n      <th>back_workes</th>\n      <th>from</th>\n      <th>to</th>\n      <th>D</th>\n      <th>ES</th>\n      <th>EF</th>\n      <th>LS</th>\n      <th>LF</th>\n      <th>TF</th>\n      <th>FF</th>\n      <th>isOnKeypath</th>\n    </tr>\n  </thead>\n  <tbody>\n    <tr>\n      <th>0</th>\n      <td>1</td>\n      <td>A</td>\n      <td>产品设计和工艺设计</td>\n      <td>[]</td>\n      <td>[2, 3, 4, 5]</td>\n      <td>1</td>\n      <td>2</td>\n      <td>60</td>\n      <td>0</td>\n      <td>60</td>\n      <td>0</td>\n      <td>60</td>\n      <td>0</td>\n      <td>0</td>\n      <td>True</td>\n    </tr>\n    <tr>\n      <th>1</th>\n      <td>2</td>\n      <td>B</td>\n      <td>外购配套件</td>\n      <td>[1]</td>\n      <td>[10]</td>\n      <td>2</td>\n      <td>5</td>\n      <td>45</td>\n      <td>0</td>\n      <td>0</td>\n      <td>0</td>\n      <td>0</td>\n      <td>0</td>\n      <td>0</td>\n      <td>False</td>\n    </tr>\n    <tr>\n      <th>2</th>\n      <td>3</td>\n      <td>C</td>\n      <td>锻件准备</td>\n      <td>[1]</td>\n      <td>[6]</td>\n      <td>2</td>\n      <td>8</td>\n      <td>10</td>\n      <td>0</td>\n      <td>0</td>\n      <td>0</td>\n      <td>0</td>\n      <td>0</td>\n      <td>0</td>\n      <td>False</td>\n    </tr>\n    <tr>\n      <th>3</th>\n      <td>4</td>\n      <td>D</td>\n      <td>工装制造1</td>\n      <td>[1]</td>\n      <td>[7, 8]</td>\n      <td>2</td>\n      <td>3</td>\n      <td>20</td>\n      <td>60</td>\n      <td>80</td>\n      <td>60</td>\n      <td>80</td>\n      <td>0</td>\n      <td>0</td>\n      <td>True</td>\n    </tr>\n    <tr>\n      <th>4</th>\n      <td>5</td>\n      <td>E</td>\n      <td>铸件</td>\n      <td>[1]</td>\n      <td>[8]</td>\n      <td>2</td>\n      <td>7</td>\n      <td>40</td>\n      <td>0</td>\n      <td>0</td>\n      <td>0</td>\n      <td>0</td>\n      <td>0</td>\n      <td>0</td>\n      <td>False</td>\n    </tr>\n    <tr>\n      <th>5</th>\n      <td>6</td>\n      <td>F</td>\n      <td>机械加工1</td>\n      <td>[3]</td>\n      <td>[10]</td>\n      <td>8</td>\n      <td>5</td>\n      <td>18</td>\n      <td>0</td>\n      <td>0</td>\n      <td>0</td>\n      <td>0</td>\n      <td>0</td>\n      <td>0</td>\n      <td>False</td>\n    </tr>\n    <tr>\n      <th>6</th>\n      <td>7</td>\n      <td>G</td>\n      <td>工装制造2</td>\n      <td>[4]</td>\n      <td>[9]</td>\n      <td>3</td>\n      <td>4</td>\n      <td>30</td>\n      <td>80</td>\n      <td>110</td>\n      <td>80</td>\n      <td>110</td>\n      <td>0</td>\n      <td>0</td>\n      <td>True</td>\n    </tr>\n    <tr>\n      <th>7</th>\n      <td>8</td>\n      <td>H</td>\n      <td>机械加工2</td>\n      <td>[4, 5]</td>\n      <td>[10]</td>\n      <td>7</td>\n      <td>5</td>\n      <td>15</td>\n      <td>0</td>\n      <td>0</td>\n      <td>0</td>\n      <td>0</td>\n      <td>0</td>\n      <td>0</td>\n      <td>False</td>\n    </tr>\n    <tr>\n      <th>8</th>\n      <td>9</td>\n      <td>K</td>\n      <td>机械加工3</td>\n      <td>[7]</td>\n      <td>[10]</td>\n      <td>4</td>\n      <td>5</td>\n      <td>25</td>\n      <td>110</td>\n      <td>135</td>\n      <td>110</td>\n      <td>135</td>\n      <td>0</td>\n      <td>0</td>\n      <td>True</td>\n    </tr>\n    <tr>\n      <th>9</th>\n      <td>10</td>\n      <td>L</td>\n      <td>装配与调试</td>\n      <td>[2, 6, 7, 8]</td>\n      <td>[]</td>\n      <td>5</td>\n      <td>6</td>\n      <td>35</td>\n      <td>135</td>\n      <td>170</td>\n      <td>135</td>\n      <td>170</td>\n      <td>0</td>\n      <td>0</td>\n      <td>True</td>\n    </tr>\n  </tbody>\n</table>\n</div>"
     },
     "metadata": {},
     "execution_count": 11
    }
   ],
   "source": [
    "print_workes(workes)"
   ]
  },
  {
   "cell_type": "code",
   "execution_count": 12,
   "metadata": {},
   "outputs": [
    {
     "output_type": "execute_result",
     "data": {
      "text/plain": [
       "   idx name   describe  ahead_workes   back_workes from to   D   ES   EF   LS  \\\n",
       "0    1    A  产品设计和工艺设计            []  [2, 3, 4, 5]    1  2  60    0   60    0   \n",
       "1    2    B      外购配套件           [1]          [10]    2  5  45    0    0    0   \n",
       "2    3    C       锻件准备           [1]           [6]    2  8  10    0    0    0   \n",
       "3    4    D      工装制造1           [1]       [7, 11]    2  3  20   60   80   60   \n",
       "4    5    E         铸件           [1]           [8]    2  7  40    0    0    0   \n",
       "5    6    F      机械加工1           [3]          [10]    8  5  18    0    0    0   \n",
       "6    7    G      工装制造2           [4]           [9]    3  4  30   80  110   80   \n",
       "7    8    H      机械加工2       [5, 11]          [10]    7  5  15    0    0    0   \n",
       "8    9    K      机械加工3           [7]          [10]    4  5  25  110  135  110   \n",
       "9   10    L      装配与调试  [2, 6, 7, 8]            []    5  6  35  135  170  135   \n",
       "10  11   VW        虚工作           [4]           [8]    3  7   0    0    0    0   \n",
       "\n",
       "     LF TF FF isOnKeypath  \n",
       "0    60  0  0        True  \n",
       "1     0  0  0       False  \n",
       "2     0  0  0       False  \n",
       "3    80  0  0        True  \n",
       "4     0  0  0       False  \n",
       "5     0  0  0       False  \n",
       "6   110  0  0        True  \n",
       "7     0  0  0       False  \n",
       "8   135  0  0        True  \n",
       "9   170  0  0        True  \n",
       "10    0  0  0       False  "
      ],
      "text/html": "<div>\n<style scoped>\n    .dataframe tbody tr th:only-of-type {\n        vertical-align: middle;\n    }\n\n    .dataframe tbody tr th {\n        vertical-align: top;\n    }\n\n    .dataframe thead th {\n        text-align: right;\n    }\n</style>\n<table border=\"1\" class=\"dataframe\">\n  <thead>\n    <tr style=\"text-align: right;\">\n      <th></th>\n      <th>idx</th>\n      <th>name</th>\n      <th>describe</th>\n      <th>ahead_workes</th>\n      <th>back_workes</th>\n      <th>from</th>\n      <th>to</th>\n      <th>D</th>\n      <th>ES</th>\n      <th>EF</th>\n      <th>LS</th>\n      <th>LF</th>\n      <th>TF</th>\n      <th>FF</th>\n      <th>isOnKeypath</th>\n    </tr>\n  </thead>\n  <tbody>\n    <tr>\n      <th>0</th>\n      <td>1</td>\n      <td>A</td>\n      <td>产品设计和工艺设计</td>\n      <td>[]</td>\n      <td>[2, 3, 4, 5]</td>\n      <td>1</td>\n      <td>2</td>\n      <td>60</td>\n      <td>0</td>\n      <td>60</td>\n      <td>0</td>\n      <td>60</td>\n      <td>0</td>\n      <td>0</td>\n      <td>True</td>\n    </tr>\n    <tr>\n      <th>1</th>\n      <td>2</td>\n      <td>B</td>\n      <td>外购配套件</td>\n      <td>[1]</td>\n      <td>[10]</td>\n      <td>2</td>\n      <td>5</td>\n      <td>45</td>\n      <td>0</td>\n      <td>0</td>\n      <td>0</td>\n      <td>0</td>\n      <td>0</td>\n      <td>0</td>\n      <td>False</td>\n    </tr>\n    <tr>\n      <th>2</th>\n      <td>3</td>\n      <td>C</td>\n      <td>锻件准备</td>\n      <td>[1]</td>\n      <td>[6]</td>\n      <td>2</td>\n      <td>8</td>\n      <td>10</td>\n      <td>0</td>\n      <td>0</td>\n      <td>0</td>\n      <td>0</td>\n      <td>0</td>\n      <td>0</td>\n      <td>False</td>\n    </tr>\n    <tr>\n      <th>3</th>\n      <td>4</td>\n      <td>D</td>\n      <td>工装制造1</td>\n      <td>[1]</td>\n      <td>[7, 11]</td>\n      <td>2</td>\n      <td>3</td>\n      <td>20</td>\n      <td>60</td>\n      <td>80</td>\n      <td>60</td>\n      <td>80</td>\n      <td>0</td>\n      <td>0</td>\n      <td>True</td>\n    </tr>\n    <tr>\n      <th>4</th>\n      <td>5</td>\n      <td>E</td>\n      <td>铸件</td>\n      <td>[1]</td>\n      <td>[8]</td>\n      <td>2</td>\n      <td>7</td>\n      <td>40</td>\n      <td>0</td>\n      <td>0</td>\n      <td>0</td>\n      <td>0</td>\n      <td>0</td>\n      <td>0</td>\n      <td>False</td>\n    </tr>\n    <tr>\n      <th>5</th>\n      <td>6</td>\n      <td>F</td>\n      <td>机械加工1</td>\n      <td>[3]</td>\n      <td>[10]</td>\n      <td>8</td>\n      <td>5</td>\n      <td>18</td>\n      <td>0</td>\n      <td>0</td>\n      <td>0</td>\n      <td>0</td>\n      <td>0</td>\n      <td>0</td>\n      <td>False</td>\n    </tr>\n    <tr>\n      <th>6</th>\n      <td>7</td>\n      <td>G</td>\n      <td>工装制造2</td>\n      <td>[4]</td>\n      <td>[9]</td>\n      <td>3</td>\n      <td>4</td>\n      <td>30</td>\n      <td>80</td>\n      <td>110</td>\n      <td>80</td>\n      <td>110</td>\n      <td>0</td>\n      <td>0</td>\n      <td>True</td>\n    </tr>\n    <tr>\n      <th>7</th>\n      <td>8</td>\n      <td>H</td>\n      <td>机械加工2</td>\n      <td>[5, 11]</td>\n      <td>[10]</td>\n      <td>7</td>\n      <td>5</td>\n      <td>15</td>\n      <td>0</td>\n      <td>0</td>\n      <td>0</td>\n      <td>0</td>\n      <td>0</td>\n      <td>0</td>\n      <td>False</td>\n    </tr>\n    <tr>\n      <th>8</th>\n      <td>9</td>\n      <td>K</td>\n      <td>机械加工3</td>\n      <td>[7]</td>\n      <td>[10]</td>\n      <td>4</td>\n      <td>5</td>\n      <td>25</td>\n      <td>110</td>\n      <td>135</td>\n      <td>110</td>\n      <td>135</td>\n      <td>0</td>\n      <td>0</td>\n      <td>True</td>\n    </tr>\n    <tr>\n      <th>9</th>\n      <td>10</td>\n      <td>L</td>\n      <td>装配与调试</td>\n      <td>[2, 6, 7, 8]</td>\n      <td>[]</td>\n      <td>5</td>\n      <td>6</td>\n      <td>35</td>\n      <td>135</td>\n      <td>170</td>\n      <td>135</td>\n      <td>170</td>\n      <td>0</td>\n      <td>0</td>\n      <td>True</td>\n    </tr>\n    <tr>\n      <th>10</th>\n      <td>11</td>\n      <td>VW</td>\n      <td>虚工作</td>\n      <td>[4]</td>\n      <td>[8]</td>\n      <td>3</td>\n      <td>7</td>\n      <td>0</td>\n      <td>0</td>\n      <td>0</td>\n      <td>0</td>\n      <td>0</td>\n      <td>0</td>\n      <td>0</td>\n      <td>False</td>\n    </tr>\n  </tbody>\n</table>\n</div>"
     },
     "metadata": {},
     "execution_count": 12
    }
   ],
   "source": [
    "# 添加虚工作VW\n",
    "for i in range(len(sorted_dict)):\n",
    "    deal_path=list(sorted_dict[i][0])\n",
    "    for idx in range(len(deal_path)-1):\n",
    "        if workes[deal_path[idx]-1].to_node_idx!=workes[deal_path[idx+1]-1].from_node_idx:\n",
    "            work=Work()\n",
    "            work.idx=len(workes)+1\n",
    "            work.from_node_idx=workes[deal_path[idx]-1].to_node_idx\n",
    "            work.to_node_idx=workes[deal_path[idx+1]-1].from_node_idx\n",
    "            work.name='VW'\n",
    "            work.describe='虚工作'\n",
    "            work.ahead_work_idxes=[deal_path[idx]]\n",
    "            work.back_work_idxes=[deal_path[idx+1]]\n",
    "            workes[deal_path[idx]-1].back_work_idxes.append(work.idx)\n",
    "            workes[deal_path[idx]-1].back_work_idxes.remove(deal_path[idx+1])\n",
    "            workes[deal_path[idx+1]-1].ahead_work_idxes.append(work.idx)\n",
    "            workes[deal_path[idx+1]-1].ahead_work_idxes.remove(deal_path[idx])\n",
    "            workes.append(work)\n",
    "print_workes(workes)"
   ]
  },
  {
   "cell_type": "code",
   "execution_count": 13,
   "metadata": {},
   "outputs": [
    {
     "output_type": "execute_result",
     "data": {
      "text/plain": [
       "defaultdict(int,\n",
       "            {(1, 2, 10): 140,\n",
       "             (1, 5, 8, 10): 150,\n",
       "             (1, 3, 6, 10): 123,\n",
       "             (1, 4, 7, 9, 10): 170,\n",
       "             (1, 4, 11, 8, 10): 130})"
      ]
     },
     "metadata": {},
     "execution_count": 13
    }
   ],
   "source": [
    "#查看添加虚拟工作后的工作路径\n",
    "new_path_dict=defaultdict(int)\n",
    "for _ in range(1000):\n",
    "    path=get_a_path(workes)\n",
    "    path_length=0\n",
    "    for i in range(len(path)):\n",
    "        for work in workes:\n",
    "            if work.idx==path[i]:\n",
    "                path_length+=work.D\n",
    "                break\n",
    "    new_path_dict[tuple(path)]=path_length\n",
    "new_path_dict"
   ]
  },
  {
   "cell_type": "code",
   "execution_count": 14,
   "metadata": {},
   "outputs": [
    {
     "output_type": "execute_result",
     "data": {
      "text/plain": [
       "[((1, 4, 7, 9, 10), 170),\n",
       " ((1, 5, 8, 10), 150),\n",
       " ((1, 2, 10), 140),\n",
       " ((1, 4, 11, 8, 10), 130),\n",
       " ((1, 3, 6, 10), 123)]"
      ]
     },
     "metadata": {},
     "execution_count": 14
    }
   ],
   "source": [
    "#排序\n",
    "new_sorted_dict=sorted(new_path_dict.items(),key=itemgetter(1),reverse=True)\n",
    "new_sorted_dict"
   ]
  },
  {
   "cell_type": "code",
   "execution_count": 15,
   "metadata": {},
   "outputs": [
    {
     "output_type": "execute_result",
     "data": {
      "text/plain": [
       "   idx name   describe  ahead_workes   back_workes from to   D   ES   EF   LS  \\\n",
       "0    1    A  产品设计和工艺设计            []  [2, 3, 4, 5]    1  2  60    0   60    0   \n",
       "1    2    B      外购配套件           [1]          [10]    2  7  45    0    0    0   \n",
       "2    3    C       锻件准备           [1]           [6]    2  6  10    0    0    0   \n",
       "3    4    D      工装制造1           [1]       [7, 11]    2  3  20   60   80   60   \n",
       "4    5    E         铸件           [1]           [8]    2  5  40    0    0    0   \n",
       "5    6    F      机械加工1           [3]          [10]    6  7  18    0    0    0   \n",
       "6    7    G      工装制造2           [4]           [9]    3  4  30   80  110   80   \n",
       "7    8    H      机械加工2       [5, 11]          [10]    5  7  15    0    0    0   \n",
       "8    9    K      机械加工3           [7]          [10]    4  7  25  110  135  110   \n",
       "9   10    L      装配与调试  [2, 6, 7, 8]            []    7  8  35  135  170  135   \n",
       "10  11   VW        虚工作           [4]           [8]    3  5   0    0    0    0   \n",
       "\n",
       "     LF TF FF isOnKeypath  \n",
       "0    60  0  0        True  \n",
       "1     0  0  0       False  \n",
       "2     0  0  0       False  \n",
       "3    80  0  0        True  \n",
       "4     0  0  0       False  \n",
       "5     0  0  0       False  \n",
       "6   110  0  0        True  \n",
       "7     0  0  0       False  \n",
       "8   135  0  0        True  \n",
       "9   170  0  0        True  \n",
       "10    0  0  0       False  "
      ],
      "text/html": "<div>\n<style scoped>\n    .dataframe tbody tr th:only-of-type {\n        vertical-align: middle;\n    }\n\n    .dataframe tbody tr th {\n        vertical-align: top;\n    }\n\n    .dataframe thead th {\n        text-align: right;\n    }\n</style>\n<table border=\"1\" class=\"dataframe\">\n  <thead>\n    <tr style=\"text-align: right;\">\n      <th></th>\n      <th>idx</th>\n      <th>name</th>\n      <th>describe</th>\n      <th>ahead_workes</th>\n      <th>back_workes</th>\n      <th>from</th>\n      <th>to</th>\n      <th>D</th>\n      <th>ES</th>\n      <th>EF</th>\n      <th>LS</th>\n      <th>LF</th>\n      <th>TF</th>\n      <th>FF</th>\n      <th>isOnKeypath</th>\n    </tr>\n  </thead>\n  <tbody>\n    <tr>\n      <th>0</th>\n      <td>1</td>\n      <td>A</td>\n      <td>产品设计和工艺设计</td>\n      <td>[]</td>\n      <td>[2, 3, 4, 5]</td>\n      <td>1</td>\n      <td>2</td>\n      <td>60</td>\n      <td>0</td>\n      <td>60</td>\n      <td>0</td>\n      <td>60</td>\n      <td>0</td>\n      <td>0</td>\n      <td>True</td>\n    </tr>\n    <tr>\n      <th>1</th>\n      <td>2</td>\n      <td>B</td>\n      <td>外购配套件</td>\n      <td>[1]</td>\n      <td>[10]</td>\n      <td>2</td>\n      <td>7</td>\n      <td>45</td>\n      <td>0</td>\n      <td>0</td>\n      <td>0</td>\n      <td>0</td>\n      <td>0</td>\n      <td>0</td>\n      <td>False</td>\n    </tr>\n    <tr>\n      <th>2</th>\n      <td>3</td>\n      <td>C</td>\n      <td>锻件准备</td>\n      <td>[1]</td>\n      <td>[6]</td>\n      <td>2</td>\n      <td>6</td>\n      <td>10</td>\n      <td>0</td>\n      <td>0</td>\n      <td>0</td>\n      <td>0</td>\n      <td>0</td>\n      <td>0</td>\n      <td>False</td>\n    </tr>\n    <tr>\n      <th>3</th>\n      <td>4</td>\n      <td>D</td>\n      <td>工装制造1</td>\n      <td>[1]</td>\n      <td>[7, 11]</td>\n      <td>2</td>\n      <td>3</td>\n      <td>20</td>\n      <td>60</td>\n      <td>80</td>\n      <td>60</td>\n      <td>80</td>\n      <td>0</td>\n      <td>0</td>\n      <td>True</td>\n    </tr>\n    <tr>\n      <th>4</th>\n      <td>5</td>\n      <td>E</td>\n      <td>铸件</td>\n      <td>[1]</td>\n      <td>[8]</td>\n      <td>2</td>\n      <td>5</td>\n      <td>40</td>\n      <td>0</td>\n      <td>0</td>\n      <td>0</td>\n      <td>0</td>\n      <td>0</td>\n      <td>0</td>\n      <td>False</td>\n    </tr>\n    <tr>\n      <th>5</th>\n      <td>6</td>\n      <td>F</td>\n      <td>机械加工1</td>\n      <td>[3]</td>\n      <td>[10]</td>\n      <td>6</td>\n      <td>7</td>\n      <td>18</td>\n      <td>0</td>\n      <td>0</td>\n      <td>0</td>\n      <td>0</td>\n      <td>0</td>\n      <td>0</td>\n      <td>False</td>\n    </tr>\n    <tr>\n      <th>6</th>\n      <td>7</td>\n      <td>G</td>\n      <td>工装制造2</td>\n      <td>[4]</td>\n      <td>[9]</td>\n      <td>3</td>\n      <td>4</td>\n      <td>30</td>\n      <td>80</td>\n      <td>110</td>\n      <td>80</td>\n      <td>110</td>\n      <td>0</td>\n      <td>0</td>\n      <td>True</td>\n    </tr>\n    <tr>\n      <th>7</th>\n      <td>8</td>\n      <td>H</td>\n      <td>机械加工2</td>\n      <td>[5, 11]</td>\n      <td>[10]</td>\n      <td>5</td>\n      <td>7</td>\n      <td>15</td>\n      <td>0</td>\n      <td>0</td>\n      <td>0</td>\n      <td>0</td>\n      <td>0</td>\n      <td>0</td>\n      <td>False</td>\n    </tr>\n    <tr>\n      <th>8</th>\n      <td>9</td>\n      <td>K</td>\n      <td>机械加工3</td>\n      <td>[7]</td>\n      <td>[10]</td>\n      <td>4</td>\n      <td>7</td>\n      <td>25</td>\n      <td>110</td>\n      <td>135</td>\n      <td>110</td>\n      <td>135</td>\n      <td>0</td>\n      <td>0</td>\n      <td>True</td>\n    </tr>\n    <tr>\n      <th>9</th>\n      <td>10</td>\n      <td>L</td>\n      <td>装配与调试</td>\n      <td>[2, 6, 7, 8]</td>\n      <td>[]</td>\n      <td>7</td>\n      <td>8</td>\n      <td>35</td>\n      <td>135</td>\n      <td>170</td>\n      <td>135</td>\n      <td>170</td>\n      <td>0</td>\n      <td>0</td>\n      <td>True</td>\n    </tr>\n    <tr>\n      <th>10</th>\n      <td>11</td>\n      <td>VW</td>\n      <td>虚工作</td>\n      <td>[4]</td>\n      <td>[8]</td>\n      <td>3</td>\n      <td>5</td>\n      <td>0</td>\n      <td>0</td>\n      <td>0</td>\n      <td>0</td>\n      <td>0</td>\n      <td>0</td>\n      <td>0</td>\n      <td>False</td>\n    </tr>\n  </tbody>\n</table>\n</div>"
     },
     "metadata": {},
     "execution_count": 15
    }
   ],
   "source": [
    "#重置每项工作的左右节点编号\n",
    "for _ in range(1000):\n",
    "    deal_path=r.randint(0,len(new_sorted_dict)-1)\n",
    "    path=list(new_sorted_dict[deal_path][0])\n",
    "    nodes=[]\n",
    "    for i in range(len(path)):\n",
    "        nodes.append(workes[path[i]-1].to_node_idx)\n",
    "    nodes.sort()\n",
    "    for i in range(len(nodes)):\n",
    "        if i==0:\n",
    "            workes[path[i]-1].to_node_idx=nodes[i]\n",
    "        else:\n",
    "            workes[path[i]-1].from_node_idx=nodes[i-1]\n",
    "            workes[path[i]-1].to_node_idx=nodes[i]\n",
    "    for i in range(len(new_sorted_dict)):\n",
    "        every_path=list(new_sorted_dict[i][0])\n",
    "        for j in range(len(every_path)-1):\n",
    "            workes[every_path[j]-1].to_node_idx=workes[every_path[j+1]-1].from_node_idx\n",
    "print_workes(workes)"
   ]
  },
  {
   "cell_type": "code",
   "execution_count": 16,
   "metadata": {},
   "outputs": [
    {
     "output_type": "execute_result",
     "data": {
      "text/plain": [
       "   idx name   describe  ahead_workes   back_workes from to   D   ES   EF   LS  \\\n",
       "0    1    A  产品设计和工艺设计            []  [2, 3, 4, 5]    1  2  60    0   60    0   \n",
       "1    2    B      外购配套件           [1]          [10]    2  7  45   60  105    0   \n",
       "2    3    C       锻件准备           [1]           [6]    2  6  10   60   70    0   \n",
       "3    4    D      工装制造1           [1]       [7, 11]    2  3  20   60   80   60   \n",
       "4    5    E         铸件           [1]           [8]    2  5  40   60  100    0   \n",
       "5    6    F      机械加工1           [3]          [10]    6  7  18   70   88    0   \n",
       "6    7    G      工装制造2           [4]           [9]    3  4  30   80  110   80   \n",
       "7    8    H      机械加工2       [5, 11]          [10]    5  7  15  100  115    0   \n",
       "8    9    K      机械加工3           [7]          [10]    4  7  25  110  135  110   \n",
       "9   10    L      装配与调试  [2, 6, 7, 8]            []    7  8  35  135  170  135   \n",
       "10  11   VW        虚工作           [4]           [8]    3  5   0   80   80    0   \n",
       "\n",
       "     LF TF FF isOnKeypath  \n",
       "0    60  0  0        True  \n",
       "1     0  0  0       False  \n",
       "2     0  0  0       False  \n",
       "3    80  0  0        True  \n",
       "4     0  0  0       False  \n",
       "5     0  0  0       False  \n",
       "6   110  0  0        True  \n",
       "7     0  0  0       False  \n",
       "8   135  0  0        True  \n",
       "9   170  0  0        True  \n",
       "10    0  0  0       False  "
      ],
      "text/html": "<div>\n<style scoped>\n    .dataframe tbody tr th:only-of-type {\n        vertical-align: middle;\n    }\n\n    .dataframe tbody tr th {\n        vertical-align: top;\n    }\n\n    .dataframe thead th {\n        text-align: right;\n    }\n</style>\n<table border=\"1\" class=\"dataframe\">\n  <thead>\n    <tr style=\"text-align: right;\">\n      <th></th>\n      <th>idx</th>\n      <th>name</th>\n      <th>describe</th>\n      <th>ahead_workes</th>\n      <th>back_workes</th>\n      <th>from</th>\n      <th>to</th>\n      <th>D</th>\n      <th>ES</th>\n      <th>EF</th>\n      <th>LS</th>\n      <th>LF</th>\n      <th>TF</th>\n      <th>FF</th>\n      <th>isOnKeypath</th>\n    </tr>\n  </thead>\n  <tbody>\n    <tr>\n      <th>0</th>\n      <td>1</td>\n      <td>A</td>\n      <td>产品设计和工艺设计</td>\n      <td>[]</td>\n      <td>[2, 3, 4, 5]</td>\n      <td>1</td>\n      <td>2</td>\n      <td>60</td>\n      <td>0</td>\n      <td>60</td>\n      <td>0</td>\n      <td>60</td>\n      <td>0</td>\n      <td>0</td>\n      <td>True</td>\n    </tr>\n    <tr>\n      <th>1</th>\n      <td>2</td>\n      <td>B</td>\n      <td>外购配套件</td>\n      <td>[1]</td>\n      <td>[10]</td>\n      <td>2</td>\n      <td>7</td>\n      <td>45</td>\n      <td>60</td>\n      <td>105</td>\n      <td>0</td>\n      <td>0</td>\n      <td>0</td>\n      <td>0</td>\n      <td>False</td>\n    </tr>\n    <tr>\n      <th>2</th>\n      <td>3</td>\n      <td>C</td>\n      <td>锻件准备</td>\n      <td>[1]</td>\n      <td>[6]</td>\n      <td>2</td>\n      <td>6</td>\n      <td>10</td>\n      <td>60</td>\n      <td>70</td>\n      <td>0</td>\n      <td>0</td>\n      <td>0</td>\n      <td>0</td>\n      <td>False</td>\n    </tr>\n    <tr>\n      <th>3</th>\n      <td>4</td>\n      <td>D</td>\n      <td>工装制造1</td>\n      <td>[1]</td>\n      <td>[7, 11]</td>\n      <td>2</td>\n      <td>3</td>\n      <td>20</td>\n      <td>60</td>\n      <td>80</td>\n      <td>60</td>\n      <td>80</td>\n      <td>0</td>\n      <td>0</td>\n      <td>True</td>\n    </tr>\n    <tr>\n      <th>4</th>\n      <td>5</td>\n      <td>E</td>\n      <td>铸件</td>\n      <td>[1]</td>\n      <td>[8]</td>\n      <td>2</td>\n      <td>5</td>\n      <td>40</td>\n      <td>60</td>\n      <td>100</td>\n      <td>0</td>\n      <td>0</td>\n      <td>0</td>\n      <td>0</td>\n      <td>False</td>\n    </tr>\n    <tr>\n      <th>5</th>\n      <td>6</td>\n      <td>F</td>\n      <td>机械加工1</td>\n      <td>[3]</td>\n      <td>[10]</td>\n      <td>6</td>\n      <td>7</td>\n      <td>18</td>\n      <td>70</td>\n      <td>88</td>\n      <td>0</td>\n      <td>0</td>\n      <td>0</td>\n      <td>0</td>\n      <td>False</td>\n    </tr>\n    <tr>\n      <th>6</th>\n      <td>7</td>\n      <td>G</td>\n      <td>工装制造2</td>\n      <td>[4]</td>\n      <td>[9]</td>\n      <td>3</td>\n      <td>4</td>\n      <td>30</td>\n      <td>80</td>\n      <td>110</td>\n      <td>80</td>\n      <td>110</td>\n      <td>0</td>\n      <td>0</td>\n      <td>True</td>\n    </tr>\n    <tr>\n      <th>7</th>\n      <td>8</td>\n      <td>H</td>\n      <td>机械加工2</td>\n      <td>[5, 11]</td>\n      <td>[10]</td>\n      <td>5</td>\n      <td>7</td>\n      <td>15</td>\n      <td>100</td>\n      <td>115</td>\n      <td>0</td>\n      <td>0</td>\n      <td>0</td>\n      <td>0</td>\n      <td>False</td>\n    </tr>\n    <tr>\n      <th>8</th>\n      <td>9</td>\n      <td>K</td>\n      <td>机械加工3</td>\n      <td>[7]</td>\n      <td>[10]</td>\n      <td>4</td>\n      <td>7</td>\n      <td>25</td>\n      <td>110</td>\n      <td>135</td>\n      <td>110</td>\n      <td>135</td>\n      <td>0</td>\n      <td>0</td>\n      <td>True</td>\n    </tr>\n    <tr>\n      <th>9</th>\n      <td>10</td>\n      <td>L</td>\n      <td>装配与调试</td>\n      <td>[2, 6, 7, 8]</td>\n      <td>[]</td>\n      <td>7</td>\n      <td>8</td>\n      <td>35</td>\n      <td>135</td>\n      <td>170</td>\n      <td>135</td>\n      <td>170</td>\n      <td>0</td>\n      <td>0</td>\n      <td>True</td>\n    </tr>\n    <tr>\n      <th>10</th>\n      <td>11</td>\n      <td>VW</td>\n      <td>虚工作</td>\n      <td>[4]</td>\n      <td>[8]</td>\n      <td>3</td>\n      <td>5</td>\n      <td>0</td>\n      <td>80</td>\n      <td>80</td>\n      <td>0</td>\n      <td>0</td>\n      <td>0</td>\n      <td>0</td>\n      <td>False</td>\n    </tr>\n  </tbody>\n</table>\n</div>"
     },
     "metadata": {},
     "execution_count": 16
    }
   ],
   "source": [
    "# 完善ES和EF\n",
    "for i in range(1,len(new_sorted_dict)):\n",
    "    path=list(new_sorted_dict[i][0])\n",
    "    ES=0\n",
    "    for idx in range(len(path)):\n",
    "        if workes[path[idx]-1].EF>0:\n",
    "            ES=workes[path[idx]-1].EF\n",
    "        else:\n",
    "            workes[path[idx]-1].ES=ES\n",
    "            ES+=workes[path[idx]-1].D\n",
    "            workes[path[idx]-1].EF=ES\n",
    "print_workes(workes)"
   ]
  },
  {
   "cell_type": "code",
   "execution_count": 17,
   "metadata": {},
   "outputs": [
    {
     "output_type": "execute_result",
     "data": {
      "text/plain": [
       "   idx name   describe  ahead_workes   back_workes from to   D   ES   EF   LS  \\\n",
       "0    1    A  产品设计和工艺设计            []  [2, 3, 4, 5]    1  2  60    0   60    0   \n",
       "1    2    B      外购配套件           [1]          [10]    2  7  45   60  105   90   \n",
       "2    3    C       锻件准备           [1]           [6]    2  6  10   60   70  107   \n",
       "3    4    D      工装制造1           [1]       [7, 11]    2  3  20   60   80   60   \n",
       "4    5    E         铸件           [1]           [8]    2  5  40   60  100   80   \n",
       "5    6    F      机械加工1           [3]          [10]    6  7  18   70   88  117   \n",
       "6    7    G      工装制造2           [4]           [9]    3  4  30   80  110   80   \n",
       "7    8    H      机械加工2       [5, 11]          [10]    5  7  15  100  115  120   \n",
       "8    9    K      机械加工3           [7]          [10]    4  7  25  110  135  110   \n",
       "9   10    L      装配与调试  [2, 6, 7, 8]            []    7  8  35  135  170  135   \n",
       "10  11   VW        虚工作           [4]           [8]    3  5   0   80   80  120   \n",
       "\n",
       "     LF TF FF isOnKeypath  \n",
       "0    60  0  0        True  \n",
       "1   135  0  0       False  \n",
       "2   117  0  0       False  \n",
       "3    80  0  0        True  \n",
       "4   120  0  0       False  \n",
       "5   135  0  0       False  \n",
       "6   110  0  0        True  \n",
       "7   135  0  0       False  \n",
       "8   135  0  0        True  \n",
       "9   170  0  0        True  \n",
       "10  120  0  0       False  "
      ],
      "text/html": "<div>\n<style scoped>\n    .dataframe tbody tr th:only-of-type {\n        vertical-align: middle;\n    }\n\n    .dataframe tbody tr th {\n        vertical-align: top;\n    }\n\n    .dataframe thead th {\n        text-align: right;\n    }\n</style>\n<table border=\"1\" class=\"dataframe\">\n  <thead>\n    <tr style=\"text-align: right;\">\n      <th></th>\n      <th>idx</th>\n      <th>name</th>\n      <th>describe</th>\n      <th>ahead_workes</th>\n      <th>back_workes</th>\n      <th>from</th>\n      <th>to</th>\n      <th>D</th>\n      <th>ES</th>\n      <th>EF</th>\n      <th>LS</th>\n      <th>LF</th>\n      <th>TF</th>\n      <th>FF</th>\n      <th>isOnKeypath</th>\n    </tr>\n  </thead>\n  <tbody>\n    <tr>\n      <th>0</th>\n      <td>1</td>\n      <td>A</td>\n      <td>产品设计和工艺设计</td>\n      <td>[]</td>\n      <td>[2, 3, 4, 5]</td>\n      <td>1</td>\n      <td>2</td>\n      <td>60</td>\n      <td>0</td>\n      <td>60</td>\n      <td>0</td>\n      <td>60</td>\n      <td>0</td>\n      <td>0</td>\n      <td>True</td>\n    </tr>\n    <tr>\n      <th>1</th>\n      <td>2</td>\n      <td>B</td>\n      <td>外购配套件</td>\n      <td>[1]</td>\n      <td>[10]</td>\n      <td>2</td>\n      <td>7</td>\n      <td>45</td>\n      <td>60</td>\n      <td>105</td>\n      <td>90</td>\n      <td>135</td>\n      <td>0</td>\n      <td>0</td>\n      <td>False</td>\n    </tr>\n    <tr>\n      <th>2</th>\n      <td>3</td>\n      <td>C</td>\n      <td>锻件准备</td>\n      <td>[1]</td>\n      <td>[6]</td>\n      <td>2</td>\n      <td>6</td>\n      <td>10</td>\n      <td>60</td>\n      <td>70</td>\n      <td>107</td>\n      <td>117</td>\n      <td>0</td>\n      <td>0</td>\n      <td>False</td>\n    </tr>\n    <tr>\n      <th>3</th>\n      <td>4</td>\n      <td>D</td>\n      <td>工装制造1</td>\n      <td>[1]</td>\n      <td>[7, 11]</td>\n      <td>2</td>\n      <td>3</td>\n      <td>20</td>\n      <td>60</td>\n      <td>80</td>\n      <td>60</td>\n      <td>80</td>\n      <td>0</td>\n      <td>0</td>\n      <td>True</td>\n    </tr>\n    <tr>\n      <th>4</th>\n      <td>5</td>\n      <td>E</td>\n      <td>铸件</td>\n      <td>[1]</td>\n      <td>[8]</td>\n      <td>2</td>\n      <td>5</td>\n      <td>40</td>\n      <td>60</td>\n      <td>100</td>\n      <td>80</td>\n      <td>120</td>\n      <td>0</td>\n      <td>0</td>\n      <td>False</td>\n    </tr>\n    <tr>\n      <th>5</th>\n      <td>6</td>\n      <td>F</td>\n      <td>机械加工1</td>\n      <td>[3]</td>\n      <td>[10]</td>\n      <td>6</td>\n      <td>7</td>\n      <td>18</td>\n      <td>70</td>\n      <td>88</td>\n      <td>117</td>\n      <td>135</td>\n      <td>0</td>\n      <td>0</td>\n      <td>False</td>\n    </tr>\n    <tr>\n      <th>6</th>\n      <td>7</td>\n      <td>G</td>\n      <td>工装制造2</td>\n      <td>[4]</td>\n      <td>[9]</td>\n      <td>3</td>\n      <td>4</td>\n      <td>30</td>\n      <td>80</td>\n      <td>110</td>\n      <td>80</td>\n      <td>110</td>\n      <td>0</td>\n      <td>0</td>\n      <td>True</td>\n    </tr>\n    <tr>\n      <th>7</th>\n      <td>8</td>\n      <td>H</td>\n      <td>机械加工2</td>\n      <td>[5, 11]</td>\n      <td>[10]</td>\n      <td>5</td>\n      <td>7</td>\n      <td>15</td>\n      <td>100</td>\n      <td>115</td>\n      <td>120</td>\n      <td>135</td>\n      <td>0</td>\n      <td>0</td>\n      <td>False</td>\n    </tr>\n    <tr>\n      <th>8</th>\n      <td>9</td>\n      <td>K</td>\n      <td>机械加工3</td>\n      <td>[7]</td>\n      <td>[10]</td>\n      <td>4</td>\n      <td>7</td>\n      <td>25</td>\n      <td>110</td>\n      <td>135</td>\n      <td>110</td>\n      <td>135</td>\n      <td>0</td>\n      <td>0</td>\n      <td>True</td>\n    </tr>\n    <tr>\n      <th>9</th>\n      <td>10</td>\n      <td>L</td>\n      <td>装配与调试</td>\n      <td>[2, 6, 7, 8]</td>\n      <td>[]</td>\n      <td>7</td>\n      <td>8</td>\n      <td>35</td>\n      <td>135</td>\n      <td>170</td>\n      <td>135</td>\n      <td>170</td>\n      <td>0</td>\n      <td>0</td>\n      <td>True</td>\n    </tr>\n    <tr>\n      <th>10</th>\n      <td>11</td>\n      <td>VW</td>\n      <td>虚工作</td>\n      <td>[4]</td>\n      <td>[8]</td>\n      <td>3</td>\n      <td>5</td>\n      <td>0</td>\n      <td>80</td>\n      <td>80</td>\n      <td>120</td>\n      <td>120</td>\n      <td>0</td>\n      <td>0</td>\n      <td>False</td>\n    </tr>\n  </tbody>\n</table>\n</div>"
     },
     "metadata": {},
     "execution_count": 17
    }
   ],
   "source": [
    "# 完善LS和LF\n",
    "for i in range(1,len(new_sorted_dict)):\n",
    "    LF=new_sorted_dict[0][1] #170\n",
    "    path=list(new_sorted_dict[i][0])\n",
    "    for idx in range(len(path)-1,-1,-1):\n",
    "        if workes[path[idx]-1].isOnKeypath:\n",
    "            LF=workes[path[idx]-1].ES\n",
    "            continue\n",
    "        workes[path[idx]-1].LF=LF\n",
    "        LF-=workes[path[idx]-1].D\n",
    "        workes[path[idx]-1].LS=LF\n",
    "print_workes(workes)"
   ]
  },
  {
   "cell_type": "code",
   "execution_count": 18,
   "metadata": {},
   "outputs": [
    {
     "output_type": "execute_result",
     "data": {
      "text/plain": [
       "   idx name   describe  ahead_workes   back_workes from to   D   ES   EF   LS  \\\n",
       "0    1    A  产品设计和工艺设计            []  [2, 3, 4, 5]    1  2  60    0   60    0   \n",
       "1    2    B      外购配套件           [1]          [10]    2  7  45   60  105   90   \n",
       "2    3    C       锻件准备           [1]           [6]    2  6  10   60   70  107   \n",
       "3    4    D      工装制造1           [1]       [7, 11]    2  3  20   60   80   60   \n",
       "4    5    E         铸件           [1]           [8]    2  5  40   60  100   80   \n",
       "5    6    F      机械加工1           [3]          [10]    6  7  18   70   88  117   \n",
       "6    7    G      工装制造2           [4]           [9]    3  4  30   80  110   80   \n",
       "7    8    H      机械加工2       [5, 11]          [10]    5  7  15  100  115  120   \n",
       "8    9    K      机械加工3           [7]          [10]    4  7  25  110  135  110   \n",
       "9   10    L      装配与调试  [2, 6, 7, 8]            []    7  8  35  135  170  135   \n",
       "10  11   VW        虚工作           [4]           [8]    3  5   0   80   80  120   \n",
       "\n",
       "     LF  TF  FF isOnKeypath  \n",
       "0    60   0   0        True  \n",
       "1   135  30  30       False  \n",
       "2   117  47   0       False  \n",
       "3    80   0   0        True  \n",
       "4   120  20   0       False  \n",
       "5   135  47  47       False  \n",
       "6   110   0   0        True  \n",
       "7   135  20  20       False  \n",
       "8   135   0   0        True  \n",
       "9   170   0   0        True  \n",
       "10  120  40  20       False  "
      ],
      "text/html": "<div>\n<style scoped>\n    .dataframe tbody tr th:only-of-type {\n        vertical-align: middle;\n    }\n\n    .dataframe tbody tr th {\n        vertical-align: top;\n    }\n\n    .dataframe thead th {\n        text-align: right;\n    }\n</style>\n<table border=\"1\" class=\"dataframe\">\n  <thead>\n    <tr style=\"text-align: right;\">\n      <th></th>\n      <th>idx</th>\n      <th>name</th>\n      <th>describe</th>\n      <th>ahead_workes</th>\n      <th>back_workes</th>\n      <th>from</th>\n      <th>to</th>\n      <th>D</th>\n      <th>ES</th>\n      <th>EF</th>\n      <th>LS</th>\n      <th>LF</th>\n      <th>TF</th>\n      <th>FF</th>\n      <th>isOnKeypath</th>\n    </tr>\n  </thead>\n  <tbody>\n    <tr>\n      <th>0</th>\n      <td>1</td>\n      <td>A</td>\n      <td>产品设计和工艺设计</td>\n      <td>[]</td>\n      <td>[2, 3, 4, 5]</td>\n      <td>1</td>\n      <td>2</td>\n      <td>60</td>\n      <td>0</td>\n      <td>60</td>\n      <td>0</td>\n      <td>60</td>\n      <td>0</td>\n      <td>0</td>\n      <td>True</td>\n    </tr>\n    <tr>\n      <th>1</th>\n      <td>2</td>\n      <td>B</td>\n      <td>外购配套件</td>\n      <td>[1]</td>\n      <td>[10]</td>\n      <td>2</td>\n      <td>7</td>\n      <td>45</td>\n      <td>60</td>\n      <td>105</td>\n      <td>90</td>\n      <td>135</td>\n      <td>30</td>\n      <td>30</td>\n      <td>False</td>\n    </tr>\n    <tr>\n      <th>2</th>\n      <td>3</td>\n      <td>C</td>\n      <td>锻件准备</td>\n      <td>[1]</td>\n      <td>[6]</td>\n      <td>2</td>\n      <td>6</td>\n      <td>10</td>\n      <td>60</td>\n      <td>70</td>\n      <td>107</td>\n      <td>117</td>\n      <td>47</td>\n      <td>0</td>\n      <td>False</td>\n    </tr>\n    <tr>\n      <th>3</th>\n      <td>4</td>\n      <td>D</td>\n      <td>工装制造1</td>\n      <td>[1]</td>\n      <td>[7, 11]</td>\n      <td>2</td>\n      <td>3</td>\n      <td>20</td>\n      <td>60</td>\n      <td>80</td>\n      <td>60</td>\n      <td>80</td>\n      <td>0</td>\n      <td>0</td>\n      <td>True</td>\n    </tr>\n    <tr>\n      <th>4</th>\n      <td>5</td>\n      <td>E</td>\n      <td>铸件</td>\n      <td>[1]</td>\n      <td>[8]</td>\n      <td>2</td>\n      <td>5</td>\n      <td>40</td>\n      <td>60</td>\n      <td>100</td>\n      <td>80</td>\n      <td>120</td>\n      <td>20</td>\n      <td>0</td>\n      <td>False</td>\n    </tr>\n    <tr>\n      <th>5</th>\n      <td>6</td>\n      <td>F</td>\n      <td>机械加工1</td>\n      <td>[3]</td>\n      <td>[10]</td>\n      <td>6</td>\n      <td>7</td>\n      <td>18</td>\n      <td>70</td>\n      <td>88</td>\n      <td>117</td>\n      <td>135</td>\n      <td>47</td>\n      <td>47</td>\n      <td>False</td>\n    </tr>\n    <tr>\n      <th>6</th>\n      <td>7</td>\n      <td>G</td>\n      <td>工装制造2</td>\n      <td>[4]</td>\n      <td>[9]</td>\n      <td>3</td>\n      <td>4</td>\n      <td>30</td>\n      <td>80</td>\n      <td>110</td>\n      <td>80</td>\n      <td>110</td>\n      <td>0</td>\n      <td>0</td>\n      <td>True</td>\n    </tr>\n    <tr>\n      <th>7</th>\n      <td>8</td>\n      <td>H</td>\n      <td>机械加工2</td>\n      <td>[5, 11]</td>\n      <td>[10]</td>\n      <td>5</td>\n      <td>7</td>\n      <td>15</td>\n      <td>100</td>\n      <td>115</td>\n      <td>120</td>\n      <td>135</td>\n      <td>20</td>\n      <td>20</td>\n      <td>False</td>\n    </tr>\n    <tr>\n      <th>8</th>\n      <td>9</td>\n      <td>K</td>\n      <td>机械加工3</td>\n      <td>[7]</td>\n      <td>[10]</td>\n      <td>4</td>\n      <td>7</td>\n      <td>25</td>\n      <td>110</td>\n      <td>135</td>\n      <td>110</td>\n      <td>135</td>\n      <td>0</td>\n      <td>0</td>\n      <td>True</td>\n    </tr>\n    <tr>\n      <th>9</th>\n      <td>10</td>\n      <td>L</td>\n      <td>装配与调试</td>\n      <td>[2, 6, 7, 8]</td>\n      <td>[]</td>\n      <td>7</td>\n      <td>8</td>\n      <td>35</td>\n      <td>135</td>\n      <td>170</td>\n      <td>135</td>\n      <td>170</td>\n      <td>0</td>\n      <td>0</td>\n      <td>True</td>\n    </tr>\n    <tr>\n      <th>10</th>\n      <td>11</td>\n      <td>VW</td>\n      <td>虚工作</td>\n      <td>[4]</td>\n      <td>[8]</td>\n      <td>3</td>\n      <td>5</td>\n      <td>0</td>\n      <td>80</td>\n      <td>80</td>\n      <td>120</td>\n      <td>120</td>\n      <td>40</td>\n      <td>20</td>\n      <td>False</td>\n    </tr>\n  </tbody>\n</table>\n</div>"
     },
     "metadata": {},
     "execution_count": 18
    }
   ],
   "source": [
    "# 完善TF和FF\n",
    "for i in range(1,len(new_sorted_dict)):\n",
    "    path=list(new_sorted_dict[i][0])\n",
    "    for idx in range(len(path)-1):\n",
    "        if workes[path[idx]-1].isOnKeypath:\n",
    "            continue \n",
    "        workes[path[idx]-1].TF=workes[path[idx]-1].LS-workes[path[idx]-1].ES\n",
    "        workes[path[idx]-1].FF=workes[path[idx+1]-1].ES-workes[path[idx]-1].EF\n",
    "print_workes(workes)"
   ]
  },
  {
   "cell_type": "code",
   "execution_count": 19,
   "metadata": {},
   "outputs": [],
   "source": [
    "# 将数据导出至Excel\n",
    "import xlwt\n",
    "work_book=xlwt.Workbook()\n",
    "work_sheet=work_book.add_sheet('网络计划图数据')\n",
    "work_sheet.write(0,0,'工作ID')\n",
    "work_sheet.write(0,1,'工作代号')\n",
    "work_sheet.write(0,2,'工作描述')\n",
    "work_sheet.write(0,3,'左节点编号')\n",
    "work_sheet.write(0,4,'右节点编号')\n",
    "work_sheet.write(0,5,'D')\n",
    "work_sheet.write(0,6,'ES')\n",
    "work_sheet.write(0,7,'EF')\n",
    "work_sheet.write(0,8,'LS')\n",
    "work_sheet.write(0,9,'LF')\n",
    "work_sheet.write(0,10,'TF')\n",
    "work_sheet.write(0,11,'FF')\n",
    "work_sheet.write(0,12,'关键路线？')\n",
    "for i in range(len(workes)):\n",
    "    work_sheet.write(i+1,0,workes[i].idx)\n",
    "    work_sheet.write(i+1,1,workes[i].name)\n",
    "    work_sheet.write(i+1,2,workes[i].describe)\n",
    "    work_sheet.write(i+1,3,workes[i].from_node_idx)\n",
    "    work_sheet.write(i+1,4,workes[i].to_node_idx)\n",
    "    work_sheet.write(i+1,5,workes[i].D)\n",
    "    work_sheet.write(i+1,6,workes[i].ES)\n",
    "    work_sheet.write(i+1,7,workes[i].EF)\n",
    "    work_sheet.write(i+1,8,workes[i].LS)\n",
    "    work_sheet.write(i+1,9,workes[i].LF)\n",
    "    work_sheet.write(i+1,10,workes[i].TF)\n",
    "    work_sheet.write(i+1,11,workes[i].FF)\n",
    "    work_sheet.write(i+1,12,'√' if workes[i].isOnKeypath else '')\n",
    "work_book.save('./第32章 网络计划图.xls')"
   ]
  },
  {
   "cell_type": "code",
   "execution_count": null,
   "metadata": {},
   "outputs": [],
   "source": []
  }
 ],
 "metadata": {
  "language_info": {
   "codemirror_mode": {
    "name": "ipython",
    "version": 3
   },
   "file_extension": ".py",
   "mimetype": "text/x-python",
   "name": "python",
   "nbconvert_exporter": "python",
   "pygments_lexer": "ipython3",
   "version": "3.6.1-final"
  },
  "orig_nbformat": 2,
  "kernelspec": {
   "name": "python3",
   "display_name": "Python 3.6.1 64-bit",
   "metadata": {
    "interpreter": {
     "hash": "4ce0e62306dd6a5716965d4519ada776f947e6dfc145b604b11307c10277ef29"
    }
   }
  }
 },
 "nbformat": 4,
 "nbformat_minor": 2
}