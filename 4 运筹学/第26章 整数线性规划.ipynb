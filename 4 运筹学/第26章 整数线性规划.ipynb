{
 "cells": [
  {
   "cell_type": "code",
   "execution_count": 1,
   "metadata": {},
   "outputs": [],
   "source": [
    "import pulp"
   ]
  },
  {
   "cell_type": "code",
   "execution_count": 2,
   "metadata": {},
   "outputs": [],
   "source": [
    "#例26.1"
   ]
  },
  {
   "cell_type": "code",
   "execution_count": 3,
   "metadata": {},
   "outputs": [
    {
     "output_type": "execute_result",
     "data": {
      "text/plain": [
       "(90.0, [4.0, 1.0])"
      ]
     },
     "metadata": {},
     "execution_count": 3
    }
   ],
   "source": [
    "c=[20,10]\n",
    "A=[[5,4],[2,5]]\n",
    "b=[24,13]\n",
    "m=pulp.LpProblem(sense=pulp.LpMaximize)\n",
    "#参数cat='Integer'指明变量的解为整数\n",
    "var=[pulp.LpVariable(f'x{i}',lowBound=0,cat='Integer') \\\n",
    "    for i in range(len(c))]\n",
    "m+=pulp.lpDot(c,var)\n",
    "for i in range(len(A)):\n",
    "    m+=(pulp.lpDot(A[i],var)<=b[i])\n",
    "m.solve()\n",
    "pulp.value(m.objective),[pulp.value(x) for x in var]"
   ]
  },
  {
   "cell_type": "code",
   "execution_count": 4,
   "metadata": {},
   "outputs": [],
   "source": [
    "#例26.2"
   ]
  },
  {
   "cell_type": "code",
   "execution_count": 5,
   "metadata": {},
   "outputs": [
    {
     "output_type": "execute_result",
     "data": {
      "text/plain": [
       "(340.0, [4.0, 2.0])"
      ]
     },
     "metadata": {},
     "execution_count": 5
    }
   ],
   "source": [
    "c=[40,90]\n",
    "A=[[9,7],[7,20]]\n",
    "b=[56,70]\n",
    "x=[pulp.LpVariable(f'x{i}',lowBound=0,cat='Integer') \\\n",
    "    for i in range(2)]\n",
    "p=pulp.LpProblem(sense=pulp.LpMaximize)\n",
    "p+=pulp.lpDot(c,x)\n",
    "for i in range(2):\n",
    "    p+=(pulp.lpDot(A[i],x)<=b[i])\n",
    "p.solve()\n",
    "pulp.value(p.objective),[pulp.value(var) for var in x]"
   ]
  },
  {
   "cell_type": "code",
   "execution_count": 6,
   "metadata": {},
   "outputs": [],
   "source": [
    "#例26.3"
   ]
  },
  {
   "cell_type": "code",
   "execution_count": 7,
   "metadata": {},
   "outputs": [
    {
     "output_type": "execute_result",
     "data": {
      "text/plain": [
       "(8.0, [1.0, 0.0, 1.0])"
      ]
     },
     "metadata": {},
     "execution_count": 7
    }
   ],
   "source": [
    "c=[3,-2,5]\n",
    "A=[[1,2,-1],[1,4,1],[1,1,0],[4,0,1]]\n",
    "b=[2,4,3,6]\n",
    "#参数cat='Binary'指明变量的解为0或1\n",
    "x=[pulp.LpVariable(f'x{i}',lowBound=0,cat='Binary') \\\n",
    "    for i in range(3)]\n",
    "p=pulp.LpProblem(sense=pulp.LpMaximize)\n",
    "p+=pulp.lpDot(c,x)\n",
    "for i in range(len(A)):\n",
    "    p+=(pulp.lpDot(A[i],x)<=b[i])\n",
    "p.solve()\n",
    "pulp.value(p.objective),[pulp.value(var) for var in x]"
   ]
  },
  {
   "cell_type": "code",
   "execution_count": 8,
   "metadata": {},
   "outputs": [],
   "source": [
    "#例26.4"
   ]
  },
  {
   "cell_type": "code",
   "execution_count": 9,
   "metadata": {
    "tags": []
   },
   "outputs": [
    {
     "output_type": "stream",
     "name": "stdout",
     "text": [
      "28.0\n"
     ]
    },
    {
     "output_type": "execute_result",
     "data": {
      "text/plain": [
       "array([[0., 0., 0., 1.],\n",
       "       [0., 1., 0., 0.],\n",
       "       [1., 0., 0., 0.],\n",
       "       [0., 0., 1., 0.]])"
      ]
     },
     "metadata": {},
     "execution_count": 9
    }
   ],
   "source": [
    "import numpy as np \n",
    "num=4\n",
    "c=[[2,15,13,4],[10,4,14,15],[9,14,16,13],[7,8,11,9]]\n",
    "x=[[pulp.LpVariable(f'x{i}{j}',lowBound=0,cat='Binary') \\\n",
    "    for j in range(num)] for i in range(num)]\n",
    "m=pulp.LpProblem(sense=pulp.LpMinimize)\n",
    "m+=sum([pulp.lpDot(x[i],c[i]) for i in range(num)])\n",
    "for row in range(num):\n",
    "    m+=(sum(x[row])==1)\n",
    "for col in range(num):\n",
    "    m+=(sum([x[row][col] for row in range(num)])==1)\n",
    "m.solve()\n",
    "print(pulp.value(m.objective))\n",
    "res=np.array([[pulp.value(x[i][j]) for j in range(num)] \\\n",
    "    for i in range(num)])\n",
    "res"
   ]
  },
  {
   "cell_type": "code",
   "execution_count": null,
   "metadata": {},
   "outputs": [],
   "source": []
  }
 ],
 "metadata": {
  "language_info": {
   "codemirror_mode": {
    "name": "ipython",
    "version": 3
   },
   "file_extension": ".py",
   "mimetype": "text/x-python",
   "name": "python",
   "nbconvert_exporter": "python",
   "pygments_lexer": "ipython3",
   "version": "3.6.1-final"
  },
  "orig_nbformat": 2,
  "kernelspec": {
   "name": "python3",
   "display_name": "Python 3.6.1 64-bit",
   "metadata": {
    "interpreter": {
     "hash": "4ce0e62306dd6a5716965d4519ada776f947e6dfc145b604b11307c10277ef29"
    }
   }
  }
 },
 "nbformat": 4,
 "nbformat_minor": 2
}