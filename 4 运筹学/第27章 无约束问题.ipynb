{
 "nbformat": 4,
 "nbformat_minor": 2,
 "metadata": {
  "language_info": {
   "name": "python",
   "codemirror_mode": {
    "name": "ipython",
    "version": 3
   },
   "version": "3.6.1-final"
  },
  "orig_nbformat": 2,
  "file_extension": ".py",
  "mimetype": "text/x-python",
  "name": "python",
  "npconvert_exporter": "python",
  "pygments_lexer": "ipython3",
  "version": 3,
  "kernelspec": {
   "name": "python36164bit1d6dd37536b64fb6a5530f9598c6f3c0",
   "display_name": "Python 3.6.1 64-bit",
   "language": "python"
  }
 },
 "cells": [
  {
   "cell_type": "code",
   "execution_count": 1,
   "metadata": {},
   "outputs": [],
   "source": [
    "#例27.1"
   ]
  },
  {
   "cell_type": "code",
   "execution_count": 2,
   "metadata": {},
   "outputs": [
    {
     "output_type": "execute_result",
     "data": {
      "text/plain": [
       "(49815.0, array([1495.5,   11. ]))"
      ]
     },
     "metadata": {},
     "execution_count": 2
    }
   ],
   "source": [
    "import numpy as np \n",
    "from scipy.optimize import minimize\n",
    "def f(x):return -30*x[0]-450*x[1]\n",
    "cons=({'type':'ineq','fun':lambda x:np.array(\\\n",
    "    [-0.5*x[0]-2*x[1]-0.25*x[1]**2+800])})\n",
    "result=minimize(f,x0=[0,0],bounds=((0,2000),\\\n",
    "    (0,None)),constraints=cons,method='SLSQP')\n",
    "np.round(-result.fun,3),np.round(result.x,3)"
   ]
  },
  {
   "cell_type": "code",
   "execution_count": 3,
   "metadata": {},
   "outputs": [
    {
     "output_type": "stream",
     "name": "stdout",
     "text": [
      "None---x is [1495.49992907   11.00000473] and fun is 49815.00000226956\n",
      "Powell---x is [1.37957402e+307 2.58792896e+000] and fun is inf\n",
      "CG---x is [2.4046162e+07 3.6069243e+08] and fun is 163032978496.03558\n",
      "BFGS---x is [1.93696391e+07 2.90549959e+08] and fun is 131328570942.30836\n",
      "L-BFGS-B---x is [2.0000000e+03 2.8340758e+08] and fun is 127533470806.71347\n",
      "TNC---x is [2.00000000e+03 1.01010101e+09] and fun is 454545514503.3749\n",
      "SLSQP---x is [1495.49992907   11.00000473] and fun is 49815.00000226956\n",
      "trust-constr---x is [1495.49999682   11.00000021] and fun is 49814.999998720006\n"
     ]
    }
   ],
   "source": [
    "methodnames=(None,'Nelder-Mead','Powell','CG','BFGS','Newton-CG',\\\n",
    "    'L-BFGS-B','TNC','COBYLA','SLSQP','trust-constr','dogleg',\\\n",
    "        'trust-ncg','trust-exact','trust-krylov')\n",
    "for name in methodnames:\n",
    "    try:\n",
    "        result=minimize(f,x0=[0,0],bounds=((0,2000),(0,None)),\\\n",
    "            constraints=cons,method=name)\n",
    "        if result.success:\n",
    "            print('{}---x is {} and fun is {}'.\\\n",
    "                format(name,result.x,-result.fun))\n",
    "    except:continue"
   ]
  },
  {
   "cell_type": "code",
   "execution_count": 4,
   "metadata": {},
   "outputs": [],
   "source": [
    "#例27.2"
   ]
  },
  {
   "cell_type": "code",
   "execution_count": 5,
   "metadata": {},
   "outputs": [
    {
     "output_type": "execute_result",
     "data": {
      "text/plain": [
       "(array([1., 1.]), 0.0)"
      ]
     },
     "metadata": {},
     "execution_count": 5
    }
   ],
   "source": [
    "def f(x,sign=1.0):\n",
    "    return sign*((x[0]-1)**2+(x[1]-1)**2)\n",
    "result=minimize(f,[-100,100],method='BFGS')\n",
    "np.round(result.x,3),np.round(result.fun,3)"
   ]
  },
  {
   "cell_type": "code",
   "execution_count": 6,
   "metadata": {},
   "outputs": [],
   "source": [
    "#例27.3"
   ]
  },
  {
   "cell_type": "code",
   "execution_count": 7,
   "metadata": {},
   "outputs": [
    {
     "output_type": "execute_result",
     "data": {
      "text/plain": [
       "(-1.0, array([1., 1.]))"
      ]
     },
     "metadata": {},
     "execution_count": 7
    }
   ],
   "source": [
    "def f(x,sign=1.0):\n",
    "    return sign*(1.5*x[0]**2+0.5*x[1]**2-x[0]*x[1]-2*x[0])\n",
    "result=minimize(f,[-100,100],method='CG')\n",
    "np.round(result.fun,3),np.round(result.x,4)"
   ]
  },
  {
   "cell_type": "code",
   "execution_count": null,
   "metadata": {},
   "outputs": [],
   "source": []
  }
 ]
}