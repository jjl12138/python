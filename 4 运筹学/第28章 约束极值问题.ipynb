{
 "cells": [
  {
   "cell_type": "code",
   "execution_count": 1,
   "metadata": {},
   "outputs": [],
   "source": [
    "import numpy as np\n",
    "from scipy.optimize import minimize"
   ]
  },
  {
   "cell_type": "code",
   "execution_count": 2,
   "metadata": {},
   "outputs": [],
   "source": [
    "#例28.1"
   ]
  },
  {
   "cell_type": "code",
   "execution_count": 3,
   "metadata": {},
   "outputs": [
    {
     "output_type": "execute_result",
     "data": {
      "text/plain": [
       "(array([0.30769233, 2.53846151]), 21.30769230769193)"
      ]
     },
     "metadata": {},
     "execution_count": 3
    }
   ],
   "source": [
    "def f(x,sign=1.0):return sign*(8*x[0]+10*x[1]-x[0]**2-x[1]**2)\n",
    "cons=(\n",
    "    {'type':'ineq','fun':lambda x:np.array([6-3*x[0]-2*x[1]])},\n",
    "    {'type':'ineq','fun':lambda x:np.array([x[0]])},\n",
    "    {'type':'ineq','fun':lambda x:np.array([x[1]])}\n",
    "    )\n",
    "result=minimize(f,[100,100],args=(-1.0,),constraints=cons)\n",
    "x=result.x\n",
    "x,f(x)"
   ]
  },
  {
   "cell_type": "code",
   "execution_count": 4,
   "metadata": {},
   "outputs": [],
   "source": [
    "#例28.2"
   ]
  },
  {
   "cell_type": "code",
   "execution_count": 5,
   "metadata": {},
   "outputs": [
    {
     "output_type": "execute_result",
     "data": {
      "text/plain": [
       "(array([1.59999999, 1.2       ]), -7.2)"
      ]
     },
     "metadata": {},
     "execution_count": 5
    }
   ],
   "source": [
    "def f(x,sign=1.0):return sign*(4*x[0]+4*x[1]-x[0]**2-x[1]**2)\n",
    "cons=(\n",
    "    {'type':'ineq','fun':lambda x:np.array([4-x[0]-2*x[1]])}\n",
    "    )\n",
    "result=minimize(f,[100,100],args=(-1.0,),constraints=cons)\n",
    "result.x,np.round(result.fun,3)"
   ]
  },
  {
   "cell_type": "code",
   "execution_count": 6,
   "metadata": {},
   "outputs": [],
   "source": [
    "#例28.3"
   ]
  },
  {
   "cell_type": "code",
   "execution_count": 7,
   "metadata": {},
   "outputs": [
    {
     "output_type": "execute_result",
     "data": {
      "text/plain": [
       "(array([1., 0.]), 2.667)"
      ]
     },
     "metadata": {},
     "execution_count": 7
    }
   ],
   "source": [
    "def f(x,sign=1.0):\n",
    "    return sign*((x[0]+1)**3/3+x[1])\n",
    "cons=({'type':'ineq','fun':lambda x:np.array([x[0]-1])},\n",
    "      {'type':'ineq','fun':lambda x:np.array([x[1]])})\n",
    "result=minimize(f,[50,-50],constraints=cons)\n",
    "np.round(result.x,3),np.round(result.fun,3)"
   ]
  },
  {
   "cell_type": "code",
   "execution_count": null,
   "metadata": {},
   "outputs": [],
   "source": []
  }
 ],
 "metadata": {
  "language_info": {
   "name": "python",
   "codemirror_mode": {
    "name": "ipython",
    "version": 3
   },
   "version": "3.6.1-final"
  },
  "orig_nbformat": 2,
  "file_extension": ".py",
  "mimetype": "text/x-python",
  "name": "python",
  "npconvert_exporter": "python",
  "pygments_lexer": "ipython3",
  "version": 3,
  "kernelspec": {
   "name": "python3",
   "display_name": "Python 3.6.1 64-bit",
   "metadata": {
    "interpreter": {
     "hash": "4ce0e62306dd6a5716965d4519ada776f947e6dfc145b604b11307c10277ef29"
    }
   }
  }
 },
 "nbformat": 4,
 "nbformat_minor": 2
}